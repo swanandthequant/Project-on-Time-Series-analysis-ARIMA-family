{
 "cells": [
  {
   "cell_type": "code",
   "execution_count": 1,
   "id": "8adc0779",
   "metadata": {},
   "outputs": [],
   "source": [
    "import pandas as pd\n",
    "import numpy as np\n",
    "import matplotlib.pyplot as plt\n",
    "import statsmodels.tsa.stattools as sts\n",
    "import statsmodels.graphics.tsaplots as sgt\n",
    "from statsmodels.tsa.seasonal import seasonal_decompose\n",
    "from statsmodels.tsa.arima.model import ARIMA\n",
    "from scipy.stats.distributions import chi2\n",
    "import seaborn as sns\n",
    "import yfinance as yf\n",
    "sns.set()"
   ]
  },
  {
   "cell_type": "code",
   "execution_count": 2,
   "id": "8b72fcb1",
   "metadata": {},
   "outputs": [
    {
     "name": "stderr",
     "output_type": "stream",
     "text": [
      "C:\\Users\\swana\\AppData\\Local\\Temp\\ipykernel_16816\\26573317.py:4: FutureWarning: YF.download() has changed argument auto_adjust default to True\n",
      "  data[ticker]=yf.download(ticker,start='2010-01-01',end='2025-7-7')['Close']\n",
      "[*********************100%***********************]  1 of 1 completed\n",
      "C:\\Users\\swana\\AppData\\Local\\Temp\\ipykernel_16816\\26573317.py:4: FutureWarning: YF.download() has changed argument auto_adjust default to True\n",
      "  data[ticker]=yf.download(ticker,start='2010-01-01',end='2025-7-7')['Close']\n",
      "[*********************100%***********************]  1 of 1 completed\n",
      "C:\\Users\\swana\\AppData\\Local\\Temp\\ipykernel_16816\\26573317.py:4: FutureWarning: YF.download() has changed argument auto_adjust default to True\n",
      "  data[ticker]=yf.download(ticker,start='2010-01-01',end='2025-7-7')['Close']\n",
      "[*********************100%***********************]  1 of 1 completed\n"
     ]
    }
   ],
   "source": [
    "tickers=['^NSEBANK','^NSEI','^BSESN']\n",
    "data = pd.DataFrame()\n",
    "for ticker in tickers:\n",
    "    data[ticker]=yf.download(ticker,start='2010-01-01',end='2025-7-7')['Close']"
   ]
  },
  {
   "cell_type": "code",
   "execution_count": 3,
   "id": "3369edf9",
   "metadata": {},
   "outputs": [
    {
     "name": "stdout",
     "output_type": "stream",
     "text": [
      "<class 'pandas.core.frame.DataFrame'>\n",
      "DatetimeIndex: 3532 entries, 2010-01-04 to 2025-07-04\n",
      "Data columns (total 3 columns):\n",
      " #   Column    Non-Null Count  Dtype  \n",
      "---  ------    --------------  -----  \n",
      " 0   ^NSEBANK  3532 non-null   float64\n",
      " 1   ^NSEI     3530 non-null   float64\n",
      " 2   ^BSESN    3529 non-null   float64\n",
      "dtypes: float64(3)\n",
      "memory usage: 110.4 KB\n"
     ]
    }
   ],
   "source": [
    "data.info()"
   ]
  },
  {
   "cell_type": "code",
   "execution_count": 4,
   "id": "a898e292",
   "metadata": {},
   "outputs": [
    {
     "data": {
      "text/html": [
       "<div>\n",
       "<style scoped>\n",
       "    .dataframe tbody tr th:only-of-type {\n",
       "        vertical-align: middle;\n",
       "    }\n",
       "\n",
       "    .dataframe tbody tr th {\n",
       "        vertical-align: top;\n",
       "    }\n",
       "\n",
       "    .dataframe thead th {\n",
       "        text-align: right;\n",
       "    }\n",
       "</style>\n",
       "<table border=\"1\" class=\"dataframe\">\n",
       "  <thead>\n",
       "    <tr style=\"text-align: right;\">\n",
       "      <th></th>\n",
       "      <th>^NSEBANK</th>\n",
       "      <th>^NSEI</th>\n",
       "      <th>^BSESN</th>\n",
       "    </tr>\n",
       "    <tr>\n",
       "      <th>Date</th>\n",
       "      <th></th>\n",
       "      <th></th>\n",
       "      <th></th>\n",
       "    </tr>\n",
       "  </thead>\n",
       "  <tbody>\n",
       "    <tr>\n",
       "      <th>2010-01-04</th>\n",
       "      <td>9112.244141</td>\n",
       "      <td>5232.200195</td>\n",
       "      <td>17558.730469</td>\n",
       "    </tr>\n",
       "    <tr>\n",
       "      <th>2010-01-05</th>\n",
       "      <td>9192.043945</td>\n",
       "      <td>5277.899902</td>\n",
       "      <td>17686.240234</td>\n",
       "    </tr>\n",
       "    <tr>\n",
       "      <th>2010-01-06</th>\n",
       "      <td>9222.892578</td>\n",
       "      <td>5281.799805</td>\n",
       "      <td>17701.130859</td>\n",
       "    </tr>\n",
       "    <tr>\n",
       "      <th>2010-01-07</th>\n",
       "      <td>9192.843750</td>\n",
       "      <td>5263.100098</td>\n",
       "      <td>17615.720703</td>\n",
       "    </tr>\n",
       "    <tr>\n",
       "      <th>2010-01-08</th>\n",
       "      <td>9160.593750</td>\n",
       "      <td>5244.750000</td>\n",
       "      <td>17540.289062</td>\n",
       "    </tr>\n",
       "  </tbody>\n",
       "</table>\n",
       "</div>"
      ],
      "text/plain": [
       "               ^NSEBANK        ^NSEI        ^BSESN\n",
       "Date                                              \n",
       "2010-01-04  9112.244141  5232.200195  17558.730469\n",
       "2010-01-05  9192.043945  5277.899902  17686.240234\n",
       "2010-01-06  9222.892578  5281.799805  17701.130859\n",
       "2010-01-07  9192.843750  5263.100098  17615.720703\n",
       "2010-01-08  9160.593750  5244.750000  17540.289062"
      ]
     },
     "execution_count": 4,
     "metadata": {},
     "output_type": "execute_result"
    }
   ],
   "source": [
    "data.head()"
   ]
  },
  {
   "cell_type": "code",
   "execution_count": 5,
   "id": "fd768c35",
   "metadata": {},
   "outputs": [
    {
     "data": {
      "text/plain": [
       "^NSEBANK    0\n",
       "^NSEI       2\n",
       "^BSESN      3\n",
       "dtype: int64"
      ]
     },
     "execution_count": 5,
     "metadata": {},
     "output_type": "execute_result"
    }
   ],
   "source": [
    "data.isna().sum()"
   ]
  },
  {
   "cell_type": "code",
   "execution_count": 6,
   "id": "e4500d4e",
   "metadata": {},
   "outputs": [],
   "source": [
    "## Dropping Null Values\n",
    "data.dropna(inplace=True)"
   ]
  },
  {
   "cell_type": "code",
   "execution_count": 7,
   "id": "d9a68194",
   "metadata": {},
   "outputs": [
    {
     "data": {
      "text/plain": [
       "^NSEBANK    0\n",
       "^NSEI       0\n",
       "^BSESN      0\n",
       "dtype: int64"
      ]
     },
     "execution_count": 7,
     "metadata": {},
     "output_type": "execute_result"
    }
   ],
   "source": [
    "data.isna().sum()"
   ]
  },
  {
   "cell_type": "code",
   "execution_count": 8,
   "id": "f116acbb",
   "metadata": {},
   "outputs": [
    {
     "data": {
      "text/html": [
       "<div>\n",
       "<style scoped>\n",
       "    .dataframe tbody tr th:only-of-type {\n",
       "        vertical-align: middle;\n",
       "    }\n",
       "\n",
       "    .dataframe tbody tr th {\n",
       "        vertical-align: top;\n",
       "    }\n",
       "\n",
       "    .dataframe thead th {\n",
       "        text-align: right;\n",
       "    }\n",
       "</style>\n",
       "<table border=\"1\" class=\"dataframe\">\n",
       "  <thead>\n",
       "    <tr style=\"text-align: right;\">\n",
       "      <th></th>\n",
       "      <th>^NSEBANK</th>\n",
       "      <th>^NSEI</th>\n",
       "      <th>^BSESN</th>\n",
       "    </tr>\n",
       "    <tr>\n",
       "      <th>Date</th>\n",
       "      <th></th>\n",
       "      <th></th>\n",
       "      <th></th>\n",
       "    </tr>\n",
       "  </thead>\n",
       "  <tbody>\n",
       "    <tr>\n",
       "      <th>2010-01-04</th>\n",
       "      <td>9112.244141</td>\n",
       "      <td>5232.200195</td>\n",
       "      <td>17558.730469</td>\n",
       "    </tr>\n",
       "    <tr>\n",
       "      <th>2010-01-05</th>\n",
       "      <td>9192.043945</td>\n",
       "      <td>5277.899902</td>\n",
       "      <td>17686.240234</td>\n",
       "    </tr>\n",
       "    <tr>\n",
       "      <th>2010-01-06</th>\n",
       "      <td>9222.892578</td>\n",
       "      <td>5281.799805</td>\n",
       "      <td>17701.130859</td>\n",
       "    </tr>\n",
       "    <tr>\n",
       "      <th>2010-01-07</th>\n",
       "      <td>9192.843750</td>\n",
       "      <td>5263.100098</td>\n",
       "      <td>17615.720703</td>\n",
       "    </tr>\n",
       "    <tr>\n",
       "      <th>2010-01-08</th>\n",
       "      <td>9160.593750</td>\n",
       "      <td>5244.750000</td>\n",
       "      <td>17540.289062</td>\n",
       "    </tr>\n",
       "  </tbody>\n",
       "</table>\n",
       "</div>"
      ],
      "text/plain": [
       "               ^NSEBANK        ^NSEI        ^BSESN\n",
       "Date                                              \n",
       "2010-01-04  9112.244141  5232.200195  17558.730469\n",
       "2010-01-05  9192.043945  5277.899902  17686.240234\n",
       "2010-01-06  9222.892578  5281.799805  17701.130859\n",
       "2010-01-07  9192.843750  5263.100098  17615.720703\n",
       "2010-01-08  9160.593750  5244.750000  17540.289062"
      ]
     },
     "execution_count": 8,
     "metadata": {},
     "output_type": "execute_result"
    }
   ],
   "source": [
    "data.head()"
   ]
  },
  {
   "cell_type": "code",
   "execution_count": 9,
   "id": "348a072f",
   "metadata": {},
   "outputs": [],
   "source": [
    "data=data.asfreq('B')"
   ]
  },
  {
   "cell_type": "code",
   "execution_count": 10,
   "id": "c4fa3685",
   "metadata": {},
   "outputs": [
    {
     "data": {
      "text/html": [
       "<div>\n",
       "<style scoped>\n",
       "    .dataframe tbody tr th:only-of-type {\n",
       "        vertical-align: middle;\n",
       "    }\n",
       "\n",
       "    .dataframe tbody tr th {\n",
       "        vertical-align: top;\n",
       "    }\n",
       "\n",
       "    .dataframe thead th {\n",
       "        text-align: right;\n",
       "    }\n",
       "</style>\n",
       "<table border=\"1\" class=\"dataframe\">\n",
       "  <thead>\n",
       "    <tr style=\"text-align: right;\">\n",
       "      <th></th>\n",
       "      <th>^NSEBANK</th>\n",
       "      <th>^NSEI</th>\n",
       "      <th>^BSESN</th>\n",
       "    </tr>\n",
       "    <tr>\n",
       "      <th>Date</th>\n",
       "      <th></th>\n",
       "      <th></th>\n",
       "      <th></th>\n",
       "    </tr>\n",
       "  </thead>\n",
       "  <tbody>\n",
       "    <tr>\n",
       "      <th>2010-01-04</th>\n",
       "      <td>9112.244141</td>\n",
       "      <td>5232.200195</td>\n",
       "      <td>17558.730469</td>\n",
       "    </tr>\n",
       "    <tr>\n",
       "      <th>2010-01-05</th>\n",
       "      <td>9192.043945</td>\n",
       "      <td>5277.899902</td>\n",
       "      <td>17686.240234</td>\n",
       "    </tr>\n",
       "    <tr>\n",
       "      <th>2010-01-06</th>\n",
       "      <td>9222.892578</td>\n",
       "      <td>5281.799805</td>\n",
       "      <td>17701.130859</td>\n",
       "    </tr>\n",
       "    <tr>\n",
       "      <th>2010-01-07</th>\n",
       "      <td>9192.843750</td>\n",
       "      <td>5263.100098</td>\n",
       "      <td>17615.720703</td>\n",
       "    </tr>\n",
       "    <tr>\n",
       "      <th>2010-01-08</th>\n",
       "      <td>9160.593750</td>\n",
       "      <td>5244.750000</td>\n",
       "      <td>17540.289062</td>\n",
       "    </tr>\n",
       "  </tbody>\n",
       "</table>\n",
       "</div>"
      ],
      "text/plain": [
       "               ^NSEBANK        ^NSEI        ^BSESN\n",
       "Date                                              \n",
       "2010-01-04  9112.244141  5232.200195  17558.730469\n",
       "2010-01-05  9192.043945  5277.899902  17686.240234\n",
       "2010-01-06  9222.892578  5281.799805  17701.130859\n",
       "2010-01-07  9192.843750  5263.100098  17615.720703\n",
       "2010-01-08  9160.593750  5244.750000  17540.289062"
      ]
     },
     "execution_count": 10,
     "metadata": {},
     "output_type": "execute_result"
    }
   ],
   "source": [
    "data.head()"
   ]
  },
  {
   "cell_type": "code",
   "execution_count": 11,
   "id": "aaf88af9",
   "metadata": {},
   "outputs": [
    {
     "data": {
      "text/plain": [
       "^NSEBANK    518\n",
       "^NSEI       518\n",
       "^BSESN      518\n",
       "dtype: int64"
      ]
     },
     "execution_count": 11,
     "metadata": {},
     "output_type": "execute_result"
    }
   ],
   "source": [
    "data.isna().sum()"
   ]
  },
  {
   "cell_type": "code",
   "execution_count": 12,
   "id": "c681ea0f",
   "metadata": {},
   "outputs": [
    {
     "name": "stderr",
     "output_type": "stream",
     "text": [
      "C:\\Users\\swana\\AppData\\Local\\Temp\\ipykernel_16816\\286314875.py:1: FutureWarning: DataFrame.fillna with 'method' is deprecated and will raise in a future version. Use obj.ffill() or obj.bfill() instead.\n",
      "  data.fillna(method='ffill',inplace=True)\n"
     ]
    }
   ],
   "source": [
    "data.fillna(method='ffill',inplace=True)"
   ]
  },
  {
   "cell_type": "code",
   "execution_count": 13,
   "id": "18cbb2a7",
   "metadata": {},
   "outputs": [
    {
     "data": {
      "text/plain": [
       "^NSEBANK    0\n",
       "^NSEI       0\n",
       "^BSESN      0\n",
       "dtype: int64"
      ]
     },
     "execution_count": 13,
     "metadata": {},
     "output_type": "execute_result"
    }
   ],
   "source": [
    "data.isna().sum()"
   ]
  },
  {
   "cell_type": "code",
   "execution_count": 14,
   "id": "5cbbd797",
   "metadata": {},
   "outputs": [],
   "source": [
    "## Simplyfying the Datasets\n",
    "data['Market_value']=data['^NSEBANK']"
   ]
  },
  {
   "cell_type": "code",
   "execution_count": 15,
   "id": "dfefbc07",
   "metadata": {},
   "outputs": [
    {
     "data": {
      "text/html": [
       "<div>\n",
       "<style scoped>\n",
       "    .dataframe tbody tr th:only-of-type {\n",
       "        vertical-align: middle;\n",
       "    }\n",
       "\n",
       "    .dataframe tbody tr th {\n",
       "        vertical-align: top;\n",
       "    }\n",
       "\n",
       "    .dataframe thead th {\n",
       "        text-align: right;\n",
       "    }\n",
       "</style>\n",
       "<table border=\"1\" class=\"dataframe\">\n",
       "  <thead>\n",
       "    <tr style=\"text-align: right;\">\n",
       "      <th></th>\n",
       "      <th>^NSEBANK</th>\n",
       "      <th>^NSEI</th>\n",
       "      <th>^BSESN</th>\n",
       "      <th>Market_value</th>\n",
       "    </tr>\n",
       "    <tr>\n",
       "      <th>Date</th>\n",
       "      <th></th>\n",
       "      <th></th>\n",
       "      <th></th>\n",
       "      <th></th>\n",
       "    </tr>\n",
       "  </thead>\n",
       "  <tbody>\n",
       "    <tr>\n",
       "      <th>2010-01-04</th>\n",
       "      <td>9112.244141</td>\n",
       "      <td>5232.200195</td>\n",
       "      <td>17558.730469</td>\n",
       "      <td>9112.244141</td>\n",
       "    </tr>\n",
       "    <tr>\n",
       "      <th>2010-01-05</th>\n",
       "      <td>9192.043945</td>\n",
       "      <td>5277.899902</td>\n",
       "      <td>17686.240234</td>\n",
       "      <td>9192.043945</td>\n",
       "    </tr>\n",
       "    <tr>\n",
       "      <th>2010-01-06</th>\n",
       "      <td>9222.892578</td>\n",
       "      <td>5281.799805</td>\n",
       "      <td>17701.130859</td>\n",
       "      <td>9222.892578</td>\n",
       "    </tr>\n",
       "    <tr>\n",
       "      <th>2010-01-07</th>\n",
       "      <td>9192.843750</td>\n",
       "      <td>5263.100098</td>\n",
       "      <td>17615.720703</td>\n",
       "      <td>9192.843750</td>\n",
       "    </tr>\n",
       "    <tr>\n",
       "      <th>2010-01-08</th>\n",
       "      <td>9160.593750</td>\n",
       "      <td>5244.750000</td>\n",
       "      <td>17540.289062</td>\n",
       "      <td>9160.593750</td>\n",
       "    </tr>\n",
       "  </tbody>\n",
       "</table>\n",
       "</div>"
      ],
      "text/plain": [
       "               ^NSEBANK        ^NSEI        ^BSESN  Market_value\n",
       "Date                                                            \n",
       "2010-01-04  9112.244141  5232.200195  17558.730469   9112.244141\n",
       "2010-01-05  9192.043945  5277.899902  17686.240234   9192.043945\n",
       "2010-01-06  9222.892578  5281.799805  17701.130859   9222.892578\n",
       "2010-01-07  9192.843750  5263.100098  17615.720703   9192.843750\n",
       "2010-01-08  9160.593750  5244.750000  17540.289062   9160.593750"
      ]
     },
     "execution_count": 15,
     "metadata": {},
     "output_type": "execute_result"
    }
   ],
   "source": [
    "data.head()"
   ]
  },
  {
   "cell_type": "code",
   "execution_count": 17,
   "id": "402e07ab",
   "metadata": {},
   "outputs": [],
   "source": [
    "del data['^NSEBANK']"
   ]
  },
  {
   "cell_type": "code",
   "execution_count": null,
   "id": "14fc719b",
   "metadata": {},
   "outputs": [
    {
     "data": {
      "text/html": [
       "<div>\n",
       "<style scoped>\n",
       "    .dataframe tbody tr th:only-of-type {\n",
       "        vertical-align: middle;\n",
       "    }\n",
       "\n",
       "    .dataframe tbody tr th {\n",
       "        vertical-align: top;\n",
       "    }\n",
       "\n",
       "    .dataframe thead th {\n",
       "        text-align: right;\n",
       "    }\n",
       "</style>\n",
       "<table border=\"1\" class=\"dataframe\">\n",
       "  <thead>\n",
       "    <tr style=\"text-align: right;\">\n",
       "      <th></th>\n",
       "      <th>Market_value</th>\n",
       "    </tr>\n",
       "    <tr>\n",
       "      <th>Date</th>\n",
       "      <th></th>\n",
       "    </tr>\n",
       "  </thead>\n",
       "  <tbody>\n",
       "    <tr>\n",
       "      <th>2010-01-04</th>\n",
       "      <td>9112.244141</td>\n",
       "    </tr>\n",
       "    <tr>\n",
       "      <th>2010-01-05</th>\n",
       "      <td>9192.043945</td>\n",
       "    </tr>\n",
       "    <tr>\n",
       "      <th>2010-01-06</th>\n",
       "      <td>9222.892578</td>\n",
       "    </tr>\n",
       "    <tr>\n",
       "      <th>2010-01-07</th>\n",
       "      <td>9192.843750</td>\n",
       "    </tr>\n",
       "    <tr>\n",
       "      <th>2010-01-08</th>\n",
       "      <td>9160.593750</td>\n",
       "    </tr>\n",
       "  </tbody>\n",
       "</table>\n",
       "</div>"
      ],
      "text/plain": [
       "            Market_value\n",
       "Date                    \n",
       "2010-01-04   9112.244141\n",
       "2010-01-05   9192.043945\n",
       "2010-01-06   9222.892578\n",
       "2010-01-07   9192.843750\n",
       "2010-01-08   9160.593750"
      ]
     },
     "execution_count": 16,
     "metadata": {},
     "output_type": "execute_result"
    }
   ],
   "source": [
    "data.head()"
   ]
  },
  {
   "cell_type": "code",
   "execution_count": null,
   "id": "02700a1a",
   "metadata": {},
   "outputs": [
    {
     "data": {
      "text/html": [
       "<div>\n",
       "<style scoped>\n",
       "    .dataframe tbody tr th:only-of-type {\n",
       "        vertical-align: middle;\n",
       "    }\n",
       "\n",
       "    .dataframe tbody tr th {\n",
       "        vertical-align: top;\n",
       "    }\n",
       "\n",
       "    .dataframe thead th {\n",
       "        text-align: right;\n",
       "    }\n",
       "</style>\n",
       "<table border=\"1\" class=\"dataframe\">\n",
       "  <thead>\n",
       "    <tr style=\"text-align: right;\">\n",
       "      <th></th>\n",
       "      <th>Market_value</th>\n",
       "    </tr>\n",
       "  </thead>\n",
       "  <tbody>\n",
       "    <tr>\n",
       "      <th>count</th>\n",
       "      <td>4045.000000</td>\n",
       "    </tr>\n",
       "    <tr>\n",
       "      <th>mean</th>\n",
       "      <td>25076.327577</td>\n",
       "    </tr>\n",
       "    <tr>\n",
       "      <th>std</th>\n",
       "      <td>13321.497160</td>\n",
       "    </tr>\n",
       "    <tr>\n",
       "      <th>min</th>\n",
       "      <td>7798.458984</td>\n",
       "    </tr>\n",
       "    <tr>\n",
       "      <th>25%</th>\n",
       "      <td>12424.555664</td>\n",
       "    </tr>\n",
       "    <tr>\n",
       "      <th>50%</th>\n",
       "      <td>22264.642578</td>\n",
       "    </tr>\n",
       "    <tr>\n",
       "      <th>75%</th>\n",
       "      <td>35123.988281</td>\n",
       "    </tr>\n",
       "    <tr>\n",
       "      <th>max</th>\n",
       "      <td>57459.449219</td>\n",
       "    </tr>\n",
       "  </tbody>\n",
       "</table>\n",
       "</div>"
      ],
      "text/plain": [
       "       Market_value\n",
       "count   4045.000000\n",
       "mean   25076.327577\n",
       "std    13321.497160\n",
       "min     7798.458984\n",
       "25%    12424.555664\n",
       "50%    22264.642578\n",
       "75%    35123.988281\n",
       "max    57459.449219"
      ]
     },
     "execution_count": 17,
     "metadata": {},
     "output_type": "execute_result"
    }
   ],
   "source": [
    "data.describe()"
   ]
  },
  {
   "cell_type": "code",
   "execution_count": null,
   "id": "86d5d0d0",
   "metadata": {},
   "outputs": [],
   "source": [
    "## Spliting the Date\n",
    "size=int(len(data)*0.8)\n",
    "train=data.iloc[:size]\n",
    "test=data.iloc[size:]"
   ]
  },
  {
   "cell_type": "code",
   "execution_count": 18,
   "id": "a7629190",
   "metadata": {},
   "outputs": [
    {
     "ename": "NameError",
     "evalue": "name 'train' is not defined",
     "output_type": "error",
     "traceback": [
      "\u001b[1;31m---------------------------------------------------------------------------\u001b[0m",
      "\u001b[1;31mNameError\u001b[0m                                 Traceback (most recent call last)",
      "Cell \u001b[1;32mIn[18], line 1\u001b[0m\n\u001b[1;32m----> 1\u001b[0m train\u001b[38;5;241m.\u001b[39mtail()\n",
      "\u001b[1;31mNameError\u001b[0m: name 'train' is not defined"
     ]
    }
   ],
   "source": [
    "train.tail()"
   ]
  },
  {
   "cell_type": "code",
   "execution_count": null,
   "id": "2eea5ae4",
   "metadata": {},
   "outputs": [],
   "source": [
    "## copying train data to df for simplefying\n",
    "df=train.copy()"
   ]
  },
  {
   "cell_type": "code",
   "execution_count": 21,
   "id": "88044ffa",
   "metadata": {},
   "outputs": [
    {
     "data": {
      "text/html": [
       "<div>\n",
       "<style scoped>\n",
       "    .dataframe tbody tr th:only-of-type {\n",
       "        vertical-align: middle;\n",
       "    }\n",
       "\n",
       "    .dataframe tbody tr th {\n",
       "        vertical-align: top;\n",
       "    }\n",
       "\n",
       "    .dataframe thead th {\n",
       "        text-align: right;\n",
       "    }\n",
       "</style>\n",
       "<table border=\"1\" class=\"dataframe\">\n",
       "  <thead>\n",
       "    <tr style=\"text-align: right;\">\n",
       "      <th></th>\n",
       "      <th>Market_value</th>\n",
       "    </tr>\n",
       "    <tr>\n",
       "      <th>Date</th>\n",
       "      <th></th>\n",
       "    </tr>\n",
       "  </thead>\n",
       "  <tbody>\n",
       "    <tr>\n",
       "      <th>2022-05-31</th>\n",
       "      <td>35486.984375</td>\n",
       "    </tr>\n",
       "    <tr>\n",
       "      <th>2022-06-01</th>\n",
       "      <td>35620.386719</td>\n",
       "    </tr>\n",
       "    <tr>\n",
       "      <th>2022-06-02</th>\n",
       "      <td>35613.234375</td>\n",
       "    </tr>\n",
       "    <tr>\n",
       "      <th>2022-06-03</th>\n",
       "      <td>35274.640625</td>\n",
       "    </tr>\n",
       "    <tr>\n",
       "      <th>2022-06-06</th>\n",
       "      <td>35309.789062</td>\n",
       "    </tr>\n",
       "  </tbody>\n",
       "</table>\n",
       "</div>"
      ],
      "text/plain": [
       "            Market_value\n",
       "Date                    \n",
       "2022-05-31  35486.984375\n",
       "2022-06-01  35620.386719\n",
       "2022-06-02  35613.234375\n",
       "2022-06-03  35274.640625\n",
       "2022-06-06  35309.789062"
      ]
     },
     "execution_count": 21,
     "metadata": {},
     "output_type": "execute_result"
    }
   ],
   "source": [
    "test.head()"
   ]
  }
 ],
 "metadata": {
  "kernelspec": {
   "display_name": "base",
   "language": "python",
   "name": "python3"
  },
  "language_info": {
   "codemirror_mode": {
    "name": "ipython",
    "version": 3
   },
   "file_extension": ".py",
   "mimetype": "text/x-python",
   "name": "python",
   "nbconvert_exporter": "python",
   "pygments_lexer": "ipython3",
   "version": "3.13.5"
  }
 },
 "nbformat": 4,
 "nbformat_minor": 5
}
