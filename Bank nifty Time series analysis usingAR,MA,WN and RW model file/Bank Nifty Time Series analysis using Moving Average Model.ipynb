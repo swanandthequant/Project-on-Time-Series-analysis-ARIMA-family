{
 "cells": [
  {
   "cell_type": "code",
   "execution_count": 1,
   "id": "8adc0779",
   "metadata": {},
   "outputs": [],
   "source": [
    "import pandas as pd\n",
    "import numpy as np\n",
    "import matplotlib.pyplot as plt\n",
    "import statsmodels.tsa.stattools as sts\n",
    "import statsmodels.graphics.tsaplots as sgt\n",
    "from statsmodels.tsa.seasonal import seasonal_decompose\n",
    "from statsmodels.tsa.arima.model import ARIMA\n",
    "from scipy.stats.distributions import chi2\n",
    "import warnings\n",
    "warnings.filterwarnings('ignore')   \n",
    "import seaborn as sns\n",
    "import yfinance as yf\n",
    "sns.set()"
   ]
  },
  {
   "cell_type": "code",
   "execution_count": 2,
   "id": "8b72fcb1",
   "metadata": {},
   "outputs": [
    {
     "name": "stderr",
     "output_type": "stream",
     "text": [
      "[*********************100%***********************]  1 of 1 completed\n",
      "[*********************100%***********************]  1 of 1 completed\n"
     ]
    }
   ],
   "source": [
    "tickers=['^NSEBANK','^NSEI']\n",
    "data = pd.DataFrame()\n",
    "for ticker in tickers:\n",
    "    data[ticker]=yf.download(ticker,start='2010-01-01',end='2025-7-7')['Close']"
   ]
  },
  {
   "cell_type": "code",
   "execution_count": 3,
   "id": "3369edf9",
   "metadata": {},
   "outputs": [
    {
     "name": "stdout",
     "output_type": "stream",
     "text": [
      "<class 'pandas.core.frame.DataFrame'>\n",
      "DatetimeIndex: 3532 entries, 2010-01-04 to 2025-07-04\n",
      "Data columns (total 2 columns):\n",
      " #   Column    Non-Null Count  Dtype  \n",
      "---  ------    --------------  -----  \n",
      " 0   ^NSEBANK  3532 non-null   float64\n",
      " 1   ^NSEI     3530 non-null   float64\n",
      "dtypes: float64(2)\n",
      "memory usage: 82.8 KB\n"
     ]
    }
   ],
   "source": [
    "data.info()"
   ]
  },
  {
   "cell_type": "code",
   "execution_count": 4,
   "id": "a898e292",
   "metadata": {},
   "outputs": [
    {
     "data": {
      "text/html": [
       "<div>\n",
       "<style scoped>\n",
       "    .dataframe tbody tr th:only-of-type {\n",
       "        vertical-align: middle;\n",
       "    }\n",
       "\n",
       "    .dataframe tbody tr th {\n",
       "        vertical-align: top;\n",
       "    }\n",
       "\n",
       "    .dataframe thead th {\n",
       "        text-align: right;\n",
       "    }\n",
       "</style>\n",
       "<table border=\"1\" class=\"dataframe\">\n",
       "  <thead>\n",
       "    <tr style=\"text-align: right;\">\n",
       "      <th></th>\n",
       "      <th>^NSEBANK</th>\n",
       "      <th>^NSEI</th>\n",
       "    </tr>\n",
       "    <tr>\n",
       "      <th>Date</th>\n",
       "      <th></th>\n",
       "      <th></th>\n",
       "    </tr>\n",
       "  </thead>\n",
       "  <tbody>\n",
       "    <tr>\n",
       "      <th>2010-01-04</th>\n",
       "      <td>9112.244141</td>\n",
       "      <td>5232.200195</td>\n",
       "    </tr>\n",
       "    <tr>\n",
       "      <th>2010-01-05</th>\n",
       "      <td>9192.043945</td>\n",
       "      <td>5277.899902</td>\n",
       "    </tr>\n",
       "    <tr>\n",
       "      <th>2010-01-06</th>\n",
       "      <td>9222.892578</td>\n",
       "      <td>5281.799805</td>\n",
       "    </tr>\n",
       "    <tr>\n",
       "      <th>2010-01-07</th>\n",
       "      <td>9192.843750</td>\n",
       "      <td>5263.100098</td>\n",
       "    </tr>\n",
       "    <tr>\n",
       "      <th>2010-01-08</th>\n",
       "      <td>9160.593750</td>\n",
       "      <td>5244.750000</td>\n",
       "    </tr>\n",
       "  </tbody>\n",
       "</table>\n",
       "</div>"
      ],
      "text/plain": [
       "               ^NSEBANK        ^NSEI\n",
       "Date                                \n",
       "2010-01-04  9112.244141  5232.200195\n",
       "2010-01-05  9192.043945  5277.899902\n",
       "2010-01-06  9222.892578  5281.799805\n",
       "2010-01-07  9192.843750  5263.100098\n",
       "2010-01-08  9160.593750  5244.750000"
      ]
     },
     "execution_count": 4,
     "metadata": {},
     "output_type": "execute_result"
    }
   ],
   "source": [
    "data.head()"
   ]
  },
  {
   "cell_type": "code",
   "execution_count": 5,
   "id": "fd768c35",
   "metadata": {},
   "outputs": [
    {
     "data": {
      "text/plain": [
       "^NSEBANK    0\n",
       "^NSEI       2\n",
       "dtype: int64"
      ]
     },
     "execution_count": 5,
     "metadata": {},
     "output_type": "execute_result"
    }
   ],
   "source": [
    "data.isna().sum()"
   ]
  },
  {
   "cell_type": "code",
   "execution_count": 6,
   "id": "e4500d4e",
   "metadata": {},
   "outputs": [],
   "source": [
    "## Dropping Null Values\n",
    "data.dropna(inplace=True)"
   ]
  },
  {
   "cell_type": "code",
   "execution_count": 7,
   "id": "f116acbb",
   "metadata": {},
   "outputs": [
    {
     "data": {
      "text/html": [
       "<div>\n",
       "<style scoped>\n",
       "    .dataframe tbody tr th:only-of-type {\n",
       "        vertical-align: middle;\n",
       "    }\n",
       "\n",
       "    .dataframe tbody tr th {\n",
       "        vertical-align: top;\n",
       "    }\n",
       "\n",
       "    .dataframe thead th {\n",
       "        text-align: right;\n",
       "    }\n",
       "</style>\n",
       "<table border=\"1\" class=\"dataframe\">\n",
       "  <thead>\n",
       "    <tr style=\"text-align: right;\">\n",
       "      <th></th>\n",
       "      <th>^NSEBANK</th>\n",
       "      <th>^NSEI</th>\n",
       "    </tr>\n",
       "    <tr>\n",
       "      <th>Date</th>\n",
       "      <th></th>\n",
       "      <th></th>\n",
       "    </tr>\n",
       "  </thead>\n",
       "  <tbody>\n",
       "    <tr>\n",
       "      <th>2010-01-04</th>\n",
       "      <td>9112.244141</td>\n",
       "      <td>5232.200195</td>\n",
       "    </tr>\n",
       "    <tr>\n",
       "      <th>2010-01-05</th>\n",
       "      <td>9192.043945</td>\n",
       "      <td>5277.899902</td>\n",
       "    </tr>\n",
       "    <tr>\n",
       "      <th>2010-01-06</th>\n",
       "      <td>9222.892578</td>\n",
       "      <td>5281.799805</td>\n",
       "    </tr>\n",
       "    <tr>\n",
       "      <th>2010-01-07</th>\n",
       "      <td>9192.843750</td>\n",
       "      <td>5263.100098</td>\n",
       "    </tr>\n",
       "    <tr>\n",
       "      <th>2010-01-08</th>\n",
       "      <td>9160.593750</td>\n",
       "      <td>5244.750000</td>\n",
       "    </tr>\n",
       "  </tbody>\n",
       "</table>\n",
       "</div>"
      ],
      "text/plain": [
       "               ^NSEBANK        ^NSEI\n",
       "Date                                \n",
       "2010-01-04  9112.244141  5232.200195\n",
       "2010-01-05  9192.043945  5277.899902\n",
       "2010-01-06  9222.892578  5281.799805\n",
       "2010-01-07  9192.843750  5263.100098\n",
       "2010-01-08  9160.593750  5244.750000"
      ]
     },
     "execution_count": 7,
     "metadata": {},
     "output_type": "execute_result"
    }
   ],
   "source": [
    "data.head()"
   ]
  },
  {
   "cell_type": "code",
   "execution_count": 8,
   "id": "348a072f",
   "metadata": {},
   "outputs": [],
   "source": [
    "data=data.asfreq('B')"
   ]
  },
  {
   "cell_type": "code",
   "execution_count": 9,
   "id": "c4fa3685",
   "metadata": {},
   "outputs": [
    {
     "data": {
      "text/html": [
       "<div>\n",
       "<style scoped>\n",
       "    .dataframe tbody tr th:only-of-type {\n",
       "        vertical-align: middle;\n",
       "    }\n",
       "\n",
       "    .dataframe tbody tr th {\n",
       "        vertical-align: top;\n",
       "    }\n",
       "\n",
       "    .dataframe thead th {\n",
       "        text-align: right;\n",
       "    }\n",
       "</style>\n",
       "<table border=\"1\" class=\"dataframe\">\n",
       "  <thead>\n",
       "    <tr style=\"text-align: right;\">\n",
       "      <th></th>\n",
       "      <th>^NSEBANK</th>\n",
       "      <th>^NSEI</th>\n",
       "    </tr>\n",
       "    <tr>\n",
       "      <th>Date</th>\n",
       "      <th></th>\n",
       "      <th></th>\n",
       "    </tr>\n",
       "  </thead>\n",
       "  <tbody>\n",
       "    <tr>\n",
       "      <th>2010-01-04</th>\n",
       "      <td>9112.244141</td>\n",
       "      <td>5232.200195</td>\n",
       "    </tr>\n",
       "    <tr>\n",
       "      <th>2010-01-05</th>\n",
       "      <td>9192.043945</td>\n",
       "      <td>5277.899902</td>\n",
       "    </tr>\n",
       "    <tr>\n",
       "      <th>2010-01-06</th>\n",
       "      <td>9222.892578</td>\n",
       "      <td>5281.799805</td>\n",
       "    </tr>\n",
       "    <tr>\n",
       "      <th>2010-01-07</th>\n",
       "      <td>9192.843750</td>\n",
       "      <td>5263.100098</td>\n",
       "    </tr>\n",
       "    <tr>\n",
       "      <th>2010-01-08</th>\n",
       "      <td>9160.593750</td>\n",
       "      <td>5244.750000</td>\n",
       "    </tr>\n",
       "  </tbody>\n",
       "</table>\n",
       "</div>"
      ],
      "text/plain": [
       "               ^NSEBANK        ^NSEI\n",
       "Date                                \n",
       "2010-01-04  9112.244141  5232.200195\n",
       "2010-01-05  9192.043945  5277.899902\n",
       "2010-01-06  9222.892578  5281.799805\n",
       "2010-01-07  9192.843750  5263.100098\n",
       "2010-01-08  9160.593750  5244.750000"
      ]
     },
     "execution_count": 9,
     "metadata": {},
     "output_type": "execute_result"
    }
   ],
   "source": [
    "data.head()"
   ]
  },
  {
   "cell_type": "code",
   "execution_count": 10,
   "id": "aaf88af9",
   "metadata": {},
   "outputs": [
    {
     "data": {
      "text/plain": [
       "^NSEBANK    515\n",
       "^NSEI       515\n",
       "dtype: int64"
      ]
     },
     "execution_count": 10,
     "metadata": {},
     "output_type": "execute_result"
    }
   ],
   "source": [
    "data.isna().sum()"
   ]
  },
  {
   "cell_type": "code",
   "execution_count": 11,
   "id": "c681ea0f",
   "metadata": {},
   "outputs": [],
   "source": [
    "data.fillna(method='ffill',inplace=True)"
   ]
  },
  {
   "cell_type": "code",
   "execution_count": 12,
   "id": "18cbb2a7",
   "metadata": {},
   "outputs": [
    {
     "data": {
      "text/plain": [
       "^NSEBANK    0\n",
       "^NSEI       0\n",
       "dtype: int64"
      ]
     },
     "execution_count": 12,
     "metadata": {},
     "output_type": "execute_result"
    }
   ],
   "source": [
    "data.isna().sum()"
   ]
  },
  {
   "cell_type": "code",
   "execution_count": 13,
   "id": "5cbbd797",
   "metadata": {},
   "outputs": [],
   "source": [
    "## Simplyfing the Datasets\n",
    "data['Market_value']=data['^NSEBANK']"
   ]
  },
  {
   "cell_type": "code",
   "execution_count": 14,
   "id": "dfefbc07",
   "metadata": {},
   "outputs": [
    {
     "data": {
      "text/html": [
       "<div>\n",
       "<style scoped>\n",
       "    .dataframe tbody tr th:only-of-type {\n",
       "        vertical-align: middle;\n",
       "    }\n",
       "\n",
       "    .dataframe tbody tr th {\n",
       "        vertical-align: top;\n",
       "    }\n",
       "\n",
       "    .dataframe thead th {\n",
       "        text-align: right;\n",
       "    }\n",
       "</style>\n",
       "<table border=\"1\" class=\"dataframe\">\n",
       "  <thead>\n",
       "    <tr style=\"text-align: right;\">\n",
       "      <th></th>\n",
       "      <th>^NSEBANK</th>\n",
       "      <th>^NSEI</th>\n",
       "      <th>Market_value</th>\n",
       "    </tr>\n",
       "    <tr>\n",
       "      <th>Date</th>\n",
       "      <th></th>\n",
       "      <th></th>\n",
       "      <th></th>\n",
       "    </tr>\n",
       "  </thead>\n",
       "  <tbody>\n",
       "    <tr>\n",
       "      <th>2010-01-04</th>\n",
       "      <td>9112.244141</td>\n",
       "      <td>5232.200195</td>\n",
       "      <td>9112.244141</td>\n",
       "    </tr>\n",
       "    <tr>\n",
       "      <th>2010-01-05</th>\n",
       "      <td>9192.043945</td>\n",
       "      <td>5277.899902</td>\n",
       "      <td>9192.043945</td>\n",
       "    </tr>\n",
       "    <tr>\n",
       "      <th>2010-01-06</th>\n",
       "      <td>9222.892578</td>\n",
       "      <td>5281.799805</td>\n",
       "      <td>9222.892578</td>\n",
       "    </tr>\n",
       "    <tr>\n",
       "      <th>2010-01-07</th>\n",
       "      <td>9192.843750</td>\n",
       "      <td>5263.100098</td>\n",
       "      <td>9192.843750</td>\n",
       "    </tr>\n",
       "    <tr>\n",
       "      <th>2010-01-08</th>\n",
       "      <td>9160.593750</td>\n",
       "      <td>5244.750000</td>\n",
       "      <td>9160.593750</td>\n",
       "    </tr>\n",
       "  </tbody>\n",
       "</table>\n",
       "</div>"
      ],
      "text/plain": [
       "               ^NSEBANK        ^NSEI  Market_value\n",
       "Date                                              \n",
       "2010-01-04  9112.244141  5232.200195   9112.244141\n",
       "2010-01-05  9192.043945  5277.899902   9192.043945\n",
       "2010-01-06  9222.892578  5281.799805   9222.892578\n",
       "2010-01-07  9192.843750  5263.100098   9192.843750\n",
       "2010-01-08  9160.593750  5244.750000   9160.593750"
      ]
     },
     "execution_count": 14,
     "metadata": {},
     "output_type": "execute_result"
    }
   ],
   "source": [
    "data.head()"
   ]
  },
  {
   "cell_type": "code",
   "execution_count": 15,
   "id": "402e07ab",
   "metadata": {},
   "outputs": [],
   "source": [
    "## Deleting Extra Columns \n",
    "del data['^NSEBANK'],data['^NSEI']"
   ]
  },
  {
   "cell_type": "code",
   "execution_count": 16,
   "id": "14fc719b",
   "metadata": {},
   "outputs": [
    {
     "data": {
      "text/html": [
       "<div>\n",
       "<style scoped>\n",
       "    .dataframe tbody tr th:only-of-type {\n",
       "        vertical-align: middle;\n",
       "    }\n",
       "\n",
       "    .dataframe tbody tr th {\n",
       "        vertical-align: top;\n",
       "    }\n",
       "\n",
       "    .dataframe thead th {\n",
       "        text-align: right;\n",
       "    }\n",
       "</style>\n",
       "<table border=\"1\" class=\"dataframe\">\n",
       "  <thead>\n",
       "    <tr style=\"text-align: right;\">\n",
       "      <th></th>\n",
       "      <th>Market_value</th>\n",
       "    </tr>\n",
       "    <tr>\n",
       "      <th>Date</th>\n",
       "      <th></th>\n",
       "    </tr>\n",
       "  </thead>\n",
       "  <tbody>\n",
       "    <tr>\n",
       "      <th>2010-01-04</th>\n",
       "      <td>9112.244141</td>\n",
       "    </tr>\n",
       "    <tr>\n",
       "      <th>2010-01-05</th>\n",
       "      <td>9192.043945</td>\n",
       "    </tr>\n",
       "    <tr>\n",
       "      <th>2010-01-06</th>\n",
       "      <td>9222.892578</td>\n",
       "    </tr>\n",
       "    <tr>\n",
       "      <th>2010-01-07</th>\n",
       "      <td>9192.843750</td>\n",
       "    </tr>\n",
       "    <tr>\n",
       "      <th>2010-01-08</th>\n",
       "      <td>9160.593750</td>\n",
       "    </tr>\n",
       "  </tbody>\n",
       "</table>\n",
       "</div>"
      ],
      "text/plain": [
       "            Market_value\n",
       "Date                    \n",
       "2010-01-04   9112.244141\n",
       "2010-01-05   9192.043945\n",
       "2010-01-06   9222.892578\n",
       "2010-01-07   9192.843750\n",
       "2010-01-08   9160.593750"
      ]
     },
     "execution_count": 16,
     "metadata": {},
     "output_type": "execute_result"
    }
   ],
   "source": [
    "data.head()"
   ]
  },
  {
   "cell_type": "code",
   "execution_count": 17,
   "id": "02700a1a",
   "metadata": {},
   "outputs": [
    {
     "data": {
      "text/html": [
       "<div>\n",
       "<style scoped>\n",
       "    .dataframe tbody tr th:only-of-type {\n",
       "        vertical-align: middle;\n",
       "    }\n",
       "\n",
       "    .dataframe tbody tr th {\n",
       "        vertical-align: top;\n",
       "    }\n",
       "\n",
       "    .dataframe thead th {\n",
       "        text-align: right;\n",
       "    }\n",
       "</style>\n",
       "<table border=\"1\" class=\"dataframe\">\n",
       "  <thead>\n",
       "    <tr style=\"text-align: right;\">\n",
       "      <th></th>\n",
       "      <th>Market_value</th>\n",
       "    </tr>\n",
       "  </thead>\n",
       "  <tbody>\n",
       "    <tr>\n",
       "      <th>count</th>\n",
       "      <td>4045.000000</td>\n",
       "    </tr>\n",
       "    <tr>\n",
       "      <th>mean</th>\n",
       "      <td>25076.327577</td>\n",
       "    </tr>\n",
       "    <tr>\n",
       "      <th>std</th>\n",
       "      <td>13321.497160</td>\n",
       "    </tr>\n",
       "    <tr>\n",
       "      <th>min</th>\n",
       "      <td>7798.458984</td>\n",
       "    </tr>\n",
       "    <tr>\n",
       "      <th>25%</th>\n",
       "      <td>12424.555664</td>\n",
       "    </tr>\n",
       "    <tr>\n",
       "      <th>50%</th>\n",
       "      <td>22264.642578</td>\n",
       "    </tr>\n",
       "    <tr>\n",
       "      <th>75%</th>\n",
       "      <td>35123.988281</td>\n",
       "    </tr>\n",
       "    <tr>\n",
       "      <th>max</th>\n",
       "      <td>57459.449219</td>\n",
       "    </tr>\n",
       "  </tbody>\n",
       "</table>\n",
       "</div>"
      ],
      "text/plain": [
       "       Market_value\n",
       "count   4045.000000\n",
       "mean   25076.327577\n",
       "std    13321.497160\n",
       "min     7798.458984\n",
       "25%    12424.555664\n",
       "50%    22264.642578\n",
       "75%    35123.988281\n",
       "max    57459.449219"
      ]
     },
     "execution_count": 17,
     "metadata": {},
     "output_type": "execute_result"
    }
   ],
   "source": [
    "data.describe()"
   ]
  },
  {
   "cell_type": "code",
   "execution_count": 18,
   "id": "1539c939",
   "metadata": {},
   "outputs": [
    {
     "data": {
      "text/html": [
       "<div>\n",
       "<style scoped>\n",
       "    .dataframe tbody tr th:only-of-type {\n",
       "        vertical-align: middle;\n",
       "    }\n",
       "\n",
       "    .dataframe tbody tr th {\n",
       "        vertical-align: top;\n",
       "    }\n",
       "\n",
       "    .dataframe thead th {\n",
       "        text-align: right;\n",
       "    }\n",
       "</style>\n",
       "<table border=\"1\" class=\"dataframe\">\n",
       "  <thead>\n",
       "    <tr style=\"text-align: right;\">\n",
       "      <th></th>\n",
       "      <th>Market_value</th>\n",
       "      <th>returns</th>\n",
       "    </tr>\n",
       "    <tr>\n",
       "      <th>Date</th>\n",
       "      <th></th>\n",
       "      <th></th>\n",
       "    </tr>\n",
       "  </thead>\n",
       "  <tbody>\n",
       "    <tr>\n",
       "      <th>2010-01-05</th>\n",
       "      <td>9192.043945</td>\n",
       "      <td>0.875743</td>\n",
       "    </tr>\n",
       "    <tr>\n",
       "      <th>2010-01-06</th>\n",
       "      <td>9222.892578</td>\n",
       "      <td>0.335601</td>\n",
       "    </tr>\n",
       "    <tr>\n",
       "      <th>2010-01-07</th>\n",
       "      <td>9192.843750</td>\n",
       "      <td>-0.325807</td>\n",
       "    </tr>\n",
       "    <tr>\n",
       "      <th>2010-01-08</th>\n",
       "      <td>9160.593750</td>\n",
       "      <td>-0.350816</td>\n",
       "    </tr>\n",
       "    <tr>\n",
       "      <th>2010-01-11</th>\n",
       "      <td>9173.443359</td>\n",
       "      <td>0.140270</td>\n",
       "    </tr>\n",
       "  </tbody>\n",
       "</table>\n",
       "</div>"
      ],
      "text/plain": [
       "            Market_value   returns\n",
       "Date                              \n",
       "2010-01-05   9192.043945  0.875743\n",
       "2010-01-06   9222.892578  0.335601\n",
       "2010-01-07   9192.843750 -0.325807\n",
       "2010-01-08   9160.593750 -0.350816\n",
       "2010-01-11   9173.443359  0.140270"
      ]
     },
     "execution_count": 18,
     "metadata": {},
     "output_type": "execute_result"
    }
   ],
   "source": [
    "## Adding Returns to the dataframe\n",
    "data['returns']=data.Market_value.pct_change(1)*100\n",
    "data=data.iloc[1:]\n",
    "data.head()"
   ]
  },
  {
   "cell_type": "code",
   "execution_count": 19,
   "id": "86d5d0d0",
   "metadata": {},
   "outputs": [],
   "source": [
    "## Spliting the Date\n",
    "size=int(len(data)*0.8)\n",
    "train=data.iloc[:size]\n",
    "test=data.iloc[size:]"
   ]
  },
  {
   "cell_type": "code",
   "execution_count": 20,
   "id": "0ad58b69",
   "metadata": {},
   "outputs": [],
   "source": [
    "# copying train data to df for simplefying\n",
    "df=train.copy()"
   ]
  },
  {
   "cell_type": "code",
   "execution_count": 21,
   "id": "2c87941c",
   "metadata": {},
   "outputs": [
    {
     "data": {
      "text/html": [
       "<div>\n",
       "<style scoped>\n",
       "    .dataframe tbody tr th:only-of-type {\n",
       "        vertical-align: middle;\n",
       "    }\n",
       "\n",
       "    .dataframe tbody tr th {\n",
       "        vertical-align: top;\n",
       "    }\n",
       "\n",
       "    .dataframe thead th {\n",
       "        text-align: right;\n",
       "    }\n",
       "</style>\n",
       "<table border=\"1\" class=\"dataframe\">\n",
       "  <thead>\n",
       "    <tr style=\"text-align: right;\">\n",
       "      <th></th>\n",
       "      <th>Market_value</th>\n",
       "      <th>returns</th>\n",
       "    </tr>\n",
       "    <tr>\n",
       "      <th>Date</th>\n",
       "      <th></th>\n",
       "      <th></th>\n",
       "    </tr>\n",
       "  </thead>\n",
       "  <tbody>\n",
       "    <tr>\n",
       "      <th>2010-01-05</th>\n",
       "      <td>9192.043945</td>\n",
       "      <td>0.875743</td>\n",
       "    </tr>\n",
       "    <tr>\n",
       "      <th>2010-01-06</th>\n",
       "      <td>9222.892578</td>\n",
       "      <td>0.335601</td>\n",
       "    </tr>\n",
       "    <tr>\n",
       "      <th>2010-01-07</th>\n",
       "      <td>9192.843750</td>\n",
       "      <td>-0.325807</td>\n",
       "    </tr>\n",
       "    <tr>\n",
       "      <th>2010-01-08</th>\n",
       "      <td>9160.593750</td>\n",
       "      <td>-0.350816</td>\n",
       "    </tr>\n",
       "    <tr>\n",
       "      <th>2010-01-11</th>\n",
       "      <td>9173.443359</td>\n",
       "      <td>0.140270</td>\n",
       "    </tr>\n",
       "  </tbody>\n",
       "</table>\n",
       "</div>"
      ],
      "text/plain": [
       "            Market_value   returns\n",
       "Date                              \n",
       "2010-01-05   9192.043945  0.875743\n",
       "2010-01-06   9222.892578  0.335601\n",
       "2010-01-07   9192.843750 -0.325807\n",
       "2010-01-08   9160.593750 -0.350816\n",
       "2010-01-11   9173.443359  0.140270"
      ]
     },
     "execution_count": 21,
     "metadata": {},
     "output_type": "execute_result"
    }
   ],
   "source": [
    "df.head()"
   ]
  },
  {
   "cell_type": "code",
   "execution_count": 22,
   "id": "a7629190",
   "metadata": {},
   "outputs": [
    {
     "data": {
      "text/html": [
       "<div>\n",
       "<style scoped>\n",
       "    .dataframe tbody tr th:only-of-type {\n",
       "        vertical-align: middle;\n",
       "    }\n",
       "\n",
       "    .dataframe tbody tr th {\n",
       "        vertical-align: top;\n",
       "    }\n",
       "\n",
       "    .dataframe thead th {\n",
       "        text-align: right;\n",
       "    }\n",
       "</style>\n",
       "<table border=\"1\" class=\"dataframe\">\n",
       "  <thead>\n",
       "    <tr style=\"text-align: right;\">\n",
       "      <th></th>\n",
       "      <th>Market_value</th>\n",
       "      <th>returns</th>\n",
       "    </tr>\n",
       "    <tr>\n",
       "      <th>Date</th>\n",
       "      <th></th>\n",
       "      <th></th>\n",
       "    </tr>\n",
       "  </thead>\n",
       "  <tbody>\n",
       "    <tr>\n",
       "      <th>2022-05-24</th>\n",
       "      <td>34289.750000</td>\n",
       "      <td>0.124235</td>\n",
       "    </tr>\n",
       "    <tr>\n",
       "      <th>2022-05-25</th>\n",
       "      <td>34339.101562</td>\n",
       "      <td>0.143925</td>\n",
       "    </tr>\n",
       "    <tr>\n",
       "      <th>2022-05-26</th>\n",
       "      <td>35094.492188</td>\n",
       "      <td>2.199797</td>\n",
       "    </tr>\n",
       "    <tr>\n",
       "      <th>2022-05-27</th>\n",
       "      <td>35612.886719</td>\n",
       "      <td>1.477139</td>\n",
       "    </tr>\n",
       "    <tr>\n",
       "      <th>2022-05-30</th>\n",
       "      <td>35826.531250</td>\n",
       "      <td>0.599908</td>\n",
       "    </tr>\n",
       "  </tbody>\n",
       "</table>\n",
       "</div>"
      ],
      "text/plain": [
       "            Market_value   returns\n",
       "Date                              \n",
       "2022-05-24  34289.750000  0.124235\n",
       "2022-05-25  34339.101562  0.143925\n",
       "2022-05-26  35094.492188  2.199797\n",
       "2022-05-27  35612.886719  1.477139\n",
       "2022-05-30  35826.531250  0.599908"
      ]
     },
     "execution_count": 22,
     "metadata": {},
     "output_type": "execute_result"
    }
   ],
   "source": [
    "train.tail()"
   ]
  },
  {
   "cell_type": "code",
   "execution_count": 23,
   "id": "88044ffa",
   "metadata": {},
   "outputs": [
    {
     "data": {
      "text/html": [
       "<div>\n",
       "<style scoped>\n",
       "    .dataframe tbody tr th:only-of-type {\n",
       "        vertical-align: middle;\n",
       "    }\n",
       "\n",
       "    .dataframe tbody tr th {\n",
       "        vertical-align: top;\n",
       "    }\n",
       "\n",
       "    .dataframe thead th {\n",
       "        text-align: right;\n",
       "    }\n",
       "</style>\n",
       "<table border=\"1\" class=\"dataframe\">\n",
       "  <thead>\n",
       "    <tr style=\"text-align: right;\">\n",
       "      <th></th>\n",
       "      <th>Market_value</th>\n",
       "      <th>returns</th>\n",
       "    </tr>\n",
       "    <tr>\n",
       "      <th>Date</th>\n",
       "      <th></th>\n",
       "      <th></th>\n",
       "    </tr>\n",
       "  </thead>\n",
       "  <tbody>\n",
       "    <tr>\n",
       "      <th>2022-05-31</th>\n",
       "      <td>35486.984375</td>\n",
       "      <td>-0.947753</td>\n",
       "    </tr>\n",
       "    <tr>\n",
       "      <th>2022-06-01</th>\n",
       "      <td>35620.386719</td>\n",
       "      <td>0.375919</td>\n",
       "    </tr>\n",
       "    <tr>\n",
       "      <th>2022-06-02</th>\n",
       "      <td>35613.234375</td>\n",
       "      <td>-0.020079</td>\n",
       "    </tr>\n",
       "    <tr>\n",
       "      <th>2022-06-03</th>\n",
       "      <td>35274.640625</td>\n",
       "      <td>-0.950753</td>\n",
       "    </tr>\n",
       "    <tr>\n",
       "      <th>2022-06-06</th>\n",
       "      <td>35309.789062</td>\n",
       "      <td>0.099642</td>\n",
       "    </tr>\n",
       "  </tbody>\n",
       "</table>\n",
       "</div>"
      ],
      "text/plain": [
       "            Market_value   returns\n",
       "Date                              \n",
       "2022-05-31  35486.984375 -0.947753\n",
       "2022-06-01  35620.386719  0.375919\n",
       "2022-06-02  35613.234375 -0.020079\n",
       "2022-06-03  35274.640625 -0.950753\n",
       "2022-06-06  35309.789062  0.099642"
      ]
     },
     "execution_count": 23,
     "metadata": {},
     "output_type": "execute_result"
    }
   ],
   "source": [
    "test.head()"
   ]
  },
  {
   "cell_type": "markdown",
   "id": "3f5a3489",
   "metadata": {},
   "source": [
    "## ploting ACF anf PACF plots"
   ]
  },
  {
   "cell_type": "code",
   "execution_count": 24,
   "id": "a719a17c",
   "metadata": {},
   "outputs": [
    {
     "data": {
      "text/plain": [
       "Text(0.5, 1.0, 'ACF Bank Nifty')"
      ]
     },
     "execution_count": 24,
     "metadata": {},
     "output_type": "execute_result"
    },
    {
     "data": {
      "image/png": "[encoded data removed]",
      "text/plain": [
       "<Figure size 640x480 with 1 Axes>"
      ]
     },
     "metadata": {},
     "output_type": "display_data"
    }
   ],
   "source": [
    "## ACF\n",
    "sgt.plot_acf(df.Market_value,lags=40,zero=False)\n",
    "plt.ylim(-1.1,1.1)\n",
    "plt.title(\"ACF Bank Nifty\",size=24)"
   ]
  },
  {
   "cell_type": "code",
   "execution_count": 25,
   "id": "884fb464",
   "metadata": {},
   "outputs": [
    {
     "data": {
      "text/plain": [
       "Text(0.5, 1.0, 'PACF Bank Nifty')"
      ]
     },
     "execution_count": 25,
     "metadata": {},
     "output_type": "execute_result"
    },
    {
     "data": {
      "image/png": "[encoded data removed]",
      "text/plain": [
       "<Figure size 640x480 with 1 Axes>"
      ]
     },
     "metadata": {},
     "output_type": "display_data"
    }
   ],
   "source": [
    "## Pacf \n",
    "sgt.plot_pacf(df.Market_value,lags=40,zero=False,method=('ols'))\n",
    "plt.title(\"PACF Bank Nifty\",size=24)"
   ]
  },
  {
   "cell_type": "code",
   "execution_count": 26,
   "id": "be78a528",
   "metadata": {},
   "outputs": [],
   "source": [
    "## Defining LLR Test for Easy Comparison\n",
    "def LLR_test(mod_1, mod_2, DF = 1):\n",
    "    L1 = mod_1.fit().llf\n",
    "    L2 = mod_2.fit().llf\n",
    "    LR = (2*(L2-L1))    \n",
    "    p = chi2.sf(LR, DF).round(3)\n",
    "    return p"
   ]
  },
  {
   "cell_type": "markdown",
   "id": "e4727b86",
   "metadata": {},
   "source": [
    "## Creating Multiple MA models for many Lags and comparing them (for Prices)\n"
   ]
  },
  {
   "cell_type": "code",
   "execution_count": 27,
   "id": "f994672a",
   "metadata": {},
   "outputs": [
    {
     "data": {
      "text/html": [
       "<table class=\"simpletable\">\n",
       "<caption>SARIMAX Results</caption>\n",
       "<tr>\n",
       "  <th>Dep. Variable:</th>     <td>Market_value</td>   <th>  No. Observations:  </th>    <td>3235</td>   \n",
       "</tr>\n",
       "<tr>\n",
       "  <th>Model:</th>            <td>ARIMA(0, 0, 1)</td>  <th>  Log Likelihood     </th> <td>-31776.205</td>\n",
       "</tr>\n",
       "<tr>\n",
       "  <th>Date:</th>            <td>Sun, 14 Sep 2025</td> <th>  AIC                </th>  <td>63558.409</td>\n",
       "</tr>\n",
       "<tr>\n",
       "  <th>Time:</th>                <td>13:41:31</td>     <th>  BIC                </th>  <td>63576.655</td>\n",
       "</tr>\n",
       "<tr>\n",
       "  <th>Sample:</th>             <td>01-05-2010</td>    <th>  HQIC               </th>  <td>63564.947</td>\n",
       "</tr>\n",
       "<tr>\n",
       "  <th></th>                   <td>- 05-30-2022</td>   <th>                     </th>      <td> </td>    \n",
       "</tr>\n",
       "<tr>\n",
       "  <th>Covariance Type:</th>        <td>opg</td>       <th>                     </th>      <td> </td>    \n",
       "</tr>\n",
       "</table>\n",
       "<table class=\"simpletable\">\n",
       "<tr>\n",
       "     <td></td>       <th>coef</th>     <th>std err</th>      <th>z</th>      <th>P>|z|</th>  <th>[0.025</th>    <th>0.975]</th>  \n",
       "</tr>\n",
       "<tr>\n",
       "  <th>const</th>  <td> 1.981e+04</td> <td>  155.182</td> <td>  127.686</td> <td> 0.000</td> <td> 1.95e+04</td> <td> 2.01e+04</td>\n",
       "</tr>\n",
       "<tr>\n",
       "  <th>ma.L1</th>  <td>    0.9752</td> <td>    0.004</td> <td>  248.632</td> <td> 0.000</td> <td>    0.967</td> <td>    0.983</td>\n",
       "</tr>\n",
       "<tr>\n",
       "  <th>sigma2</th> <td> 1.991e+07</td> <td>    0.018</td> <td> 1.12e+09</td> <td> 0.000</td> <td> 1.99e+07</td> <td> 1.99e+07</td>\n",
       "</tr>\n",
       "</table>\n",
       "<table class=\"simpletable\">\n",
       "<tr>\n",
       "  <th>Ljung-Box (L1) (Q):</th>     <td>2953.91</td> <th>  Jarque-Bera (JB):  </th> <td>248.72</td>\n",
       "</tr>\n",
       "<tr>\n",
       "  <th>Prob(Q):</th>                 <td>0.00</td>   <th>  Prob(JB):          </th>  <td>0.00</td> \n",
       "</tr>\n",
       "<tr>\n",
       "  <th>Heteroskedasticity (H):</th>  <td>1.53</td>   <th>  Skew:              </th>  <td>0.52</td> \n",
       "</tr>\n",
       "<tr>\n",
       "  <th>Prob(H) (two-sided):</th>     <td>0.00</td>   <th>  Kurtosis:          </th>  <td>2.13</td> \n",
       "</tr>\n",
       "</table><br/><br/>Warnings:<br/>[1] Covariance matrix calculated using the outer product of gradients (complex-step).<br/>[2] Covariance matrix is singular or near-singular, with condition number 2.89e+23. Standard errors may be unstable."
      ],
      "text/latex": [
       "\\begin{center}\n",
       "\\begin{tabular}{lclc}\n",
       "\\toprule\n",
       "\\textbf{Dep. Variable:}          &  Market\\_value   & \\textbf{  No. Observations:  } &    3235     \\\\\n",
       "\\textbf{Model:}                  &  ARIMA(0, 0, 1)  & \\textbf{  Log Likelihood     } & -31776.205  \\\\\n",
       "\\textbf{Date:}                   & Sun, 14 Sep 2025 & \\textbf{  AIC                } & 63558.409   \\\\\n",
       "\\textbf{Time:}                   &     13:41:31     & \\textbf{  BIC                } & 63576.655   \\\\\n",
       "\\textbf{Sample:}                 &    01-05-2010    & \\textbf{  HQIC               } & 63564.947   \\\\\n",
       "\\textbf{}                        &   - 05-30-2022   & \\textbf{                     } &             \\\\\n",
       "\\textbf{Covariance Type:}        &       opg        & \\textbf{                     } &             \\\\\n",
       "\\bottomrule\n",
       "\\end{tabular}\n",
       "\\begin{tabular}{lcccccc}\n",
       "                & \\textbf{coef} & \\textbf{std err} & \\textbf{z} & \\textbf{P$> |$z$|$} & \\textbf{[0.025} & \\textbf{0.975]}  \\\\\n",
       "\\midrule\n",
       "\\textbf{const}  &    1.981e+04  &      155.182     &   127.686  &         0.000        &     1.95e+04    &     2.01e+04     \\\\\n",
       "\\textbf{ma.L1}  &       0.9752  &        0.004     &   248.632  &         0.000        &        0.967    &        0.983     \\\\\n",
       "\\textbf{sigma2} &    1.991e+07  &        0.018     &  1.12e+09  &         0.000        &     1.99e+07    &     1.99e+07     \\\\\n",
       "\\bottomrule\n",
       "\\end{tabular}\n",
       "\\begin{tabular}{lclc}\n",
       "\\textbf{Ljung-Box (L1) (Q):}     & 2953.91 & \\textbf{  Jarque-Bera (JB):  } & 248.72  \\\\\n",
       "\\textbf{Prob(Q):}                &   0.00  & \\textbf{  Prob(JB):          } &  0.00   \\\\\n",
       "\\textbf{Heteroskedasticity (H):} &   1.53  & \\textbf{  Skew:              } &  0.52   \\\\\n",
       "\\textbf{Prob(H) (two-sided):}    &   0.00  & \\textbf{  Kurtosis:          } &  2.13   \\\\\n",
       "\\bottomrule\n",
       "\\end{tabular}\n",
       "%\\caption{SARIMAX Results}\n",
       "\\end{center}\n",
       "\n",
       "Warnings: \\newline\n",
       " [1] Covariance matrix calculated using the outer product of gradients (complex-step). \\newline\n",
       " [2] Covariance matrix is singular or near-singular, with condition number 2.89e+23. Standard errors may be unstable."
      ],
      "text/plain": [
       "<class 'statsmodels.iolib.summary.Summary'>\n",
       "\"\"\"\n",
       "                               SARIMAX Results                                \n",
       "==============================================================================\n",
       "Dep. Variable:           Market_value   No. Observations:                 3235\n",
       "Model:                 ARIMA(0, 0, 1)   Log Likelihood              -31776.205\n",
       "Date:                Sun, 14 Sep 2025   AIC                          63558.409\n",
       "Time:                        13:41:31   BIC                          63576.655\n",
       "Sample:                    01-05-2010   HQIC                         63564.947\n",
       "                         - 05-30-2022                                         \n",
       "Covariance Type:                  opg                                         \n",
       "==============================================================================\n",
       "                 coef    std err          z      P>|z|      [0.025      0.975]\n",
       "------------------------------------------------------------------------------\n",
       "const       1.981e+04    155.182    127.686      0.000    1.95e+04    2.01e+04\n",
       "ma.L1          0.9752      0.004    248.632      0.000       0.967       0.983\n",
       "sigma2      1.991e+07      0.018   1.12e+09      0.000    1.99e+07    1.99e+07\n",
       "===================================================================================\n",
       "Ljung-Box (L1) (Q):                2953.91   Jarque-Bera (JB):               248.72\n",
       "Prob(Q):                              0.00   Prob(JB):                         0.00\n",
       "Heteroskedasticity (H):               1.53   Skew:                             0.52\n",
       "Prob(H) (two-sided):                  0.00   Kurtosis:                         2.13\n",
       "===================================================================================\n",
       "\n",
       "Warnings:\n",
       "[1] Covariance matrix calculated using the outer product of gradients (complex-step).\n",
       "[2] Covariance matrix is singular or near-singular, with condition number 2.89e+23. Standard errors may be unstable.\n",
       "\"\"\""
      ]
     },
     "execution_count": 27,
     "metadata": {},
     "output_type": "execute_result"
    }
   ],
   "source": [
    "model_ma1 = ARIMA(df.Market_value, order=(0,0,1))\n",
    "result_ma1=model_ma1.fit()\n",
    "result_ma1.summary()"
   ]
  },
  {
   "cell_type": "code",
   "execution_count": 28,
   "id": "e6937d4c",
   "metadata": {},
   "outputs": [
    {
     "data": {
      "text/html": [
       "<table class=\"simpletable\">\n",
       "<caption>SARIMAX Results</caption>\n",
       "<tr>\n",
       "  <th>Dep. Variable:</th>     <td>Market_value</td>   <th>  No. Observations:  </th>    <td>3235</td>   \n",
       "</tr>\n",
       "<tr>\n",
       "  <th>Model:</th>            <td>ARIMA(0, 0, 2)</td>  <th>  Log Likelihood     </th> <td>-32561.942</td>\n",
       "</tr>\n",
       "<tr>\n",
       "  <th>Date:</th>            <td>Sun, 14 Sep 2025</td> <th>  AIC                </th>  <td>65131.883</td>\n",
       "</tr>\n",
       "<tr>\n",
       "  <th>Time:</th>                <td>13:41:31</td>     <th>  BIC                </th>  <td>65156.211</td>\n",
       "</tr>\n",
       "<tr>\n",
       "  <th>Sample:</th>             <td>01-05-2010</td>    <th>  HQIC               </th>  <td>65140.600</td>\n",
       "</tr>\n",
       "<tr>\n",
       "  <th></th>                   <td>- 05-30-2022</td>   <th>                     </th>      <td> </td>    \n",
       "</tr>\n",
       "<tr>\n",
       "  <th>Covariance Type:</th>        <td>opg</td>       <th>                     </th>      <td> </td>    \n",
       "</tr>\n",
       "</table>\n",
       "<table class=\"simpletable\">\n",
       "<tr>\n",
       "     <td></td>       <th>coef</th>     <th>std err</th>      <th>z</th>      <th>P>|z|</th>  <th>[0.025</th>    <th>0.975]</th>  \n",
       "</tr>\n",
       "<tr>\n",
       "  <th>const</th>  <td> 1.981e+04</td> <td> 1219.731</td> <td>   16.245</td> <td> 0.000</td> <td> 1.74e+04</td> <td> 2.22e+04</td>\n",
       "</tr>\n",
       "<tr>\n",
       "  <th>ma.L1</th>  <td>    1.0361</td> <td>    0.002</td> <td>  578.762</td> <td> 0.000</td> <td>    1.033</td> <td>    1.040</td>\n",
       "</tr>\n",
       "<tr>\n",
       "  <th>ma.L2</th>  <td>    0.9970</td> <td>    0.002</td> <td>  546.273</td> <td> 0.000</td> <td>    0.993</td> <td>    1.001</td>\n",
       "</tr>\n",
       "<tr>\n",
       "  <th>sigma2</th> <td>  7.56e+07</td> <td>    0.027</td> <td> 2.75e+09</td> <td> 0.000</td> <td> 7.56e+07</td> <td> 7.56e+07</td>\n",
       "</tr>\n",
       "</table>\n",
       "<table class=\"simpletable\">\n",
       "<tr>\n",
       "  <th>Ljung-Box (L1) (Q):</th>     <td>1144.23</td> <th>  Jarque-Bera (JB):  </th> <td>152.87</td>\n",
       "</tr>\n",
       "<tr>\n",
       "  <th>Prob(Q):</th>                 <td>0.00</td>   <th>  Prob(JB):          </th>  <td>0.00</td> \n",
       "</tr>\n",
       "<tr>\n",
       "  <th>Heteroskedasticity (H):</th>  <td>1.63</td>   <th>  Skew:              </th>  <td>0.48</td> \n",
       "</tr>\n",
       "<tr>\n",
       "  <th>Prob(H) (two-sided):</th>     <td>0.00</td>   <th>  Kurtosis:          </th>  <td>2.54</td> \n",
       "</tr>\n",
       "</table><br/><br/>Warnings:<br/>[1] Covariance matrix calculated using the outer product of gradients (complex-step).<br/>[2] Covariance matrix is singular or near-singular, with condition number 4.59e+25. Standard errors may be unstable."
      ],
      "text/latex": [
       "\\begin{center}\n",
       "\\begin{tabular}{lclc}\n",
       "\\toprule\n",
       "\\textbf{Dep. Variable:}          &  Market\\_value   & \\textbf{  No. Observations:  } &    3235     \\\\\n",
       "\\textbf{Model:}                  &  ARIMA(0, 0, 2)  & \\textbf{  Log Likelihood     } & -32561.942  \\\\\n",
       "\\textbf{Date:}                   & Sun, 14 Sep 2025 & \\textbf{  AIC                } & 65131.883   \\\\\n",
       "\\textbf{Time:}                   &     13:41:31     & \\textbf{  BIC                } & 65156.211   \\\\\n",
       "\\textbf{Sample:}                 &    01-05-2010    & \\textbf{  HQIC               } & 65140.600   \\\\\n",
       "\\textbf{}                        &   - 05-30-2022   & \\textbf{                     } &             \\\\\n",
       "\\textbf{Covariance Type:}        &       opg        & \\textbf{                     } &             \\\\\n",
       "\\bottomrule\n",
       "\\end{tabular}\n",
       "\\begin{tabular}{lcccccc}\n",
       "                & \\textbf{coef} & \\textbf{std err} & \\textbf{z} & \\textbf{P$> |$z$|$} & \\textbf{[0.025} & \\textbf{0.975]}  \\\\\n",
       "\\midrule\n",
       "\\textbf{const}  &    1.981e+04  &     1219.731     &    16.245  &         0.000        &     1.74e+04    &     2.22e+04     \\\\\n",
       "\\textbf{ma.L1}  &       1.0361  &        0.002     &   578.762  &         0.000        &        1.033    &        1.040     \\\\\n",
       "\\textbf{ma.L2}  &       0.9970  &        0.002     &   546.273  &         0.000        &        0.993    &        1.001     \\\\\n",
       "\\textbf{sigma2} &     7.56e+07  &        0.027     &  2.75e+09  &         0.000        &     7.56e+07    &     7.56e+07     \\\\\n",
       "\\bottomrule\n",
       "\\end{tabular}\n",
       "\\begin{tabular}{lclc}\n",
       "\\textbf{Ljung-Box (L1) (Q):}     & 1144.23 & \\textbf{  Jarque-Bera (JB):  } & 152.87  \\\\\n",
       "\\textbf{Prob(Q):}                &   0.00  & \\textbf{  Prob(JB):          } &  0.00   \\\\\n",
       "\\textbf{Heteroskedasticity (H):} &   1.63  & \\textbf{  Skew:              } &  0.48   \\\\\n",
       "\\textbf{Prob(H) (two-sided):}    &   0.00  & \\textbf{  Kurtosis:          } &  2.54   \\\\\n",
       "\\bottomrule\n",
       "\\end{tabular}\n",
       "%\\caption{SARIMAX Results}\n",
       "\\end{center}\n",
       "\n",
       "Warnings: \\newline\n",
       " [1] Covariance matrix calculated using the outer product of gradients (complex-step). \\newline\n",
       " [2] Covariance matrix is singular or near-singular, with condition number 4.59e+25. Standard errors may be unstable."
      ],
      "text/plain": [
       "<class 'statsmodels.iolib.summary.Summary'>\n",
       "\"\"\"\n",
       "                               SARIMAX Results                                \n",
       "==============================================================================\n",
       "Dep. Variable:           Market_value   No. Observations:                 3235\n",
       "Model:                 ARIMA(0, 0, 2)   Log Likelihood              -32561.942\n",
       "Date:                Sun, 14 Sep 2025   AIC                          65131.883\n",
       "Time:                        13:41:31   BIC                          65156.211\n",
       "Sample:                    01-05-2010   HQIC                         65140.600\n",
       "                         - 05-30-2022                                         \n",
       "Covariance Type:                  opg                                         \n",
       "==============================================================================\n",
       "                 coef    std err          z      P>|z|      [0.025      0.975]\n",
       "------------------------------------------------------------------------------\n",
       "const       1.981e+04   1219.731     16.245      0.000    1.74e+04    2.22e+04\n",
       "ma.L1          1.0361      0.002    578.762      0.000       1.033       1.040\n",
       "ma.L2          0.9970      0.002    546.273      0.000       0.993       1.001\n",
       "sigma2       7.56e+07      0.027   2.75e+09      0.000    7.56e+07    7.56e+07\n",
       "===================================================================================\n",
       "Ljung-Box (L1) (Q):                1144.23   Jarque-Bera (JB):               152.87\n",
       "Prob(Q):                              0.00   Prob(JB):                         0.00\n",
       "Heteroskedasticity (H):               1.63   Skew:                             0.48\n",
       "Prob(H) (two-sided):                  0.00   Kurtosis:                         2.54\n",
       "===================================================================================\n",
       "\n",
       "Warnings:\n",
       "[1] Covariance matrix calculated using the outer product of gradients (complex-step).\n",
       "[2] Covariance matrix is singular or near-singular, with condition number 4.59e+25. Standard errors may be unstable.\n",
       "\"\"\""
      ]
     },
     "execution_count": 28,
     "metadata": {},
     "output_type": "execute_result"
    }
   ],
   "source": [
    "model_ma2 = ARIMA(df.Market_value, order=(0,0,2))\n",
    "result_ma2=model_ma2.fit()\n",
    "result_ma2.summary()"
   ]
  },
  {
   "cell_type": "code",
   "execution_count": 29,
   "id": "99260b23",
   "metadata": {},
   "outputs": [
    {
     "data": {
      "text/html": [
       "<table class=\"simpletable\">\n",
       "<caption>SARIMAX Results</caption>\n",
       "<tr>\n",
       "  <th>Dep. Variable:</th>     <td>Market_value</td>   <th>  No. Observations:  </th>    <td>3235</td>   \n",
       "</tr>\n",
       "<tr>\n",
       "  <th>Model:</th>            <td>ARIMA(0, 0, 3)</td>  <th>  Log Likelihood     </th> <td>-29572.430</td>\n",
       "</tr>\n",
       "<tr>\n",
       "  <th>Date:</th>            <td>Sun, 14 Sep 2025</td> <th>  AIC                </th>  <td>59154.859</td>\n",
       "</tr>\n",
       "<tr>\n",
       "  <th>Time:</th>                <td>13:41:35</td>     <th>  BIC                </th>  <td>59185.268</td>\n",
       "</tr>\n",
       "<tr>\n",
       "  <th>Sample:</th>             <td>01-05-2010</td>    <th>  HQIC               </th>  <td>59165.755</td>\n",
       "</tr>\n",
       "<tr>\n",
       "  <th></th>                   <td>- 05-30-2022</td>   <th>                     </th>      <td> </td>    \n",
       "</tr>\n",
       "<tr>\n",
       "  <th>Covariance Type:</th>        <td>opg</td>       <th>                     </th>      <td> </td>    \n",
       "</tr>\n",
       "</table>\n",
       "<table class=\"simpletable\">\n",
       "<tr>\n",
       "     <td></td>       <th>coef</th>     <th>std err</th>      <th>z</th>      <th>P>|z|</th>  <th>[0.025</th>    <th>0.975]</th>  \n",
       "</tr>\n",
       "<tr>\n",
       "  <th>const</th>  <td> 1.981e+04</td> <td>  259.458</td> <td>   76.369</td> <td> 0.000</td> <td> 1.93e+04</td> <td> 2.03e+04</td>\n",
       "</tr>\n",
       "<tr>\n",
       "  <th>ma.L1</th>  <td>    2.2427</td> <td>    0.015</td> <td>  154.619</td> <td> 0.000</td> <td>    2.214</td> <td>    2.271</td>\n",
       "</tr>\n",
       "<tr>\n",
       "  <th>ma.L2</th>  <td>    2.2207</td> <td>    0.033</td> <td>   67.453</td> <td> 0.000</td> <td>    2.156</td> <td>    2.285</td>\n",
       "</tr>\n",
       "<tr>\n",
       "  <th>ma.L3</th>  <td>    0.9299</td> <td>    0.019</td> <td>   47.724</td> <td> 0.000</td> <td>    0.892</td> <td>    0.968</td>\n",
       "</tr>\n",
       "<tr>\n",
       "  <th>sigma2</th> <td> 5.067e+06</td> <td>    0.126</td> <td> 4.03e+07</td> <td> 0.000</td> <td> 5.07e+06</td> <td> 5.07e+06</td>\n",
       "</tr>\n",
       "</table>\n",
       "<table class=\"simpletable\">\n",
       "<tr>\n",
       "  <th>Ljung-Box (L1) (Q):</th>     <td>16.13</td> <th>  Jarque-Bera (JB):  </th> <td>122.27</td>\n",
       "</tr>\n",
       "<tr>\n",
       "  <th>Prob(Q):</th>                <td>0.00</td>  <th>  Prob(JB):          </th>  <td>0.00</td> \n",
       "</tr>\n",
       "<tr>\n",
       "  <th>Heteroskedasticity (H):</th> <td>1.78</td>  <th>  Skew:              </th>  <td>0.43</td> \n",
       "</tr>\n",
       "<tr>\n",
       "  <th>Prob(H) (two-sided):</th>    <td>0.00</td>  <th>  Kurtosis:          </th>  <td>3.42</td> \n",
       "</tr>\n",
       "</table><br/><br/>Warnings:<br/>[1] Covariance matrix calculated using the outer product of gradients (complex-step).<br/>[2] Covariance matrix is singular or near-singular, with condition number 1.45e+22. Standard errors may be unstable."
      ],
      "text/latex": [
       "\\begin{center}\n",
       "\\begin{tabular}{lclc}\n",
       "\\toprule\n",
       "\\textbf{Dep. Variable:}          &  Market\\_value   & \\textbf{  No. Observations:  } &    3235     \\\\\n",
       "\\textbf{Model:}                  &  ARIMA(0, 0, 3)  & \\textbf{  Log Likelihood     } & -29572.430  \\\\\n",
       "\\textbf{Date:}                   & Sun, 14 Sep 2025 & \\textbf{  AIC                } & 59154.859   \\\\\n",
       "\\textbf{Time:}                   &     13:41:35     & \\textbf{  BIC                } & 59185.268   \\\\\n",
       "\\textbf{Sample:}                 &    01-05-2010    & \\textbf{  HQIC               } & 59165.755   \\\\\n",
       "\\textbf{}                        &   - 05-30-2022   & \\textbf{                     } &             \\\\\n",
       "\\textbf{Covariance Type:}        &       opg        & \\textbf{                     } &             \\\\\n",
       "\\bottomrule\n",
       "\\end{tabular}\n",
       "\\begin{tabular}{lcccccc}\n",
       "                & \\textbf{coef} & \\textbf{std err} & \\textbf{z} & \\textbf{P$> |$z$|$} & \\textbf{[0.025} & \\textbf{0.975]}  \\\\\n",
       "\\midrule\n",
       "\\textbf{const}  &    1.981e+04  &      259.458     &    76.369  &         0.000        &     1.93e+04    &     2.03e+04     \\\\\n",
       "\\textbf{ma.L1}  &       2.2427  &        0.015     &   154.619  &         0.000        &        2.214    &        2.271     \\\\\n",
       "\\textbf{ma.L2}  &       2.2207  &        0.033     &    67.453  &         0.000        &        2.156    &        2.285     \\\\\n",
       "\\textbf{ma.L3}  &       0.9299  &        0.019     &    47.724  &         0.000        &        0.892    &        0.968     \\\\\n",
       "\\textbf{sigma2} &    5.067e+06  &        0.126     &  4.03e+07  &         0.000        &     5.07e+06    &     5.07e+06     \\\\\n",
       "\\bottomrule\n",
       "\\end{tabular}\n",
       "\\begin{tabular}{lclc}\n",
       "\\textbf{Ljung-Box (L1) (Q):}     & 16.13 & \\textbf{  Jarque-Bera (JB):  } & 122.27  \\\\\n",
       "\\textbf{Prob(Q):}                &  0.00 & \\textbf{  Prob(JB):          } &  0.00   \\\\\n",
       "\\textbf{Heteroskedasticity (H):} &  1.78 & \\textbf{  Skew:              } &  0.43   \\\\\n",
       "\\textbf{Prob(H) (two-sided):}    &  0.00 & \\textbf{  Kurtosis:          } &  3.42   \\\\\n",
       "\\bottomrule\n",
       "\\end{tabular}\n",
       "%\\caption{SARIMAX Results}\n",
       "\\end{center}\n",
       "\n",
       "Warnings: \\newline\n",
       " [1] Covariance matrix calculated using the outer product of gradients (complex-step). \\newline\n",
       " [2] Covariance matrix is singular or near-singular, with condition number 1.45e+22. Standard errors may be unstable."
      ],
      "text/plain": [
       "<class 'statsmodels.iolib.summary.Summary'>\n",
       "\"\"\"\n",
       "                               SARIMAX Results                                \n",
       "==============================================================================\n",
       "Dep. Variable:           Market_value   No. Observations:                 3235\n",
       "Model:                 ARIMA(0, 0, 3)   Log Likelihood              -29572.430\n",
       "Date:                Sun, 14 Sep 2025   AIC                          59154.859\n",
       "Time:                        13:41:35   BIC                          59185.268\n",
       "Sample:                    01-05-2010   HQIC                         59165.755\n",
       "                         - 05-30-2022                                         \n",
       "Covariance Type:                  opg                                         \n",
       "==============================================================================\n",
       "                 coef    std err          z      P>|z|      [0.025      0.975]\n",
       "------------------------------------------------------------------------------\n",
       "const       1.981e+04    259.458     76.369      0.000    1.93e+04    2.03e+04\n",
       "ma.L1          2.2427      0.015    154.619      0.000       2.214       2.271\n",
       "ma.L2          2.2207      0.033     67.453      0.000       2.156       2.285\n",
       "ma.L3          0.9299      0.019     47.724      0.000       0.892       0.968\n",
       "sigma2      5.067e+06      0.126   4.03e+07      0.000    5.07e+06    5.07e+06\n",
       "===================================================================================\n",
       "Ljung-Box (L1) (Q):                  16.13   Jarque-Bera (JB):               122.27\n",
       "Prob(Q):                              0.00   Prob(JB):                         0.00\n",
       "Heteroskedasticity (H):               1.78   Skew:                             0.43\n",
       "Prob(H) (two-sided):                  0.00   Kurtosis:                         3.42\n",
       "===================================================================================\n",
       "\n",
       "Warnings:\n",
       "[1] Covariance matrix calculated using the outer product of gradients (complex-step).\n",
       "[2] Covariance matrix is singular or near-singular, with condition number 1.45e+22. Standard errors may be unstable.\n",
       "\"\"\""
      ]
     },
     "execution_count": 29,
     "metadata": {},
     "output_type": "execute_result"
    }
   ],
   "source": [
    "model_ma3 = ARIMA(df.Market_value, order=(0,0,3))\n",
    "result_ma3=model_ma3.fit()\n",
    "result_ma3.summary()"
   ]
  },
  {
   "cell_type": "code",
   "execution_count": 30,
   "id": "eaae5773",
   "metadata": {},
   "outputs": [
    {
     "data": {
      "text/html": [
       "<table class=\"simpletable\">\n",
       "<caption>SARIMAX Results</caption>\n",
       "<tr>\n",
       "  <th>Dep. Variable:</th>     <td>Market_value</td>   <th>  No. Observations:  </th>    <td>3235</td>   \n",
       "</tr>\n",
       "<tr>\n",
       "  <th>Model:</th>            <td>ARIMA(0, 0, 4)</td>  <th>  Log Likelihood     </th> <td>-30079.268</td>\n",
       "</tr>\n",
       "<tr>\n",
       "  <th>Date:</th>            <td>Sun, 14 Sep 2025</td> <th>  AIC                </th>  <td>60170.536</td>\n",
       "</tr>\n",
       "<tr>\n",
       "  <th>Time:</th>                <td>13:41:39</td>     <th>  BIC                </th>  <td>60207.027</td>\n",
       "</tr>\n",
       "<tr>\n",
       "  <th>Sample:</th>             <td>01-05-2010</td>    <th>  HQIC               </th>  <td>60183.611</td>\n",
       "</tr>\n",
       "<tr>\n",
       "  <th></th>                   <td>- 05-30-2022</td>   <th>                     </th>      <td> </td>    \n",
       "</tr>\n",
       "<tr>\n",
       "  <th>Covariance Type:</th>        <td>opg</td>       <th>                     </th>      <td> </td>    \n",
       "</tr>\n",
       "</table>\n",
       "<table class=\"simpletable\">\n",
       "<tr>\n",
       "     <td></td>       <th>coef</th>     <th>std err</th>      <th>z</th>      <th>P>|z|</th>  <th>[0.025</th>    <th>0.975]</th>  \n",
       "</tr>\n",
       "<tr>\n",
       "  <th>const</th>  <td> 1.981e+04</td> <td>  173.851</td> <td>  113.973</td> <td> 0.000</td> <td> 1.95e+04</td> <td> 2.02e+04</td>\n",
       "</tr>\n",
       "<tr>\n",
       "  <th>ma.L1</th>  <td>    0.8337</td> <td>    0.005</td> <td>  156.249</td> <td> 0.000</td> <td>    0.823</td> <td>    0.844</td>\n",
       "</tr>\n",
       "<tr>\n",
       "  <th>ma.L2</th>  <td>   -0.0521</td> <td>    0.002</td> <td>  -32.992</td> <td> 0.000</td> <td>   -0.055</td> <td>   -0.049</td>\n",
       "</tr>\n",
       "<tr>\n",
       "  <th>ma.L3</th>  <td>    0.9025</td> <td>    0.002</td> <td>  552.126</td> <td> 0.000</td> <td>    0.899</td> <td>    0.906</td>\n",
       "</tr>\n",
       "<tr>\n",
       "  <th>ma.L4</th>  <td>    0.9277</td> <td>    0.005</td> <td>  174.145</td> <td> 0.000</td> <td>    0.917</td> <td>    0.938</td>\n",
       "</tr>\n",
       "<tr>\n",
       "  <th>sigma2</th> <td> 7.147e+06</td> <td>    0.066</td> <td> 1.08e+08</td> <td> 0.000</td> <td> 7.15e+06</td> <td> 7.15e+06</td>\n",
       "</tr>\n",
       "</table>\n",
       "<table class=\"simpletable\">\n",
       "<tr>\n",
       "  <th>Ljung-Box (L1) (Q):</th>     <td>2273.73</td> <th>  Jarque-Bera (JB):  </th> <td>230.43</td>\n",
       "</tr>\n",
       "<tr>\n",
       "  <th>Prob(Q):</th>                 <td>0.00</td>   <th>  Prob(JB):          </th>  <td>0.00</td> \n",
       "</tr>\n",
       "<tr>\n",
       "  <th>Heteroskedasticity (H):</th>  <td>1.70</td>   <th>  Skew:              </th>  <td>0.64</td> \n",
       "</tr>\n",
       "<tr>\n",
       "  <th>Prob(H) (two-sided):</th>     <td>0.00</td>   <th>  Kurtosis:          </th>  <td>2.78</td> \n",
       "</tr>\n",
       "</table><br/><br/>Warnings:<br/>[1] Covariance matrix calculated using the outer product of gradients (complex-step).<br/>[2] Covariance matrix is singular or near-singular, with condition number 1.6e+23. Standard errors may be unstable."
      ],
      "text/latex": [
       "\\begin{center}\n",
       "\\begin{tabular}{lclc}\n",
       "\\toprule\n",
       "\\textbf{Dep. Variable:}          &  Market\\_value   & \\textbf{  No. Observations:  } &    3235     \\\\\n",
       "\\textbf{Model:}                  &  ARIMA(0, 0, 4)  & \\textbf{  Log Likelihood     } & -30079.268  \\\\\n",
       "\\textbf{Date:}                   & Sun, 14 Sep 2025 & \\textbf{  AIC                } & 60170.536   \\\\\n",
       "\\textbf{Time:}                   &     13:41:39     & \\textbf{  BIC                } & 60207.027   \\\\\n",
       "\\textbf{Sample:}                 &    01-05-2010    & \\textbf{  HQIC               } & 60183.611   \\\\\n",
       "\\textbf{}                        &   - 05-30-2022   & \\textbf{                     } &             \\\\\n",
       "\\textbf{Covariance Type:}        &       opg        & \\textbf{                     } &             \\\\\n",
       "\\bottomrule\n",
       "\\end{tabular}\n",
       "\\begin{tabular}{lcccccc}\n",
       "                & \\textbf{coef} & \\textbf{std err} & \\textbf{z} & \\textbf{P$> |$z$|$} & \\textbf{[0.025} & \\textbf{0.975]}  \\\\\n",
       "\\midrule\n",
       "\\textbf{const}  &    1.981e+04  &      173.851     &   113.973  &         0.000        &     1.95e+04    &     2.02e+04     \\\\\n",
       "\\textbf{ma.L1}  &       0.8337  &        0.005     &   156.249  &         0.000        &        0.823    &        0.844     \\\\\n",
       "\\textbf{ma.L2}  &      -0.0521  &        0.002     &   -32.992  &         0.000        &       -0.055    &       -0.049     \\\\\n",
       "\\textbf{ma.L3}  &       0.9025  &        0.002     &   552.126  &         0.000        &        0.899    &        0.906     \\\\\n",
       "\\textbf{ma.L4}  &       0.9277  &        0.005     &   174.145  &         0.000        &        0.917    &        0.938     \\\\\n",
       "\\textbf{sigma2} &    7.147e+06  &        0.066     &  1.08e+08  &         0.000        &     7.15e+06    &     7.15e+06     \\\\\n",
       "\\bottomrule\n",
       "\\end{tabular}\n",
       "\\begin{tabular}{lclc}\n",
       "\\textbf{Ljung-Box (L1) (Q):}     & 2273.73 & \\textbf{  Jarque-Bera (JB):  } & 230.43  \\\\\n",
       "\\textbf{Prob(Q):}                &   0.00  & \\textbf{  Prob(JB):          } &  0.00   \\\\\n",
       "\\textbf{Heteroskedasticity (H):} &   1.70  & \\textbf{  Skew:              } &  0.64   \\\\\n",
       "\\textbf{Prob(H) (two-sided):}    &   0.00  & \\textbf{  Kurtosis:          } &  2.78   \\\\\n",
       "\\bottomrule\n",
       "\\end{tabular}\n",
       "%\\caption{SARIMAX Results}\n",
       "\\end{center}\n",
       "\n",
       "Warnings: \\newline\n",
       " [1] Covariance matrix calculated using the outer product of gradients (complex-step). \\newline\n",
       " [2] Covariance matrix is singular or near-singular, with condition number 1.6e+23. Standard errors may be unstable."
      ],
      "text/plain": [
       "<class 'statsmodels.iolib.summary.Summary'>\n",
       "\"\"\"\n",
       "                               SARIMAX Results                                \n",
       "==============================================================================\n",
       "Dep. Variable:           Market_value   No. Observations:                 3235\n",
       "Model:                 ARIMA(0, 0, 4)   Log Likelihood              -30079.268\n",
       "Date:                Sun, 14 Sep 2025   AIC                          60170.536\n",
       "Time:                        13:41:39   BIC                          60207.027\n",
       "Sample:                    01-05-2010   HQIC                         60183.611\n",
       "                         - 05-30-2022                                         \n",
       "Covariance Type:                  opg                                         \n",
       "==============================================================================\n",
       "                 coef    std err          z      P>|z|      [0.025      0.975]\n",
       "------------------------------------------------------------------------------\n",
       "const       1.981e+04    173.851    113.973      0.000    1.95e+04    2.02e+04\n",
       "ma.L1          0.8337      0.005    156.249      0.000       0.823       0.844\n",
       "ma.L2         -0.0521      0.002    -32.992      0.000      -0.055      -0.049\n",
       "ma.L3          0.9025      0.002    552.126      0.000       0.899       0.906\n",
       "ma.L4          0.9277      0.005    174.145      0.000       0.917       0.938\n",
       "sigma2      7.147e+06      0.066   1.08e+08      0.000    7.15e+06    7.15e+06\n",
       "===================================================================================\n",
       "Ljung-Box (L1) (Q):                2273.73   Jarque-Bera (JB):               230.43\n",
       "Prob(Q):                              0.00   Prob(JB):                         0.00\n",
       "Heteroskedasticity (H):               1.70   Skew:                             0.64\n",
       "Prob(H) (two-sided):                  0.00   Kurtosis:                         2.78\n",
       "===================================================================================\n",
       "\n",
       "Warnings:\n",
       "[1] Covariance matrix calculated using the outer product of gradients (complex-step).\n",
       "[2] Covariance matrix is singular or near-singular, with condition number 1.6e+23. Standard errors may be unstable.\n",
       "\"\"\""
      ]
     },
     "execution_count": 30,
     "metadata": {},
     "output_type": "execute_result"
    }
   ],
   "source": [
    "model_ma4 = ARIMA(df.Market_value, order=(0,0,4))\n",
    "result_ma4=model_ma4.fit()\n",
    "result_ma4.summary()"
   ]
  },
  {
   "cell_type": "code",
   "execution_count": 31,
   "id": "40102096",
   "metadata": {},
   "outputs": [
    {
     "data": {
      "text/html": [
       "<table class=\"simpletable\">\n",
       "<caption>SARIMAX Results</caption>\n",
       "<tr>\n",
       "  <th>Dep. Variable:</th>     <td>Market_value</td>   <th>  No. Observations:  </th>    <td>3235</td>   \n",
       "</tr>\n",
       "<tr>\n",
       "  <th>Model:</th>            <td>ARIMA(0, 0, 5)</td>  <th>  Log Likelihood     </th> <td>-26791.388</td>\n",
       "</tr>\n",
       "<tr>\n",
       "  <th>Date:</th>            <td>Sun, 14 Sep 2025</td> <th>  AIC                </th>  <td>53596.776</td>\n",
       "</tr>\n",
       "<tr>\n",
       "  <th>Time:</th>                <td>13:41:44</td>     <th>  BIC                </th>  <td>53639.348</td>\n",
       "</tr>\n",
       "<tr>\n",
       "  <th>Sample:</th>             <td>01-05-2010</td>    <th>  HQIC               </th>  <td>53612.031</td>\n",
       "</tr>\n",
       "<tr>\n",
       "  <th></th>                   <td>- 05-30-2022</td>   <th>                     </th>      <td> </td>    \n",
       "</tr>\n",
       "<tr>\n",
       "  <th>Covariance Type:</th>        <td>opg</td>       <th>                     </th>      <td> </td>    \n",
       "</tr>\n",
       "</table>\n",
       "<table class=\"simpletable\">\n",
       "<tr>\n",
       "     <td></td>       <th>coef</th>     <th>std err</th>      <th>z</th>      <th>P>|z|</th>  <th>[0.025</th>    <th>0.975]</th>  \n",
       "</tr>\n",
       "<tr>\n",
       "  <th>const</th>  <td> 1.981e+04</td> <td>  219.548</td> <td>   90.251</td> <td> 0.000</td> <td> 1.94e+04</td> <td> 2.02e+04</td>\n",
       "</tr>\n",
       "<tr>\n",
       "  <th>ma.L1</th>  <td>    2.2649</td> <td>    0.011</td> <td>  212.660</td> <td> 0.000</td> <td>    2.244</td> <td>    2.286</td>\n",
       "</tr>\n",
       "<tr>\n",
       "  <th>ma.L2</th>  <td>    3.1163</td> <td>    0.023</td> <td>  136.914</td> <td> 0.000</td> <td>    3.072</td> <td>    3.161</td>\n",
       "</tr>\n",
       "<tr>\n",
       "  <th>ma.L3</th>  <td>    2.8849</td> <td>    0.029</td> <td>  100.318</td> <td> 0.000</td> <td>    2.829</td> <td>    2.941</td>\n",
       "</tr>\n",
       "<tr>\n",
       "  <th>ma.L4</th>  <td>    1.7908</td> <td>    0.023</td> <td>   79.584</td> <td> 0.000</td> <td>    1.747</td> <td>    1.835</td>\n",
       "</tr>\n",
       "<tr>\n",
       "  <th>ma.L5</th>  <td>    0.6434</td> <td>    0.010</td> <td>   62.214</td> <td> 0.000</td> <td>    0.623</td> <td>    0.664</td>\n",
       "</tr>\n",
       "<tr>\n",
       "  <th>sigma2</th> <td> 9.106e+05</td> <td> 2.06e+04</td> <td>   44.161</td> <td> 0.000</td> <td>  8.7e+05</td> <td> 9.51e+05</td>\n",
       "</tr>\n",
       "</table>\n",
       "<table class=\"simpletable\">\n",
       "<tr>\n",
       "  <th>Ljung-Box (L1) (Q):</th>     <td>467.50</td> <th>  Jarque-Bera (JB):  </th> <td>731.11</td>\n",
       "</tr>\n",
       "<tr>\n",
       "  <th>Prob(Q):</th>                 <td>0.00</td>  <th>  Prob(JB):          </th>  <td>0.00</td> \n",
       "</tr>\n",
       "<tr>\n",
       "  <th>Heteroskedasticity (H):</th>  <td>2.32</td>  <th>  Skew:              </th>  <td>0.78</td> \n",
       "</tr>\n",
       "<tr>\n",
       "  <th>Prob(H) (two-sided):</th>     <td>0.00</td>  <th>  Kurtosis:          </th>  <td>4.73</td> \n",
       "</tr>\n",
       "</table><br/><br/>Warnings:<br/>[1] Covariance matrix calculated using the outer product of gradients (complex-step)."
      ],
      "text/latex": [
       "\\begin{center}\n",
       "\\begin{tabular}{lclc}\n",
       "\\toprule\n",
       "\\textbf{Dep. Variable:}          &  Market\\_value   & \\textbf{  No. Observations:  } &    3235     \\\\\n",
       "\\textbf{Model:}                  &  ARIMA(0, 0, 5)  & \\textbf{  Log Likelihood     } & -26791.388  \\\\\n",
       "\\textbf{Date:}                   & Sun, 14 Sep 2025 & \\textbf{  AIC                } & 53596.776   \\\\\n",
       "\\textbf{Time:}                   &     13:41:44     & \\textbf{  BIC                } & 53639.348   \\\\\n",
       "\\textbf{Sample:}                 &    01-05-2010    & \\textbf{  HQIC               } & 53612.031   \\\\\n",
       "\\textbf{}                        &   - 05-30-2022   & \\textbf{                     } &             \\\\\n",
       "\\textbf{Covariance Type:}        &       opg        & \\textbf{                     } &             \\\\\n",
       "\\bottomrule\n",
       "\\end{tabular}\n",
       "\\begin{tabular}{lcccccc}\n",
       "                & \\textbf{coef} & \\textbf{std err} & \\textbf{z} & \\textbf{P$> |$z$|$} & \\textbf{[0.025} & \\textbf{0.975]}  \\\\\n",
       "\\midrule\n",
       "\\textbf{const}  &    1.981e+04  &      219.548     &    90.251  &         0.000        &     1.94e+04    &     2.02e+04     \\\\\n",
       "\\textbf{ma.L1}  &       2.2649  &        0.011     &   212.660  &         0.000        &        2.244    &        2.286     \\\\\n",
       "\\textbf{ma.L2}  &       3.1163  &        0.023     &   136.914  &         0.000        &        3.072    &        3.161     \\\\\n",
       "\\textbf{ma.L3}  &       2.8849  &        0.029     &   100.318  &         0.000        &        2.829    &        2.941     \\\\\n",
       "\\textbf{ma.L4}  &       1.7908  &        0.023     &    79.584  &         0.000        &        1.747    &        1.835     \\\\\n",
       "\\textbf{ma.L5}  &       0.6434  &        0.010     &    62.214  &         0.000        &        0.623    &        0.664     \\\\\n",
       "\\textbf{sigma2} &    9.106e+05  &     2.06e+04     &    44.161  &         0.000        &      8.7e+05    &     9.51e+05     \\\\\n",
       "\\bottomrule\n",
       "\\end{tabular}\n",
       "\\begin{tabular}{lclc}\n",
       "\\textbf{Ljung-Box (L1) (Q):}     & 467.50 & \\textbf{  Jarque-Bera (JB):  } & 731.11  \\\\\n",
       "\\textbf{Prob(Q):}                &  0.00  & \\textbf{  Prob(JB):          } &  0.00   \\\\\n",
       "\\textbf{Heteroskedasticity (H):} &  2.32  & \\textbf{  Skew:              } &  0.78   \\\\\n",
       "\\textbf{Prob(H) (two-sided):}    &  0.00  & \\textbf{  Kurtosis:          } &  4.73   \\\\\n",
       "\\bottomrule\n",
       "\\end{tabular}\n",
       "%\\caption{SARIMAX Results}\n",
       "\\end{center}\n",
       "\n",
       "Warnings: \\newline\n",
       " [1] Covariance matrix calculated using the outer product of gradients (complex-step)."
      ],
      "text/plain": [
       "<class 'statsmodels.iolib.summary.Summary'>\n",
       "\"\"\"\n",
       "                               SARIMAX Results                                \n",
       "==============================================================================\n",
       "Dep. Variable:           Market_value   No. Observations:                 3235\n",
       "Model:                 ARIMA(0, 0, 5)   Log Likelihood              -26791.388\n",
       "Date:                Sun, 14 Sep 2025   AIC                          53596.776\n",
       "Time:                        13:41:44   BIC                          53639.348\n",
       "Sample:                    01-05-2010   HQIC                         53612.031\n",
       "                         - 05-30-2022                                         \n",
       "Covariance Type:                  opg                                         \n",
       "==============================================================================\n",
       "                 coef    std err          z      P>|z|      [0.025      0.975]\n",
       "------------------------------------------------------------------------------\n",
       "const       1.981e+04    219.548     90.251      0.000    1.94e+04    2.02e+04\n",
       "ma.L1          2.2649      0.011    212.660      0.000       2.244       2.286\n",
       "ma.L2          3.1163      0.023    136.914      0.000       3.072       3.161\n",
       "ma.L3          2.8849      0.029    100.318      0.000       2.829       2.941\n",
       "ma.L4          1.7908      0.023     79.584      0.000       1.747       1.835\n",
       "ma.L5          0.6434      0.010     62.214      0.000       0.623       0.664\n",
       "sigma2      9.106e+05   2.06e+04     44.161      0.000     8.7e+05    9.51e+05\n",
       "===================================================================================\n",
       "Ljung-Box (L1) (Q):                 467.50   Jarque-Bera (JB):               731.11\n",
       "Prob(Q):                              0.00   Prob(JB):                         0.00\n",
       "Heteroskedasticity (H):               2.32   Skew:                             0.78\n",
       "Prob(H) (two-sided):                  0.00   Kurtosis:                         4.73\n",
       "===================================================================================\n",
       "\n",
       "Warnings:\n",
       "[1] Covariance matrix calculated using the outer product of gradients (complex-step).\n",
       "\"\"\""
      ]
     },
     "execution_count": 31,
     "metadata": {},
     "output_type": "execute_result"
    }
   ],
   "source": [
    "model_ma5 = ARIMA(df.Market_value, order=(0,0,5))\n",
    "result_ma5=model_ma5.fit()\n",
    "result_ma5.summary()"
   ]
  },
  {
   "cell_type": "code",
   "execution_count": 32,
   "id": "1f132706",
   "metadata": {},
   "outputs": [
    {
     "data": {
      "text/html": [
       "<table class=\"simpletable\">\n",
       "<caption>SARIMAX Results</caption>\n",
       "<tr>\n",
       "  <th>Dep. Variable:</th>     <td>Market_value</td>   <th>  No. Observations:  </th>    <td>3235</td>   \n",
       "</tr>\n",
       "<tr>\n",
       "  <th>Model:</th>            <td>ARIMA(0, 0, 6)</td>  <th>  Log Likelihood     </th> <td>-32253.886</td>\n",
       "</tr>\n",
       "<tr>\n",
       "  <th>Date:</th>            <td>Sun, 14 Sep 2025</td> <th>  AIC                </th>  <td>64523.773</td>\n",
       "</tr>\n",
       "<tr>\n",
       "  <th>Time:</th>                <td>13:41:46</td>     <th>  BIC                </th>  <td>64572.427</td>\n",
       "</tr>\n",
       "<tr>\n",
       "  <th>Sample:</th>             <td>01-05-2010</td>    <th>  HQIC               </th>  <td>64541.207</td>\n",
       "</tr>\n",
       "<tr>\n",
       "  <th></th>                   <td>- 05-30-2022</td>   <th>                     </th>      <td> </td>    \n",
       "</tr>\n",
       "<tr>\n",
       "  <th>Covariance Type:</th>        <td>opg</td>       <th>                     </th>      <td> </td>    \n",
       "</tr>\n",
       "</table>\n",
       "<table class=\"simpletable\">\n",
       "<tr>\n",
       "     <td></td>       <th>coef</th>     <th>std err</th>      <th>z</th>      <th>P>|z|</th>  <th>[0.025</th>    <th>0.975]</th>  \n",
       "</tr>\n",
       "<tr>\n",
       "  <th>const</th>  <td> 1.981e+04</td> <td> 7420.720</td> <td>    2.670</td> <td> 0.008</td> <td> 5270.064</td> <td> 3.44e+04</td>\n",
       "</tr>\n",
       "<tr>\n",
       "  <th>ma.L1</th>  <td>    1.6933</td> <td>    0.303</td> <td>    5.594</td> <td> 0.000</td> <td>    1.100</td> <td>    2.287</td>\n",
       "</tr>\n",
       "<tr>\n",
       "  <th>ma.L2</th>  <td>    2.3421</td> <td>    0.455</td> <td>    5.145</td> <td> 0.000</td> <td>    1.450</td> <td>    3.234</td>\n",
       "</tr>\n",
       "<tr>\n",
       "  <th>ma.L3</th>  <td>    2.6684</td> <td>    0.704</td> <td>    3.788</td> <td> 0.000</td> <td>    1.288</td> <td>    4.049</td>\n",
       "</tr>\n",
       "<tr>\n",
       "  <th>ma.L4</th>  <td>    1.6651</td> <td>    0.703</td> <td>    2.369</td> <td> 0.018</td> <td>    0.288</td> <td>    3.042</td>\n",
       "</tr>\n",
       "<tr>\n",
       "  <th>ma.L5</th>  <td>    1.0281</td> <td>    0.433</td> <td>    2.376</td> <td> 0.018</td> <td>    0.180</td> <td>    1.876</td>\n",
       "</tr>\n",
       "<tr>\n",
       "  <th>ma.L6</th>  <td>    0.3926</td> <td>    0.291</td> <td>    1.349</td> <td> 0.177</td> <td>   -0.178</td> <td>    0.963</td>\n",
       "</tr>\n",
       "<tr>\n",
       "  <th>sigma2</th> <td>   6.9e+07</td> <td>    1.712</td> <td> 4.03e+07</td> <td> 0.000</td> <td>  6.9e+07</td> <td>  6.9e+07</td>\n",
       "</tr>\n",
       "</table>\n",
       "<table class=\"simpletable\">\n",
       "<tr>\n",
       "  <th>Ljung-Box (L1) (Q):</th>     <td>115.98</td> <th>  Jarque-Bera (JB):  </th> <td>735.65</td>\n",
       "</tr>\n",
       "<tr>\n",
       "  <th>Prob(Q):</th>                 <td>0.00</td>  <th>  Prob(JB):          </th>  <td>0.00</td> \n",
       "</tr>\n",
       "<tr>\n",
       "  <th>Heteroskedasticity (H):</th>  <td>4.62</td>  <th>  Skew:              </th>  <td>0.71</td> \n",
       "</tr>\n",
       "<tr>\n",
       "  <th>Prob(H) (two-sided):</th>     <td>0.00</td>  <th>  Kurtosis:          </th>  <td>4.85</td> \n",
       "</tr>\n",
       "</table><br/><br/>Warnings:<br/>[1] Covariance matrix calculated using the outer product of gradients (complex-step).<br/>[2] Covariance matrix is singular or near-singular, with condition number 5.44e+22. Standard errors may be unstable."
      ],
      "text/latex": [
       "\\begin{center}\n",
       "\\begin{tabular}{lclc}\n",
       "\\toprule\n",
       "\\textbf{Dep. Variable:}          &  Market\\_value   & \\textbf{  No. Observations:  } &    3235     \\\\\n",
       "\\textbf{Model:}                  &  ARIMA(0, 0, 6)  & \\textbf{  Log Likelihood     } & -32253.886  \\\\\n",
       "\\textbf{Date:}                   & Sun, 14 Sep 2025 & \\textbf{  AIC                } & 64523.773   \\\\\n",
       "\\textbf{Time:}                   &     13:41:46     & \\textbf{  BIC                } & 64572.427   \\\\\n",
       "\\textbf{Sample:}                 &    01-05-2010    & \\textbf{  HQIC               } & 64541.207   \\\\\n",
       "\\textbf{}                        &   - 05-30-2022   & \\textbf{                     } &             \\\\\n",
       "\\textbf{Covariance Type:}        &       opg        & \\textbf{                     } &             \\\\\n",
       "\\bottomrule\n",
       "\\end{tabular}\n",
       "\\begin{tabular}{lcccccc}\n",
       "                & \\textbf{coef} & \\textbf{std err} & \\textbf{z} & \\textbf{P$> |$z$|$} & \\textbf{[0.025} & \\textbf{0.975]}  \\\\\n",
       "\\midrule\n",
       "\\textbf{const}  &    1.981e+04  &     7420.720     &     2.670  &         0.008        &     5270.064    &     3.44e+04     \\\\\n",
       "\\textbf{ma.L1}  &       1.6933  &        0.303     &     5.594  &         0.000        &        1.100    &        2.287     \\\\\n",
       "\\textbf{ma.L2}  &       2.3421  &        0.455     &     5.145  &         0.000        &        1.450    &        3.234     \\\\\n",
       "\\textbf{ma.L3}  &       2.6684  &        0.704     &     3.788  &         0.000        &        1.288    &        4.049     \\\\\n",
       "\\textbf{ma.L4}  &       1.6651  &        0.703     &     2.369  &         0.018        &        0.288    &        3.042     \\\\\n",
       "\\textbf{ma.L5}  &       1.0281  &        0.433     &     2.376  &         0.018        &        0.180    &        1.876     \\\\\n",
       "\\textbf{ma.L6}  &       0.3926  &        0.291     &     1.349  &         0.177        &       -0.178    &        0.963     \\\\\n",
       "\\textbf{sigma2} &      6.9e+07  &        1.712     &  4.03e+07  &         0.000        &      6.9e+07    &      6.9e+07     \\\\\n",
       "\\bottomrule\n",
       "\\end{tabular}\n",
       "\\begin{tabular}{lclc}\n",
       "\\textbf{Ljung-Box (L1) (Q):}     & 115.98 & \\textbf{  Jarque-Bera (JB):  } & 735.65  \\\\\n",
       "\\textbf{Prob(Q):}                &  0.00  & \\textbf{  Prob(JB):          } &  0.00   \\\\\n",
       "\\textbf{Heteroskedasticity (H):} &  4.62  & \\textbf{  Skew:              } &  0.71   \\\\\n",
       "\\textbf{Prob(H) (two-sided):}    &  0.00  & \\textbf{  Kurtosis:          } &  4.85   \\\\\n",
       "\\bottomrule\n",
       "\\end{tabular}\n",
       "%\\caption{SARIMAX Results}\n",
       "\\end{center}\n",
       "\n",
       "Warnings: \\newline\n",
       " [1] Covariance matrix calculated using the outer product of gradients (complex-step). \\newline\n",
       " [2] Covariance matrix is singular or near-singular, with condition number 5.44e+22. Standard errors may be unstable."
      ],
      "text/plain": [
       "<class 'statsmodels.iolib.summary.Summary'>\n",
       "\"\"\"\n",
       "                               SARIMAX Results                                \n",
       "==============================================================================\n",
       "Dep. Variable:           Market_value   No. Observations:                 3235\n",
       "Model:                 ARIMA(0, 0, 6)   Log Likelihood              -32253.886\n",
       "Date:                Sun, 14 Sep 2025   AIC                          64523.773\n",
       "Time:                        13:41:46   BIC                          64572.427\n",
       "Sample:                    01-05-2010   HQIC                         64541.207\n",
       "                         - 05-30-2022                                         \n",
       "Covariance Type:                  opg                                         \n",
       "==============================================================================\n",
       "                 coef    std err          z      P>|z|      [0.025      0.975]\n",
       "------------------------------------------------------------------------------\n",
       "const       1.981e+04   7420.720      2.670      0.008    5270.064    3.44e+04\n",
       "ma.L1          1.6933      0.303      5.594      0.000       1.100       2.287\n",
       "ma.L2          2.3421      0.455      5.145      0.000       1.450       3.234\n",
       "ma.L3          2.6684      0.704      3.788      0.000       1.288       4.049\n",
       "ma.L4          1.6651      0.703      2.369      0.018       0.288       3.042\n",
       "ma.L5          1.0281      0.433      2.376      0.018       0.180       1.876\n",
       "ma.L6          0.3926      0.291      1.349      0.177      -0.178       0.963\n",
       "sigma2        6.9e+07      1.712   4.03e+07      0.000     6.9e+07     6.9e+07\n",
       "===================================================================================\n",
       "Ljung-Box (L1) (Q):                 115.98   Jarque-Bera (JB):               735.65\n",
       "Prob(Q):                              0.00   Prob(JB):                         0.00\n",
       "Heteroskedasticity (H):               4.62   Skew:                             0.71\n",
       "Prob(H) (two-sided):                  0.00   Kurtosis:                         4.85\n",
       "===================================================================================\n",
       "\n",
       "Warnings:\n",
       "[1] Covariance matrix calculated using the outer product of gradients (complex-step).\n",
       "[2] Covariance matrix is singular or near-singular, with condition number 5.44e+22. Standard errors may be unstable.\n",
       "\"\"\""
      ]
     },
     "execution_count": 32,
     "metadata": {},
     "output_type": "execute_result"
    }
   ],
   "source": [
    "model_ma6 = ARIMA(df.Market_value, order=(0,0,6))\n",
    "result_ma6=model_ma6.fit()\n",
    "result_ma6.summary()"
   ]
  },
  {
   "cell_type": "code",
   "execution_count": 33,
   "id": "8293eed1",
   "metadata": {},
   "outputs": [
    {
     "data": {
      "text/html": [
       "<table class=\"simpletable\">\n",
       "<caption>SARIMAX Results</caption>\n",
       "<tr>\n",
       "  <th>Dep. Variable:</th>     <td>Market_value</td>   <th>  No. Observations:  </th>    <td>3235</td>   \n",
       "</tr>\n",
       "<tr>\n",
       "  <th>Model:</th>            <td>ARIMA(0, 0, 7)</td>  <th>  Log Likelihood     </th> <td>-32082.868</td>\n",
       "</tr>\n",
       "<tr>\n",
       "  <th>Date:</th>            <td>Sun, 14 Sep 2025</td> <th>  AIC                </th>  <td>64183.736</td>\n",
       "</tr>\n",
       "<tr>\n",
       "  <th>Time:</th>                <td>13:41:53</td>     <th>  BIC                </th>  <td>64238.472</td>\n",
       "</tr>\n",
       "<tr>\n",
       "  <th>Sample:</th>             <td>01-05-2010</td>    <th>  HQIC               </th>  <td>64203.349</td>\n",
       "</tr>\n",
       "<tr>\n",
       "  <th></th>                   <td>- 05-30-2022</td>   <th>                     </th>      <td> </td>    \n",
       "</tr>\n",
       "<tr>\n",
       "  <th>Covariance Type:</th>        <td>opg</td>       <th>                     </th>      <td> </td>    \n",
       "</tr>\n",
       "</table>\n",
       "<table class=\"simpletable\">\n",
       "<tr>\n",
       "     <td></td>       <th>coef</th>     <th>std err</th>      <th>z</th>      <th>P>|z|</th>  <th>[0.025</th>    <th>0.975]</th>  \n",
       "</tr>\n",
       "<tr>\n",
       "  <th>const</th>  <td> 1.981e+04</td> <td> 3004.837</td> <td>    6.594</td> <td> 0.000</td> <td> 1.39e+04</td> <td> 2.57e+04</td>\n",
       "</tr>\n",
       "<tr>\n",
       "  <th>ma.L1</th>  <td>    1.4382</td> <td>    0.191</td> <td>    7.518</td> <td> 0.000</td> <td>    1.063</td> <td>    1.813</td>\n",
       "</tr>\n",
       "<tr>\n",
       "  <th>ma.L2</th>  <td>    1.3387</td> <td>    0.351</td> <td>    3.819</td> <td> 0.000</td> <td>    0.652</td> <td>    2.026</td>\n",
       "</tr>\n",
       "<tr>\n",
       "  <th>ma.L3</th>  <td>    1.8324</td> <td>    0.472</td> <td>    3.884</td> <td> 0.000</td> <td>    0.908</td> <td>    2.757</td>\n",
       "</tr>\n",
       "<tr>\n",
       "  <th>ma.L4</th>  <td>    1.0206</td> <td>    0.594</td> <td>    1.717</td> <td> 0.086</td> <td>   -0.144</td> <td>    2.185</td>\n",
       "</tr>\n",
       "<tr>\n",
       "  <th>ma.L5</th>  <td>    0.4119</td> <td>    0.467</td> <td>    0.882</td> <td> 0.378</td> <td>   -0.503</td> <td>    1.327</td>\n",
       "</tr>\n",
       "<tr>\n",
       "  <th>ma.L6</th>  <td>    0.4806</td> <td>    0.340</td> <td>    1.413</td> <td> 0.158</td> <td>   -0.186</td> <td>    1.147</td>\n",
       "</tr>\n",
       "<tr>\n",
       "  <th>ma.L7</th>  <td>    0.1521</td> <td>    0.179</td> <td>    0.850</td> <td> 0.395</td> <td>   -0.198</td> <td>    0.503</td>\n",
       "</tr>\n",
       "<tr>\n",
       "  <th>sigma2</th> <td> 5.575e+07</td> <td>    0.892</td> <td> 6.25e+07</td> <td> 0.000</td> <td> 5.58e+07</td> <td> 5.58e+07</td>\n",
       "</tr>\n",
       "</table>\n",
       "<table class=\"simpletable\">\n",
       "<tr>\n",
       "  <th>Ljung-Box (L1) (Q):</th>     <td>719.61</td> <th>  Jarque-Bera (JB):  </th> <td>319.04</td>\n",
       "</tr>\n",
       "<tr>\n",
       "  <th>Prob(Q):</th>                 <td>0.00</td>  <th>  Prob(JB):          </th>  <td>0.00</td> \n",
       "</tr>\n",
       "<tr>\n",
       "  <th>Heteroskedasticity (H):</th>  <td>6.08</td>  <th>  Skew:              </th>  <td>0.68</td> \n",
       "</tr>\n",
       "<tr>\n",
       "  <th>Prob(H) (two-sided):</th>     <td>0.00</td>  <th>  Kurtosis:          </th>  <td>3.71</td> \n",
       "</tr>\n",
       "</table><br/><br/>Warnings:<br/>[1] Covariance matrix calculated using the outer product of gradients (complex-step).<br/>[2] Covariance matrix is singular or near-singular, with condition number 3.51e+23. Standard errors may be unstable."
      ],
      "text/latex": [
       "\\begin{center}\n",
       "\\begin{tabular}{lclc}\n",
       "\\toprule\n",
       "\\textbf{Dep. Variable:}          &  Market\\_value   & \\textbf{  No. Observations:  } &    3235     \\\\\n",
       "\\textbf{Model:}                  &  ARIMA(0, 0, 7)  & \\textbf{  Log Likelihood     } & -32082.868  \\\\\n",
       "\\textbf{Date:}                   & Sun, 14 Sep 2025 & \\textbf{  AIC                } & 64183.736   \\\\\n",
       "\\textbf{Time:}                   &     13:41:53     & \\textbf{  BIC                } & 64238.472   \\\\\n",
       "\\textbf{Sample:}                 &    01-05-2010    & \\textbf{  HQIC               } & 64203.349   \\\\\n",
       "\\textbf{}                        &   - 05-30-2022   & \\textbf{                     } &             \\\\\n",
       "\\textbf{Covariance Type:}        &       opg        & \\textbf{                     } &             \\\\\n",
       "\\bottomrule\n",
       "\\end{tabular}\n",
       "\\begin{tabular}{lcccccc}\n",
       "                & \\textbf{coef} & \\textbf{std err} & \\textbf{z} & \\textbf{P$> |$z$|$} & \\textbf{[0.025} & \\textbf{0.975]}  \\\\\n",
       "\\midrule\n",
       "\\textbf{const}  &    1.981e+04  &     3004.837     &     6.594  &         0.000        &     1.39e+04    &     2.57e+04     \\\\\n",
       "\\textbf{ma.L1}  &       1.4382  &        0.191     &     7.518  &         0.000        &        1.063    &        1.813     \\\\\n",
       "\\textbf{ma.L2}  &       1.3387  &        0.351     &     3.819  &         0.000        &        0.652    &        2.026     \\\\\n",
       "\\textbf{ma.L3}  &       1.8324  &        0.472     &     3.884  &         0.000        &        0.908    &        2.757     \\\\\n",
       "\\textbf{ma.L4}  &       1.0206  &        0.594     &     1.717  &         0.086        &       -0.144    &        2.185     \\\\\n",
       "\\textbf{ma.L5}  &       0.4119  &        0.467     &     0.882  &         0.378        &       -0.503    &        1.327     \\\\\n",
       "\\textbf{ma.L6}  &       0.4806  &        0.340     &     1.413  &         0.158        &       -0.186    &        1.147     \\\\\n",
       "\\textbf{ma.L7}  &       0.1521  &        0.179     &     0.850  &         0.395        &       -0.198    &        0.503     \\\\\n",
       "\\textbf{sigma2} &    5.575e+07  &        0.892     &  6.25e+07  &         0.000        &     5.58e+07    &     5.58e+07     \\\\\n",
       "\\bottomrule\n",
       "\\end{tabular}\n",
       "\\begin{tabular}{lclc}\n",
       "\\textbf{Ljung-Box (L1) (Q):}     & 719.61 & \\textbf{  Jarque-Bera (JB):  } & 319.04  \\\\\n",
       "\\textbf{Prob(Q):}                &  0.00  & \\textbf{  Prob(JB):          } &  0.00   \\\\\n",
       "\\textbf{Heteroskedasticity (H):} &  6.08  & \\textbf{  Skew:              } &  0.68   \\\\\n",
       "\\textbf{Prob(H) (two-sided):}    &  0.00  & \\textbf{  Kurtosis:          } &  3.71   \\\\\n",
       "\\bottomrule\n",
       "\\end{tabular}\n",
       "%\\caption{SARIMAX Results}\n",
       "\\end{center}\n",
       "\n",
       "Warnings: \\newline\n",
       " [1] Covariance matrix calculated using the outer product of gradients (complex-step). \\newline\n",
       " [2] Covariance matrix is singular or near-singular, with condition number 3.51e+23. Standard errors may be unstable."
      ],
      "text/plain": [
       "<class 'statsmodels.iolib.summary.Summary'>\n",
       "\"\"\"\n",
       "                               SARIMAX Results                                \n",
       "==============================================================================\n",
       "Dep. Variable:           Market_value   No. Observations:                 3235\n",
       "Model:                 ARIMA(0, 0, 7)   Log Likelihood              -32082.868\n",
       "Date:                Sun, 14 Sep 2025   AIC                          64183.736\n",
       "Time:                        13:41:53   BIC                          64238.472\n",
       "Sample:                    01-05-2010   HQIC                         64203.349\n",
       "                         - 05-30-2022                                         \n",
       "Covariance Type:                  opg                                         \n",
       "==============================================================================\n",
       "                 coef    std err          z      P>|z|      [0.025      0.975]\n",
       "------------------------------------------------------------------------------\n",
       "const       1.981e+04   3004.837      6.594      0.000    1.39e+04    2.57e+04\n",
       "ma.L1          1.4382      0.191      7.518      0.000       1.063       1.813\n",
       "ma.L2          1.3387      0.351      3.819      0.000       0.652       2.026\n",
       "ma.L3          1.8324      0.472      3.884      0.000       0.908       2.757\n",
       "ma.L4          1.0206      0.594      1.717      0.086      -0.144       2.185\n",
       "ma.L5          0.4119      0.467      0.882      0.378      -0.503       1.327\n",
       "ma.L6          0.4806      0.340      1.413      0.158      -0.186       1.147\n",
       "ma.L7          0.1521      0.179      0.850      0.395      -0.198       0.503\n",
       "sigma2      5.575e+07      0.892   6.25e+07      0.000    5.58e+07    5.58e+07\n",
       "===================================================================================\n",
       "Ljung-Box (L1) (Q):                 719.61   Jarque-Bera (JB):               319.04\n",
       "Prob(Q):                              0.00   Prob(JB):                         0.00\n",
       "Heteroskedasticity (H):               6.08   Skew:                             0.68\n",
       "Prob(H) (two-sided):                  0.00   Kurtosis:                         3.71\n",
       "===================================================================================\n",
       "\n",
       "Warnings:\n",
       "[1] Covariance matrix calculated using the outer product of gradients (complex-step).\n",
       "[2] Covariance matrix is singular or near-singular, with condition number 3.51e+23. Standard errors may be unstable.\n",
       "\"\"\""
      ]
     },
     "execution_count": 33,
     "metadata": {},
     "output_type": "execute_result"
    }
   ],
   "source": [
    "model_ma7 = ARIMA(df.Market_value, order=(0,0,7))\n",
    "result_ma7=model_ma7.fit()\n",
    "result_ma7.summary()"
   ]
  },
  {
   "cell_type": "code",
   "execution_count": 34,
   "id": "bb05649c",
   "metadata": {},
   "outputs": [
    {
     "data": {
      "text/html": [
       "<table class=\"simpletable\">\n",
       "<caption>SARIMAX Results</caption>\n",
       "<tr>\n",
       "  <th>Dep. Variable:</th>     <td>Market_value</td>   <th>  No. Observations:  </th>    <td>3235</td>   \n",
       "</tr>\n",
       "<tr>\n",
       "  <th>Model:</th>            <td>ARIMA(0, 0, 8)</td>  <th>  Log Likelihood     </th> <td>-31647.498</td>\n",
       "</tr>\n",
       "<tr>\n",
       "  <th>Date:</th>            <td>Sun, 14 Sep 2025</td> <th>  AIC                </th>  <td>63314.996</td>\n",
       "</tr>\n",
       "<tr>\n",
       "  <th>Time:</th>                <td>13:41:56</td>     <th>  BIC                </th>  <td>63375.814</td>\n",
       "</tr>\n",
       "<tr>\n",
       "  <th>Sample:</th>             <td>01-05-2010</td>    <th>  HQIC               </th>  <td>63336.788</td>\n",
       "</tr>\n",
       "<tr>\n",
       "  <th></th>                   <td>- 05-30-2022</td>   <th>                     </th>      <td> </td>    \n",
       "</tr>\n",
       "<tr>\n",
       "  <th>Covariance Type:</th>        <td>opg</td>       <th>                     </th>      <td> </td>    \n",
       "</tr>\n",
       "</table>\n",
       "<table class=\"simpletable\">\n",
       "<tr>\n",
       "     <td></td>       <th>coef</th>     <th>std err</th>      <th>z</th>      <th>P>|z|</th>  <th>[0.025</th>    <th>0.975]</th>  \n",
       "</tr>\n",
       "<tr>\n",
       "  <th>const</th>  <td> 1.981e+04</td> <td> 1.43e+04</td> <td>    1.385</td> <td> 0.166</td> <td>-8222.534</td> <td> 4.79e+04</td>\n",
       "</tr>\n",
       "<tr>\n",
       "  <th>ma.L1</th>  <td>    1.7795</td> <td>    0.798</td> <td>    2.230</td> <td> 0.026</td> <td>    0.215</td> <td>    3.344</td>\n",
       "</tr>\n",
       "<tr>\n",
       "  <th>ma.L2</th>  <td>    2.2242</td> <td>    1.442</td> <td>    1.543</td> <td> 0.123</td> <td>   -0.601</td> <td>    5.050</td>\n",
       "</tr>\n",
       "<tr>\n",
       "  <th>ma.L3</th>  <td>    2.6568</td> <td>    1.868</td> <td>    1.422</td> <td> 0.155</td> <td>   -1.005</td> <td>    6.319</td>\n",
       "</tr>\n",
       "<tr>\n",
       "  <th>ma.L4</th>  <td>    2.3454</td> <td>    2.328</td> <td>    1.008</td> <td> 0.314</td> <td>   -2.217</td> <td>    6.907</td>\n",
       "</tr>\n",
       "<tr>\n",
       "  <th>ma.L5</th>  <td>    1.7676</td> <td>    2.591</td> <td>    0.682</td> <td> 0.495</td> <td>   -3.310</td> <td>    6.845</td>\n",
       "</tr>\n",
       "<tr>\n",
       "  <th>ma.L6</th>  <td>    1.4678</td> <td>    2.359</td> <td>    0.622</td> <td> 0.534</td> <td>   -3.156</td> <td>    6.091</td>\n",
       "</tr>\n",
       "<tr>\n",
       "  <th>ma.L7</th>  <td>    0.7084</td> <td>    1.750</td> <td>    0.405</td> <td> 0.686</td> <td>   -2.722</td> <td>    4.139</td>\n",
       "</tr>\n",
       "<tr>\n",
       "  <th>ma.L8</th>  <td>    0.1753</td> <td>    0.794</td> <td>    0.221</td> <td> 0.825</td> <td>   -1.380</td> <td>    1.731</td>\n",
       "</tr>\n",
       "<tr>\n",
       "  <th>sigma2</th> <td> 4.901e+07</td> <td> 1.93e+06</td> <td>   25.416</td> <td> 0.000</td> <td> 4.52e+07</td> <td> 5.28e+07</td>\n",
       "</tr>\n",
       "</table>\n",
       "<table class=\"simpletable\">\n",
       "<tr>\n",
       "  <th>Ljung-Box (L1) (Q):</th>     <td>142.49</td> <th>  Jarque-Bera (JB):  </th> <td>629.88</td>\n",
       "</tr>\n",
       "<tr>\n",
       "  <th>Prob(Q):</th>                 <td>0.00</td>  <th>  Prob(JB):          </th>  <td>0.00</td> \n",
       "</tr>\n",
       "<tr>\n",
       "  <th>Heteroskedasticity (H):</th>  <td>2.73</td>  <th>  Skew:              </th>  <td>0.77</td> \n",
       "</tr>\n",
       "<tr>\n",
       "  <th>Prob(H) (two-sided):</th>     <td>0.00</td>  <th>  Kurtosis:          </th>  <td>4.51</td> \n",
       "</tr>\n",
       "</table><br/><br/>Warnings:<br/>[1] Covariance matrix calculated using the outer product of gradients (complex-step).<br/>[2] Covariance matrix is singular or near-singular, with condition number 8.4e+14. Standard errors may be unstable."
      ],
      "text/latex": [
       "\\begin{center}\n",
       "\\begin{tabular}{lclc}\n",
       "\\toprule\n",
       "\\textbf{Dep. Variable:}          &  Market\\_value   & \\textbf{  No. Observations:  } &    3235     \\\\\n",
       "\\textbf{Model:}                  &  ARIMA(0, 0, 8)  & \\textbf{  Log Likelihood     } & -31647.498  \\\\\n",
       "\\textbf{Date:}                   & Sun, 14 Sep 2025 & \\textbf{  AIC                } & 63314.996   \\\\\n",
       "\\textbf{Time:}                   &     13:41:56     & \\textbf{  BIC                } & 63375.814   \\\\\n",
       "\\textbf{Sample:}                 &    01-05-2010    & \\textbf{  HQIC               } & 63336.788   \\\\\n",
       "\\textbf{}                        &   - 05-30-2022   & \\textbf{                     } &             \\\\\n",
       "\\textbf{Covariance Type:}        &       opg        & \\textbf{                     } &             \\\\\n",
       "\\bottomrule\n",
       "\\end{tabular}\n",
       "\\begin{tabular}{lcccccc}\n",
       "                & \\textbf{coef} & \\textbf{std err} & \\textbf{z} & \\textbf{P$> |$z$|$} & \\textbf{[0.025} & \\textbf{0.975]}  \\\\\n",
       "\\midrule\n",
       "\\textbf{const}  &    1.981e+04  &     1.43e+04     &     1.385  &         0.166        &    -8222.534    &     4.79e+04     \\\\\n",
       "\\textbf{ma.L1}  &       1.7795  &        0.798     &     2.230  &         0.026        &        0.215    &        3.344     \\\\\n",
       "\\textbf{ma.L2}  &       2.2242  &        1.442     &     1.543  &         0.123        &       -0.601    &        5.050     \\\\\n",
       "\\textbf{ma.L3}  &       2.6568  &        1.868     &     1.422  &         0.155        &       -1.005    &        6.319     \\\\\n",
       "\\textbf{ma.L4}  &       2.3454  &        2.328     &     1.008  &         0.314        &       -2.217    &        6.907     \\\\\n",
       "\\textbf{ma.L5}  &       1.7676  &        2.591     &     0.682  &         0.495        &       -3.310    &        6.845     \\\\\n",
       "\\textbf{ma.L6}  &       1.4678  &        2.359     &     0.622  &         0.534        &       -3.156    &        6.091     \\\\\n",
       "\\textbf{ma.L7}  &       0.7084  &        1.750     &     0.405  &         0.686        &       -2.722    &        4.139     \\\\\n",
       "\\textbf{ma.L8}  &       0.1753  &        0.794     &     0.221  &         0.825        &       -1.380    &        1.731     \\\\\n",
       "\\textbf{sigma2} &    4.901e+07  &     1.93e+06     &    25.416  &         0.000        &     4.52e+07    &     5.28e+07     \\\\\n",
       "\\bottomrule\n",
       "\\end{tabular}\n",
       "\\begin{tabular}{lclc}\n",
       "\\textbf{Ljung-Box (L1) (Q):}     & 142.49 & \\textbf{  Jarque-Bera (JB):  } & 629.88  \\\\\n",
       "\\textbf{Prob(Q):}                &  0.00  & \\textbf{  Prob(JB):          } &  0.00   \\\\\n",
       "\\textbf{Heteroskedasticity (H):} &  2.73  & \\textbf{  Skew:              } &  0.77   \\\\\n",
       "\\textbf{Prob(H) (two-sided):}    &  0.00  & \\textbf{  Kurtosis:          } &  4.51   \\\\\n",
       "\\bottomrule\n",
       "\\end{tabular}\n",
       "%\\caption{SARIMAX Results}\n",
       "\\end{center}\n",
       "\n",
       "Warnings: \\newline\n",
       " [1] Covariance matrix calculated using the outer product of gradients (complex-step). \\newline\n",
       " [2] Covariance matrix is singular or near-singular, with condition number 8.4e+14. Standard errors may be unstable."
      ],
      "text/plain": [
       "<class 'statsmodels.iolib.summary.Summary'>\n",
       "\"\"\"\n",
       "                               SARIMAX Results                                \n",
       "==============================================================================\n",
       "Dep. Variable:           Market_value   No. Observations:                 3235\n",
       "Model:                 ARIMA(0, 0, 8)   Log Likelihood              -31647.498\n",
       "Date:                Sun, 14 Sep 2025   AIC                          63314.996\n",
       "Time:                        13:41:56   BIC                          63375.814\n",
       "Sample:                    01-05-2010   HQIC                         63336.788\n",
       "                         - 05-30-2022                                         \n",
       "Covariance Type:                  opg                                         \n",
       "==============================================================================\n",
       "                 coef    std err          z      P>|z|      [0.025      0.975]\n",
       "------------------------------------------------------------------------------\n",
       "const       1.981e+04   1.43e+04      1.385      0.166   -8222.534    4.79e+04\n",
       "ma.L1          1.7795      0.798      2.230      0.026       0.215       3.344\n",
       "ma.L2          2.2242      1.442      1.543      0.123      -0.601       5.050\n",
       "ma.L3          2.6568      1.868      1.422      0.155      -1.005       6.319\n",
       "ma.L4          2.3454      2.328      1.008      0.314      -2.217       6.907\n",
       "ma.L5          1.7676      2.591      0.682      0.495      -3.310       6.845\n",
       "ma.L6          1.4678      2.359      0.622      0.534      -3.156       6.091\n",
       "ma.L7          0.7084      1.750      0.405      0.686      -2.722       4.139\n",
       "ma.L8          0.1753      0.794      0.221      0.825      -1.380       1.731\n",
       "sigma2      4.901e+07   1.93e+06     25.416      0.000    4.52e+07    5.28e+07\n",
       "===================================================================================\n",
       "Ljung-Box (L1) (Q):                 142.49   Jarque-Bera (JB):               629.88\n",
       "Prob(Q):                              0.00   Prob(JB):                         0.00\n",
       "Heteroskedasticity (H):               2.73   Skew:                             0.77\n",
       "Prob(H) (two-sided):                  0.00   Kurtosis:                         4.51\n",
       "===================================================================================\n",
       "\n",
       "Warnings:\n",
       "[1] Covariance matrix calculated using the outer product of gradients (complex-step).\n",
       "[2] Covariance matrix is singular or near-singular, with condition number 8.4e+14. Standard errors may be unstable.\n",
       "\"\"\""
      ]
     },
     "execution_count": 34,
     "metadata": {},
     "output_type": "execute_result"
    }
   ],
   "source": [
    "model_ma8 = ARIMA(df.Market_value, order=(0,0,8))\n",
    "result_ma8=model_ma8.fit()\n",
    "result_ma8.summary()"
   ]
  },
  {
   "cell_type": "markdown",
   "id": "256d6f01",
   "metadata": {},
   "source": [
    "We stopped here only because p>z value is way more than our significance value so we will use ar6 or ar8 model I  didnt stopped on ar7 model because I wanted to see can next model will be better than the previous one and it is So now we will compare which is better MA6 or MA8"
   ]
  },
  {
   "cell_type": "markdown",
   "id": "ecefc488",
   "metadata": {},
   "source": [
    "## Performing LLR Test on All three model"
   ]
  },
  {
   "cell_type": "code",
   "execution_count": 35,
   "id": "35a59b0b",
   "metadata": {},
   "outputs": [
    {
     "data": {
      "text/plain": [
       "np.float64(1.0)"
      ]
     },
     "execution_count": 35,
     "metadata": {},
     "output_type": "execute_result"
    }
   ],
   "source": [
    "LLR_test(model_ma1,model_ma2)"
   ]
  },
  {
   "cell_type": "code",
   "execution_count": 36,
   "id": "3d6fdd80",
   "metadata": {},
   "outputs": [
    {
     "data": {
      "text/plain": [
       "np.float64(0.0)"
      ]
     },
     "execution_count": 36,
     "metadata": {},
     "output_type": "execute_result"
    }
   ],
   "source": [
    "LLR_test(model_ma2,model_ma3)"
   ]
  },
  {
   "cell_type": "code",
   "execution_count": 37,
   "id": "4cebc743",
   "metadata": {},
   "outputs": [
    {
     "data": {
      "text/plain": [
       "np.float64(1.0)"
      ]
     },
     "execution_count": 37,
     "metadata": {},
     "output_type": "execute_result"
    }
   ],
   "source": [
    "LLR_test(model_ma3,model_ma4)"
   ]
  },
  {
   "cell_type": "code",
   "execution_count": 38,
   "id": "f2fc8519",
   "metadata": {},
   "outputs": [
    {
     "data": {
      "text/plain": [
       "np.float64(0.0)"
      ]
     },
     "execution_count": 38,
     "metadata": {},
     "output_type": "execute_result"
    }
   ],
   "source": [
    "LLR_test(model_ma4,model_ma5)"
   ]
  },
  {
   "cell_type": "code",
   "execution_count": 39,
   "id": "6eba20e3",
   "metadata": {},
   "outputs": [
    {
     "data": {
      "text/plain": [
       "np.float64(1.0)"
      ]
     },
     "execution_count": 39,
     "metadata": {},
     "output_type": "execute_result"
    }
   ],
   "source": [
    "LLR_test(model_ma5,model_ma6)"
   ]
  },
  {
   "cell_type": "code",
   "execution_count": 40,
   "id": "b14314ec",
   "metadata": {},
   "outputs": [
    {
     "data": {
      "text/plain": [
       "np.float64(0.0)"
      ]
     },
     "execution_count": 40,
     "metadata": {},
     "output_type": "execute_result"
    }
   ],
   "source": [
    "LLR_test(model_ma6,model_ma7)"
   ]
  },
  {
   "cell_type": "code",
   "execution_count": 41,
   "id": "16fb992c",
   "metadata": {},
   "outputs": [
    {
     "data": {
      "text/plain": [
       "np.float64(0.0)"
      ]
     },
     "execution_count": 41,
     "metadata": {},
     "output_type": "execute_result"
    }
   ],
   "source": [
    "LLR_test(model_ma7,model_ma8)"
   ]
  },
  {
   "cell_type": "code",
   "execution_count": 42,
   "id": "374e5fec",
   "metadata": {},
   "outputs": [
    {
     "data": {
      "text/plain": [
       "np.float64(0.0)"
      ]
     },
     "execution_count": 42,
     "metadata": {},
     "output_type": "execute_result"
    }
   ],
   "source": [
    "## Comparing model 6 and 8\n",
    "LLR_test(model_ma6,model_ma8,DF=2) # Here model 8 is better"
   ]
  },
  {
   "cell_type": "code",
   "execution_count": 43,
   "id": "4a8a11c6",
   "metadata": {},
   "outputs": [
    {
     "data": {
      "text/plain": [
       "np.float64(1.0)"
      ]
     },
     "execution_count": 43,
     "metadata": {},
     "output_type": "execute_result"
    }
   ],
   "source": [
    "## Comparing model 4 and 8\n",
    "LLR_test(model_ma4,model_ma8,DF=4) # Here model 4 is better"
   ]
  },
  {
   "cell_type": "code",
   "execution_count": 44,
   "id": "73a9bb96",
   "metadata": {},
   "outputs": [
    {
     "data": {
      "text/plain": [
       "np.float64(0.0)"
      ]
     },
     "execution_count": 44,
     "metadata": {},
     "output_type": "execute_result"
    }
   ],
   "source": [
    "## Comparing model 4 and 5\n",
    "LLR_test(model_ma4,model_ma5) # Here model 4 is better"
   ]
  },
  {
   "cell_type": "code",
   "execution_count": 45,
   "id": "3b82afc4",
   "metadata": {},
   "outputs": [
    {
     "data": {
      "text/plain": [
       "np.float64(0.0)"
      ]
     },
     "execution_count": 45,
     "metadata": {},
     "output_type": "execute_result"
    }
   ],
   "source": [
    "## Comparing model 1 and 4\n",
    "LLR_test(model_ma1,model_ma4,DF=3) # Here model 5 is better"
   ]
  },
  {
   "cell_type": "markdown",
   "id": "8dc53e28",
   "metadata": {},
   "source": [
    "Here The best model we can find is model 4 so we will use this model"
   ]
  },
  {
   "cell_type": "markdown",
   "id": "4a2461cd",
   "metadata": {},
   "source": [
    "## Analysing the residuals"
   ]
  },
  {
   "cell_type": "code",
   "execution_count": 46,
   "id": "3acb6564",
   "metadata": {},
   "outputs": [],
   "source": [
    "df['res_price']=result_ma4.resid"
   ]
  },
  {
   "cell_type": "code",
   "execution_count": 47,
   "id": "46ce37b5",
   "metadata": {},
   "outputs": [
    {
     "data": {
      "text/plain": [
       "np.float64(-3.125263218890438)"
      ]
     },
     "execution_count": 47,
     "metadata": {},
     "output_type": "execute_result"
    }
   ],
   "source": [
    "## Residual Mean\n",
    "df.res_price.mean()"
   ]
  },
  {
   "cell_type": "code",
   "execution_count": 48,
   "id": "d5d285f2",
   "metadata": {},
   "outputs": [
    {
     "data": {
      "text/plain": [
       "7014567.117884159"
      ]
     },
     "execution_count": 48,
     "metadata": {},
     "output_type": "execute_result"
    }
   ],
   "source": [
    "## Residual Variance\n",
    "df.res_price.var()"
   ]
  },
  {
   "cell_type": "code",
   "execution_count": 49,
   "id": "d6661d66",
   "metadata": {},
   "outputs": [
    {
     "data": {
      "text/plain": [
       "(np.float64(-0.7740812599302398),\n",
       " np.float64(0.8266172089436479),\n",
       " 11,\n",
       " 3223,\n",
       " {'1%': np.float64(-3.4323805665026175),\n",
       "  '5%': np.float64(-2.8624371819849372),\n",
       "  '10%': np.float64(-2.5672475896829807)},\n",
       " np.float64(45878.814215215236))"
      ]
     },
     "execution_count": 49,
     "metadata": {},
     "output_type": "execute_result"
    }
   ],
   "source": [
    "## Dicky Fuller Test\n",
    "sts.adfuller(df.res_price)"
   ]
  },
  {
   "cell_type": "code",
   "execution_count": 50,
   "id": "9ee4bd00",
   "metadata": {},
   "outputs": [
    {
     "data": {
      "text/plain": [
       "Text(0.5, 1.0, 'ACF of Residuals FOR Price')"
      ]
     },
     "execution_count": 50,
     "metadata": {},
     "output_type": "execute_result"
    },
    {
     "data": {
      "image/png": "[encoded data removed]",
      "text/plain": [
       "<Figure size 640x480 with 1 Axes>"
      ]
     },
     "metadata": {},
     "output_type": "display_data"
    }
   ],
   "source": [
    "## Ploting ACF for Residuals\n",
    "sgt.plot_acf(df.res_price,lags=40,zero=False)\n",
    "plt.ylim(-1,1)\n",
    "plt.title(\"ACF of Residuals FOR Price\",size=24)"
   ]
  },
  {
   "cell_type": "code",
   "execution_count": 51,
   "id": "17baf987",
   "metadata": {},
   "outputs": [
    {
     "data": {
      "text/plain": [
       "Text(0.5, 1.0, 'PACF of Residuals FOR Price')"
      ]
     },
     "execution_count": 51,
     "metadata": {},
     "output_type": "execute_result"
    },
    {
     "data": {
      "image/png": "[encoded data removed]",
      "text/plain": [
       "<Figure size 640x480 with 1 Axes>"
      ]
     },
     "metadata": {},
     "output_type": "display_data"
    }
   ],
   "source": [
    "## Ploting PACF for Residuals\n",
    "sgt.plot_pacf(df.res_price,lags=40,zero=False)\n",
    "plt.ylim(-0.8,0.8)\n",
    "plt.title(\"PACF of Residuals FOR Price\",size=24)"
   ]
  },
  {
   "cell_type": "markdown",
   "id": "7fb3de4c",
   "metadata": {},
   "source": [
    "## Now calculating The same Things for returns"
   ]
  },
  {
   "cell_type": "code",
   "execution_count": 52,
   "id": "78c0e778",
   "metadata": {},
   "outputs": [
    {
     "data": {
      "text/plain": [
       "(np.float64(-16.59802883443395),\n",
       " np.float64(1.7746991329163392e-29),\n",
       " 10,\n",
       " 3224,\n",
       " {'1%': np.float64(-3.4323799361717584),\n",
       "  '5%': np.float64(-2.862436903575556),\n",
       "  '10%': np.float64(-2.5672474414633735)},\n",
       " np.float64(11842.696872288807))"
      ]
     },
     "execution_count": 52,
     "metadata": {},
     "output_type": "execute_result"
    }
   ],
   "source": [
    "## Running Dicky Fuller test for Returns\n",
    "sts.adfuller(df.returns)"
   ]
  },
  {
   "cell_type": "markdown",
   "id": "fd611507",
   "metadata": {},
   "source": [
    "## Ploting PACF and ACF for Returns"
   ]
  },
  {
   "cell_type": "code",
   "execution_count": 53,
   "id": "aa9c3eaf",
   "metadata": {},
   "outputs": [
    {
     "data": {
      "text/plain": [
       "(-0.1, 0.1)"
      ]
     },
     "execution_count": 53,
     "metadata": {},
     "output_type": "execute_result"
    },
    {
     "data": {
      "image/png": "[encoded data removed]",
      "text/plain": [
       "<Figure size 640x480 with 1 Axes>"
      ]
     },
     "metadata": {},
     "output_type": "display_data"
    }
   ],
   "source": [
    "sgt.plot_acf(df.returns,lags=40,zero=False)\n",
    "plt.title(\"ACF of Bank Nifty Returns\",size=24)\n",
    "plt.ylim(-0.1,0.1)"
   ]
  },
  {
   "cell_type": "code",
   "execution_count": 54,
   "id": "8618b57a",
   "metadata": {},
   "outputs": [
    {
     "data": {
      "text/plain": [
       "(-0.1, 0.1)"
      ]
     },
     "execution_count": 54,
     "metadata": {},
     "output_type": "execute_result"
    },
    {
     "data": {
      "image/png": "[encoded data removed]",
      "text/plain": [
       "<Figure size 640x480 with 1 Axes>"
      ]
     },
     "metadata": {},
     "output_type": "display_data"
    }
   ],
   "source": [
    "sgt.plot_pacf(df.returns,lags=40,zero=False)\n",
    "plt.title(\"PACF of Bank Nifty Returns\",size=24)\n",
    "plt.ylim(-0.1,0.1)"
   ]
  },
  {
   "cell_type": "markdown",
   "id": "1dee79d3",
   "metadata": {},
   "source": [
    "## MA Models for Returns"
   ]
  },
  {
   "cell_type": "code",
   "execution_count": 55,
   "id": "618d0106",
   "metadata": {},
   "outputs": [
    {
     "data": {
      "text/html": [
       "<table class=\"simpletable\">\n",
       "<caption>SARIMAX Results</caption>\n",
       "<tr>\n",
       "  <th>Dep. Variable:</th>        <td>returns</td>     <th>  No. Observations:  </th>   <td>3235</td>   \n",
       "</tr>\n",
       "<tr>\n",
       "  <th>Model:</th>            <td>ARIMA(0, 0, 1)</td>  <th>  Log Likelihood     </th> <td>-5981.341</td>\n",
       "</tr>\n",
       "<tr>\n",
       "  <th>Date:</th>            <td>Sun, 14 Sep 2025</td> <th>  AIC                </th> <td>11968.681</td>\n",
       "</tr>\n",
       "<tr>\n",
       "  <th>Time:</th>                <td>13:43:10</td>     <th>  BIC                </th> <td>11986.927</td>\n",
       "</tr>\n",
       "<tr>\n",
       "  <th>Sample:</th>             <td>01-05-2010</td>    <th>  HQIC               </th> <td>11975.219</td>\n",
       "</tr>\n",
       "<tr>\n",
       "  <th></th>                   <td>- 05-30-2022</td>   <th>                     </th>     <td> </td>    \n",
       "</tr>\n",
       "<tr>\n",
       "  <th>Covariance Type:</th>        <td>opg</td>       <th>                     </th>     <td> </td>    \n",
       "</tr>\n",
       "</table>\n",
       "<table class=\"simpletable\">\n",
       "<tr>\n",
       "     <td></td>       <th>coef</th>     <th>std err</th>      <th>z</th>      <th>P>|z|</th>  <th>[0.025</th>    <th>0.975]</th>  \n",
       "</tr>\n",
       "<tr>\n",
       "  <th>const</th>  <td>    0.0542</td> <td>    0.029</td> <td>    1.897</td> <td> 0.058</td> <td>   -0.002</td> <td>    0.110</td>\n",
       "</tr>\n",
       "<tr>\n",
       "  <th>ma.L1</th>  <td>    0.0537</td> <td>    0.013</td> <td>    4.064</td> <td> 0.000</td> <td>    0.028</td> <td>    0.080</td>\n",
       "</tr>\n",
       "<tr>\n",
       "  <th>sigma2</th> <td>    2.3632</td> <td>    0.019</td> <td>  122.006</td> <td> 0.000</td> <td>    2.325</td> <td>    2.401</td>\n",
       "</tr>\n",
       "</table>\n",
       "<table class=\"simpletable\">\n",
       "<tr>\n",
       "  <th>Ljung-Box (L1) (Q):</th>     <td>0.00</td> <th>  Jarque-Bera (JB):  </th> <td>36778.34</td>\n",
       "</tr>\n",
       "<tr>\n",
       "  <th>Prob(Q):</th>                <td>0.96</td> <th>  Prob(JB):          </th>   <td>0.00</td>  \n",
       "</tr>\n",
       "<tr>\n",
       "  <th>Heteroskedasticity (H):</th> <td>1.18</td> <th>  Skew:              </th>   <td>0.28</td>  \n",
       "</tr>\n",
       "<tr>\n",
       "  <th>Prob(H) (two-sided):</th>    <td>0.01</td> <th>  Kurtosis:          </th>   <td>19.51</td> \n",
       "</tr>\n",
       "</table><br/><br/>Warnings:<br/>[1] Covariance matrix calculated using the outer product of gradients (complex-step)."
      ],
      "text/latex": [
       "\\begin{center}\n",
       "\\begin{tabular}{lclc}\n",
       "\\toprule\n",
       "\\textbf{Dep. Variable:}          &     returns      & \\textbf{  No. Observations:  } &    3235     \\\\\n",
       "\\textbf{Model:}                  &  ARIMA(0, 0, 1)  & \\textbf{  Log Likelihood     } & -5981.341   \\\\\n",
       "\\textbf{Date:}                   & Sun, 14 Sep 2025 & \\textbf{  AIC                } & 11968.681   \\\\\n",
       "\\textbf{Time:}                   &     13:43:10     & \\textbf{  BIC                } & 11986.927   \\\\\n",
       "\\textbf{Sample:}                 &    01-05-2010    & \\textbf{  HQIC               } & 11975.219   \\\\\n",
       "\\textbf{}                        &   - 05-30-2022   & \\textbf{                     } &             \\\\\n",
       "\\textbf{Covariance Type:}        &       opg        & \\textbf{                     } &             \\\\\n",
       "\\bottomrule\n",
       "\\end{tabular}\n",
       "\\begin{tabular}{lcccccc}\n",
       "                & \\textbf{coef} & \\textbf{std err} & \\textbf{z} & \\textbf{P$> |$z$|$} & \\textbf{[0.025} & \\textbf{0.975]}  \\\\\n",
       "\\midrule\n",
       "\\textbf{const}  &       0.0542  &        0.029     &     1.897  &         0.058        &       -0.002    &        0.110     \\\\\n",
       "\\textbf{ma.L1}  &       0.0537  &        0.013     &     4.064  &         0.000        &        0.028    &        0.080     \\\\\n",
       "\\textbf{sigma2} &       2.3632  &        0.019     &   122.006  &         0.000        &        2.325    &        2.401     \\\\\n",
       "\\bottomrule\n",
       "\\end{tabular}\n",
       "\\begin{tabular}{lclc}\n",
       "\\textbf{Ljung-Box (L1) (Q):}     & 0.00 & \\textbf{  Jarque-Bera (JB):  } & 36778.34  \\\\\n",
       "\\textbf{Prob(Q):}                & 0.96 & \\textbf{  Prob(JB):          } &   0.00    \\\\\n",
       "\\textbf{Heteroskedasticity (H):} & 1.18 & \\textbf{  Skew:              } &   0.28    \\\\\n",
       "\\textbf{Prob(H) (two-sided):}    & 0.01 & \\textbf{  Kurtosis:          } &  19.51    \\\\\n",
       "\\bottomrule\n",
       "\\end{tabular}\n",
       "%\\caption{SARIMAX Results}\n",
       "\\end{center}\n",
       "\n",
       "Warnings: \\newline\n",
       " [1] Covariance matrix calculated using the outer product of gradients (complex-step)."
      ],
      "text/plain": [
       "<class 'statsmodels.iolib.summary.Summary'>\n",
       "\"\"\"\n",
       "                               SARIMAX Results                                \n",
       "==============================================================================\n",
       "Dep. Variable:                returns   No. Observations:                 3235\n",
       "Model:                 ARIMA(0, 0, 1)   Log Likelihood               -5981.341\n",
       "Date:                Sun, 14 Sep 2025   AIC                          11968.681\n",
       "Time:                        13:43:10   BIC                          11986.927\n",
       "Sample:                    01-05-2010   HQIC                         11975.219\n",
       "                         - 05-30-2022                                         \n",
       "Covariance Type:                  opg                                         \n",
       "==============================================================================\n",
       "                 coef    std err          z      P>|z|      [0.025      0.975]\n",
       "------------------------------------------------------------------------------\n",
       "const          0.0542      0.029      1.897      0.058      -0.002       0.110\n",
       "ma.L1          0.0537      0.013      4.064      0.000       0.028       0.080\n",
       "sigma2         2.3632      0.019    122.006      0.000       2.325       2.401\n",
       "===================================================================================\n",
       "Ljung-Box (L1) (Q):                   0.00   Jarque-Bera (JB):             36778.34\n",
       "Prob(Q):                              0.96   Prob(JB):                         0.00\n",
       "Heteroskedasticity (H):               1.18   Skew:                             0.28\n",
       "Prob(H) (two-sided):                  0.01   Kurtosis:                        19.51\n",
       "===================================================================================\n",
       "\n",
       "Warnings:\n",
       "[1] Covariance matrix calculated using the outer product of gradients (complex-step).\n",
       "\"\"\""
      ]
     },
     "execution_count": 55,
     "metadata": {},
     "output_type": "execute_result"
    }
   ],
   "source": [
    "model_ret_MA=ARIMA(df.returns, order=(0,0,1))\n",
    "results_ret_MA = model_ret_MA.fit()\n",
    "results_ret_MA.summary()"
   ]
  },
  {
   "cell_type": "code",
   "execution_count": 56,
   "id": "ed389f70",
   "metadata": {},
   "outputs": [
    {
     "data": {
      "text/html": [
       "<table class=\"simpletable\">\n",
       "<caption>SARIMAX Results</caption>\n",
       "<tr>\n",
       "  <th>Dep. Variable:</th>        <td>returns</td>     <th>  No. Observations:  </th>   <td>3235</td>   \n",
       "</tr>\n",
       "<tr>\n",
       "  <th>Model:</th>            <td>ARIMA(0, 0, 2)</td>  <th>  Log Likelihood     </th> <td>-5980.975</td>\n",
       "</tr>\n",
       "<tr>\n",
       "  <th>Date:</th>            <td>Sun, 14 Sep 2025</td> <th>  AIC                </th> <td>11969.950</td>\n",
       "</tr>\n",
       "<tr>\n",
       "  <th>Time:</th>                <td>13:43:10</td>     <th>  BIC                </th> <td>11994.277</td>\n",
       "</tr>\n",
       "<tr>\n",
       "  <th>Sample:</th>             <td>01-05-2010</td>    <th>  HQIC               </th> <td>11978.667</td>\n",
       "</tr>\n",
       "<tr>\n",
       "  <th></th>                   <td>- 05-30-2022</td>   <th>                     </th>     <td> </td>    \n",
       "</tr>\n",
       "<tr>\n",
       "  <th>Covariance Type:</th>        <td>opg</td>       <th>                     </th>     <td> </td>    \n",
       "</tr>\n",
       "</table>\n",
       "<table class=\"simpletable\">\n",
       "<tr>\n",
       "     <td></td>       <th>coef</th>     <th>std err</th>      <th>z</th>      <th>P>|z|</th>  <th>[0.025</th>    <th>0.975]</th>  \n",
       "</tr>\n",
       "<tr>\n",
       "  <th>const</th>  <td>    0.0542</td> <td>    0.029</td> <td>    1.897</td> <td> 0.058</td> <td>   -0.002</td> <td>    0.110</td>\n",
       "</tr>\n",
       "<tr>\n",
       "  <th>ma.L1</th>  <td>    0.0527</td> <td>    0.014</td> <td>    3.870</td> <td> 0.000</td> <td>    0.026</td> <td>    0.079</td>\n",
       "</tr>\n",
       "<tr>\n",
       "  <th>ma.L2</th>  <td>   -0.0150</td> <td>    0.010</td> <td>   -1.461</td> <td> 0.144</td> <td>   -0.035</td> <td>    0.005</td>\n",
       "</tr>\n",
       "<tr>\n",
       "  <th>sigma2</th> <td>    2.3626</td> <td>    0.019</td> <td>  122.057</td> <td> 0.000</td> <td>    2.325</td> <td>    2.401</td>\n",
       "</tr>\n",
       "</table>\n",
       "<table class=\"simpletable\">\n",
       "<tr>\n",
       "  <th>Ljung-Box (L1) (Q):</th>     <td>0.00</td> <th>  Jarque-Bera (JB):  </th> <td>36785.46</td>\n",
       "</tr>\n",
       "<tr>\n",
       "  <th>Prob(Q):</th>                <td>0.99</td> <th>  Prob(JB):          </th>   <td>0.00</td>  \n",
       "</tr>\n",
       "<tr>\n",
       "  <th>Heteroskedasticity (H):</th> <td>1.18</td> <th>  Skew:              </th>   <td>0.27</td>  \n",
       "</tr>\n",
       "<tr>\n",
       "  <th>Prob(H) (two-sided):</th>    <td>0.01</td> <th>  Kurtosis:          </th>   <td>19.51</td> \n",
       "</tr>\n",
       "</table><br/><br/>Warnings:<br/>[1] Covariance matrix calculated using the outer product of gradients (complex-step)."
      ],
      "text/latex": [
       "\\begin{center}\n",
       "\\begin{tabular}{lclc}\n",
       "\\toprule\n",
       "\\textbf{Dep. Variable:}          &     returns      & \\textbf{  No. Observations:  } &    3235     \\\\\n",
       "\\textbf{Model:}                  &  ARIMA(0, 0, 2)  & \\textbf{  Log Likelihood     } & -5980.975   \\\\\n",
       "\\textbf{Date:}                   & Sun, 14 Sep 2025 & \\textbf{  AIC                } & 11969.950   \\\\\n",
       "\\textbf{Time:}                   &     13:43:10     & \\textbf{  BIC                } & 11994.277   \\\\\n",
       "\\textbf{Sample:}                 &    01-05-2010    & \\textbf{  HQIC               } & 11978.667   \\\\\n",
       "\\textbf{}                        &   - 05-30-2022   & \\textbf{                     } &             \\\\\n",
       "\\textbf{Covariance Type:}        &       opg        & \\textbf{                     } &             \\\\\n",
       "\\bottomrule\n",
       "\\end{tabular}\n",
       "\\begin{tabular}{lcccccc}\n",
       "                & \\textbf{coef} & \\textbf{std err} & \\textbf{z} & \\textbf{P$> |$z$|$} & \\textbf{[0.025} & \\textbf{0.975]}  \\\\\n",
       "\\midrule\n",
       "\\textbf{const}  &       0.0542  &        0.029     &     1.897  &         0.058        &       -0.002    &        0.110     \\\\\n",
       "\\textbf{ma.L1}  &       0.0527  &        0.014     &     3.870  &         0.000        &        0.026    &        0.079     \\\\\n",
       "\\textbf{ma.L2}  &      -0.0150  &        0.010     &    -1.461  &         0.144        &       -0.035    &        0.005     \\\\\n",
       "\\textbf{sigma2} &       2.3626  &        0.019     &   122.057  &         0.000        &        2.325    &        2.401     \\\\\n",
       "\\bottomrule\n",
       "\\end{tabular}\n",
       "\\begin{tabular}{lclc}\n",
       "\\textbf{Ljung-Box (L1) (Q):}     & 0.00 & \\textbf{  Jarque-Bera (JB):  } & 36785.46  \\\\\n",
       "\\textbf{Prob(Q):}                & 0.99 & \\textbf{  Prob(JB):          } &   0.00    \\\\\n",
       "\\textbf{Heteroskedasticity (H):} & 1.18 & \\textbf{  Skew:              } &   0.27    \\\\\n",
       "\\textbf{Prob(H) (two-sided):}    & 0.01 & \\textbf{  Kurtosis:          } &  19.51    \\\\\n",
       "\\bottomrule\n",
       "\\end{tabular}\n",
       "%\\caption{SARIMAX Results}\n",
       "\\end{center}\n",
       "\n",
       "Warnings: \\newline\n",
       " [1] Covariance matrix calculated using the outer product of gradients (complex-step)."
      ],
      "text/plain": [
       "<class 'statsmodels.iolib.summary.Summary'>\n",
       "\"\"\"\n",
       "                               SARIMAX Results                                \n",
       "==============================================================================\n",
       "Dep. Variable:                returns   No. Observations:                 3235\n",
       "Model:                 ARIMA(0, 0, 2)   Log Likelihood               -5980.975\n",
       "Date:                Sun, 14 Sep 2025   AIC                          11969.950\n",
       "Time:                        13:43:10   BIC                          11994.277\n",
       "Sample:                    01-05-2010   HQIC                         11978.667\n",
       "                         - 05-30-2022                                         \n",
       "Covariance Type:                  opg                                         \n",
       "==============================================================================\n",
       "                 coef    std err          z      P>|z|      [0.025      0.975]\n",
       "------------------------------------------------------------------------------\n",
       "const          0.0542      0.029      1.897      0.058      -0.002       0.110\n",
       "ma.L1          0.0527      0.014      3.870      0.000       0.026       0.079\n",
       "ma.L2         -0.0150      0.010     -1.461      0.144      -0.035       0.005\n",
       "sigma2         2.3626      0.019    122.057      0.000       2.325       2.401\n",
       "===================================================================================\n",
       "Ljung-Box (L1) (Q):                   0.00   Jarque-Bera (JB):             36785.46\n",
       "Prob(Q):                              0.99   Prob(JB):                         0.00\n",
       "Heteroskedasticity (H):               1.18   Skew:                             0.27\n",
       "Prob(H) (two-sided):                  0.01   Kurtosis:                        19.51\n",
       "===================================================================================\n",
       "\n",
       "Warnings:\n",
       "[1] Covariance matrix calculated using the outer product of gradients (complex-step).\n",
       "\"\"\""
      ]
     },
     "execution_count": 56,
     "metadata": {},
     "output_type": "execute_result"
    }
   ],
   "source": [
    "model_ret_MA2=ARIMA(df.returns, order=(0,0,2))\n",
    "results_ret_MA2 = model_ret_MA2.fit()\n",
    "results_ret_MA2.summary()"
   ]
  },
  {
   "cell_type": "code",
   "execution_count": 57,
   "id": "78565ed5",
   "metadata": {},
   "outputs": [
    {
     "data": {
      "text/html": [
       "<table class=\"simpletable\">\n",
       "<caption>SARIMAX Results</caption>\n",
       "<tr>\n",
       "  <th>Dep. Variable:</th>        <td>returns</td>     <th>  No. Observations:  </th>   <td>3235</td>   \n",
       "</tr>\n",
       "<tr>\n",
       "  <th>Model:</th>            <td>ARIMA(0, 0, 3)</td>  <th>  Log Likelihood     </th> <td>-5980.899</td>\n",
       "</tr>\n",
       "<tr>\n",
       "  <th>Date:</th>            <td>Sun, 14 Sep 2025</td> <th>  AIC                </th> <td>11971.797</td>\n",
       "</tr>\n",
       "<tr>\n",
       "  <th>Time:</th>                <td>13:43:10</td>     <th>  BIC                </th> <td>12002.206</td>\n",
       "</tr>\n",
       "<tr>\n",
       "  <th>Sample:</th>             <td>01-05-2010</td>    <th>  HQIC               </th> <td>11982.693</td>\n",
       "</tr>\n",
       "<tr>\n",
       "  <th></th>                   <td>- 05-30-2022</td>   <th>                     </th>     <td> </td>    \n",
       "</tr>\n",
       "<tr>\n",
       "  <th>Covariance Type:</th>        <td>opg</td>       <th>                     </th>     <td> </td>    \n",
       "</tr>\n",
       "</table>\n",
       "<table class=\"simpletable\">\n",
       "<tr>\n",
       "     <td></td>       <th>coef</th>     <th>std err</th>      <th>z</th>      <th>P>|z|</th>  <th>[0.025</th>    <th>0.975]</th>  \n",
       "</tr>\n",
       "<tr>\n",
       "  <th>const</th>  <td>    0.0542</td> <td>    0.029</td> <td>    1.875</td> <td> 0.061</td> <td>   -0.002</td> <td>    0.111</td>\n",
       "</tr>\n",
       "<tr>\n",
       "  <th>ma.L1</th>  <td>    0.0529</td> <td>    0.014</td> <td>    3.858</td> <td> 0.000</td> <td>    0.026</td> <td>    0.080</td>\n",
       "</tr>\n",
       "<tr>\n",
       "  <th>ma.L2</th>  <td>   -0.0147</td> <td>    0.010</td> <td>   -1.432</td> <td> 0.152</td> <td>   -0.035</td> <td>    0.005</td>\n",
       "</tr>\n",
       "<tr>\n",
       "  <th>ma.L3</th>  <td>   -0.0074</td> <td>    0.011</td> <td>   -0.659</td> <td> 0.510</td> <td>   -0.029</td> <td>    0.015</td>\n",
       "</tr>\n",
       "<tr>\n",
       "  <th>sigma2</th> <td>    2.3625</td> <td>    0.020</td> <td>  119.395</td> <td> 0.000</td> <td>    2.324</td> <td>    2.401</td>\n",
       "</tr>\n",
       "</table>\n",
       "<table class=\"simpletable\">\n",
       "<tr>\n",
       "  <th>Ljung-Box (L1) (Q):</th>     <td>0.00</td> <th>  Jarque-Bera (JB):  </th> <td>36978.77</td>\n",
       "</tr>\n",
       "<tr>\n",
       "  <th>Prob(Q):</th>                <td>1.00</td> <th>  Prob(JB):          </th>   <td>0.00</td>  \n",
       "</tr>\n",
       "<tr>\n",
       "  <th>Heteroskedasticity (H):</th> <td>1.18</td> <th>  Skew:              </th>   <td>0.26</td>  \n",
       "</tr>\n",
       "<tr>\n",
       "  <th>Prob(H) (two-sided):</th>    <td>0.01</td> <th>  Kurtosis:          </th>   <td>19.56</td> \n",
       "</tr>\n",
       "</table><br/><br/>Warnings:<br/>[1] Covariance matrix calculated using the outer product of gradients (complex-step)."
      ],
      "text/latex": [
       "\\begin{center}\n",
       "\\begin{tabular}{lclc}\n",
       "\\toprule\n",
       "\\textbf{Dep. Variable:}          &     returns      & \\textbf{  No. Observations:  } &    3235     \\\\\n",
       "\\textbf{Model:}                  &  ARIMA(0, 0, 3)  & \\textbf{  Log Likelihood     } & -5980.899   \\\\\n",
       "\\textbf{Date:}                   & Sun, 14 Sep 2025 & \\textbf{  AIC                } & 11971.797   \\\\\n",
       "\\textbf{Time:}                   &     13:43:10     & \\textbf{  BIC                } & 12002.206   \\\\\n",
       "\\textbf{Sample:}                 &    01-05-2010    & \\textbf{  HQIC               } & 11982.693   \\\\\n",
       "\\textbf{}                        &   - 05-30-2022   & \\textbf{                     } &             \\\\\n",
       "\\textbf{Covariance Type:}        &       opg        & \\textbf{                     } &             \\\\\n",
       "\\bottomrule\n",
       "\\end{tabular}\n",
       "\\begin{tabular}{lcccccc}\n",
       "                & \\textbf{coef} & \\textbf{std err} & \\textbf{z} & \\textbf{P$> |$z$|$} & \\textbf{[0.025} & \\textbf{0.975]}  \\\\\n",
       "\\midrule\n",
       "\\textbf{const}  &       0.0542  &        0.029     &     1.875  &         0.061        &       -0.002    &        0.111     \\\\\n",
       "\\textbf{ma.L1}  &       0.0529  &        0.014     &     3.858  &         0.000        &        0.026    &        0.080     \\\\\n",
       "\\textbf{ma.L2}  &      -0.0147  &        0.010     &    -1.432  &         0.152        &       -0.035    &        0.005     \\\\\n",
       "\\textbf{ma.L3}  &      -0.0074  &        0.011     &    -0.659  &         0.510        &       -0.029    &        0.015     \\\\\n",
       "\\textbf{sigma2} &       2.3625  &        0.020     &   119.395  &         0.000        &        2.324    &        2.401     \\\\\n",
       "\\bottomrule\n",
       "\\end{tabular}\n",
       "\\begin{tabular}{lclc}\n",
       "\\textbf{Ljung-Box (L1) (Q):}     & 0.00 & \\textbf{  Jarque-Bera (JB):  } & 36978.77  \\\\\n",
       "\\textbf{Prob(Q):}                & 1.00 & \\textbf{  Prob(JB):          } &   0.00    \\\\\n",
       "\\textbf{Heteroskedasticity (H):} & 1.18 & \\textbf{  Skew:              } &   0.26    \\\\\n",
       "\\textbf{Prob(H) (two-sided):}    & 0.01 & \\textbf{  Kurtosis:          } &  19.56    \\\\\n",
       "\\bottomrule\n",
       "\\end{tabular}\n",
       "%\\caption{SARIMAX Results}\n",
       "\\end{center}\n",
       "\n",
       "Warnings: \\newline\n",
       " [1] Covariance matrix calculated using the outer product of gradients (complex-step)."
      ],
      "text/plain": [
       "<class 'statsmodels.iolib.summary.Summary'>\n",
       "\"\"\"\n",
       "                               SARIMAX Results                                \n",
       "==============================================================================\n",
       "Dep. Variable:                returns   No. Observations:                 3235\n",
       "Model:                 ARIMA(0, 0, 3)   Log Likelihood               -5980.899\n",
       "Date:                Sun, 14 Sep 2025   AIC                          11971.797\n",
       "Time:                        13:43:10   BIC                          12002.206\n",
       "Sample:                    01-05-2010   HQIC                         11982.693\n",
       "                         - 05-30-2022                                         \n",
       "Covariance Type:                  opg                                         \n",
       "==============================================================================\n",
       "                 coef    std err          z      P>|z|      [0.025      0.975]\n",
       "------------------------------------------------------------------------------\n",
       "const          0.0542      0.029      1.875      0.061      -0.002       0.111\n",
       "ma.L1          0.0529      0.014      3.858      0.000       0.026       0.080\n",
       "ma.L2         -0.0147      0.010     -1.432      0.152      -0.035       0.005\n",
       "ma.L3         -0.0074      0.011     -0.659      0.510      -0.029       0.015\n",
       "sigma2         2.3625      0.020    119.395      0.000       2.324       2.401\n",
       "===================================================================================\n",
       "Ljung-Box (L1) (Q):                   0.00   Jarque-Bera (JB):             36978.77\n",
       "Prob(Q):                              1.00   Prob(JB):                         0.00\n",
       "Heteroskedasticity (H):               1.18   Skew:                             0.26\n",
       "Prob(H) (two-sided):                  0.01   Kurtosis:                        19.56\n",
       "===================================================================================\n",
       "\n",
       "Warnings:\n",
       "[1] Covariance matrix calculated using the outer product of gradients (complex-step).\n",
       "\"\"\""
      ]
     },
     "execution_count": 57,
     "metadata": {},
     "output_type": "execute_result"
    }
   ],
   "source": [
    "model_ret_MA3=ARIMA(df.returns, order=(0,0,3))\n",
    "results_ret_MA3 = model_ret_MA3.fit()\n",
    "results_ret_MA3.summary()"
   ]
  },
  {
   "cell_type": "markdown",
   "id": "92892b14",
   "metadata": {},
   "source": [
    "We stopped here only because p>z value is way more than our significance value so we will use MA1 model I  didnt stopped on MA2 model because I wanted to see can next model will be better than the previous one"
   ]
  },
  {
   "cell_type": "markdown",
   "id": "0b685a5f",
   "metadata": {},
   "source": [
    "## Performing LLR Test on Returns Value"
   ]
  },
  {
   "cell_type": "code",
   "execution_count": 58,
   "id": "dea3ea2d",
   "metadata": {},
   "outputs": [
    {
     "data": {
      "text/plain": [
       "np.float64(0.392)"
      ]
     },
     "execution_count": 58,
     "metadata": {},
     "output_type": "execute_result"
    }
   ],
   "source": [
    "LLR_test(model_ret_MA,model_ret_MA2)"
   ]
  },
  {
   "cell_type": "code",
   "execution_count": 59,
   "id": "569f4d3c",
   "metadata": {},
   "outputs": [
    {
     "data": {
      "text/plain": [
       "np.float64(0.696)"
      ]
     },
     "execution_count": 59,
     "metadata": {},
     "output_type": "execute_result"
    }
   ],
   "source": [
    "LLR_test(model_ret_MA2,model_ret_MA3)"
   ]
  },
  {
   "cell_type": "markdown",
   "id": "555c7c85",
   "metadata": {},
   "source": [
    "As this both values are more than our significance value of 5% so we will use MA1 model"
   ]
  },
  {
   "cell_type": "markdown",
   "id": "e78b5f69",
   "metadata": {},
   "source": [
    "## Normalising the values"
   ]
  },
  {
   "cell_type": "code",
   "execution_count": 60,
   "id": "98662d59",
   "metadata": {},
   "outputs": [],
   "source": [
    "## Setting some benchmarks\n",
    "benchmark=df.Market_value.iloc[0]\n",
    "df['norm']=df.Market_value/benchmark*100"
   ]
  },
  {
   "cell_type": "code",
   "execution_count": 61,
   "id": "aac1bd77",
   "metadata": {},
   "outputs": [
    {
     "data": {
      "text/html": [
       "<div>\n",
       "<style scoped>\n",
       "    .dataframe tbody tr th:only-of-type {\n",
       "        vertical-align: middle;\n",
       "    }\n",
       "\n",
       "    .dataframe tbody tr th {\n",
       "        vertical-align: top;\n",
       "    }\n",
       "\n",
       "    .dataframe thead th {\n",
       "        text-align: right;\n",
       "    }\n",
       "</style>\n",
       "<table border=\"1\" class=\"dataframe\">\n",
       "  <thead>\n",
       "    <tr style=\"text-align: right;\">\n",
       "      <th></th>\n",
       "      <th>Market_value</th>\n",
       "      <th>returns</th>\n",
       "      <th>res_price</th>\n",
       "      <th>norm</th>\n",
       "    </tr>\n",
       "    <tr>\n",
       "      <th>Date</th>\n",
       "      <th></th>\n",
       "      <th></th>\n",
       "      <th></th>\n",
       "      <th></th>\n",
       "    </tr>\n",
       "  </thead>\n",
       "  <tbody>\n",
       "    <tr>\n",
       "      <th>2010-01-05</th>\n",
       "      <td>9192.043945</td>\n",
       "      <td>0.875743</td>\n",
       "      <td>-10622.399758</td>\n",
       "      <td>100.000000</td>\n",
       "    </tr>\n",
       "    <tr>\n",
       "      <th>2010-01-06</th>\n",
       "      <td>9222.892578</td>\n",
       "      <td>0.335601</td>\n",
       "      <td>-5614.194581</td>\n",
       "      <td>100.335601</td>\n",
       "    </tr>\n",
       "    <tr>\n",
       "      <th>2010-01-07</th>\n",
       "      <td>9192.843750</td>\n",
       "      <td>-0.325807</td>\n",
       "      <td>-5849.225843</td>\n",
       "      <td>100.008701</td>\n",
       "    </tr>\n",
       "    <tr>\n",
       "      <th>2010-01-08</th>\n",
       "      <td>9160.593750</td>\n",
       "      <td>-0.350816</td>\n",
       "      <td>-2721.327494</td>\n",
       "      <td>99.657854</td>\n",
       "    </tr>\n",
       "    <tr>\n",
       "      <th>2010-01-11</th>\n",
       "      <td>9173.443359</td>\n",
       "      <td>0.140270</td>\n",
       "      <td>-3543.100830</td>\n",
       "      <td>99.797645</td>\n",
       "    </tr>\n",
       "  </tbody>\n",
       "</table>\n",
       "</div>"
      ],
      "text/plain": [
       "            Market_value   returns     res_price        norm\n",
       "Date                                                        \n",
       "2010-01-05   9192.043945  0.875743 -10622.399758  100.000000\n",
       "2010-01-06   9222.892578  0.335601  -5614.194581  100.335601\n",
       "2010-01-07   9192.843750 -0.325807  -5849.225843  100.008701\n",
       "2010-01-08   9160.593750 -0.350816  -2721.327494   99.657854\n",
       "2010-01-11   9173.443359  0.140270  -3543.100830   99.797645"
      ]
     },
     "execution_count": 61,
     "metadata": {},
     "output_type": "execute_result"
    }
   ],
   "source": [
    "df.head()"
   ]
  },
  {
   "cell_type": "code",
   "execution_count": 62,
   "id": "b16b594a",
   "metadata": {},
   "outputs": [
    {
     "data": {
      "text/plain": [
       "(np.float64(-0.7300536711250394),\n",
       " np.float64(0.838810642684706),\n",
       " 11,\n",
       " 3223,\n",
       " {'1%': np.float64(-3.4323805665026175),\n",
       "  '5%': np.float64(-2.8624371819849372),\n",
       "  '10%': np.float64(-2.5672475896829807)},\n",
       " np.float64(16898.694281111868))"
      ]
     },
     "execution_count": 62,
     "metadata": {},
     "output_type": "execute_result"
    }
   ],
   "source": [
    "## Dickey Fuller Test for normalisation\n",
    "sts.adfuller(df.norm)"
   ]
  },
  {
   "cell_type": "code",
   "execution_count": 63,
   "id": "2e01642e",
   "metadata": {},
   "outputs": [
    {
     "data": {
      "text/plain": [
       "(np.float64(-16.59802883443397),\n",
       " np.float64(1.7746991329162888e-29),\n",
       " 10,\n",
       " 3224,\n",
       " {'1%': np.float64(-3.4323799361717584),\n",
       "  '5%': np.float64(-2.862436903575556),\n",
       "  '10%': np.float64(-2.5672474414633735)},\n",
       " np.float64(42212.33614805166))"
      ]
     },
     "execution_count": 63,
     "metadata": {},
     "output_type": "execute_result"
    }
   ],
   "source": [
    "## Getting normalised Returns\n",
    "Bench_ret=df.returns.iloc[0]\n",
    "df['norm_ret']=df.returns/Bench_ret*100\n",
    "sts.adfuller(df.norm_ret)"
   ]
  },
  {
   "cell_type": "code",
   "execution_count": 64,
   "id": "1af7425f",
   "metadata": {},
   "outputs": [
    {
     "data": {
      "text/html": [
       "<div>\n",
       "<style scoped>\n",
       "    .dataframe tbody tr th:only-of-type {\n",
       "        vertical-align: middle;\n",
       "    }\n",
       "\n",
       "    .dataframe tbody tr th {\n",
       "        vertical-align: top;\n",
       "    }\n",
       "\n",
       "    .dataframe thead th {\n",
       "        text-align: right;\n",
       "    }\n",
       "</style>\n",
       "<table border=\"1\" class=\"dataframe\">\n",
       "  <thead>\n",
       "    <tr style=\"text-align: right;\">\n",
       "      <th></th>\n",
       "      <th>Market_value</th>\n",
       "      <th>returns</th>\n",
       "      <th>res_price</th>\n",
       "      <th>norm</th>\n",
       "      <th>norm_ret</th>\n",
       "    </tr>\n",
       "    <tr>\n",
       "      <th>Date</th>\n",
       "      <th></th>\n",
       "      <th></th>\n",
       "      <th></th>\n",
       "      <th></th>\n",
       "      <th></th>\n",
       "    </tr>\n",
       "  </thead>\n",
       "  <tbody>\n",
       "    <tr>\n",
       "      <th>2010-01-05</th>\n",
       "      <td>9192.043945</td>\n",
       "      <td>0.875743</td>\n",
       "      <td>-10622.399758</td>\n",
       "      <td>100.000000</td>\n",
       "      <td>100.000000</td>\n",
       "    </tr>\n",
       "    <tr>\n",
       "      <th>2010-01-06</th>\n",
       "      <td>9222.892578</td>\n",
       "      <td>0.335601</td>\n",
       "      <td>-5614.194581</td>\n",
       "      <td>100.335601</td>\n",
       "      <td>38.321928</td>\n",
       "    </tr>\n",
       "    <tr>\n",
       "      <th>2010-01-07</th>\n",
       "      <td>9192.843750</td>\n",
       "      <td>-0.325807</td>\n",
       "      <td>-5849.225843</td>\n",
       "      <td>100.008701</td>\n",
       "      <td>-37.203509</td>\n",
       "    </tr>\n",
       "    <tr>\n",
       "      <th>2010-01-08</th>\n",
       "      <td>9160.593750</td>\n",
       "      <td>-0.350816</td>\n",
       "      <td>-2721.327494</td>\n",
       "      <td>99.657854</td>\n",
       "      <td>-40.059300</td>\n",
       "    </tr>\n",
       "    <tr>\n",
       "      <th>2010-01-11</th>\n",
       "      <td>9173.443359</td>\n",
       "      <td>0.140270</td>\n",
       "      <td>-3543.100830</td>\n",
       "      <td>99.797645</td>\n",
       "      <td>16.017319</td>\n",
       "    </tr>\n",
       "  </tbody>\n",
       "</table>\n",
       "</div>"
      ],
      "text/plain": [
       "            Market_value   returns     res_price        norm    norm_ret\n",
       "Date                                                                    \n",
       "2010-01-05   9192.043945  0.875743 -10622.399758  100.000000  100.000000\n",
       "2010-01-06   9222.892578  0.335601  -5614.194581  100.335601   38.321928\n",
       "2010-01-07   9192.843750 -0.325807  -5849.225843  100.008701  -37.203509\n",
       "2010-01-08   9160.593750 -0.350816  -2721.327494   99.657854  -40.059300\n",
       "2010-01-11   9173.443359  0.140270  -3543.100830   99.797645   16.017319"
      ]
     },
     "execution_count": 64,
     "metadata": {},
     "output_type": "execute_result"
    }
   ],
   "source": [
    "df.head()"
   ]
  },
  {
   "cell_type": "markdown",
   "id": "68fa8d40",
   "metadata": {},
   "source": [
    "## Normalised Returns"
   ]
  },
  {
   "cell_type": "code",
   "execution_count": 65,
   "id": "5c3cf94e",
   "metadata": {},
   "outputs": [
    {
     "data": {
      "text/html": [
       "<table class=\"simpletable\">\n",
       "<caption>SARIMAX Results</caption>\n",
       "<tr>\n",
       "  <th>Dep. Variable:</th>       <td>norm_ret</td>     <th>  No. Observations:  </th>    <td>3235</td>   \n",
       "</tr>\n",
       "<tr>\n",
       "  <th>Model:</th>            <td>ARIMA(0, 0, 1)</td>  <th>  Log Likelihood     </th> <td>-21308.297</td>\n",
       "</tr>\n",
       "<tr>\n",
       "  <th>Date:</th>            <td>Sun, 14 Sep 2025</td> <th>  AIC                </th>  <td>42622.594</td>\n",
       "</tr>\n",
       "<tr>\n",
       "  <th>Time:</th>                <td>13:43:12</td>     <th>  BIC                </th>  <td>42640.839</td>\n",
       "</tr>\n",
       "<tr>\n",
       "  <th>Sample:</th>             <td>01-05-2010</td>    <th>  HQIC               </th>  <td>42629.132</td>\n",
       "</tr>\n",
       "<tr>\n",
       "  <th></th>                   <td>- 05-30-2022</td>   <th>                     </th>      <td> </td>    \n",
       "</tr>\n",
       "<tr>\n",
       "  <th>Covariance Type:</th>        <td>opg</td>       <th>                     </th>      <td> </td>    \n",
       "</tr>\n",
       "</table>\n",
       "<table class=\"simpletable\">\n",
       "<tr>\n",
       "     <td></td>       <th>coef</th>     <th>std err</th>      <th>z</th>      <th>P>|z|</th>  <th>[0.025</th>    <th>0.975]</th>  \n",
       "</tr>\n",
       "<tr>\n",
       "  <th>const</th>  <td>    6.1849</td> <td>    3.264</td> <td>    1.895</td> <td> 0.058</td> <td>   -0.213</td> <td>   12.583</td>\n",
       "</tr>\n",
       "<tr>\n",
       "  <th>ma.L1</th>  <td>    0.0537</td> <td>    0.013</td> <td>    4.059</td> <td> 0.000</td> <td>    0.028</td> <td>    0.080</td>\n",
       "</tr>\n",
       "<tr>\n",
       "  <th>sigma2</th> <td> 3.085e+04</td> <td>  253.125</td> <td>  121.869</td> <td> 0.000</td> <td> 3.04e+04</td> <td> 3.13e+04</td>\n",
       "</tr>\n",
       "</table>\n",
       "<table class=\"simpletable\">\n",
       "<tr>\n",
       "  <th>Ljung-Box (L1) (Q):</th>     <td>0.00</td> <th>  Jarque-Bera (JB):  </th> <td>36778.34</td>\n",
       "</tr>\n",
       "<tr>\n",
       "  <th>Prob(Q):</th>                <td>0.96</td> <th>  Prob(JB):          </th>   <td>0.00</td>  \n",
       "</tr>\n",
       "<tr>\n",
       "  <th>Heteroskedasticity (H):</th> <td>1.18</td> <th>  Skew:              </th>   <td>0.28</td>  \n",
       "</tr>\n",
       "<tr>\n",
       "  <th>Prob(H) (two-sided):</th>    <td>0.01</td> <th>  Kurtosis:          </th>   <td>19.51</td> \n",
       "</tr>\n",
       "</table><br/><br/>Warnings:<br/>[1] Covariance matrix calculated using the outer product of gradients (complex-step)."
      ],
      "text/latex": [
       "\\begin{center}\n",
       "\\begin{tabular}{lclc}\n",
       "\\toprule\n",
       "\\textbf{Dep. Variable:}          &    norm\\_ret     & \\textbf{  No. Observations:  } &    3235     \\\\\n",
       "\\textbf{Model:}                  &  ARIMA(0, 0, 1)  & \\textbf{  Log Likelihood     } & -21308.297  \\\\\n",
       "\\textbf{Date:}                   & Sun, 14 Sep 2025 & \\textbf{  AIC                } & 42622.594   \\\\\n",
       "\\textbf{Time:}                   &     13:43:12     & \\textbf{  BIC                } & 42640.839   \\\\\n",
       "\\textbf{Sample:}                 &    01-05-2010    & \\textbf{  HQIC               } & 42629.132   \\\\\n",
       "\\textbf{}                        &   - 05-30-2022   & \\textbf{                     } &             \\\\\n",
       "\\textbf{Covariance Type:}        &       opg        & \\textbf{                     } &             \\\\\n",
       "\\bottomrule\n",
       "\\end{tabular}\n",
       "\\begin{tabular}{lcccccc}\n",
       "                & \\textbf{coef} & \\textbf{std err} & \\textbf{z} & \\textbf{P$> |$z$|$} & \\textbf{[0.025} & \\textbf{0.975]}  \\\\\n",
       "\\midrule\n",
       "\\textbf{const}  &       6.1849  &        3.264     &     1.895  &         0.058        &       -0.213    &       12.583     \\\\\n",
       "\\textbf{ma.L1}  &       0.0537  &        0.013     &     4.059  &         0.000        &        0.028    &        0.080     \\\\\n",
       "\\textbf{sigma2} &    3.085e+04  &      253.125     &   121.869  &         0.000        &     3.04e+04    &     3.13e+04     \\\\\n",
       "\\bottomrule\n",
       "\\end{tabular}\n",
       "\\begin{tabular}{lclc}\n",
       "\\textbf{Ljung-Box (L1) (Q):}     & 0.00 & \\textbf{  Jarque-Bera (JB):  } & 36778.34  \\\\\n",
       "\\textbf{Prob(Q):}                & 0.96 & \\textbf{  Prob(JB):          } &   0.00    \\\\\n",
       "\\textbf{Heteroskedasticity (H):} & 1.18 & \\textbf{  Skew:              } &   0.28    \\\\\n",
       "\\textbf{Prob(H) (two-sided):}    & 0.01 & \\textbf{  Kurtosis:          } &  19.51    \\\\\n",
       "\\bottomrule\n",
       "\\end{tabular}\n",
       "%\\caption{SARIMAX Results}\n",
       "\\end{center}\n",
       "\n",
       "Warnings: \\newline\n",
       " [1] Covariance matrix calculated using the outer product of gradients (complex-step)."
      ],
      "text/plain": [
       "<class 'statsmodels.iolib.summary.Summary'>\n",
       "\"\"\"\n",
       "                               SARIMAX Results                                \n",
       "==============================================================================\n",
       "Dep. Variable:               norm_ret   No. Observations:                 3235\n",
       "Model:                 ARIMA(0, 0, 1)   Log Likelihood              -21308.297\n",
       "Date:                Sun, 14 Sep 2025   AIC                          42622.594\n",
       "Time:                        13:43:12   BIC                          42640.839\n",
       "Sample:                    01-05-2010   HQIC                         42629.132\n",
       "                         - 05-30-2022                                         \n",
       "Covariance Type:                  opg                                         \n",
       "==============================================================================\n",
       "                 coef    std err          z      P>|z|      [0.025      0.975]\n",
       "------------------------------------------------------------------------------\n",
       "const          6.1849      3.264      1.895      0.058      -0.213      12.583\n",
       "ma.L1          0.0537      0.013      4.059      0.000       0.028       0.080\n",
       "sigma2      3.085e+04    253.125    121.869      0.000    3.04e+04    3.13e+04\n",
       "===================================================================================\n",
       "Ljung-Box (L1) (Q):                   0.00   Jarque-Bera (JB):             36778.34\n",
       "Prob(Q):                              0.96   Prob(JB):                         0.00\n",
       "Heteroskedasticity (H):               1.18   Skew:                             0.28\n",
       "Prob(H) (two-sided):                  0.01   Kurtosis:                        19.51\n",
       "===================================================================================\n",
       "\n",
       "Warnings:\n",
       "[1] Covariance matrix calculated using the outer product of gradients (complex-step).\n",
       "\"\"\""
      ]
     },
     "execution_count": 65,
     "metadata": {},
     "output_type": "execute_result"
    }
   ],
   "source": [
    "model_norm_ret_ma=ARIMA(df.norm_ret, order=(0,0,1))\n",
    "results_norm_ret_ma = model_norm_ret_ma.fit()\n",
    "results_norm_ret_ma.summary()"
   ]
  },
  {
   "cell_type": "code",
   "execution_count": 66,
   "id": "875e5809",
   "metadata": {},
   "outputs": [
    {
     "data": {
      "text/html": [
       "<table class=\"simpletable\">\n",
       "<caption>SARIMAX Results</caption>\n",
       "<tr>\n",
       "  <th>Dep. Variable:</th>       <td>norm_ret</td>     <th>  No. Observations:  </th>    <td>3235</td>   \n",
       "</tr>\n",
       "<tr>\n",
       "  <th>Model:</th>            <td>ARIMA(0, 0, 2)</td>  <th>  Log Likelihood     </th> <td>-21307.933</td>\n",
       "</tr>\n",
       "<tr>\n",
       "  <th>Date:</th>            <td>Sun, 14 Sep 2025</td> <th>  AIC                </th>  <td>42623.865</td>\n",
       "</tr>\n",
       "<tr>\n",
       "  <th>Time:</th>                <td>13:43:12</td>     <th>  BIC                </th>  <td>42648.193</td>\n",
       "</tr>\n",
       "<tr>\n",
       "  <th>Sample:</th>             <td>01-05-2010</td>    <th>  HQIC               </th>  <td>42632.582</td>\n",
       "</tr>\n",
       "<tr>\n",
       "  <th></th>                   <td>- 05-30-2022</td>   <th>                     </th>      <td> </td>    \n",
       "</tr>\n",
       "<tr>\n",
       "  <th>Covariance Type:</th>        <td>opg</td>       <th>                     </th>      <td> </td>    \n",
       "</tr>\n",
       "</table>\n",
       "<table class=\"simpletable\">\n",
       "<tr>\n",
       "     <td></td>       <th>coef</th>     <th>std err</th>      <th>z</th>      <th>P>|z|</th>  <th>[0.025</th>    <th>0.975]</th>  \n",
       "</tr>\n",
       "<tr>\n",
       "  <th>const</th>  <td>    6.1849</td> <td>    3.267</td> <td>    1.893</td> <td> 0.058</td> <td>   -0.218</td> <td>   12.588</td>\n",
       "</tr>\n",
       "<tr>\n",
       "  <th>ma.L1</th>  <td>    0.0527</td> <td>    0.014</td> <td>    3.863</td> <td> 0.000</td> <td>    0.026</td> <td>    0.079</td>\n",
       "</tr>\n",
       "<tr>\n",
       "  <th>ma.L2</th>  <td>   -0.0150</td> <td>    0.010</td> <td>   -1.459</td> <td> 0.145</td> <td>   -0.035</td> <td>    0.005</td>\n",
       "</tr>\n",
       "<tr>\n",
       "  <th>sigma2</th> <td> 3.086e+04</td> <td>  253.298</td> <td>  121.839</td> <td> 0.000</td> <td> 3.04e+04</td> <td> 3.14e+04</td>\n",
       "</tr>\n",
       "</table>\n",
       "<table class=\"simpletable\">\n",
       "<tr>\n",
       "  <th>Ljung-Box (L1) (Q):</th>     <td>0.00</td> <th>  Jarque-Bera (JB):  </th> <td>36785.46</td>\n",
       "</tr>\n",
       "<tr>\n",
       "  <th>Prob(Q):</th>                <td>0.99</td> <th>  Prob(JB):          </th>   <td>0.00</td>  \n",
       "</tr>\n",
       "<tr>\n",
       "  <th>Heteroskedasticity (H):</th> <td>1.18</td> <th>  Skew:              </th>   <td>0.27</td>  \n",
       "</tr>\n",
       "<tr>\n",
       "  <th>Prob(H) (two-sided):</th>    <td>0.01</td> <th>  Kurtosis:          </th>   <td>19.51</td> \n",
       "</tr>\n",
       "</table><br/><br/>Warnings:<br/>[1] Covariance matrix calculated using the outer product of gradients (complex-step)."
      ],
      "text/latex": [
       "\\begin{center}\n",
       "\\begin{tabular}{lclc}\n",
       "\\toprule\n",
       "\\textbf{Dep. Variable:}          &    norm\\_ret     & \\textbf{  No. Observations:  } &    3235     \\\\\n",
       "\\textbf{Model:}                  &  ARIMA(0, 0, 2)  & \\textbf{  Log Likelihood     } & -21307.933  \\\\\n",
       "\\textbf{Date:}                   & Sun, 14 Sep 2025 & \\textbf{  AIC                } & 42623.865   \\\\\n",
       "\\textbf{Time:}                   &     13:43:12     & \\textbf{  BIC                } & 42648.193   \\\\\n",
       "\\textbf{Sample:}                 &    01-05-2010    & \\textbf{  HQIC               } & 42632.582   \\\\\n",
       "\\textbf{}                        &   - 05-30-2022   & \\textbf{                     } &             \\\\\n",
       "\\textbf{Covariance Type:}        &       opg        & \\textbf{                     } &             \\\\\n",
       "\\bottomrule\n",
       "\\end{tabular}\n",
       "\\begin{tabular}{lcccccc}\n",
       "                & \\textbf{coef} & \\textbf{std err} & \\textbf{z} & \\textbf{P$> |$z$|$} & \\textbf{[0.025} & \\textbf{0.975]}  \\\\\n",
       "\\midrule\n",
       "\\textbf{const}  &       6.1849  &        3.267     &     1.893  &         0.058        &       -0.218    &       12.588     \\\\\n",
       "\\textbf{ma.L1}  &       0.0527  &        0.014     &     3.863  &         0.000        &        0.026    &        0.079     \\\\\n",
       "\\textbf{ma.L2}  &      -0.0150  &        0.010     &    -1.459  &         0.145        &       -0.035    &        0.005     \\\\\n",
       "\\textbf{sigma2} &    3.086e+04  &      253.298     &   121.839  &         0.000        &     3.04e+04    &     3.14e+04     \\\\\n",
       "\\bottomrule\n",
       "\\end{tabular}\n",
       "\\begin{tabular}{lclc}\n",
       "\\textbf{Ljung-Box (L1) (Q):}     & 0.00 & \\textbf{  Jarque-Bera (JB):  } & 36785.46  \\\\\n",
       "\\textbf{Prob(Q):}                & 0.99 & \\textbf{  Prob(JB):          } &   0.00    \\\\\n",
       "\\textbf{Heteroskedasticity (H):} & 1.18 & \\textbf{  Skew:              } &   0.27    \\\\\n",
       "\\textbf{Prob(H) (two-sided):}    & 0.01 & \\textbf{  Kurtosis:          } &  19.51    \\\\\n",
       "\\bottomrule\n",
       "\\end{tabular}\n",
       "%\\caption{SARIMAX Results}\n",
       "\\end{center}\n",
       "\n",
       "Warnings: \\newline\n",
       " [1] Covariance matrix calculated using the outer product of gradients (complex-step)."
      ],
      "text/plain": [
       "<class 'statsmodels.iolib.summary.Summary'>\n",
       "\"\"\"\n",
       "                               SARIMAX Results                                \n",
       "==============================================================================\n",
       "Dep. Variable:               norm_ret   No. Observations:                 3235\n",
       "Model:                 ARIMA(0, 0, 2)   Log Likelihood              -21307.933\n",
       "Date:                Sun, 14 Sep 2025   AIC                          42623.865\n",
       "Time:                        13:43:12   BIC                          42648.193\n",
       "Sample:                    01-05-2010   HQIC                         42632.582\n",
       "                         - 05-30-2022                                         \n",
       "Covariance Type:                  opg                                         \n",
       "==============================================================================\n",
       "                 coef    std err          z      P>|z|      [0.025      0.975]\n",
       "------------------------------------------------------------------------------\n",
       "const          6.1849      3.267      1.893      0.058      -0.218      12.588\n",
       "ma.L1          0.0527      0.014      3.863      0.000       0.026       0.079\n",
       "ma.L2         -0.0150      0.010     -1.459      0.145      -0.035       0.005\n",
       "sigma2      3.086e+04    253.298    121.839      0.000    3.04e+04    3.14e+04\n",
       "===================================================================================\n",
       "Ljung-Box (L1) (Q):                   0.00   Jarque-Bera (JB):             36785.46\n",
       "Prob(Q):                              0.99   Prob(JB):                         0.00\n",
       "Heteroskedasticity (H):               1.18   Skew:                             0.27\n",
       "Prob(H) (two-sided):                  0.01   Kurtosis:                        19.51\n",
       "===================================================================================\n",
       "\n",
       "Warnings:\n",
       "[1] Covariance matrix calculated using the outer product of gradients (complex-step).\n",
       "\"\"\""
      ]
     },
     "execution_count": 66,
     "metadata": {},
     "output_type": "execute_result"
    }
   ],
   "source": [
    "model_norm_ret_ma2=ARIMA(df.norm_ret, order=(0,0,2))\n",
    "results_norm_ret_ma2 = model_norm_ret_ma2.fit()\n",
    "results_norm_ret_ma2.summary()"
   ]
  },
  {
   "cell_type": "code",
   "execution_count": 67,
   "id": "aeb40c08",
   "metadata": {},
   "outputs": [
    {
     "data": {
      "text/html": [
       "<table class=\"simpletable\">\n",
       "<caption>SARIMAX Results</caption>\n",
       "<tr>\n",
       "  <th>Dep. Variable:</th>       <td>norm_ret</td>     <th>  No. Observations:  </th>    <td>3235</td>   \n",
       "</tr>\n",
       "<tr>\n",
       "  <th>Model:</th>            <td>ARIMA(0, 0, 3)</td>  <th>  Log Likelihood     </th> <td>-21307.858</td>\n",
       "</tr>\n",
       "<tr>\n",
       "  <th>Date:</th>            <td>Sun, 14 Sep 2025</td> <th>  AIC                </th>  <td>42625.715</td>\n",
       "</tr>\n",
       "<tr>\n",
       "  <th>Time:</th>                <td>13:43:12</td>     <th>  BIC                </th>  <td>42656.124</td>\n",
       "</tr>\n",
       "<tr>\n",
       "  <th>Sample:</th>             <td>01-05-2010</td>    <th>  HQIC               </th>  <td>42636.611</td>\n",
       "</tr>\n",
       "<tr>\n",
       "  <th></th>                   <td>- 05-30-2022</td>   <th>                     </th>      <td> </td>    \n",
       "</tr>\n",
       "<tr>\n",
       "  <th>Covariance Type:</th>        <td>opg</td>       <th>                     </th>      <td> </td>    \n",
       "</tr>\n",
       "</table>\n",
       "<table class=\"simpletable\">\n",
       "<tr>\n",
       "     <td></td>       <th>coef</th>     <th>std err</th>      <th>z</th>      <th>P>|z|</th>  <th>[0.025</th>    <th>0.975]</th>  \n",
       "</tr>\n",
       "<tr>\n",
       "  <th>const</th>  <td>    6.1849</td> <td>    3.305</td> <td>    1.871</td> <td> 0.061</td> <td>   -0.292</td> <td>   12.662</td>\n",
       "</tr>\n",
       "<tr>\n",
       "  <th>ma.L1</th>  <td>    0.0529</td> <td>    0.014</td> <td>    3.850</td> <td> 0.000</td> <td>    0.026</td> <td>    0.080</td>\n",
       "</tr>\n",
       "<tr>\n",
       "  <th>ma.L2</th>  <td>   -0.0147</td> <td>    0.010</td> <td>   -1.429</td> <td> 0.153</td> <td>   -0.035</td> <td>    0.005</td>\n",
       "</tr>\n",
       "<tr>\n",
       "  <th>ma.L3</th>  <td>   -0.0074</td> <td>    0.011</td> <td>   -0.658</td> <td> 0.511</td> <td>   -0.029</td> <td>    0.015</td>\n",
       "</tr>\n",
       "<tr>\n",
       "  <th>sigma2</th> <td> 3.087e+04</td> <td>  259.107</td> <td>  119.142</td> <td> 0.000</td> <td> 3.04e+04</td> <td> 3.14e+04</td>\n",
       "</tr>\n",
       "</table>\n",
       "<table class=\"simpletable\">\n",
       "<tr>\n",
       "  <th>Ljung-Box (L1) (Q):</th>     <td>0.00</td> <th>  Jarque-Bera (JB):  </th> <td>36978.75</td>\n",
       "</tr>\n",
       "<tr>\n",
       "  <th>Prob(Q):</th>                <td>1.00</td> <th>  Prob(JB):          </th>   <td>0.00</td>  \n",
       "</tr>\n",
       "<tr>\n",
       "  <th>Heteroskedasticity (H):</th> <td>1.18</td> <th>  Skew:              </th>   <td>0.26</td>  \n",
       "</tr>\n",
       "<tr>\n",
       "  <th>Prob(H) (two-sided):</th>    <td>0.01</td> <th>  Kurtosis:          </th>   <td>19.56</td> \n",
       "</tr>\n",
       "</table><br/><br/>Warnings:<br/>[1] Covariance matrix calculated using the outer product of gradients (complex-step)."
      ],
      "text/latex": [
       "\\begin{center}\n",
       "\\begin{tabular}{lclc}\n",
       "\\toprule\n",
       "\\textbf{Dep. Variable:}          &    norm\\_ret     & \\textbf{  No. Observations:  } &    3235     \\\\\n",
       "\\textbf{Model:}                  &  ARIMA(0, 0, 3)  & \\textbf{  Log Likelihood     } & -21307.858  \\\\\n",
       "\\textbf{Date:}                   & Sun, 14 Sep 2025 & \\textbf{  AIC                } & 42625.715   \\\\\n",
       "\\textbf{Time:}                   &     13:43:12     & \\textbf{  BIC                } & 42656.124   \\\\\n",
       "\\textbf{Sample:}                 &    01-05-2010    & \\textbf{  HQIC               } & 42636.611   \\\\\n",
       "\\textbf{}                        &   - 05-30-2022   & \\textbf{                     } &             \\\\\n",
       "\\textbf{Covariance Type:}        &       opg        & \\textbf{                     } &             \\\\\n",
       "\\bottomrule\n",
       "\\end{tabular}\n",
       "\\begin{tabular}{lcccccc}\n",
       "                & \\textbf{coef} & \\textbf{std err} & \\textbf{z} & \\textbf{P$> |$z$|$} & \\textbf{[0.025} & \\textbf{0.975]}  \\\\\n",
       "\\midrule\n",
       "\\textbf{const}  &       6.1849  &        3.305     &     1.871  &         0.061        &       -0.292    &       12.662     \\\\\n",
       "\\textbf{ma.L1}  &       0.0529  &        0.014     &     3.850  &         0.000        &        0.026    &        0.080     \\\\\n",
       "\\textbf{ma.L2}  &      -0.0147  &        0.010     &    -1.429  &         0.153        &       -0.035    &        0.005     \\\\\n",
       "\\textbf{ma.L3}  &      -0.0074  &        0.011     &    -0.658  &         0.511        &       -0.029    &        0.015     \\\\\n",
       "\\textbf{sigma2} &    3.087e+04  &      259.107     &   119.142  &         0.000        &     3.04e+04    &     3.14e+04     \\\\\n",
       "\\bottomrule\n",
       "\\end{tabular}\n",
       "\\begin{tabular}{lclc}\n",
       "\\textbf{Ljung-Box (L1) (Q):}     & 0.00 & \\textbf{  Jarque-Bera (JB):  } & 36978.75  \\\\\n",
       "\\textbf{Prob(Q):}                & 1.00 & \\textbf{  Prob(JB):          } &   0.00    \\\\\n",
       "\\textbf{Heteroskedasticity (H):} & 1.18 & \\textbf{  Skew:              } &   0.26    \\\\\n",
       "\\textbf{Prob(H) (two-sided):}    & 0.01 & \\textbf{  Kurtosis:          } &  19.56    \\\\\n",
       "\\bottomrule\n",
       "\\end{tabular}\n",
       "%\\caption{SARIMAX Results}\n",
       "\\end{center}\n",
       "\n",
       "Warnings: \\newline\n",
       " [1] Covariance matrix calculated using the outer product of gradients (complex-step)."
      ],
      "text/plain": [
       "<class 'statsmodels.iolib.summary.Summary'>\n",
       "\"\"\"\n",
       "                               SARIMAX Results                                \n",
       "==============================================================================\n",
       "Dep. Variable:               norm_ret   No. Observations:                 3235\n",
       "Model:                 ARIMA(0, 0, 3)   Log Likelihood              -21307.858\n",
       "Date:                Sun, 14 Sep 2025   AIC                          42625.715\n",
       "Time:                        13:43:12   BIC                          42656.124\n",
       "Sample:                    01-05-2010   HQIC                         42636.611\n",
       "                         - 05-30-2022                                         \n",
       "Covariance Type:                  opg                                         \n",
       "==============================================================================\n",
       "                 coef    std err          z      P>|z|      [0.025      0.975]\n",
       "------------------------------------------------------------------------------\n",
       "const          6.1849      3.305      1.871      0.061      -0.292      12.662\n",
       "ma.L1          0.0529      0.014      3.850      0.000       0.026       0.080\n",
       "ma.L2         -0.0147      0.010     -1.429      0.153      -0.035       0.005\n",
       "ma.L3         -0.0074      0.011     -0.658      0.511      -0.029       0.015\n",
       "sigma2      3.087e+04    259.107    119.142      0.000    3.04e+04    3.14e+04\n",
       "===================================================================================\n",
       "Ljung-Box (L1) (Q):                   0.00   Jarque-Bera (JB):             36978.75\n",
       "Prob(Q):                              1.00   Prob(JB):                         0.00\n",
       "Heteroskedasticity (H):               1.18   Skew:                             0.26\n",
       "Prob(H) (two-sided):                  0.01   Kurtosis:                        19.56\n",
       "===================================================================================\n",
       "\n",
       "Warnings:\n",
       "[1] Covariance matrix calculated using the outer product of gradients (complex-step).\n",
       "\"\"\""
      ]
     },
     "execution_count": 67,
     "metadata": {},
     "output_type": "execute_result"
    }
   ],
   "source": [
    "model_norm_ret_ma3=ARIMA(df.norm_ret, order=(0,0,3))\n",
    "results_norm_ret_ma3 = model_norm_ret_ma3.fit()\n",
    "results_norm_ret_ma3.summary()"
   ]
  },
  {
   "cell_type": "markdown",
   "id": "f0bd06db",
   "metadata": {},
   "source": [
    "The Same Reasons as for Returns"
   ]
  },
  {
   "cell_type": "markdown",
   "id": "dccf0fd5",
   "metadata": {},
   "source": [
    "## Analysing The Residuals"
   ]
  },
  {
   "cell_type": "code",
   "execution_count": 68,
   "id": "e4750494",
   "metadata": {},
   "outputs": [],
   "source": [
    "## Adding the column of residual returns \n",
    "df['res_ret']=results_ret_MA.resid"
   ]
  },
  {
   "cell_type": "code",
   "execution_count": 69,
   "id": "75da1a8d",
   "metadata": {},
   "outputs": [
    {
     "data": {
      "text/plain": [
       "np.float64(-2.5861116279450372e-06)"
      ]
     },
     "execution_count": 69,
     "metadata": {},
     "output_type": "execute_result"
    }
   ],
   "source": [
    "## Calculating mean of residual returns \n",
    "df.res_ret.mean()"
   ]
  },
  {
   "cell_type": "code",
   "execution_count": 70,
   "id": "936b5e5a",
   "metadata": {},
   "outputs": [
    {
     "data": {
      "text/plain": [
       "2.363925796039996"
      ]
     },
     "execution_count": 70,
     "metadata": {},
     "output_type": "execute_result"
    }
   ],
   "source": [
    "## Calculating mean of residual variance\n",
    "df.res_ret.var()"
   ]
  },
  {
   "cell_type": "code",
   "execution_count": 71,
   "id": "58c49074",
   "metadata": {},
   "outputs": [
    {
     "data": {
      "text/plain": [
       "(np.float64(-16.64576979816198),\n",
       " np.float64(1.6200072417115553e-29),\n",
       " 10,\n",
       " 3224,\n",
       " {'1%': np.float64(-3.4323799361717584),\n",
       "  '5%': np.float64(-2.862436903575556),\n",
       "  '10%': np.float64(-2.5672474414633735)},\n",
       " np.float64(11842.604583609864))"
      ]
     },
     "execution_count": 71,
     "metadata": {},
     "output_type": "execute_result"
    }
   ],
   "source": [
    "## Dicky Fuller Test of Residual Returns\n",
    "sts.adfuller(df.res_ret)"
   ]
  },
  {
   "cell_type": "code",
   "execution_count": 72,
   "id": "eb36cfdf",
   "metadata": {},
   "outputs": [
    {
     "data": {
      "text/plain": [
       "Text(0.5, 1.0, 'ACF of Residuals FOR Returns')"
      ]
     },
     "execution_count": 72,
     "metadata": {},
     "output_type": "execute_result"
    },
    {
     "data": {
      "image/png": "[encoded data removed]",
      "text/plain": [
       "<Figure size 640x480 with 1 Axes>"
      ]
     },
     "metadata": {},
     "output_type": "display_data"
    }
   ],
   "source": [
    "## Ploting ACF of Residual Returns\n",
    "sgt.plot_acf(df.res_ret,lags=40,zero=False)\n",
    "plt.ylim(-0.08,0.08)\n",
    "plt.title(\"ACF of Residuals FOR Returns\",size=24)"
   ]
  },
  {
   "cell_type": "code",
   "execution_count": 73,
   "id": "32940240",
   "metadata": {},
   "outputs": [
    {
     "data": {
      "text/plain": [
       "Text(0.5, 1.0, 'Residual of Returns')"
      ]
     },
     "execution_count": 73,
     "metadata": {},
     "output_type": "execute_result"
    },
    {
     "data": {
      "image/png": "[encoded data removed]",
      "text/plain": [
       "<Figure size 2000x500 with 1 Axes>"
      ]
     },
     "metadata": {},
     "output_type": "display_data"
    }
   ],
   "source": [
    "## Ploting Residual Returns\n",
    "df.res_ret[1:].plot(figsize=(20,5))\n",
    "plt.title(\"Residual of Returns\",size=24)"
   ]
  },
  {
   "cell_type": "markdown",
   "id": "1bc85b01",
   "metadata": {},
   "source": [
    "## forcasting Furture values with our predicted ones"
   ]
  },
  {
   "cell_type": "code",
   "execution_count": 74,
   "id": "856abfeb",
   "metadata": {},
   "outputs": [],
   "source": [
    "# create variables that will help us change the periods easily instead of typing them up every time\n",
    "# make sure the start and end dates are business days, otherwise the code will result in an error\n",
    "start_date='2022-06-01'\n",
    "end_date='2025-01-1'"
   ]
  },
  {
   "cell_type": "code",
   "execution_count": 75,
   "id": "7aa1a532",
   "metadata": {},
   "outputs": [],
   "source": [
    "df_pred=result_ma4.predict(start=start_date,end=end_date)"
   ]
  },
  {
   "cell_type": "code",
   "execution_count": 76,
   "id": "5640c6c2",
   "metadata": {},
   "outputs": [
    {
     "data": {
      "text/plain": [
       "Text(0.5, 1.0, 'predictions VS actual')"
      ]
     },
     "execution_count": 76,
     "metadata": {},
     "output_type": "execute_result"
    },
    {
     "data": {
      "image/png": "[encoded data removed]",
      "text/plain": [
       "<Figure size 2000x500 with 1 Axes>"
      ]
     },
     "metadata": {},
     "output_type": "display_data"
    }
   ],
   "source": [
    "df_pred[start_date:end_date].plot(figsize=(20,5),color='red')\n",
    "test.Market_value[start_date:end_date].plot(figsize=(20,5),color='blue')\n",
    "plt.title(\"predictions VS actual\",size=20)"
   ]
  },
  {
   "cell_type": "code",
   "execution_count": 77,
   "id": "a28d9756",
   "metadata": {},
   "outputs": [],
   "source": [
    "df_pred_returns=results_ret_MA.predict(start=start_date,end=end_date)"
   ]
  },
  {
   "cell_type": "code",
   "execution_count": 78,
   "id": "b2787075",
   "metadata": {},
   "outputs": [
    {
     "data": {
      "text/plain": [
       "Text(0.5, 1.0, 'predictions VS actual')"
      ]
     },
     "execution_count": 78,
     "metadata": {},
     "output_type": "execute_result"
    },
    {
     "data": {
      "image/png": "[encoded data removed]",
      "text/plain": [
       "<Figure size 2000x500 with 1 Axes>"
      ]
     },
     "metadata": {},
     "output_type": "display_data"
    }
   ],
   "source": [
    "df_pred_returns[start_date:end_date].plot(figsize=(20,5),color='red')\n",
    "test.returns[start_date:end_date].plot(figsize=(20,5),color='blue')\n",
    "plt.title(\"predictions VS actual\",size=20)"
   ]
  },
  {
   "cell_type": "markdown",
   "id": "a39fe119",
   "metadata": {},
   "source": [
    "## a quick note that I will not use Any exogenous varianbles to brigten things up as they drastically improve model predictions\n"
   ]
  },
  {
   "cell_type": "code",
   "execution_count": null,
   "id": "07a4eb76",
   "metadata": {},
   "outputs": [],
   "source": []
  },
  {
   "cell_type": "code",
   "execution_count": null,
   "id": "e32c8869",
   "metadata": {},
   "outputs": [],
   "source": []
  }
 ],
 "metadata": {
  "kernelspec": {
   "display_name": "base",
   "language": "python",
   "name": "python3"
  },
  "language_info": {
   "codemirror_mode": {
    "name": "ipython",
    "version": 3
   },
   "file_extension": ".py",
   "mimetype": "text/x-python",
   "name": "python",
   "nbconvert_exporter": "python",
   "pygments_lexer": "ipython3",
   "version": "3.13.5"
  }
 },
 "nbformat": 4,
 "nbformat_minor": 5
}
