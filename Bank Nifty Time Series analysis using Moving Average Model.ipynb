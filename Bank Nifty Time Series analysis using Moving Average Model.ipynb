{
 "cells": [
  {
   "cell_type": "code",
   "execution_count": 1,
   "id": "8adc0779",
   "metadata": {},
   "outputs": [],
   "source": [
    "import pandas as pd\n",
    "import numpy as np\n",
    "import matplotlib.pyplot as plt\n",
    "import statsmodels.tsa.stattools as sts\n",
    "import statsmodels.graphics.tsaplots as sgt\n",
    "from statsmodels.tsa.seasonal import seasonal_decompose\n",
    "from statsmodels.tsa.arima.model import ARIMA\n",
    "from scipy.stats.distributions import chi2\n",
    "import warnings\n",
    "warnings.filterwarnings('ignore')   \n",
    "import seaborn as sns\n",
    "import yfinance as yf\n",
    "sns.set()"
   ]
  },
  {
   "cell_type": "code",
   "execution_count": 2,
   "id": "8b72fcb1",
   "metadata": {},
   "outputs": [
    {
     "name": "stderr",
     "output_type": "stream",
     "text": [
      "[*********************100%***********************]  1 of 1 completed\n",
      "[*********************100%***********************]  1 of 1 completed\n"
     ]
    }
   ],
   "source": [
    "tickers=['^NSEBANK','^NSEI']\n",
    "data = pd.DataFrame()\n",
    "for ticker in tickers:\n",
    "    data[ticker]=yf.download(ticker,start='2010-01-01',end='2025-7-7')['Close']"
   ]
  },
  {
   "cell_type": "code",
   "execution_count": 3,
   "id": "3369edf9",
   "metadata": {},
   "outputs": [
    {
     "name": "stdout",
     "output_type": "stream",
     "text": [
      "<class 'pandas.core.frame.DataFrame'>\n",
      "DatetimeIndex: 3532 entries, 2010-01-04 to 2025-07-04\n",
      "Data columns (total 2 columns):\n",
      " #   Column    Non-Null Count  Dtype  \n",
      "---  ------    --------------  -----  \n",
      " 0   ^NSEBANK  3532 non-null   float64\n",
      " 1   ^NSEI     3530 non-null   float64\n",
      "dtypes: float64(2)\n",
      "memory usage: 82.8 KB\n"
     ]
    }
   ],
   "source": [
    "data.info()"
   ]
  },
  {
   "cell_type": "code",
   "execution_count": 4,
   "id": "a898e292",
   "metadata": {},
   "outputs": [
    {
     "data": {
      "text/html": [
       "<div>\n",
       "<style scoped>\n",
       "    .dataframe tbody tr th:only-of-type {\n",
       "        vertical-align: middle;\n",
       "    }\n",
       "\n",
       "    .dataframe tbody tr th {\n",
       "        vertical-align: top;\n",
       "    }\n",
       "\n",
       "    .dataframe thead th {\n",
       "        text-align: right;\n",
       "    }\n",
       "</style>\n",
       "<table border=\"1\" class=\"dataframe\">\n",
       "  <thead>\n",
       "    <tr style=\"text-align: right;\">\n",
       "      <th></th>\n",
       "      <th>^NSEBANK</th>\n",
       "      <th>^NSEI</th>\n",
       "    </tr>\n",
       "    <tr>\n",
       "      <th>Date</th>\n",
       "      <th></th>\n",
       "      <th></th>\n",
       "    </tr>\n",
       "  </thead>\n",
       "  <tbody>\n",
       "    <tr>\n",
       "      <th>2010-01-04</th>\n",
       "      <td>9112.244141</td>\n",
       "      <td>5232.200195</td>\n",
       "    </tr>\n",
       "    <tr>\n",
       "      <th>2010-01-05</th>\n",
       "      <td>9192.043945</td>\n",
       "      <td>5277.899902</td>\n",
       "    </tr>\n",
       "    <tr>\n",
       "      <th>2010-01-06</th>\n",
       "      <td>9222.892578</td>\n",
       "      <td>5281.799805</td>\n",
       "    </tr>\n",
       "    <tr>\n",
       "      <th>2010-01-07</th>\n",
       "      <td>9192.843750</td>\n",
       "      <td>5263.100098</td>\n",
       "    </tr>\n",
       "    <tr>\n",
       "      <th>2010-01-08</th>\n",
       "      <td>9160.593750</td>\n",
       "      <td>5244.750000</td>\n",
       "    </tr>\n",
       "  </tbody>\n",
       "</table>\n",
       "</div>"
      ],
      "text/plain": [
       "               ^NSEBANK        ^NSEI\n",
       "Date                                \n",
       "2010-01-04  9112.244141  5232.200195\n",
       "2010-01-05  9192.043945  5277.899902\n",
       "2010-01-06  9222.892578  5281.799805\n",
       "2010-01-07  9192.843750  5263.100098\n",
       "2010-01-08  9160.593750  5244.750000"
      ]
     },
     "execution_count": 4,
     "metadata": {},
     "output_type": "execute_result"
    }
   ],
   "source": [
    "data.head()"
   ]
  },
  {
   "cell_type": "code",
   "execution_count": 5,
   "id": "fd768c35",
   "metadata": {},
   "outputs": [
    {
     "data": {
      "text/plain": [
       "^NSEBANK    0\n",
       "^NSEI       2\n",
       "dtype: int64"
      ]
     },
     "execution_count": 5,
     "metadata": {},
     "output_type": "execute_result"
    }
   ],
   "source": [
    "data.isna().sum()"
   ]
  },
  {
   "cell_type": "code",
   "execution_count": 6,
   "id": "e4500d4e",
   "metadata": {},
   "outputs": [],
   "source": [
    "## Dropping Null Values\n",
    "data.dropna(inplace=True)"
   ]
  },
  {
   "cell_type": "code",
   "execution_count": 7,
   "id": "d9a68194",
   "metadata": {},
   "outputs": [
    {
     "data": {
      "text/plain": [
       "^NSEBANK    0\n",
       "^NSEI       0\n",
       "dtype: int64"
      ]
     },
     "execution_count": 7,
     "metadata": {},
     "output_type": "execute_result"
    }
   ],
   "source": [
    "data.isna().sum()"
   ]
  },
  {
   "cell_type": "code",
   "execution_count": 8,
   "id": "937ff9e5",
   "metadata": {},
   "outputs": [],
   "source": [
    "df=data.copy()"
   ]
  },
  {
   "cell_type": "code",
   "execution_count": 9,
   "id": "f116acbb",
   "metadata": {},
   "outputs": [
    {
     "data": {
      "text/html": [
       "<div>\n",
       "<style scoped>\n",
       "    .dataframe tbody tr th:only-of-type {\n",
       "        vertical-align: middle;\n",
       "    }\n",
       "\n",
       "    .dataframe tbody tr th {\n",
       "        vertical-align: top;\n",
       "    }\n",
       "\n",
       "    .dataframe thead th {\n",
       "        text-align: right;\n",
       "    }\n",
       "</style>\n",
       "<table border=\"1\" class=\"dataframe\">\n",
       "  <thead>\n",
       "    <tr style=\"text-align: right;\">\n",
       "      <th></th>\n",
       "      <th>^NSEBANK</th>\n",
       "      <th>^NSEI</th>\n",
       "    </tr>\n",
       "    <tr>\n",
       "      <th>Date</th>\n",
       "      <th></th>\n",
       "      <th></th>\n",
       "    </tr>\n",
       "  </thead>\n",
       "  <tbody>\n",
       "    <tr>\n",
       "      <th>2010-01-04</th>\n",
       "      <td>9112.244141</td>\n",
       "      <td>5232.200195</td>\n",
       "    </tr>\n",
       "    <tr>\n",
       "      <th>2010-01-05</th>\n",
       "      <td>9192.043945</td>\n",
       "      <td>5277.899902</td>\n",
       "    </tr>\n",
       "    <tr>\n",
       "      <th>2010-01-06</th>\n",
       "      <td>9222.892578</td>\n",
       "      <td>5281.799805</td>\n",
       "    </tr>\n",
       "    <tr>\n",
       "      <th>2010-01-07</th>\n",
       "      <td>9192.843750</td>\n",
       "      <td>5263.100098</td>\n",
       "    </tr>\n",
       "    <tr>\n",
       "      <th>2010-01-08</th>\n",
       "      <td>9160.593750</td>\n",
       "      <td>5244.750000</td>\n",
       "    </tr>\n",
       "  </tbody>\n",
       "</table>\n",
       "</div>"
      ],
      "text/plain": [
       "               ^NSEBANK        ^NSEI\n",
       "Date                                \n",
       "2010-01-04  9112.244141  5232.200195\n",
       "2010-01-05  9192.043945  5277.899902\n",
       "2010-01-06  9222.892578  5281.799805\n",
       "2010-01-07  9192.843750  5263.100098\n",
       "2010-01-08  9160.593750  5244.750000"
      ]
     },
     "execution_count": 9,
     "metadata": {},
     "output_type": "execute_result"
    }
   ],
   "source": [
    "df.head()"
   ]
  },
  {
   "cell_type": "code",
   "execution_count": 10,
   "id": "348a072f",
   "metadata": {},
   "outputs": [],
   "source": [
    "df=df.asfreq('B')"
   ]
  },
  {
   "cell_type": "code",
   "execution_count": 11,
   "id": "c4fa3685",
   "metadata": {},
   "outputs": [
    {
     "data": {
      "text/html": [
       "<div>\n",
       "<style scoped>\n",
       "    .dataframe tbody tr th:only-of-type {\n",
       "        vertical-align: middle;\n",
       "    }\n",
       "\n",
       "    .dataframe tbody tr th {\n",
       "        vertical-align: top;\n",
       "    }\n",
       "\n",
       "    .dataframe thead th {\n",
       "        text-align: right;\n",
       "    }\n",
       "</style>\n",
       "<table border=\"1\" class=\"dataframe\">\n",
       "  <thead>\n",
       "    <tr style=\"text-align: right;\">\n",
       "      <th></th>\n",
       "      <th>^NSEBANK</th>\n",
       "      <th>^NSEI</th>\n",
       "    </tr>\n",
       "    <tr>\n",
       "      <th>Date</th>\n",
       "      <th></th>\n",
       "      <th></th>\n",
       "    </tr>\n",
       "  </thead>\n",
       "  <tbody>\n",
       "    <tr>\n",
       "      <th>2010-01-04</th>\n",
       "      <td>9112.244141</td>\n",
       "      <td>5232.200195</td>\n",
       "    </tr>\n",
       "    <tr>\n",
       "      <th>2010-01-05</th>\n",
       "      <td>9192.043945</td>\n",
       "      <td>5277.899902</td>\n",
       "    </tr>\n",
       "    <tr>\n",
       "      <th>2010-01-06</th>\n",
       "      <td>9222.892578</td>\n",
       "      <td>5281.799805</td>\n",
       "    </tr>\n",
       "    <tr>\n",
       "      <th>2010-01-07</th>\n",
       "      <td>9192.843750</td>\n",
       "      <td>5263.100098</td>\n",
       "    </tr>\n",
       "    <tr>\n",
       "      <th>2010-01-08</th>\n",
       "      <td>9160.593750</td>\n",
       "      <td>5244.750000</td>\n",
       "    </tr>\n",
       "  </tbody>\n",
       "</table>\n",
       "</div>"
      ],
      "text/plain": [
       "               ^NSEBANK        ^NSEI\n",
       "Date                                \n",
       "2010-01-04  9112.244141  5232.200195\n",
       "2010-01-05  9192.043945  5277.899902\n",
       "2010-01-06  9222.892578  5281.799805\n",
       "2010-01-07  9192.843750  5263.100098\n",
       "2010-01-08  9160.593750  5244.750000"
      ]
     },
     "execution_count": 11,
     "metadata": {},
     "output_type": "execute_result"
    }
   ],
   "source": [
    "df.head()"
   ]
  },
  {
   "cell_type": "code",
   "execution_count": 12,
   "id": "aaf88af9",
   "metadata": {},
   "outputs": [
    {
     "data": {
      "text/plain": [
       "^NSEBANK    515\n",
       "^NSEI       515\n",
       "dtype: int64"
      ]
     },
     "execution_count": 12,
     "metadata": {},
     "output_type": "execute_result"
    }
   ],
   "source": [
    "df.isna().sum()"
   ]
  },
  {
   "cell_type": "code",
   "execution_count": 13,
   "id": "c681ea0f",
   "metadata": {},
   "outputs": [],
   "source": [
    "df.fillna(method='ffill',inplace=True)"
   ]
  },
  {
   "cell_type": "code",
   "execution_count": 14,
   "id": "18cbb2a7",
   "metadata": {},
   "outputs": [
    {
     "data": {
      "text/plain": [
       "^NSEBANK    0\n",
       "^NSEI       0\n",
       "dtype: int64"
      ]
     },
     "execution_count": 14,
     "metadata": {},
     "output_type": "execute_result"
    }
   ],
   "source": [
    "df.isna().sum()"
   ]
  },
  {
   "cell_type": "code",
   "execution_count": 15,
   "id": "5cbbd797",
   "metadata": {},
   "outputs": [],
   "source": [
    "## Simplyfying the Datasets\n",
    "df['Market_value']=df['^NSEBANK']"
   ]
  },
  {
   "cell_type": "code",
   "execution_count": 16,
   "id": "dfefbc07",
   "metadata": {},
   "outputs": [
    {
     "data": {
      "text/html": [
       "<div>\n",
       "<style scoped>\n",
       "    .dataframe tbody tr th:only-of-type {\n",
       "        vertical-align: middle;\n",
       "    }\n",
       "\n",
       "    .dataframe tbody tr th {\n",
       "        vertical-align: top;\n",
       "    }\n",
       "\n",
       "    .dataframe thead th {\n",
       "        text-align: right;\n",
       "    }\n",
       "</style>\n",
       "<table border=\"1\" class=\"dataframe\">\n",
       "  <thead>\n",
       "    <tr style=\"text-align: right;\">\n",
       "      <th></th>\n",
       "      <th>^NSEBANK</th>\n",
       "      <th>^NSEI</th>\n",
       "      <th>Market_value</th>\n",
       "    </tr>\n",
       "    <tr>\n",
       "      <th>Date</th>\n",
       "      <th></th>\n",
       "      <th></th>\n",
       "      <th></th>\n",
       "    </tr>\n",
       "  </thead>\n",
       "  <tbody>\n",
       "    <tr>\n",
       "      <th>2010-01-04</th>\n",
       "      <td>9112.244141</td>\n",
       "      <td>5232.200195</td>\n",
       "      <td>9112.244141</td>\n",
       "    </tr>\n",
       "    <tr>\n",
       "      <th>2010-01-05</th>\n",
       "      <td>9192.043945</td>\n",
       "      <td>5277.899902</td>\n",
       "      <td>9192.043945</td>\n",
       "    </tr>\n",
       "    <tr>\n",
       "      <th>2010-01-06</th>\n",
       "      <td>9222.892578</td>\n",
       "      <td>5281.799805</td>\n",
       "      <td>9222.892578</td>\n",
       "    </tr>\n",
       "    <tr>\n",
       "      <th>2010-01-07</th>\n",
       "      <td>9192.843750</td>\n",
       "      <td>5263.100098</td>\n",
       "      <td>9192.843750</td>\n",
       "    </tr>\n",
       "    <tr>\n",
       "      <th>2010-01-08</th>\n",
       "      <td>9160.593750</td>\n",
       "      <td>5244.750000</td>\n",
       "      <td>9160.593750</td>\n",
       "    </tr>\n",
       "  </tbody>\n",
       "</table>\n",
       "</div>"
      ],
      "text/plain": [
       "               ^NSEBANK        ^NSEI  Market_value\n",
       "Date                                              \n",
       "2010-01-04  9112.244141  5232.200195   9112.244141\n",
       "2010-01-05  9192.043945  5277.899902   9192.043945\n",
       "2010-01-06  9222.892578  5281.799805   9222.892578\n",
       "2010-01-07  9192.843750  5263.100098   9192.843750\n",
       "2010-01-08  9160.593750  5244.750000   9160.593750"
      ]
     },
     "execution_count": 16,
     "metadata": {},
     "output_type": "execute_result"
    }
   ],
   "source": [
    "df.head()"
   ]
  },
  {
   "cell_type": "code",
   "execution_count": 17,
   "id": "402e07ab",
   "metadata": {},
   "outputs": [],
   "source": [
    "## Deleting Extra Columns \n",
    "del df['^NSEBANK'],df['^NSEI']"
   ]
  },
  {
   "cell_type": "code",
   "execution_count": 18,
   "id": "14fc719b",
   "metadata": {},
   "outputs": [
    {
     "data": {
      "text/html": [
       "<div>\n",
       "<style scoped>\n",
       "    .dataframe tbody tr th:only-of-type {\n",
       "        vertical-align: middle;\n",
       "    }\n",
       "\n",
       "    .dataframe tbody tr th {\n",
       "        vertical-align: top;\n",
       "    }\n",
       "\n",
       "    .dataframe thead th {\n",
       "        text-align: right;\n",
       "    }\n",
       "</style>\n",
       "<table border=\"1\" class=\"dataframe\">\n",
       "  <thead>\n",
       "    <tr style=\"text-align: right;\">\n",
       "      <th></th>\n",
       "      <th>Market_value</th>\n",
       "    </tr>\n",
       "    <tr>\n",
       "      <th>Date</th>\n",
       "      <th></th>\n",
       "    </tr>\n",
       "  </thead>\n",
       "  <tbody>\n",
       "    <tr>\n",
       "      <th>2010-01-04</th>\n",
       "      <td>9112.244141</td>\n",
       "    </tr>\n",
       "    <tr>\n",
       "      <th>2010-01-05</th>\n",
       "      <td>9192.043945</td>\n",
       "    </tr>\n",
       "    <tr>\n",
       "      <th>2010-01-06</th>\n",
       "      <td>9222.892578</td>\n",
       "    </tr>\n",
       "    <tr>\n",
       "      <th>2010-01-07</th>\n",
       "      <td>9192.843750</td>\n",
       "    </tr>\n",
       "    <tr>\n",
       "      <th>2010-01-08</th>\n",
       "      <td>9160.593750</td>\n",
       "    </tr>\n",
       "  </tbody>\n",
       "</table>\n",
       "</div>"
      ],
      "text/plain": [
       "            Market_value\n",
       "Date                    \n",
       "2010-01-04   9112.244141\n",
       "2010-01-05   9192.043945\n",
       "2010-01-06   9222.892578\n",
       "2010-01-07   9192.843750\n",
       "2010-01-08   9160.593750"
      ]
     },
     "execution_count": 18,
     "metadata": {},
     "output_type": "execute_result"
    }
   ],
   "source": [
    "df.head()"
   ]
  },
  {
   "cell_type": "code",
   "execution_count": 19,
   "id": "02700a1a",
   "metadata": {},
   "outputs": [
    {
     "data": {
      "text/html": [
       "<div>\n",
       "<style scoped>\n",
       "    .dataframe tbody tr th:only-of-type {\n",
       "        vertical-align: middle;\n",
       "    }\n",
       "\n",
       "    .dataframe tbody tr th {\n",
       "        vertical-align: top;\n",
       "    }\n",
       "\n",
       "    .dataframe thead th {\n",
       "        text-align: right;\n",
       "    }\n",
       "</style>\n",
       "<table border=\"1\" class=\"dataframe\">\n",
       "  <thead>\n",
       "    <tr style=\"text-align: right;\">\n",
       "      <th></th>\n",
       "      <th>Market_value</th>\n",
       "    </tr>\n",
       "  </thead>\n",
       "  <tbody>\n",
       "    <tr>\n",
       "      <th>count</th>\n",
       "      <td>4045.000000</td>\n",
       "    </tr>\n",
       "    <tr>\n",
       "      <th>mean</th>\n",
       "      <td>25076.327577</td>\n",
       "    </tr>\n",
       "    <tr>\n",
       "      <th>std</th>\n",
       "      <td>13321.497160</td>\n",
       "    </tr>\n",
       "    <tr>\n",
       "      <th>min</th>\n",
       "      <td>7798.458984</td>\n",
       "    </tr>\n",
       "    <tr>\n",
       "      <th>25%</th>\n",
       "      <td>12424.555664</td>\n",
       "    </tr>\n",
       "    <tr>\n",
       "      <th>50%</th>\n",
       "      <td>22264.642578</td>\n",
       "    </tr>\n",
       "    <tr>\n",
       "      <th>75%</th>\n",
       "      <td>35123.988281</td>\n",
       "    </tr>\n",
       "    <tr>\n",
       "      <th>max</th>\n",
       "      <td>57459.449219</td>\n",
       "    </tr>\n",
       "  </tbody>\n",
       "</table>\n",
       "</div>"
      ],
      "text/plain": [
       "       Market_value\n",
       "count   4045.000000\n",
       "mean   25076.327577\n",
       "std    13321.497160\n",
       "min     7798.458984\n",
       "25%    12424.555664\n",
       "50%    22264.642578\n",
       "75%    35123.988281\n",
       "max    57459.449219"
      ]
     },
     "execution_count": 19,
     "metadata": {},
     "output_type": "execute_result"
    }
   ],
   "source": [
    "df.describe()"
   ]
  },
  {
   "cell_type": "code",
   "execution_count": 20,
   "id": "86d5d0d0",
   "metadata": {},
   "outputs": [],
   "source": [
    "## Spliting the Date\n",
    "size=int(len(df)*0.8)\n",
    "train=df.iloc[:size]\n",
    "test=df.iloc[size:]"
   ]
  },
  {
   "cell_type": "code",
   "execution_count": 21,
   "id": "a7629190",
   "metadata": {},
   "outputs": [
    {
     "data": {
      "text/html": [
       "<div>\n",
       "<style scoped>\n",
       "    .dataframe tbody tr th:only-of-type {\n",
       "        vertical-align: middle;\n",
       "    }\n",
       "\n",
       "    .dataframe tbody tr th {\n",
       "        vertical-align: top;\n",
       "    }\n",
       "\n",
       "    .dataframe thead th {\n",
       "        text-align: right;\n",
       "    }\n",
       "</style>\n",
       "<table border=\"1\" class=\"dataframe\">\n",
       "  <thead>\n",
       "    <tr style=\"text-align: right;\">\n",
       "      <th></th>\n",
       "      <th>Market_value</th>\n",
       "    </tr>\n",
       "    <tr>\n",
       "      <th>Date</th>\n",
       "      <th></th>\n",
       "    </tr>\n",
       "  </thead>\n",
       "  <tbody>\n",
       "    <tr>\n",
       "      <th>2022-05-24</th>\n",
       "      <td>34289.750000</td>\n",
       "    </tr>\n",
       "    <tr>\n",
       "      <th>2022-05-25</th>\n",
       "      <td>34339.101562</td>\n",
       "    </tr>\n",
       "    <tr>\n",
       "      <th>2022-05-26</th>\n",
       "      <td>35094.492188</td>\n",
       "    </tr>\n",
       "    <tr>\n",
       "      <th>2022-05-27</th>\n",
       "      <td>35612.886719</td>\n",
       "    </tr>\n",
       "    <tr>\n",
       "      <th>2022-05-30</th>\n",
       "      <td>35826.531250</td>\n",
       "    </tr>\n",
       "  </tbody>\n",
       "</table>\n",
       "</div>"
      ],
      "text/plain": [
       "            Market_value\n",
       "Date                    \n",
       "2022-05-24  34289.750000\n",
       "2022-05-25  34339.101562\n",
       "2022-05-26  35094.492188\n",
       "2022-05-27  35612.886719\n",
       "2022-05-30  35826.531250"
      ]
     },
     "execution_count": 21,
     "metadata": {},
     "output_type": "execute_result"
    }
   ],
   "source": [
    "train.tail()"
   ]
  },
  {
   "cell_type": "code",
   "execution_count": 22,
   "id": "88044ffa",
   "metadata": {},
   "outputs": [
    {
     "data": {
      "text/html": [
       "<div>\n",
       "<style scoped>\n",
       "    .dataframe tbody tr th:only-of-type {\n",
       "        vertical-align: middle;\n",
       "    }\n",
       "\n",
       "    .dataframe tbody tr th {\n",
       "        vertical-align: top;\n",
       "    }\n",
       "\n",
       "    .dataframe thead th {\n",
       "        text-align: right;\n",
       "    }\n",
       "</style>\n",
       "<table border=\"1\" class=\"dataframe\">\n",
       "  <thead>\n",
       "    <tr style=\"text-align: right;\">\n",
       "      <th></th>\n",
       "      <th>Market_value</th>\n",
       "    </tr>\n",
       "    <tr>\n",
       "      <th>Date</th>\n",
       "      <th></th>\n",
       "    </tr>\n",
       "  </thead>\n",
       "  <tbody>\n",
       "    <tr>\n",
       "      <th>2022-05-31</th>\n",
       "      <td>35486.984375</td>\n",
       "    </tr>\n",
       "    <tr>\n",
       "      <th>2022-06-01</th>\n",
       "      <td>35620.386719</td>\n",
       "    </tr>\n",
       "    <tr>\n",
       "      <th>2022-06-02</th>\n",
       "      <td>35613.234375</td>\n",
       "    </tr>\n",
       "    <tr>\n",
       "      <th>2022-06-03</th>\n",
       "      <td>35274.640625</td>\n",
       "    </tr>\n",
       "    <tr>\n",
       "      <th>2022-06-06</th>\n",
       "      <td>35309.789062</td>\n",
       "    </tr>\n",
       "  </tbody>\n",
       "</table>\n",
       "</div>"
      ],
      "text/plain": [
       "            Market_value\n",
       "Date                    \n",
       "2022-05-31  35486.984375\n",
       "2022-06-01  35620.386719\n",
       "2022-06-02  35613.234375\n",
       "2022-06-03  35274.640625\n",
       "2022-06-06  35309.789062"
      ]
     },
     "execution_count": 22,
     "metadata": {},
     "output_type": "execute_result"
    }
   ],
   "source": [
    "test.head()"
   ]
  },
  {
   "cell_type": "markdown",
   "id": "3f5a3489",
   "metadata": {},
   "source": [
    "## ploting ACF anf PACF plots"
   ]
  },
  {
   "cell_type": "code",
   "execution_count": 23,
   "id": "a719a17c",
   "metadata": {},
   "outputs": [
    {
     "data": {
      "text/plain": [
       "Text(0.5, 1.0, 'ACF Bank Nifty')"
      ]
     },
     "execution_count": 23,
     "metadata": {},
     "output_type": "execute_result"
    },
    {
     "data": {
      "image/png": "[encoded data removed]",
      "text/plain": [
       "<Figure size 640x480 with 1 Axes>"
      ]
     },
     "metadata": {},
     "output_type": "display_data"
    }
   ],
   "source": [
    "## ACF\n",
    "sgt.plot_acf(df.Market_value,lags=40,zero=False)\n",
    "plt.ylim(-1.1,1.1)\n",
    "plt.title(\"ACF Bank Nifty\",size=24)"
   ]
  },
  {
   "cell_type": "code",
   "execution_count": 24,
   "id": "884fb464",
   "metadata": {},
   "outputs": [
    {
     "data": {
      "text/plain": [
       "Text(0.5, 1.0, 'PACF Bank Nifty')"
      ]
     },
     "execution_count": 24,
     "metadata": {},
     "output_type": "execute_result"
    },
    {
     "data": {
      "image/png": "[encoded data removed]",
      "text/plain": [
       "<Figure size 640x480 with 1 Axes>"
      ]
     },
     "metadata": {},
     "output_type": "display_data"
    }
   ],
   "source": [
    "## Pacf \n",
    "sgt.plot_pacf(df.Market_value,lags=40,zero=False,method=('ols'))\n",
    "plt.title(\"PACF Bank Nifty\",size=24)"
   ]
  },
  {
   "cell_type": "code",
   "execution_count": 25,
   "id": "be78a528",
   "metadata": {},
   "outputs": [],
   "source": [
    "## Defining LLR Test for Easy Comparison\n",
    "def LLR_test(mod_1, mod_2, DF = 1):\n",
    "    L1 = mod_1.fit().llf\n",
    "    L2 = mod_2.fit().llf\n",
    "    LR = (2*(L2-L1))    \n",
    "    p = chi2.sf(LR, DF).round(3)\n",
    "    return p"
   ]
  },
  {
   "cell_type": "markdown",
   "id": "e4727b86",
   "metadata": {},
   "source": [
    "## Creating Multiple MA models for many Lags and comparing them (for Prices)\n"
   ]
  },
  {
   "cell_type": "code",
   "execution_count": 26,
   "id": "f994672a",
   "metadata": {},
   "outputs": [
    {
     "data": {
      "text/html": [
       "<table class=\"simpletable\">\n",
       "<caption>SARIMAX Results</caption>\n",
       "<tr>\n",
       "  <th>Dep. Variable:</th>     <td>Market_value</td>   <th>  No. Observations:  </th>    <td>4045</td>   \n",
       "</tr>\n",
       "<tr>\n",
       "  <th>Model:</th>            <td>ARIMA(0, 0, 1)</td>  <th>  Log Likelihood     </th> <td>-41428.903</td>\n",
       "</tr>\n",
       "<tr>\n",
       "  <th>Date:</th>            <td>Sun, 07 Sep 2025</td> <th>  AIC                </th>  <td>82863.806</td>\n",
       "</tr>\n",
       "<tr>\n",
       "  <th>Time:</th>                <td>15:02:26</td>     <th>  BIC                </th>  <td>82882.722</td>\n",
       "</tr>\n",
       "<tr>\n",
       "  <th>Sample:</th>             <td>01-04-2010</td>    <th>  HQIC               </th>  <td>82870.507</td>\n",
       "</tr>\n",
       "<tr>\n",
       "  <th></th>                   <td>- 07-04-2025</td>   <th>                     </th>      <td> </td>    \n",
       "</tr>\n",
       "<tr>\n",
       "  <th>Covariance Type:</th>        <td>opg</td>       <th>                     </th>      <td> </td>    \n",
       "</tr>\n",
       "</table>\n",
       "<table class=\"simpletable\">\n",
       "<tr>\n",
       "     <td></td>       <th>coef</th>     <th>std err</th>      <th>z</th>      <th>P>|z|</th>  <th>[0.025</th>    <th>0.975]</th>  \n",
       "</tr>\n",
       "<tr>\n",
       "  <th>const</th>  <td> 2.508e+04</td> <td>  211.466</td> <td>  118.585</td> <td> 0.000</td> <td> 2.47e+04</td> <td> 2.55e+04</td>\n",
       "</tr>\n",
       "<tr>\n",
       "  <th>ma.L1</th>  <td>    0.9814</td> <td>    0.003</td> <td>  351.730</td> <td> 0.000</td> <td>    0.976</td> <td>    0.987</td>\n",
       "</tr>\n",
       "<tr>\n",
       "  <th>sigma2</th> <td> 4.605e+07</td> <td>    0.019</td> <td> 2.41e+09</td> <td> 0.000</td> <td> 4.61e+07</td> <td> 4.61e+07</td>\n",
       "</tr>\n",
       "</table>\n",
       "<table class=\"simpletable\">\n",
       "<tr>\n",
       "  <th>Ljung-Box (L1) (Q):</th>     <td>3755.23</td> <th>  Jarque-Bera (JB):  </th> <td>346.37</td>\n",
       "</tr>\n",
       "<tr>\n",
       "  <th>Prob(Q):</th>                 <td>0.00</td>   <th>  Prob(JB):          </th>  <td>0.00</td> \n",
       "</tr>\n",
       "<tr>\n",
       "  <th>Heteroskedasticity (H):</th>  <td>1.73</td>   <th>  Skew:              </th>  <td>0.62</td> \n",
       "</tr>\n",
       "<tr>\n",
       "  <th>Prob(H) (two-sided):</th>     <td>0.00</td>   <th>  Kurtosis:          </th>  <td>2.29</td> \n",
       "</tr>\n",
       "</table><br/><br/>Warnings:<br/>[1] Covariance matrix calculated using the outer product of gradients (complex-step).<br/>[2] Covariance matrix is singular or near-singular, with condition number 4.02e+23. Standard errors may be unstable."
      ],
      "text/latex": [
       "\\begin{center}\n",
       "\\begin{tabular}{lclc}\n",
       "\\toprule\n",
       "\\textbf{Dep. Variable:}          &  Market\\_value   & \\textbf{  No. Observations:  } &    4045     \\\\\n",
       "\\textbf{Model:}                  &  ARIMA(0, 0, 1)  & \\textbf{  Log Likelihood     } & -41428.903  \\\\\n",
       "\\textbf{Date:}                   & Sun, 07 Sep 2025 & \\textbf{  AIC                } & 82863.806   \\\\\n",
       "\\textbf{Time:}                   &     15:02:26     & \\textbf{  BIC                } & 82882.722   \\\\\n",
       "\\textbf{Sample:}                 &    01-04-2010    & \\textbf{  HQIC               } & 82870.507   \\\\\n",
       "\\textbf{}                        &   - 07-04-2025   & \\textbf{                     } &             \\\\\n",
       "\\textbf{Covariance Type:}        &       opg        & \\textbf{                     } &             \\\\\n",
       "\\bottomrule\n",
       "\\end{tabular}\n",
       "\\begin{tabular}{lcccccc}\n",
       "                & \\textbf{coef} & \\textbf{std err} & \\textbf{z} & \\textbf{P$> |$z$|$} & \\textbf{[0.025} & \\textbf{0.975]}  \\\\\n",
       "\\midrule\n",
       "\\textbf{const}  &    2.508e+04  &      211.466     &   118.585  &         0.000        &     2.47e+04    &     2.55e+04     \\\\\n",
       "\\textbf{ma.L1}  &       0.9814  &        0.003     &   351.730  &         0.000        &        0.976    &        0.987     \\\\\n",
       "\\textbf{sigma2} &    4.605e+07  &        0.019     &  2.41e+09  &         0.000        &     4.61e+07    &     4.61e+07     \\\\\n",
       "\\bottomrule\n",
       "\\end{tabular}\n",
       "\\begin{tabular}{lclc}\n",
       "\\textbf{Ljung-Box (L1) (Q):}     & 3755.23 & \\textbf{  Jarque-Bera (JB):  } & 346.37  \\\\\n",
       "\\textbf{Prob(Q):}                &   0.00  & \\textbf{  Prob(JB):          } &  0.00   \\\\\n",
       "\\textbf{Heteroskedasticity (H):} &   1.73  & \\textbf{  Skew:              } &  0.62   \\\\\n",
       "\\textbf{Prob(H) (two-sided):}    &   0.00  & \\textbf{  Kurtosis:          } &  2.29   \\\\\n",
       "\\bottomrule\n",
       "\\end{tabular}\n",
       "%\\caption{SARIMAX Results}\n",
       "\\end{center}\n",
       "\n",
       "Warnings: \\newline\n",
       " [1] Covariance matrix calculated using the outer product of gradients (complex-step). \\newline\n",
       " [2] Covariance matrix is singular or near-singular, with condition number 4.02e+23. Standard errors may be unstable."
      ],
      "text/plain": [
       "<class 'statsmodels.iolib.summary.Summary'>\n",
       "\"\"\"\n",
       "                               SARIMAX Results                                \n",
       "==============================================================================\n",
       "Dep. Variable:           Market_value   No. Observations:                 4045\n",
       "Model:                 ARIMA(0, 0, 1)   Log Likelihood              -41428.903\n",
       "Date:                Sun, 07 Sep 2025   AIC                          82863.806\n",
       "Time:                        15:02:26   BIC                          82882.722\n",
       "Sample:                    01-04-2010   HQIC                         82870.507\n",
       "                         - 07-04-2025                                         \n",
       "Covariance Type:                  opg                                         \n",
       "==============================================================================\n",
       "                 coef    std err          z      P>|z|      [0.025      0.975]\n",
       "------------------------------------------------------------------------------\n",
       "const       2.508e+04    211.466    118.585      0.000    2.47e+04    2.55e+04\n",
       "ma.L1          0.9814      0.003    351.730      0.000       0.976       0.987\n",
       "sigma2      4.605e+07      0.019   2.41e+09      0.000    4.61e+07    4.61e+07\n",
       "===================================================================================\n",
       "Ljung-Box (L1) (Q):                3755.23   Jarque-Bera (JB):               346.37\n",
       "Prob(Q):                              0.00   Prob(JB):                         0.00\n",
       "Heteroskedasticity (H):               1.73   Skew:                             0.62\n",
       "Prob(H) (two-sided):                  0.00   Kurtosis:                         2.29\n",
       "===================================================================================\n",
       "\n",
       "Warnings:\n",
       "[1] Covariance matrix calculated using the outer product of gradients (complex-step).\n",
       "[2] Covariance matrix is singular or near-singular, with condition number 4.02e+23. Standard errors may be unstable.\n",
       "\"\"\""
      ]
     },
     "execution_count": 26,
     "metadata": {},
     "output_type": "execute_result"
    }
   ],
   "source": [
    "model_ma1 = ARIMA(df.Market_value, order=(0,0,1))\n",
    "result_ma1=model_ma1.fit()\n",
    "result_ma1.summary()"
   ]
  },
  {
   "cell_type": "code",
   "execution_count": 27,
   "id": "e6937d4c",
   "metadata": {},
   "outputs": [
    {
     "data": {
      "text/html": [
       "<table class=\"simpletable\">\n",
       "<caption>SARIMAX Results</caption>\n",
       "<tr>\n",
       "  <th>Dep. Variable:</th>     <td>Market_value</td>   <th>  No. Observations:  </th>    <td>4045</td>   \n",
       "</tr>\n",
       "<tr>\n",
       "  <th>Model:</th>            <td>ARIMA(0, 0, 2)</td>  <th>  Log Likelihood     </th> <td>-39089.277</td>\n",
       "</tr>\n",
       "<tr>\n",
       "  <th>Date:</th>            <td>Sun, 07 Sep 2025</td> <th>  AIC                </th>  <td>78186.555</td>\n",
       "</tr>\n",
       "<tr>\n",
       "  <th>Time:</th>                <td>15:02:29</td>     <th>  BIC                </th>  <td>78211.776</td>\n",
       "</tr>\n",
       "<tr>\n",
       "  <th>Sample:</th>             <td>01-04-2010</td>    <th>  HQIC               </th>  <td>78195.490</td>\n",
       "</tr>\n",
       "<tr>\n",
       "  <th></th>                   <td>- 07-04-2025</td>   <th>                     </th>      <td> </td>    \n",
       "</tr>\n",
       "<tr>\n",
       "  <th>Covariance Type:</th>        <td>opg</td>       <th>                     </th>      <td> </td>    \n",
       "</tr>\n",
       "</table>\n",
       "<table class=\"simpletable\">\n",
       "<tr>\n",
       "     <td></td>       <th>coef</th>     <th>std err</th>      <th>z</th>      <th>P>|z|</th>  <th>[0.025</th>    <th>0.975]</th>  \n",
       "</tr>\n",
       "<tr>\n",
       "  <th>const</th>  <td> 2.508e+04</td> <td>  219.515</td> <td>  114.236</td> <td> 0.000</td> <td> 2.46e+04</td> <td> 2.55e+04</td>\n",
       "</tr>\n",
       "<tr>\n",
       "  <th>ma.L1</th>  <td>    1.7472</td> <td>    0.005</td> <td>  338.558</td> <td> 0.000</td> <td>    1.737</td> <td>    1.757</td>\n",
       "</tr>\n",
       "<tr>\n",
       "  <th>ma.L2</th>  <td>    0.9155</td> <td>    0.005</td> <td>  178.910</td> <td> 0.000</td> <td>    0.905</td> <td>    0.926</td>\n",
       "</tr>\n",
       "<tr>\n",
       "  <th>sigma2</th> <td> 1.448e+07</td> <td>    0.070</td> <td> 2.07e+08</td> <td> 0.000</td> <td> 1.45e+07</td> <td> 1.45e+07</td>\n",
       "</tr>\n",
       "</table>\n",
       "<table class=\"simpletable\">\n",
       "<tr>\n",
       "  <th>Ljung-Box (L1) (Q):</th>     <td>2830.95</td> <th>  Jarque-Bera (JB):  </th> <td>336.47</td>\n",
       "</tr>\n",
       "<tr>\n",
       "  <th>Prob(Q):</th>                 <td>0.00</td>   <th>  Prob(JB):          </th>  <td>0.00</td> \n",
       "</tr>\n",
       "<tr>\n",
       "  <th>Heteroskedasticity (H):</th>  <td>1.85</td>   <th>  Skew:              </th>  <td>0.69</td> \n",
       "</tr>\n",
       "<tr>\n",
       "  <th>Prob(H) (two-sided):</th>     <td>0.00</td>   <th>  Kurtosis:          </th>  <td>2.66</td> \n",
       "</tr>\n",
       "</table><br/><br/>Warnings:<br/>[1] Covariance matrix calculated using the outer product of gradients (complex-step).<br/>[2] Covariance matrix is singular or near-singular, with condition number 4.8e+22. Standard errors may be unstable."
      ],
      "text/latex": [
       "\\begin{center}\n",
       "\\begin{tabular}{lclc}\n",
       "\\toprule\n",
       "\\textbf{Dep. Variable:}          &  Market\\_value   & \\textbf{  No. Observations:  } &    4045     \\\\\n",
       "\\textbf{Model:}                  &  ARIMA(0, 0, 2)  & \\textbf{  Log Likelihood     } & -39089.277  \\\\\n",
       "\\textbf{Date:}                   & Sun, 07 Sep 2025 & \\textbf{  AIC                } & 78186.555   \\\\\n",
       "\\textbf{Time:}                   &     15:02:29     & \\textbf{  BIC                } & 78211.776   \\\\\n",
       "\\textbf{Sample:}                 &    01-04-2010    & \\textbf{  HQIC               } & 78195.490   \\\\\n",
       "\\textbf{}                        &   - 07-04-2025   & \\textbf{                     } &             \\\\\n",
       "\\textbf{Covariance Type:}        &       opg        & \\textbf{                     } &             \\\\\n",
       "\\bottomrule\n",
       "\\end{tabular}\n",
       "\\begin{tabular}{lcccccc}\n",
       "                & \\textbf{coef} & \\textbf{std err} & \\textbf{z} & \\textbf{P$> |$z$|$} & \\textbf{[0.025} & \\textbf{0.975]}  \\\\\n",
       "\\midrule\n",
       "\\textbf{const}  &    2.508e+04  &      219.515     &   114.236  &         0.000        &     2.46e+04    &     2.55e+04     \\\\\n",
       "\\textbf{ma.L1}  &       1.7472  &        0.005     &   338.558  &         0.000        &        1.737    &        1.757     \\\\\n",
       "\\textbf{ma.L2}  &       0.9155  &        0.005     &   178.910  &         0.000        &        0.905    &        0.926     \\\\\n",
       "\\textbf{sigma2} &    1.448e+07  &        0.070     &  2.07e+08  &         0.000        &     1.45e+07    &     1.45e+07     \\\\\n",
       "\\bottomrule\n",
       "\\end{tabular}\n",
       "\\begin{tabular}{lclc}\n",
       "\\textbf{Ljung-Box (L1) (Q):}     & 2830.95 & \\textbf{  Jarque-Bera (JB):  } & 336.47  \\\\\n",
       "\\textbf{Prob(Q):}                &   0.00  & \\textbf{  Prob(JB):          } &  0.00   \\\\\n",
       "\\textbf{Heteroskedasticity (H):} &   1.85  & \\textbf{  Skew:              } &  0.69   \\\\\n",
       "\\textbf{Prob(H) (two-sided):}    &   0.00  & \\textbf{  Kurtosis:          } &  2.66   \\\\\n",
       "\\bottomrule\n",
       "\\end{tabular}\n",
       "%\\caption{SARIMAX Results}\n",
       "\\end{center}\n",
       "\n",
       "Warnings: \\newline\n",
       " [1] Covariance matrix calculated using the outer product of gradients (complex-step). \\newline\n",
       " [2] Covariance matrix is singular or near-singular, with condition number 4.8e+22. Standard errors may be unstable."
      ],
      "text/plain": [
       "<class 'statsmodels.iolib.summary.Summary'>\n",
       "\"\"\"\n",
       "                               SARIMAX Results                                \n",
       "==============================================================================\n",
       "Dep. Variable:           Market_value   No. Observations:                 4045\n",
       "Model:                 ARIMA(0, 0, 2)   Log Likelihood              -39089.277\n",
       "Date:                Sun, 07 Sep 2025   AIC                          78186.555\n",
       "Time:                        15:02:29   BIC                          78211.776\n",
       "Sample:                    01-04-2010   HQIC                         78195.490\n",
       "                         - 07-04-2025                                         \n",
       "Covariance Type:                  opg                                         \n",
       "==============================================================================\n",
       "                 coef    std err          z      P>|z|      [0.025      0.975]\n",
       "------------------------------------------------------------------------------\n",
       "const       2.508e+04    219.515    114.236      0.000    2.46e+04    2.55e+04\n",
       "ma.L1          1.7472      0.005    338.558      0.000       1.737       1.757\n",
       "ma.L2          0.9155      0.005    178.910      0.000       0.905       0.926\n",
       "sigma2      1.448e+07      0.070   2.07e+08      0.000    1.45e+07    1.45e+07\n",
       "===================================================================================\n",
       "Ljung-Box (L1) (Q):                2830.95   Jarque-Bera (JB):               336.47\n",
       "Prob(Q):                              0.00   Prob(JB):                         0.00\n",
       "Heteroskedasticity (H):               1.85   Skew:                             0.69\n",
       "Prob(H) (two-sided):                  0.00   Kurtosis:                         2.66\n",
       "===================================================================================\n",
       "\n",
       "Warnings:\n",
       "[1] Covariance matrix calculated using the outer product of gradients (complex-step).\n",
       "[2] Covariance matrix is singular or near-singular, with condition number 4.8e+22. Standard errors may be unstable.\n",
       "\"\"\""
      ]
     },
     "execution_count": 27,
     "metadata": {},
     "output_type": "execute_result"
    }
   ],
   "source": [
    "model_ma2 = ARIMA(df.Market_value, order=(0,0,2))\n",
    "result_ma2=model_ma2.fit()\n",
    "result_ma2.summary()"
   ]
  },
  {
   "cell_type": "code",
   "execution_count": 28,
   "id": "99260b23",
   "metadata": {},
   "outputs": [
    {
     "data": {
      "text/html": [
       "<table class=\"simpletable\">\n",
       "<caption>SARIMAX Results</caption>\n",
       "<tr>\n",
       "  <th>Dep. Variable:</th>     <td>Market_value</td>   <th>  No. Observations:  </th>    <td>4045</td>   \n",
       "</tr>\n",
       "<tr>\n",
       "  <th>Model:</th>            <td>ARIMA(0, 0, 3)</td>  <th>  Log Likelihood     </th> <td>-38510.645</td>\n",
       "</tr>\n",
       "<tr>\n",
       "  <th>Date:</th>            <td>Sun, 07 Sep 2025</td> <th>  AIC                </th>  <td>77031.291</td>\n",
       "</tr>\n",
       "<tr>\n",
       "  <th>Time:</th>                <td>15:02:33</td>     <th>  BIC                </th>  <td>77062.817</td>\n",
       "</tr>\n",
       "<tr>\n",
       "  <th>Sample:</th>             <td>01-04-2010</td>    <th>  HQIC               </th>  <td>77042.459</td>\n",
       "</tr>\n",
       "<tr>\n",
       "  <th></th>                   <td>- 07-04-2025</td>   <th>                     </th>      <td> </td>    \n",
       "</tr>\n",
       "<tr>\n",
       "  <th>Covariance Type:</th>        <td>opg</td>       <th>                     </th>      <td> </td>    \n",
       "</tr>\n",
       "</table>\n",
       "<table class=\"simpletable\">\n",
       "<tr>\n",
       "     <td></td>       <th>coef</th>     <th>std err</th>      <th>z</th>      <th>P>|z|</th>  <th>[0.025</th>    <th>0.975]</th>  \n",
       "</tr>\n",
       "<tr>\n",
       "  <th>const</th>  <td> 2.508e+04</td> <td>  347.885</td> <td>   72.083</td> <td> 0.000</td> <td> 2.44e+04</td> <td> 2.58e+04</td>\n",
       "</tr>\n",
       "<tr>\n",
       "  <th>ma.L1</th>  <td>    2.2127</td> <td>    0.011</td> <td>  199.911</td> <td> 0.000</td> <td>    2.191</td> <td>    2.234</td>\n",
       "</tr>\n",
       "<tr>\n",
       "  <th>ma.L2</th>  <td>    2.1983</td> <td>    0.025</td> <td>   86.448</td> <td> 0.000</td> <td>    2.148</td> <td>    2.248</td>\n",
       "</tr>\n",
       "<tr>\n",
       "  <th>ma.L3</th>  <td>    0.9463</td> <td>    0.015</td> <td>   61.109</td> <td> 0.000</td> <td>    0.916</td> <td>    0.977</td>\n",
       "</tr>\n",
       "<tr>\n",
       "  <th>sigma2</th> <td> 1.083e+07</td> <td>    0.234</td> <td> 4.62e+07</td> <td> 0.000</td> <td> 1.08e+07</td> <td> 1.08e+07</td>\n",
       "</tr>\n",
       "</table>\n",
       "<table class=\"simpletable\">\n",
       "<tr>\n",
       "  <th>Ljung-Box (L1) (Q):</th>     <td>0.63</td> <th>  Jarque-Bera (JB):  </th> <td>481.59</td>\n",
       "</tr>\n",
       "<tr>\n",
       "  <th>Prob(Q):</th>                <td>0.43</td> <th>  Prob(JB):          </th>  <td>0.00</td> \n",
       "</tr>\n",
       "<tr>\n",
       "  <th>Heteroskedasticity (H):</th> <td>3.60</td> <th>  Skew:              </th>  <td>0.84</td> \n",
       "</tr>\n",
       "<tr>\n",
       "  <th>Prob(H) (two-sided):</th>    <td>0.00</td> <th>  Kurtosis:          </th>  <td>2.89</td> \n",
       "</tr>\n",
       "</table><br/><br/>Warnings:<br/>[1] Covariance matrix calculated using the outer product of gradients (complex-step).<br/>[2] Covariance matrix is singular or near-singular, with condition number 1.78e+22. Standard errors may be unstable."
      ],
      "text/latex": [
       "\\begin{center}\n",
       "\\begin{tabular}{lclc}\n",
       "\\toprule\n",
       "\\textbf{Dep. Variable:}          &  Market\\_value   & \\textbf{  No. Observations:  } &    4045     \\\\\n",
       "\\textbf{Model:}                  &  ARIMA(0, 0, 3)  & \\textbf{  Log Likelihood     } & -38510.645  \\\\\n",
       "\\textbf{Date:}                   & Sun, 07 Sep 2025 & \\textbf{  AIC                } & 77031.291   \\\\\n",
       "\\textbf{Time:}                   &     15:02:33     & \\textbf{  BIC                } & 77062.817   \\\\\n",
       "\\textbf{Sample:}                 &    01-04-2010    & \\textbf{  HQIC               } & 77042.459   \\\\\n",
       "\\textbf{}                        &   - 07-04-2025   & \\textbf{                     } &             \\\\\n",
       "\\textbf{Covariance Type:}        &       opg        & \\textbf{                     } &             \\\\\n",
       "\\bottomrule\n",
       "\\end{tabular}\n",
       "\\begin{tabular}{lcccccc}\n",
       "                & \\textbf{coef} & \\textbf{std err} & \\textbf{z} & \\textbf{P$> |$z$|$} & \\textbf{[0.025} & \\textbf{0.975]}  \\\\\n",
       "\\midrule\n",
       "\\textbf{const}  &    2.508e+04  &      347.885     &    72.083  &         0.000        &     2.44e+04    &     2.58e+04     \\\\\n",
       "\\textbf{ma.L1}  &       2.2127  &        0.011     &   199.911  &         0.000        &        2.191    &        2.234     \\\\\n",
       "\\textbf{ma.L2}  &       2.1983  &        0.025     &    86.448  &         0.000        &        2.148    &        2.248     \\\\\n",
       "\\textbf{ma.L3}  &       0.9463  &        0.015     &    61.109  &         0.000        &        0.916    &        0.977     \\\\\n",
       "\\textbf{sigma2} &    1.083e+07  &        0.234     &  4.62e+07  &         0.000        &     1.08e+07    &     1.08e+07     \\\\\n",
       "\\bottomrule\n",
       "\\end{tabular}\n",
       "\\begin{tabular}{lclc}\n",
       "\\textbf{Ljung-Box (L1) (Q):}     & 0.63 & \\textbf{  Jarque-Bera (JB):  } & 481.59  \\\\\n",
       "\\textbf{Prob(Q):}                & 0.43 & \\textbf{  Prob(JB):          } &  0.00   \\\\\n",
       "\\textbf{Heteroskedasticity (H):} & 3.60 & \\textbf{  Skew:              } &  0.84   \\\\\n",
       "\\textbf{Prob(H) (two-sided):}    & 0.00 & \\textbf{  Kurtosis:          } &  2.89   \\\\\n",
       "\\bottomrule\n",
       "\\end{tabular}\n",
       "%\\caption{SARIMAX Results}\n",
       "\\end{center}\n",
       "\n",
       "Warnings: \\newline\n",
       " [1] Covariance matrix calculated using the outer product of gradients (complex-step). \\newline\n",
       " [2] Covariance matrix is singular or near-singular, with condition number 1.78e+22. Standard errors may be unstable."
      ],
      "text/plain": [
       "<class 'statsmodels.iolib.summary.Summary'>\n",
       "\"\"\"\n",
       "                               SARIMAX Results                                \n",
       "==============================================================================\n",
       "Dep. Variable:           Market_value   No. Observations:                 4045\n",
       "Model:                 ARIMA(0, 0, 3)   Log Likelihood              -38510.645\n",
       "Date:                Sun, 07 Sep 2025   AIC                          77031.291\n",
       "Time:                        15:02:33   BIC                          77062.817\n",
       "Sample:                    01-04-2010   HQIC                         77042.459\n",
       "                         - 07-04-2025                                         \n",
       "Covariance Type:                  opg                                         \n",
       "==============================================================================\n",
       "                 coef    std err          z      P>|z|      [0.025      0.975]\n",
       "------------------------------------------------------------------------------\n",
       "const       2.508e+04    347.885     72.083      0.000    2.44e+04    2.58e+04\n",
       "ma.L1          2.2127      0.011    199.911      0.000       2.191       2.234\n",
       "ma.L2          2.1983      0.025     86.448      0.000       2.148       2.248\n",
       "ma.L3          0.9463      0.015     61.109      0.000       0.916       0.977\n",
       "sigma2      1.083e+07      0.234   4.62e+07      0.000    1.08e+07    1.08e+07\n",
       "===================================================================================\n",
       "Ljung-Box (L1) (Q):                   0.63   Jarque-Bera (JB):               481.59\n",
       "Prob(Q):                              0.43   Prob(JB):                         0.00\n",
       "Heteroskedasticity (H):               3.60   Skew:                             0.84\n",
       "Prob(H) (two-sided):                  0.00   Kurtosis:                         2.89\n",
       "===================================================================================\n",
       "\n",
       "Warnings:\n",
       "[1] Covariance matrix calculated using the outer product of gradients (complex-step).\n",
       "[2] Covariance matrix is singular or near-singular, with condition number 1.78e+22. Standard errors may be unstable.\n",
       "\"\"\""
      ]
     },
     "execution_count": 28,
     "metadata": {},
     "output_type": "execute_result"
    }
   ],
   "source": [
    "model_ma3 = ARIMA(df.Market_value, order=(0,0,3))\n",
    "result_ma3=model_ma3.fit()\n",
    "result_ma3.summary()"
   ]
  },
  {
   "cell_type": "code",
   "execution_count": 29,
   "id": "eaae5773",
   "metadata": {},
   "outputs": [
    {
     "data": {
      "text/html": [
       "<table class=\"simpletable\">\n",
       "<caption>SARIMAX Results</caption>\n",
       "<tr>\n",
       "  <th>Dep. Variable:</th>     <td>Market_value</td>   <th>  No. Observations:  </th>    <td>4045</td>   \n",
       "</tr>\n",
       "<tr>\n",
       "  <th>Model:</th>            <td>ARIMA(0, 0, 4)</td>  <th>  Log Likelihood     </th> <td>-35863.363</td>\n",
       "</tr>\n",
       "<tr>\n",
       "  <th>Date:</th>            <td>Sun, 07 Sep 2025</td> <th>  AIC                </th>  <td>71738.727</td>\n",
       "</tr>\n",
       "<tr>\n",
       "  <th>Time:</th>                <td>15:02:37</td>     <th>  BIC                </th>  <td>71776.558</td>\n",
       "</tr>\n",
       "<tr>\n",
       "  <th>Sample:</th>             <td>01-04-2010</td>    <th>  HQIC               </th>  <td>71752.129</td>\n",
       "</tr>\n",
       "<tr>\n",
       "  <th></th>                   <td>- 07-04-2025</td>   <th>                     </th>      <td> </td>    \n",
       "</tr>\n",
       "<tr>\n",
       "  <th>Covariance Type:</th>        <td>opg</td>       <th>                     </th>      <td> </td>    \n",
       "</tr>\n",
       "</table>\n",
       "<table class=\"simpletable\">\n",
       "<tr>\n",
       "     <td></td>       <th>coef</th>     <th>std err</th>      <th>z</th>      <th>P>|z|</th>  <th>[0.025</th>    <th>0.975]</th>  \n",
       "</tr>\n",
       "<tr>\n",
       "  <th>const</th>  <td> 2.508e+04</td> <td>  246.693</td> <td>  101.650</td> <td> 0.000</td> <td> 2.46e+04</td> <td> 2.56e+04</td>\n",
       "</tr>\n",
       "<tr>\n",
       "  <th>ma.L1</th>  <td>    2.3731</td> <td>    0.007</td> <td>  324.798</td> <td> 0.000</td> <td>    2.359</td> <td>    2.387</td>\n",
       "</tr>\n",
       "<tr>\n",
       "  <th>ma.L2</th>  <td>    2.9250</td> <td>    0.015</td> <td>  195.039</td> <td> 0.000</td> <td>    2.896</td> <td>    2.954</td>\n",
       "</tr>\n",
       "<tr>\n",
       "  <th>ma.L3</th>  <td>    2.0795</td> <td>    0.015</td> <td>  137.448</td> <td> 0.000</td> <td>    2.050</td> <td>    2.109</td>\n",
       "</tr>\n",
       "<tr>\n",
       "  <th>ma.L4</th>  <td>    0.7309</td> <td>    0.008</td> <td>   95.495</td> <td> 0.000</td> <td>    0.716</td> <td>    0.746</td>\n",
       "</tr>\n",
       "<tr>\n",
       "  <th>sigma2</th> <td> 2.935e+06</td> <td>    0.508</td> <td> 5.78e+06</td> <td> 0.000</td> <td> 2.94e+06</td> <td> 2.94e+06</td>\n",
       "</tr>\n",
       "</table>\n",
       "<table class=\"simpletable\">\n",
       "<tr>\n",
       "  <th>Ljung-Box (L1) (Q):</th>     <td>1151.44</td> <th>  Jarque-Bera (JB):  </th> <td>733.15</td>\n",
       "</tr>\n",
       "<tr>\n",
       "  <th>Prob(Q):</th>                 <td>0.00</td>   <th>  Prob(JB):          </th>  <td>0.00</td> \n",
       "</tr>\n",
       "<tr>\n",
       "  <th>Heteroskedasticity (H):</th>  <td>2.22</td>   <th>  Skew:              </th>  <td>0.86</td> \n",
       "</tr>\n",
       "<tr>\n",
       "  <th>Prob(H) (two-sided):</th>     <td>0.00</td>   <th>  Kurtosis:          </th>  <td>4.18</td> \n",
       "</tr>\n",
       "</table><br/><br/>Warnings:<br/>[1] Covariance matrix calculated using the outer product of gradients (complex-step).<br/>[2] Covariance matrix is singular or near-singular, with condition number 3.77e+21. Standard errors may be unstable."
      ],
      "text/latex": [
       "\\begin{center}\n",
       "\\begin{tabular}{lclc}\n",
       "\\toprule\n",
       "\\textbf{Dep. Variable:}          &  Market\\_value   & \\textbf{  No. Observations:  } &    4045     \\\\\n",
       "\\textbf{Model:}                  &  ARIMA(0, 0, 4)  & \\textbf{  Log Likelihood     } & -35863.363  \\\\\n",
       "\\textbf{Date:}                   & Sun, 07 Sep 2025 & \\textbf{  AIC                } & 71738.727   \\\\\n",
       "\\textbf{Time:}                   &     15:02:37     & \\textbf{  BIC                } & 71776.558   \\\\\n",
       "\\textbf{Sample:}                 &    01-04-2010    & \\textbf{  HQIC               } & 71752.129   \\\\\n",
       "\\textbf{}                        &   - 07-04-2025   & \\textbf{                     } &             \\\\\n",
       "\\textbf{Covariance Type:}        &       opg        & \\textbf{                     } &             \\\\\n",
       "\\bottomrule\n",
       "\\end{tabular}\n",
       "\\begin{tabular}{lcccccc}\n",
       "                & \\textbf{coef} & \\textbf{std err} & \\textbf{z} & \\textbf{P$> |$z$|$} & \\textbf{[0.025} & \\textbf{0.975]}  \\\\\n",
       "\\midrule\n",
       "\\textbf{const}  &    2.508e+04  &      246.693     &   101.650  &         0.000        &     2.46e+04    &     2.56e+04     \\\\\n",
       "\\textbf{ma.L1}  &       2.3731  &        0.007     &   324.798  &         0.000        &        2.359    &        2.387     \\\\\n",
       "\\textbf{ma.L2}  &       2.9250  &        0.015     &   195.039  &         0.000        &        2.896    &        2.954     \\\\\n",
       "\\textbf{ma.L3}  &       2.0795  &        0.015     &   137.448  &         0.000        &        2.050    &        2.109     \\\\\n",
       "\\textbf{ma.L4}  &       0.7309  &        0.008     &    95.495  &         0.000        &        0.716    &        0.746     \\\\\n",
       "\\textbf{sigma2} &    2.935e+06  &        0.508     &  5.78e+06  &         0.000        &     2.94e+06    &     2.94e+06     \\\\\n",
       "\\bottomrule\n",
       "\\end{tabular}\n",
       "\\begin{tabular}{lclc}\n",
       "\\textbf{Ljung-Box (L1) (Q):}     & 1151.44 & \\textbf{  Jarque-Bera (JB):  } & 733.15  \\\\\n",
       "\\textbf{Prob(Q):}                &   0.00  & \\textbf{  Prob(JB):          } &  0.00   \\\\\n",
       "\\textbf{Heteroskedasticity (H):} &   2.22  & \\textbf{  Skew:              } &  0.86   \\\\\n",
       "\\textbf{Prob(H) (two-sided):}    &   0.00  & \\textbf{  Kurtosis:          } &  4.18   \\\\\n",
       "\\bottomrule\n",
       "\\end{tabular}\n",
       "%\\caption{SARIMAX Results}\n",
       "\\end{center}\n",
       "\n",
       "Warnings: \\newline\n",
       " [1] Covariance matrix calculated using the outer product of gradients (complex-step). \\newline\n",
       " [2] Covariance matrix is singular or near-singular, with condition number 3.77e+21. Standard errors may be unstable."
      ],
      "text/plain": [
       "<class 'statsmodels.iolib.summary.Summary'>\n",
       "\"\"\"\n",
       "                               SARIMAX Results                                \n",
       "==============================================================================\n",
       "Dep. Variable:           Market_value   No. Observations:                 4045\n",
       "Model:                 ARIMA(0, 0, 4)   Log Likelihood              -35863.363\n",
       "Date:                Sun, 07 Sep 2025   AIC                          71738.727\n",
       "Time:                        15:02:37   BIC                          71776.558\n",
       "Sample:                    01-04-2010   HQIC                         71752.129\n",
       "                         - 07-04-2025                                         \n",
       "Covariance Type:                  opg                                         \n",
       "==============================================================================\n",
       "                 coef    std err          z      P>|z|      [0.025      0.975]\n",
       "------------------------------------------------------------------------------\n",
       "const       2.508e+04    246.693    101.650      0.000    2.46e+04    2.56e+04\n",
       "ma.L1          2.3731      0.007    324.798      0.000       2.359       2.387\n",
       "ma.L2          2.9250      0.015    195.039      0.000       2.896       2.954\n",
       "ma.L3          2.0795      0.015    137.448      0.000       2.050       2.109\n",
       "ma.L4          0.7309      0.008     95.495      0.000       0.716       0.746\n",
       "sigma2      2.935e+06      0.508   5.78e+06      0.000    2.94e+06    2.94e+06\n",
       "===================================================================================\n",
       "Ljung-Box (L1) (Q):                1151.44   Jarque-Bera (JB):               733.15\n",
       "Prob(Q):                              0.00   Prob(JB):                         0.00\n",
       "Heteroskedasticity (H):               2.22   Skew:                             0.86\n",
       "Prob(H) (two-sided):                  0.00   Kurtosis:                         4.18\n",
       "===================================================================================\n",
       "\n",
       "Warnings:\n",
       "[1] Covariance matrix calculated using the outer product of gradients (complex-step).\n",
       "[2] Covariance matrix is singular or near-singular, with condition number 3.77e+21. Standard errors may be unstable.\n",
       "\"\"\""
      ]
     },
     "execution_count": 29,
     "metadata": {},
     "output_type": "execute_result"
    }
   ],
   "source": [
    "model_ma4 = ARIMA(df.Market_value, order=(0,0,4))\n",
    "result_ma4=model_ma4.fit()\n",
    "result_ma4.summary()"
   ]
  },
  {
   "cell_type": "code",
   "execution_count": 30,
   "id": "40102096",
   "metadata": {},
   "outputs": [
    {
     "data": {
      "text/html": [
       "<table class=\"simpletable\">\n",
       "<caption>SARIMAX Results</caption>\n",
       "<tr>\n",
       "  <th>Dep. Variable:</th>     <td>Market_value</td>   <th>  No. Observations:  </th>    <td>4045</td>   \n",
       "</tr>\n",
       "<tr>\n",
       "  <th>Model:</th>            <td>ARIMA(0, 0, 5)</td>  <th>  Log Likelihood     </th> <td>-40696.337</td>\n",
       "</tr>\n",
       "<tr>\n",
       "  <th>Date:</th>            <td>Sun, 07 Sep 2025</td> <th>  AIC                </th>  <td>81406.674</td>\n",
       "</tr>\n",
       "<tr>\n",
       "  <th>Time:</th>                <td>15:02:40</td>     <th>  BIC                </th>  <td>81450.811</td>\n",
       "</tr>\n",
       "<tr>\n",
       "  <th>Sample:</th>             <td>01-04-2010</td>    <th>  HQIC               </th>  <td>81422.311</td>\n",
       "</tr>\n",
       "<tr>\n",
       "  <th></th>                   <td>- 07-04-2025</td>   <th>                     </th>      <td> </td>    \n",
       "</tr>\n",
       "<tr>\n",
       "  <th>Covariance Type:</th>        <td>opg</td>       <th>                     </th>      <td> </td>    \n",
       "</tr>\n",
       "</table>\n",
       "<table class=\"simpletable\">\n",
       "<tr>\n",
       "     <td></td>       <th>coef</th>     <th>std err</th>      <th>z</th>      <th>P>|z|</th>  <th>[0.025</th>    <th>0.975]</th>  \n",
       "</tr>\n",
       "<tr>\n",
       "  <th>const</th>  <td> 2.508e+04</td> <td> 3.82e-07</td> <td> 6.56e+10</td> <td> 0.000</td> <td> 2.51e+04</td> <td> 2.51e+04</td>\n",
       "</tr>\n",
       "<tr>\n",
       "  <th>ma.L1</th>  <td>    2.2606</td> <td>    0.022</td> <td>  101.055</td> <td> 0.000</td> <td>    2.217</td> <td>    2.304</td>\n",
       "</tr>\n",
       "<tr>\n",
       "  <th>ma.L2</th>  <td>    2.8170</td> <td>    0.045</td> <td>   62.580</td> <td> 0.000</td> <td>    2.729</td> <td>    2.905</td>\n",
       "</tr>\n",
       "<tr>\n",
       "  <th>ma.L3</th>  <td>    2.8088</td> <td>    0.037</td> <td>   76.274</td> <td> 0.000</td> <td>    2.737</td> <td>    2.881</td>\n",
       "</tr>\n",
       "<tr>\n",
       "  <th>ma.L4</th>  <td>    2.2472</td> <td>    0.043</td> <td>   52.332</td> <td> 0.000</td> <td>    2.163</td> <td>    2.331</td>\n",
       "</tr>\n",
       "<tr>\n",
       "  <th>ma.L5</th>  <td>    0.9941</td> <td>    0.029</td> <td>   34.508</td> <td> 0.000</td> <td>    0.938</td> <td>    1.051</td>\n",
       "</tr>\n",
       "<tr>\n",
       "  <th>sigma2</th> <td> 3.374e+07</td> <td> 6.76e-09</td> <td> 4.99e+15</td> <td> 0.000</td> <td> 3.37e+07</td> <td> 3.37e+07</td>\n",
       "</tr>\n",
       "</table>\n",
       "<table class=\"simpletable\">\n",
       "<tr>\n",
       "  <th>Ljung-Box (L1) (Q):</th>     <td>3007.94</td> <th>  Jarque-Bera (JB):  </th> <td>104.70</td>\n",
       "</tr>\n",
       "<tr>\n",
       "  <th>Prob(Q):</th>                 <td>0.00</td>   <th>  Prob(JB):          </th>  <td>0.00</td> \n",
       "</tr>\n",
       "<tr>\n",
       "  <th>Heteroskedasticity (H):</th>  <td>10.82</td>  <th>  Skew:              </th>  <td>0.26</td> \n",
       "</tr>\n",
       "<tr>\n",
       "  <th>Prob(H) (two-sided):</th>     <td>0.00</td>   <th>  Kurtosis:          </th>  <td>3.60</td> \n",
       "</tr>\n",
       "</table><br/><br/>Warnings:<br/>[1] Covariance matrix calculated using the outer product of gradients (complex-step).<br/>[2] Covariance matrix is singular or near-singular, with condition number 2.94e+30. Standard errors may be unstable."
      ],
      "text/latex": [
       "\\begin{center}\n",
       "\\begin{tabular}{lclc}\n",
       "\\toprule\n",
       "\\textbf{Dep. Variable:}          &  Market\\_value   & \\textbf{  No. Observations:  } &    4045     \\\\\n",
       "\\textbf{Model:}                  &  ARIMA(0, 0, 5)  & \\textbf{  Log Likelihood     } & -40696.337  \\\\\n",
       "\\textbf{Date:}                   & Sun, 07 Sep 2025 & \\textbf{  AIC                } & 81406.674   \\\\\n",
       "\\textbf{Time:}                   &     15:02:40     & \\textbf{  BIC                } & 81450.811   \\\\\n",
       "\\textbf{Sample:}                 &    01-04-2010    & \\textbf{  HQIC               } & 81422.311   \\\\\n",
       "\\textbf{}                        &   - 07-04-2025   & \\textbf{                     } &             \\\\\n",
       "\\textbf{Covariance Type:}        &       opg        & \\textbf{                     } &             \\\\\n",
       "\\bottomrule\n",
       "\\end{tabular}\n",
       "\\begin{tabular}{lcccccc}\n",
       "                & \\textbf{coef} & \\textbf{std err} & \\textbf{z} & \\textbf{P$> |$z$|$} & \\textbf{[0.025} & \\textbf{0.975]}  \\\\\n",
       "\\midrule\n",
       "\\textbf{const}  &    2.508e+04  &     3.82e-07     &  6.56e+10  &         0.000        &     2.51e+04    &     2.51e+04     \\\\\n",
       "\\textbf{ma.L1}  &       2.2606  &        0.022     &   101.055  &         0.000        &        2.217    &        2.304     \\\\\n",
       "\\textbf{ma.L2}  &       2.8170  &        0.045     &    62.580  &         0.000        &        2.729    &        2.905     \\\\\n",
       "\\textbf{ma.L3}  &       2.8088  &        0.037     &    76.274  &         0.000        &        2.737    &        2.881     \\\\\n",
       "\\textbf{ma.L4}  &       2.2472  &        0.043     &    52.332  &         0.000        &        2.163    &        2.331     \\\\\n",
       "\\textbf{ma.L5}  &       0.9941  &        0.029     &    34.508  &         0.000        &        0.938    &        1.051     \\\\\n",
       "\\textbf{sigma2} &    3.374e+07  &     6.76e-09     &  4.99e+15  &         0.000        &     3.37e+07    &     3.37e+07     \\\\\n",
       "\\bottomrule\n",
       "\\end{tabular}\n",
       "\\begin{tabular}{lclc}\n",
       "\\textbf{Ljung-Box (L1) (Q):}     & 3007.94 & \\textbf{  Jarque-Bera (JB):  } & 104.70  \\\\\n",
       "\\textbf{Prob(Q):}                &   0.00  & \\textbf{  Prob(JB):          } &  0.00   \\\\\n",
       "\\textbf{Heteroskedasticity (H):} &  10.82  & \\textbf{  Skew:              } &  0.26   \\\\\n",
       "\\textbf{Prob(H) (two-sided):}    &   0.00  & \\textbf{  Kurtosis:          } &  3.60   \\\\\n",
       "\\bottomrule\n",
       "\\end{tabular}\n",
       "%\\caption{SARIMAX Results}\n",
       "\\end{center}\n",
       "\n",
       "Warnings: \\newline\n",
       " [1] Covariance matrix calculated using the outer product of gradients (complex-step). \\newline\n",
       " [2] Covariance matrix is singular or near-singular, with condition number 2.94e+30. Standard errors may be unstable."
      ],
      "text/plain": [
       "<class 'statsmodels.iolib.summary.Summary'>\n",
       "\"\"\"\n",
       "                               SARIMAX Results                                \n",
       "==============================================================================\n",
       "Dep. Variable:           Market_value   No. Observations:                 4045\n",
       "Model:                 ARIMA(0, 0, 5)   Log Likelihood              -40696.337\n",
       "Date:                Sun, 07 Sep 2025   AIC                          81406.674\n",
       "Time:                        15:02:40   BIC                          81450.811\n",
       "Sample:                    01-04-2010   HQIC                         81422.311\n",
       "                         - 07-04-2025                                         \n",
       "Covariance Type:                  opg                                         \n",
       "==============================================================================\n",
       "                 coef    std err          z      P>|z|      [0.025      0.975]\n",
       "------------------------------------------------------------------------------\n",
       "const       2.508e+04   3.82e-07   6.56e+10      0.000    2.51e+04    2.51e+04\n",
       "ma.L1          2.2606      0.022    101.055      0.000       2.217       2.304\n",
       "ma.L2          2.8170      0.045     62.580      0.000       2.729       2.905\n",
       "ma.L3          2.8088      0.037     76.274      0.000       2.737       2.881\n",
       "ma.L4          2.2472      0.043     52.332      0.000       2.163       2.331\n",
       "ma.L5          0.9941      0.029     34.508      0.000       0.938       1.051\n",
       "sigma2      3.374e+07   6.76e-09   4.99e+15      0.000    3.37e+07    3.37e+07\n",
       "===================================================================================\n",
       "Ljung-Box (L1) (Q):                3007.94   Jarque-Bera (JB):               104.70\n",
       "Prob(Q):                              0.00   Prob(JB):                         0.00\n",
       "Heteroskedasticity (H):              10.82   Skew:                             0.26\n",
       "Prob(H) (two-sided):                  0.00   Kurtosis:                         3.60\n",
       "===================================================================================\n",
       "\n",
       "Warnings:\n",
       "[1] Covariance matrix calculated using the outer product of gradients (complex-step).\n",
       "[2] Covariance matrix is singular or near-singular, with condition number 2.94e+30. Standard errors may be unstable.\n",
       "\"\"\""
      ]
     },
     "execution_count": 30,
     "metadata": {},
     "output_type": "execute_result"
    }
   ],
   "source": [
    "model_ma5 = ARIMA(df.Market_value, order=(0,0,5))\n",
    "result_ma5=model_ma5.fit()\n",
    "result_ma5.summary()"
   ]
  },
  {
   "cell_type": "code",
   "execution_count": 31,
   "id": "1f132706",
   "metadata": {},
   "outputs": [
    {
     "data": {
      "text/html": [
       "<table class=\"simpletable\">\n",
       "<caption>SARIMAX Results</caption>\n",
       "<tr>\n",
       "  <th>Dep. Variable:</th>     <td>Market_value</td>   <th>  No. Observations:  </th>    <td>4045</td>   \n",
       "</tr>\n",
       "<tr>\n",
       "  <th>Model:</th>            <td>ARIMA(0, 0, 6)</td>  <th>  Log Likelihood     </th> <td>-34044.450</td>\n",
       "</tr>\n",
       "<tr>\n",
       "  <th>Date:</th>            <td>Sun, 07 Sep 2025</td> <th>  AIC                </th>  <td>68104.900</td>\n",
       "</tr>\n",
       "<tr>\n",
       "  <th>Time:</th>                <td>15:02:48</td>     <th>  BIC                </th>  <td>68155.342</td>\n",
       "</tr>\n",
       "<tr>\n",
       "  <th>Sample:</th>             <td>01-04-2010</td>    <th>  HQIC               </th>  <td>68122.770</td>\n",
       "</tr>\n",
       "<tr>\n",
       "  <th></th>                   <td>- 07-04-2025</td>   <th>                     </th>      <td> </td>    \n",
       "</tr>\n",
       "<tr>\n",
       "  <th>Covariance Type:</th>        <td>opg</td>       <th>                     </th>      <td> </td>    \n",
       "</tr>\n",
       "</table>\n",
       "<table class=\"simpletable\">\n",
       "<tr>\n",
       "     <td></td>       <th>coef</th>     <th>std err</th>      <th>z</th>      <th>P>|z|</th>  <th>[0.025</th>    <th>0.975]</th>  \n",
       "</tr>\n",
       "<tr>\n",
       "  <th>const</th>  <td> 2.508e+04</td> <td>  316.166</td> <td>   79.314</td> <td> 0.000</td> <td> 2.45e+04</td> <td> 2.57e+04</td>\n",
       "</tr>\n",
       "<tr>\n",
       "  <th>ma.L1</th>  <td>    2.4245</td> <td>    0.010</td> <td>  237.631</td> <td> 0.000</td> <td>    2.405</td> <td>    2.445</td>\n",
       "</tr>\n",
       "<tr>\n",
       "  <th>ma.L2</th>  <td>    3.6539</td> <td>    0.025</td> <td>  146.986</td> <td> 0.000</td> <td>    3.605</td> <td>    3.703</td>\n",
       "</tr>\n",
       "<tr>\n",
       "  <th>ma.L3</th>  <td>    3.9182</td> <td>    0.036</td> <td>  108.591</td> <td> 0.000</td> <td>    3.847</td> <td>    3.989</td>\n",
       "</tr>\n",
       "<tr>\n",
       "  <th>ma.L4</th>  <td>    3.0931</td> <td>    0.036</td> <td>   85.361</td> <td> 0.000</td> <td>    3.022</td> <td>    3.164</td>\n",
       "</tr>\n",
       "<tr>\n",
       "  <th>ma.L5</th>  <td>    1.7135</td> <td>    0.025</td> <td>   68.518</td> <td> 0.000</td> <td>    1.665</td> <td>    1.763</td>\n",
       "</tr>\n",
       "<tr>\n",
       "  <th>ma.L6</th>  <td>    0.5342</td> <td>    0.011</td> <td>   50.663</td> <td> 0.000</td> <td>    0.513</td> <td>    0.555</td>\n",
       "</tr>\n",
       "<tr>\n",
       "  <th>sigma2</th> <td> 1.194e+06</td> <td> 2.19e+04</td> <td>   54.584</td> <td> 0.000</td> <td> 1.15e+06</td> <td> 1.24e+06</td>\n",
       "</tr>\n",
       "</table>\n",
       "<table class=\"simpletable\">\n",
       "<tr>\n",
       "  <th>Ljung-Box (L1) (Q):</th>     <td>374.66</td> <th>  Jarque-Bera (JB):  </th> <td>3285.39</td>\n",
       "</tr>\n",
       "<tr>\n",
       "  <th>Prob(Q):</th>                 <td>0.00</td>  <th>  Prob(JB):          </th>  <td>0.00</td>  \n",
       "</tr>\n",
       "<tr>\n",
       "  <th>Heteroskedasticity (H):</th>  <td>2.67</td>  <th>  Skew:              </th>  <td>1.01</td>  \n",
       "</tr>\n",
       "<tr>\n",
       "  <th>Prob(H) (two-sided):</th>     <td>0.00</td>  <th>  Kurtosis:          </th>  <td>6.93</td>  \n",
       "</tr>\n",
       "</table><br/><br/>Warnings:<br/>[1] Covariance matrix calculated using the outer product of gradients (complex-step)."
      ],
      "text/latex": [
       "\\begin{center}\n",
       "\\begin{tabular}{lclc}\n",
       "\\toprule\n",
       "\\textbf{Dep. Variable:}          &  Market\\_value   & \\textbf{  No. Observations:  } &    4045     \\\\\n",
       "\\textbf{Model:}                  &  ARIMA(0, 0, 6)  & \\textbf{  Log Likelihood     } & -34044.450  \\\\\n",
       "\\textbf{Date:}                   & Sun, 07 Sep 2025 & \\textbf{  AIC                } & 68104.900   \\\\\n",
       "\\textbf{Time:}                   &     15:02:48     & \\textbf{  BIC                } & 68155.342   \\\\\n",
       "\\textbf{Sample:}                 &    01-04-2010    & \\textbf{  HQIC               } & 68122.770   \\\\\n",
       "\\textbf{}                        &   - 07-04-2025   & \\textbf{                     } &             \\\\\n",
       "\\textbf{Covariance Type:}        &       opg        & \\textbf{                     } &             \\\\\n",
       "\\bottomrule\n",
       "\\end{tabular}\n",
       "\\begin{tabular}{lcccccc}\n",
       "                & \\textbf{coef} & \\textbf{std err} & \\textbf{z} & \\textbf{P$> |$z$|$} & \\textbf{[0.025} & \\textbf{0.975]}  \\\\\n",
       "\\midrule\n",
       "\\textbf{const}  &    2.508e+04  &      316.166     &    79.314  &         0.000        &     2.45e+04    &     2.57e+04     \\\\\n",
       "\\textbf{ma.L1}  &       2.4245  &        0.010     &   237.631  &         0.000        &        2.405    &        2.445     \\\\\n",
       "\\textbf{ma.L2}  &       3.6539  &        0.025     &   146.986  &         0.000        &        3.605    &        3.703     \\\\\n",
       "\\textbf{ma.L3}  &       3.9182  &        0.036     &   108.591  &         0.000        &        3.847    &        3.989     \\\\\n",
       "\\textbf{ma.L4}  &       3.0931  &        0.036     &    85.361  &         0.000        &        3.022    &        3.164     \\\\\n",
       "\\textbf{ma.L5}  &       1.7135  &        0.025     &    68.518  &         0.000        &        1.665    &        1.763     \\\\\n",
       "\\textbf{ma.L6}  &       0.5342  &        0.011     &    50.663  &         0.000        &        0.513    &        0.555     \\\\\n",
       "\\textbf{sigma2} &    1.194e+06  &     2.19e+04     &    54.584  &         0.000        &     1.15e+06    &     1.24e+06     \\\\\n",
       "\\bottomrule\n",
       "\\end{tabular}\n",
       "\\begin{tabular}{lclc}\n",
       "\\textbf{Ljung-Box (L1) (Q):}     & 374.66 & \\textbf{  Jarque-Bera (JB):  } & 3285.39  \\\\\n",
       "\\textbf{Prob(Q):}                &  0.00  & \\textbf{  Prob(JB):          } &   0.00   \\\\\n",
       "\\textbf{Heteroskedasticity (H):} &  2.67  & \\textbf{  Skew:              } &   1.01   \\\\\n",
       "\\textbf{Prob(H) (two-sided):}    &  0.00  & \\textbf{  Kurtosis:          } &   6.93   \\\\\n",
       "\\bottomrule\n",
       "\\end{tabular}\n",
       "%\\caption{SARIMAX Results}\n",
       "\\end{center}\n",
       "\n",
       "Warnings: \\newline\n",
       " [1] Covariance matrix calculated using the outer product of gradients (complex-step)."
      ],
      "text/plain": [
       "<class 'statsmodels.iolib.summary.Summary'>\n",
       "\"\"\"\n",
       "                               SARIMAX Results                                \n",
       "==============================================================================\n",
       "Dep. Variable:           Market_value   No. Observations:                 4045\n",
       "Model:                 ARIMA(0, 0, 6)   Log Likelihood              -34044.450\n",
       "Date:                Sun, 07 Sep 2025   AIC                          68104.900\n",
       "Time:                        15:02:48   BIC                          68155.342\n",
       "Sample:                    01-04-2010   HQIC                         68122.770\n",
       "                         - 07-04-2025                                         \n",
       "Covariance Type:                  opg                                         \n",
       "==============================================================================\n",
       "                 coef    std err          z      P>|z|      [0.025      0.975]\n",
       "------------------------------------------------------------------------------\n",
       "const       2.508e+04    316.166     79.314      0.000    2.45e+04    2.57e+04\n",
       "ma.L1          2.4245      0.010    237.631      0.000       2.405       2.445\n",
       "ma.L2          3.6539      0.025    146.986      0.000       3.605       3.703\n",
       "ma.L3          3.9182      0.036    108.591      0.000       3.847       3.989\n",
       "ma.L4          3.0931      0.036     85.361      0.000       3.022       3.164\n",
       "ma.L5          1.7135      0.025     68.518      0.000       1.665       1.763\n",
       "ma.L6          0.5342      0.011     50.663      0.000       0.513       0.555\n",
       "sigma2      1.194e+06   2.19e+04     54.584      0.000    1.15e+06    1.24e+06\n",
       "===================================================================================\n",
       "Ljung-Box (L1) (Q):                 374.66   Jarque-Bera (JB):              3285.39\n",
       "Prob(Q):                              0.00   Prob(JB):                         0.00\n",
       "Heteroskedasticity (H):               2.67   Skew:                             1.01\n",
       "Prob(H) (two-sided):                  0.00   Kurtosis:                         6.93\n",
       "===================================================================================\n",
       "\n",
       "Warnings:\n",
       "[1] Covariance matrix calculated using the outer product of gradients (complex-step).\n",
       "\"\"\""
      ]
     },
     "execution_count": 31,
     "metadata": {},
     "output_type": "execute_result"
    }
   ],
   "source": [
    "model_ma6 = ARIMA(df.Market_value, order=(0,0,6))\n",
    "result_ma6=model_ma6.fit()\n",
    "result_ma6.summary()"
   ]
  },
  {
   "cell_type": "code",
   "execution_count": 32,
   "id": "8293eed1",
   "metadata": {},
   "outputs": [
    {
     "data": {
      "text/html": [
       "<table class=\"simpletable\">\n",
       "<caption>SARIMAX Results</caption>\n",
       "<tr>\n",
       "  <th>Dep. Variable:</th>     <td>Market_value</td>   <th>  No. Observations:  </th>    <td>4045</td>   \n",
       "</tr>\n",
       "<tr>\n",
       "  <th>Model:</th>            <td>ARIMA(0, 0, 7)</td>  <th>  Log Likelihood     </th> <td>-41676.973</td>\n",
       "</tr>\n",
       "<tr>\n",
       "  <th>Date:</th>            <td>Sun, 07 Sep 2025</td> <th>  AIC                </th>  <td>83371.946</td>\n",
       "</tr>\n",
       "<tr>\n",
       "  <th>Time:</th>                <td>15:02:53</td>     <th>  BIC                </th>  <td>83428.693</td>\n",
       "</tr>\n",
       "<tr>\n",
       "  <th>Sample:</th>             <td>01-04-2010</td>    <th>  HQIC               </th>  <td>83392.050</td>\n",
       "</tr>\n",
       "<tr>\n",
       "  <th></th>                   <td>- 07-04-2025</td>   <th>                     </th>      <td> </td>    \n",
       "</tr>\n",
       "<tr>\n",
       "  <th>Covariance Type:</th>        <td>opg</td>       <th>                     </th>      <td> </td>    \n",
       "</tr>\n",
       "</table>\n",
       "<table class=\"simpletable\">\n",
       "<tr>\n",
       "     <td></td>       <th>coef</th>     <th>std err</th>      <th>z</th>      <th>P>|z|</th>  <th>[0.025</th>    <th>0.975]</th>  \n",
       "</tr>\n",
       "<tr>\n",
       "  <th>const</th>  <td> 2.508e+04</td> <td> 2065.766</td> <td>   12.139</td> <td> 0.000</td> <td>  2.1e+04</td> <td> 2.91e+04</td>\n",
       "</tr>\n",
       "<tr>\n",
       "  <th>ma.L1</th>  <td>    0.8017</td> <td>    0.215</td> <td>    3.727</td> <td> 0.000</td> <td>    0.380</td> <td>    1.223</td>\n",
       "</tr>\n",
       "<tr>\n",
       "  <th>ma.L2</th>  <td>    0.4253</td> <td>    0.189</td> <td>    2.256</td> <td> 0.024</td> <td>    0.056</td> <td>    0.795</td>\n",
       "</tr>\n",
       "<tr>\n",
       "  <th>ma.L3</th>  <td>    0.7452</td> <td>    0.195</td> <td>    3.828</td> <td> 0.000</td> <td>    0.364</td> <td>    1.127</td>\n",
       "</tr>\n",
       "<tr>\n",
       "  <th>ma.L4</th>  <td>    0.1797</td> <td>    0.175</td> <td>    1.027</td> <td> 0.304</td> <td>   -0.163</td> <td>    0.523</td>\n",
       "</tr>\n",
       "<tr>\n",
       "  <th>ma.L5</th>  <td>    0.5676</td> <td>    0.199</td> <td>    2.855</td> <td> 0.004</td> <td>    0.178</td> <td>    0.957</td>\n",
       "</tr>\n",
       "<tr>\n",
       "  <th>ma.L6</th>  <td>    0.8558</td> <td>    0.188</td> <td>    4.551</td> <td> 0.000</td> <td>    0.487</td> <td>    1.224</td>\n",
       "</tr>\n",
       "<tr>\n",
       "  <th>ma.L7</th>  <td>    0.3458</td> <td>    0.220</td> <td>    1.571</td> <td> 0.116</td> <td>   -0.086</td> <td>    0.777</td>\n",
       "</tr>\n",
       "<tr>\n",
       "  <th>sigma2</th> <td> 1.117e+08</td> <td>    0.407</td> <td> 2.74e+08</td> <td> 0.000</td> <td> 1.12e+08</td> <td> 1.12e+08</td>\n",
       "</tr>\n",
       "</table>\n",
       "<table class=\"simpletable\">\n",
       "<tr>\n",
       "  <th>Ljung-Box (L1) (Q):</th>     <td>477.27</td> <th>  Jarque-Bera (JB):  </th> <td>446.94</td>\n",
       "</tr>\n",
       "<tr>\n",
       "  <th>Prob(Q):</th>                 <td>0.00</td>  <th>  Prob(JB):          </th>  <td>0.00</td> \n",
       "</tr>\n",
       "<tr>\n",
       "  <th>Heteroskedasticity (H):</th>  <td>5.95</td>  <th>  Skew:              </th>  <td>0.81</td> \n",
       "</tr>\n",
       "<tr>\n",
       "  <th>Prob(H) (two-sided):</th>     <td>0.00</td>  <th>  Kurtosis:          </th>  <td>2.80</td> \n",
       "</tr>\n",
       "</table><br/><br/>Warnings:<br/>[1] Covariance matrix calculated using the outer product of gradients (complex-step).<br/>[2] Covariance matrix is singular or near-singular, with condition number 4.35e+24. Standard errors may be unstable."
      ],
      "text/latex": [
       "\\begin{center}\n",
       "\\begin{tabular}{lclc}\n",
       "\\toprule\n",
       "\\textbf{Dep. Variable:}          &  Market\\_value   & \\textbf{  No. Observations:  } &    4045     \\\\\n",
       "\\textbf{Model:}                  &  ARIMA(0, 0, 7)  & \\textbf{  Log Likelihood     } & -41676.973  \\\\\n",
       "\\textbf{Date:}                   & Sun, 07 Sep 2025 & \\textbf{  AIC                } & 83371.946   \\\\\n",
       "\\textbf{Time:}                   &     15:02:53     & \\textbf{  BIC                } & 83428.693   \\\\\n",
       "\\textbf{Sample:}                 &    01-04-2010    & \\textbf{  HQIC               } & 83392.050   \\\\\n",
       "\\textbf{}                        &   - 07-04-2025   & \\textbf{                     } &             \\\\\n",
       "\\textbf{Covariance Type:}        &       opg        & \\textbf{                     } &             \\\\\n",
       "\\bottomrule\n",
       "\\end{tabular}\n",
       "\\begin{tabular}{lcccccc}\n",
       "                & \\textbf{coef} & \\textbf{std err} & \\textbf{z} & \\textbf{P$> |$z$|$} & \\textbf{[0.025} & \\textbf{0.975]}  \\\\\n",
       "\\midrule\n",
       "\\textbf{const}  &    2.508e+04  &     2065.766     &    12.139  &         0.000        &      2.1e+04    &     2.91e+04     \\\\\n",
       "\\textbf{ma.L1}  &       0.8017  &        0.215     &     3.727  &         0.000        &        0.380    &        1.223     \\\\\n",
       "\\textbf{ma.L2}  &       0.4253  &        0.189     &     2.256  &         0.024        &        0.056    &        0.795     \\\\\n",
       "\\textbf{ma.L3}  &       0.7452  &        0.195     &     3.828  &         0.000        &        0.364    &        1.127     \\\\\n",
       "\\textbf{ma.L4}  &       0.1797  &        0.175     &     1.027  &         0.304        &       -0.163    &        0.523     \\\\\n",
       "\\textbf{ma.L5}  &       0.5676  &        0.199     &     2.855  &         0.004        &        0.178    &        0.957     \\\\\n",
       "\\textbf{ma.L6}  &       0.8558  &        0.188     &     4.551  &         0.000        &        0.487    &        1.224     \\\\\n",
       "\\textbf{ma.L7}  &       0.3458  &        0.220     &     1.571  &         0.116        &       -0.086    &        0.777     \\\\\n",
       "\\textbf{sigma2} &    1.117e+08  &        0.407     &  2.74e+08  &         0.000        &     1.12e+08    &     1.12e+08     \\\\\n",
       "\\bottomrule\n",
       "\\end{tabular}\n",
       "\\begin{tabular}{lclc}\n",
       "\\textbf{Ljung-Box (L1) (Q):}     & 477.27 & \\textbf{  Jarque-Bera (JB):  } & 446.94  \\\\\n",
       "\\textbf{Prob(Q):}                &  0.00  & \\textbf{  Prob(JB):          } &  0.00   \\\\\n",
       "\\textbf{Heteroskedasticity (H):} &  5.95  & \\textbf{  Skew:              } &  0.81   \\\\\n",
       "\\textbf{Prob(H) (two-sided):}    &  0.00  & \\textbf{  Kurtosis:          } &  2.80   \\\\\n",
       "\\bottomrule\n",
       "\\end{tabular}\n",
       "%\\caption{SARIMAX Results}\n",
       "\\end{center}\n",
       "\n",
       "Warnings: \\newline\n",
       " [1] Covariance matrix calculated using the outer product of gradients (complex-step). \\newline\n",
       " [2] Covariance matrix is singular or near-singular, with condition number 4.35e+24. Standard errors may be unstable."
      ],
      "text/plain": [
       "<class 'statsmodels.iolib.summary.Summary'>\n",
       "\"\"\"\n",
       "                               SARIMAX Results                                \n",
       "==============================================================================\n",
       "Dep. Variable:           Market_value   No. Observations:                 4045\n",
       "Model:                 ARIMA(0, 0, 7)   Log Likelihood              -41676.973\n",
       "Date:                Sun, 07 Sep 2025   AIC                          83371.946\n",
       "Time:                        15:02:53   BIC                          83428.693\n",
       "Sample:                    01-04-2010   HQIC                         83392.050\n",
       "                         - 07-04-2025                                         \n",
       "Covariance Type:                  opg                                         \n",
       "==============================================================================\n",
       "                 coef    std err          z      P>|z|      [0.025      0.975]\n",
       "------------------------------------------------------------------------------\n",
       "const       2.508e+04   2065.766     12.139      0.000     2.1e+04    2.91e+04\n",
       "ma.L1          0.8017      0.215      3.727      0.000       0.380       1.223\n",
       "ma.L2          0.4253      0.189      2.256      0.024       0.056       0.795\n",
       "ma.L3          0.7452      0.195      3.828      0.000       0.364       1.127\n",
       "ma.L4          0.1797      0.175      1.027      0.304      -0.163       0.523\n",
       "ma.L5          0.5676      0.199      2.855      0.004       0.178       0.957\n",
       "ma.L6          0.8558      0.188      4.551      0.000       0.487       1.224\n",
       "ma.L7          0.3458      0.220      1.571      0.116      -0.086       0.777\n",
       "sigma2      1.117e+08      0.407   2.74e+08      0.000    1.12e+08    1.12e+08\n",
       "===================================================================================\n",
       "Ljung-Box (L1) (Q):                 477.27   Jarque-Bera (JB):               446.94\n",
       "Prob(Q):                              0.00   Prob(JB):                         0.00\n",
       "Heteroskedasticity (H):               5.95   Skew:                             0.81\n",
       "Prob(H) (two-sided):                  0.00   Kurtosis:                         2.80\n",
       "===================================================================================\n",
       "\n",
       "Warnings:\n",
       "[1] Covariance matrix calculated using the outer product of gradients (complex-step).\n",
       "[2] Covariance matrix is singular or near-singular, with condition number 4.35e+24. Standard errors may be unstable.\n",
       "\"\"\""
      ]
     },
     "execution_count": 32,
     "metadata": {},
     "output_type": "execute_result"
    }
   ],
   "source": [
    "model_ma7 = ARIMA(df.Market_value, order=(0,0,7))\n",
    "result_ma7=model_ma7.fit()\n",
    "result_ma7.summary()"
   ]
  },
  {
   "cell_type": "code",
   "execution_count": 33,
   "id": "bb05649c",
   "metadata": {},
   "outputs": [
    {
     "data": {
      "text/html": [
       "<table class=\"simpletable\">\n",
       "<caption>SARIMAX Results</caption>\n",
       "<tr>\n",
       "  <th>Dep. Variable:</th>     <td>Market_value</td>   <th>  No. Observations:  </th>    <td>4045</td>   \n",
       "</tr>\n",
       "<tr>\n",
       "  <th>Model:</th>            <td>ARIMA(0, 0, 8)</td>  <th>  Log Likelihood     </th> <td>-35031.508</td>\n",
       "</tr>\n",
       "<tr>\n",
       "  <th>Date:</th>            <td>Sun, 07 Sep 2025</td> <th>  AIC                </th>  <td>70083.016</td>\n",
       "</tr>\n",
       "<tr>\n",
       "  <th>Time:</th>                <td>15:03:07</td>     <th>  BIC                </th>  <td>70146.068</td>\n",
       "</tr>\n",
       "<tr>\n",
       "  <th>Sample:</th>             <td>01-04-2010</td>    <th>  HQIC               </th>  <td>70105.354</td>\n",
       "</tr>\n",
       "<tr>\n",
       "  <th></th>                   <td>- 07-04-2025</td>   <th>                     </th>      <td> </td>    \n",
       "</tr>\n",
       "<tr>\n",
       "  <th>Covariance Type:</th>        <td>opg</td>       <th>                     </th>      <td> </td>    \n",
       "</tr>\n",
       "</table>\n",
       "<table class=\"simpletable\">\n",
       "<tr>\n",
       "     <td></td>       <th>coef</th>     <th>std err</th>      <th>z</th>      <th>P>|z|</th>  <th>[0.025</th>    <th>0.975]</th>  \n",
       "</tr>\n",
       "<tr>\n",
       "  <th>const</th>  <td> 2.508e+04</td> <td>  273.531</td> <td>   91.676</td> <td> 0.000</td> <td> 2.45e+04</td> <td> 2.56e+04</td>\n",
       "</tr>\n",
       "<tr>\n",
       "  <th>ma.L1</th>  <td>    1.7128</td> <td>    0.006</td> <td>  290.318</td> <td> 0.000</td> <td>    1.701</td> <td>    1.724</td>\n",
       "</tr>\n",
       "<tr>\n",
       "  <th>ma.L2</th>  <td>    1.7539</td> <td>    0.009</td> <td>  200.973</td> <td> 0.000</td> <td>    1.737</td> <td>    1.771</td>\n",
       "</tr>\n",
       "<tr>\n",
       "  <th>ma.L3</th>  <td>    1.5000</td> <td>    0.006</td> <td>  264.625</td> <td> 0.000</td> <td>    1.489</td> <td>    1.511</td>\n",
       "</tr>\n",
       "<tr>\n",
       "  <th>ma.L4</th>  <td>    1.2483</td> <td>    0.005</td> <td>  235.180</td> <td> 0.000</td> <td>    1.238</td> <td>    1.259</td>\n",
       "</tr>\n",
       "<tr>\n",
       "  <th>ma.L5</th>  <td>    1.5510</td> <td>    0.005</td> <td>  292.789</td> <td> 0.000</td> <td>    1.541</td> <td>    1.561</td>\n",
       "</tr>\n",
       "<tr>\n",
       "  <th>ma.L6</th>  <td>    1.8038</td> <td>    0.006</td> <td>  315.312</td> <td> 0.000</td> <td>    1.793</td> <td>    1.815</td>\n",
       "</tr>\n",
       "<tr>\n",
       "  <th>ma.L7</th>  <td>    1.6305</td> <td>    0.009</td> <td>  184.988</td> <td> 0.000</td> <td>    1.613</td> <td>    1.648</td>\n",
       "</tr>\n",
       "<tr>\n",
       "  <th>ma.L8</th>  <td>    0.8636</td> <td>    0.006</td> <td>  145.059</td> <td> 0.000</td> <td>    0.852</td> <td>    0.875</td>\n",
       "</tr>\n",
       "<tr>\n",
       "  <th>sigma2</th> <td> 1.746e+06</td> <td>    0.998</td> <td> 1.75e+06</td> <td> 0.000</td> <td> 1.75e+06</td> <td> 1.75e+06</td>\n",
       "</tr>\n",
       "</table>\n",
       "<table class=\"simpletable\">\n",
       "<tr>\n",
       "  <th>Ljung-Box (L1) (Q):</th>     <td>1002.78</td> <th>  Jarque-Bera (JB):  </th> <td>830.17</td>\n",
       "</tr>\n",
       "<tr>\n",
       "  <th>Prob(Q):</th>                 <td>0.00</td>   <th>  Prob(JB):          </th>  <td>0.00</td> \n",
       "</tr>\n",
       "<tr>\n",
       "  <th>Heteroskedasticity (H):</th>  <td>2.93</td>   <th>  Skew:              </th>  <td>1.00</td> \n",
       "</tr>\n",
       "<tr>\n",
       "  <th>Prob(H) (two-sided):</th>     <td>0.00</td>   <th>  Kurtosis:          </th>  <td>3.97</td> \n",
       "</tr>\n",
       "</table><br/><br/>Warnings:<br/>[1] Covariance matrix calculated using the outer product of gradients (complex-step).<br/>[2] Covariance matrix is singular or near-singular, with condition number 5.07e+20. Standard errors may be unstable."
      ],
      "text/latex": [
       "\\begin{center}\n",
       "\\begin{tabular}{lclc}\n",
       "\\toprule\n",
       "\\textbf{Dep. Variable:}          &  Market\\_value   & \\textbf{  No. Observations:  } &    4045     \\\\\n",
       "\\textbf{Model:}                  &  ARIMA(0, 0, 8)  & \\textbf{  Log Likelihood     } & -35031.508  \\\\\n",
       "\\textbf{Date:}                   & Sun, 07 Sep 2025 & \\textbf{  AIC                } & 70083.016   \\\\\n",
       "\\textbf{Time:}                   &     15:03:07     & \\textbf{  BIC                } & 70146.068   \\\\\n",
       "\\textbf{Sample:}                 &    01-04-2010    & \\textbf{  HQIC               } & 70105.354   \\\\\n",
       "\\textbf{}                        &   - 07-04-2025   & \\textbf{                     } &             \\\\\n",
       "\\textbf{Covariance Type:}        &       opg        & \\textbf{                     } &             \\\\\n",
       "\\bottomrule\n",
       "\\end{tabular}\n",
       "\\begin{tabular}{lcccccc}\n",
       "                & \\textbf{coef} & \\textbf{std err} & \\textbf{z} & \\textbf{P$> |$z$|$} & \\textbf{[0.025} & \\textbf{0.975]}  \\\\\n",
       "\\midrule\n",
       "\\textbf{const}  &    2.508e+04  &      273.531     &    91.676  &         0.000        &     2.45e+04    &     2.56e+04     \\\\\n",
       "\\textbf{ma.L1}  &       1.7128  &        0.006     &   290.318  &         0.000        &        1.701    &        1.724     \\\\\n",
       "\\textbf{ma.L2}  &       1.7539  &        0.009     &   200.973  &         0.000        &        1.737    &        1.771     \\\\\n",
       "\\textbf{ma.L3}  &       1.5000  &        0.006     &   264.625  &         0.000        &        1.489    &        1.511     \\\\\n",
       "\\textbf{ma.L4}  &       1.2483  &        0.005     &   235.180  &         0.000        &        1.238    &        1.259     \\\\\n",
       "\\textbf{ma.L5}  &       1.5510  &        0.005     &   292.789  &         0.000        &        1.541    &        1.561     \\\\\n",
       "\\textbf{ma.L6}  &       1.8038  &        0.006     &   315.312  &         0.000        &        1.793    &        1.815     \\\\\n",
       "\\textbf{ma.L7}  &       1.6305  &        0.009     &   184.988  &         0.000        &        1.613    &        1.648     \\\\\n",
       "\\textbf{ma.L8}  &       0.8636  &        0.006     &   145.059  &         0.000        &        0.852    &        0.875     \\\\\n",
       "\\textbf{sigma2} &    1.746e+06  &        0.998     &  1.75e+06  &         0.000        &     1.75e+06    &     1.75e+06     \\\\\n",
       "\\bottomrule\n",
       "\\end{tabular}\n",
       "\\begin{tabular}{lclc}\n",
       "\\textbf{Ljung-Box (L1) (Q):}     & 1002.78 & \\textbf{  Jarque-Bera (JB):  } & 830.17  \\\\\n",
       "\\textbf{Prob(Q):}                &   0.00  & \\textbf{  Prob(JB):          } &  0.00   \\\\\n",
       "\\textbf{Heteroskedasticity (H):} &   2.93  & \\textbf{  Skew:              } &  1.00   \\\\\n",
       "\\textbf{Prob(H) (two-sided):}    &   0.00  & \\textbf{  Kurtosis:          } &  3.97   \\\\\n",
       "\\bottomrule\n",
       "\\end{tabular}\n",
       "%\\caption{SARIMAX Results}\n",
       "\\end{center}\n",
       "\n",
       "Warnings: \\newline\n",
       " [1] Covariance matrix calculated using the outer product of gradients (complex-step). \\newline\n",
       " [2] Covariance matrix is singular or near-singular, with condition number 5.07e+20. Standard errors may be unstable."
      ],
      "text/plain": [
       "<class 'statsmodels.iolib.summary.Summary'>\n",
       "\"\"\"\n",
       "                               SARIMAX Results                                \n",
       "==============================================================================\n",
       "Dep. Variable:           Market_value   No. Observations:                 4045\n",
       "Model:                 ARIMA(0, 0, 8)   Log Likelihood              -35031.508\n",
       "Date:                Sun, 07 Sep 2025   AIC                          70083.016\n",
       "Time:                        15:03:07   BIC                          70146.068\n",
       "Sample:                    01-04-2010   HQIC                         70105.354\n",
       "                         - 07-04-2025                                         \n",
       "Covariance Type:                  opg                                         \n",
       "==============================================================================\n",
       "                 coef    std err          z      P>|z|      [0.025      0.975]\n",
       "------------------------------------------------------------------------------\n",
       "const       2.508e+04    273.531     91.676      0.000    2.45e+04    2.56e+04\n",
       "ma.L1          1.7128      0.006    290.318      0.000       1.701       1.724\n",
       "ma.L2          1.7539      0.009    200.973      0.000       1.737       1.771\n",
       "ma.L3          1.5000      0.006    264.625      0.000       1.489       1.511\n",
       "ma.L4          1.2483      0.005    235.180      0.000       1.238       1.259\n",
       "ma.L5          1.5510      0.005    292.789      0.000       1.541       1.561\n",
       "ma.L6          1.8038      0.006    315.312      0.000       1.793       1.815\n",
       "ma.L7          1.6305      0.009    184.988      0.000       1.613       1.648\n",
       "ma.L8          0.8636      0.006    145.059      0.000       0.852       0.875\n",
       "sigma2      1.746e+06      0.998   1.75e+06      0.000    1.75e+06    1.75e+06\n",
       "===================================================================================\n",
       "Ljung-Box (L1) (Q):                1002.78   Jarque-Bera (JB):               830.17\n",
       "Prob(Q):                              0.00   Prob(JB):                         0.00\n",
       "Heteroskedasticity (H):               2.93   Skew:                             1.00\n",
       "Prob(H) (two-sided):                  0.00   Kurtosis:                         3.97\n",
       "===================================================================================\n",
       "\n",
       "Warnings:\n",
       "[1] Covariance matrix calculated using the outer product of gradients (complex-step).\n",
       "[2] Covariance matrix is singular or near-singular, with condition number 5.07e+20. Standard errors may be unstable.\n",
       "\"\"\""
      ]
     },
     "execution_count": 33,
     "metadata": {},
     "output_type": "execute_result"
    }
   ],
   "source": [
    "model_ma8 = ARIMA(df.Market_value, order=(0,0,8))\n",
    "result_ma8=model_ma8.fit()\n",
    "result_ma8.summary()"
   ]
  },
  {
   "cell_type": "markdown",
   "id": "256d6f01",
   "metadata": {},
   "source": [
    "We stopped here only because p>z value is way more than our significance value so we will use ar6 or ar8 model I  didnt stopped on ar7 model because I wanted to see can next model will be better than the previous one and it is So now we will compare which is better MA6 or MA8"
   ]
  },
  {
   "cell_type": "markdown",
   "id": "ecefc488",
   "metadata": {},
   "source": [
    "## Performing LLR Test on All three model"
   ]
  },
  {
   "cell_type": "code",
   "execution_count": 34,
   "id": "35a59b0b",
   "metadata": {},
   "outputs": [
    {
     "data": {
      "text/plain": [
       "np.float64(0.0)"
      ]
     },
     "execution_count": 34,
     "metadata": {},
     "output_type": "execute_result"
    }
   ],
   "source": [
    "LLR_test(model_ma1,model_ma2)"
   ]
  },
  {
   "cell_type": "code",
   "execution_count": 35,
   "id": "3d6fdd80",
   "metadata": {},
   "outputs": [
    {
     "data": {
      "text/plain": [
       "np.float64(0.0)"
      ]
     },
     "execution_count": 35,
     "metadata": {},
     "output_type": "execute_result"
    }
   ],
   "source": [
    "LLR_test(model_ma2,model_ma3)"
   ]
  },
  {
   "cell_type": "code",
   "execution_count": 36,
   "id": "4cebc743",
   "metadata": {},
   "outputs": [
    {
     "data": {
      "text/plain": [
       "np.float64(0.0)"
      ]
     },
     "execution_count": 36,
     "metadata": {},
     "output_type": "execute_result"
    }
   ],
   "source": [
    "LLR_test(model_ma3,model_ma4)"
   ]
  },
  {
   "cell_type": "code",
   "execution_count": 37,
   "id": "f2fc8519",
   "metadata": {},
   "outputs": [
    {
     "data": {
      "text/plain": [
       "np.float64(1.0)"
      ]
     },
     "execution_count": 37,
     "metadata": {},
     "output_type": "execute_result"
    }
   ],
   "source": [
    "LLR_test(model_ma4,model_ma5)"
   ]
  },
  {
   "cell_type": "code",
   "execution_count": 38,
   "id": "6eba20e3",
   "metadata": {},
   "outputs": [
    {
     "data": {
      "text/plain": [
       "np.float64(0.0)"
      ]
     },
     "execution_count": 38,
     "metadata": {},
     "output_type": "execute_result"
    }
   ],
   "source": [
    "LLR_test(model_ma5,model_ma6)"
   ]
  },
  {
   "cell_type": "code",
   "execution_count": 39,
   "id": "b14314ec",
   "metadata": {},
   "outputs": [
    {
     "data": {
      "text/plain": [
       "np.float64(1.0)"
      ]
     },
     "execution_count": 39,
     "metadata": {},
     "output_type": "execute_result"
    }
   ],
   "source": [
    "LLR_test(model_ma6,model_ma7)"
   ]
  },
  {
   "cell_type": "code",
   "execution_count": 40,
   "id": "16fb992c",
   "metadata": {},
   "outputs": [
    {
     "data": {
      "text/plain": [
       "np.float64(0.0)"
      ]
     },
     "execution_count": 40,
     "metadata": {},
     "output_type": "execute_result"
    }
   ],
   "source": [
    "LLR_test(model_ma7,model_ma8)"
   ]
  },
  {
   "cell_type": "code",
   "execution_count": 41,
   "id": "374e5fec",
   "metadata": {},
   "outputs": [
    {
     "data": {
      "text/plain": [
       "np.float64(1.0)"
      ]
     },
     "execution_count": 41,
     "metadata": {},
     "output_type": "execute_result"
    }
   ],
   "source": [
    "## Comparing model 6 and 8\n",
    "LLR_test(model_ma6,model_ma8,DF=2) # Here model 6 is better"
   ]
  },
  {
   "cell_type": "code",
   "execution_count": 42,
   "id": "4a8a11c6",
   "metadata": {},
   "outputs": [
    {
     "data": {
      "text/plain": [
       "np.float64(0.0)"
      ]
     },
     "execution_count": 42,
     "metadata": {},
     "output_type": "execute_result"
    }
   ],
   "source": [
    "## Comparing model 4 and 6\n",
    "LLR_test(model_ma4,model_ma6,DF=2) # Here model 6 is better"
   ]
  },
  {
   "cell_type": "markdown",
   "id": "8dc53e28",
   "metadata": {},
   "source": [
    "Here The best model we can find is model 6 so we will use this model"
   ]
  },
  {
   "cell_type": "markdown",
   "id": "4a2461cd",
   "metadata": {},
   "source": [
    "## Analysing the residuals"
   ]
  },
  {
   "cell_type": "code",
   "execution_count": 43,
   "id": "3acb6564",
   "metadata": {},
   "outputs": [],
   "source": [
    "df['res_price']=result_ma6.resid"
   ]
  },
  {
   "cell_type": "code",
   "execution_count": 44,
   "id": "46ce37b5",
   "metadata": {},
   "outputs": [
    {
     "data": {
      "text/plain": [
       "np.float64(-2.3245361719766287)"
      ]
     },
     "execution_count": 44,
     "metadata": {},
     "output_type": "execute_result"
    }
   ],
   "source": [
    "## Residual Mean\n",
    "df.res_price.mean()"
   ]
  },
  {
   "cell_type": "code",
   "execution_count": 47,
   "id": "d5d285f2",
   "metadata": {},
   "outputs": [
    {
     "data": {
      "text/plain": [
       "1257982.8137064213"
      ]
     },
     "execution_count": 47,
     "metadata": {},
     "output_type": "execute_result"
    }
   ],
   "source": [
    "## Residual Variance\n",
    "df.res_price.var()"
   ]
  },
  {
   "cell_type": "code",
   "execution_count": 48,
   "id": "d6661d66",
   "metadata": {},
   "outputs": [
    {
     "data": {
      "text/plain": [
       "(np.float64(0.3382895870831705),\n",
       " np.float64(0.9790345809361245),\n",
       " 12,\n",
       " 4032,\n",
       " {'1%': np.float64(-3.4319728839485406),\n",
       "  '5%': np.float64(-2.8622571013298965),\n",
       "  '10%': np.float64(-2.5671517204059)},\n",
       " np.float64(58223.17081905611))"
      ]
     },
     "execution_count": 48,
     "metadata": {},
     "output_type": "execute_result"
    }
   ],
   "source": [
    "## Dicky Fuller Test\n",
    "sts.adfuller(df.res_price)"
   ]
  },
  {
   "cell_type": "code",
   "execution_count": 51,
   "id": "9ee4bd00",
   "metadata": {},
   "outputs": [
    {
     "data": {
      "text/plain": [
       "Text(0.5, 1.0, 'ACF of Residuals FOR Price')"
      ]
     },
     "execution_count": 51,
     "metadata": {},
     "output_type": "execute_result"
    },
    {
     "data": {
      "image/png": "[encoded data removed]",
      "text/plain": [
       "<Figure size 640x480 with 1 Axes>"
      ]
     },
     "metadata": {},
     "output_type": "display_data"
    }
   ],
   "source": [
    "## Ploting ACF for Residuals\n",
    "sgt.plot_acf(df.res_price,lags=40,zero=False)\n",
    "plt.ylim(-1,1)\n",
    "plt.title(\"ACF of Residuals FOR Price\",size=24)"
   ]
  },
  {
   "cell_type": "code",
   "execution_count": 54,
   "id": "17baf987",
   "metadata": {},
   "outputs": [
    {
     "data": {
      "text/plain": [
       "Text(0.5, 1.0, 'PACF of Residuals FOR Price')"
      ]
     },
     "execution_count": 54,
     "metadata": {},
     "output_type": "execute_result"
    },
    {
     "data": {
      "image/png": "[encoded data removed]",
      "text/plain": [
       "<Figure size 640x480 with 1 Axes>"
      ]
     },
     "metadata": {},
     "output_type": "display_data"
    }
   ],
   "source": [
    "## Ploting PACF for Residuals\n",
    "sgt.plot_pacf(df.res_price,lags=40,zero=False)\n",
    "plt.ylim(-0.5,0.5)\n",
    "plt.title(\"PACF of Residuals FOR Price\",size=24)"
   ]
  },
  {
   "cell_type": "markdown",
   "id": "7fb3de4c",
   "metadata": {},
   "source": [
    "## Now calculating The same Things for returns"
   ]
  },
  {
   "cell_type": "code",
   "execution_count": 55,
   "id": "3ad53e42",
   "metadata": {},
   "outputs": [
    {
     "data": {
      "text/html": [
       "<div>\n",
       "<style scoped>\n",
       "    .dataframe tbody tr th:only-of-type {\n",
       "        vertical-align: middle;\n",
       "    }\n",
       "\n",
       "    .dataframe tbody tr th {\n",
       "        vertical-align: top;\n",
       "    }\n",
       "\n",
       "    .dataframe thead th {\n",
       "        text-align: right;\n",
       "    }\n",
       "</style>\n",
       "<table border=\"1\" class=\"dataframe\">\n",
       "  <thead>\n",
       "    <tr style=\"text-align: right;\">\n",
       "      <th></th>\n",
       "      <th>Market_value</th>\n",
       "      <th>res_price</th>\n",
       "      <th>returns</th>\n",
       "    </tr>\n",
       "    <tr>\n",
       "      <th>Date</th>\n",
       "      <th></th>\n",
       "      <th></th>\n",
       "      <th></th>\n",
       "    </tr>\n",
       "  </thead>\n",
       "  <tbody>\n",
       "    <tr>\n",
       "      <th>2010-01-05</th>\n",
       "      <td>9192.043945</td>\n",
       "      <td>-1384.039722</td>\n",
       "      <td>0.875743</td>\n",
       "    </tr>\n",
       "    <tr>\n",
       "      <th>2010-01-06</th>\n",
       "      <td>9222.892578</td>\n",
       "      <td>-2711.620391</td>\n",
       "      <td>0.335601</td>\n",
       "    </tr>\n",
       "    <tr>\n",
       "      <th>2010-01-07</th>\n",
       "      <td>9192.843750</td>\n",
       "      <td>-808.157686</td>\n",
       "      <td>-0.325807</td>\n",
       "    </tr>\n",
       "    <tr>\n",
       "      <th>2010-01-08</th>\n",
       "      <td>9160.593750</td>\n",
       "      <td>-980.432210</td>\n",
       "      <td>-0.350816</td>\n",
       "    </tr>\n",
       "    <tr>\n",
       "      <th>2010-01-11</th>\n",
       "      <td>9173.443359</td>\n",
       "      <td>-1206.800472</td>\n",
       "      <td>0.140270</td>\n",
       "    </tr>\n",
       "  </tbody>\n",
       "</table>\n",
       "</div>"
      ],
      "text/plain": [
       "            Market_value    res_price   returns\n",
       "Date                                           \n",
       "2010-01-05   9192.043945 -1384.039722  0.875743\n",
       "2010-01-06   9222.892578 -2711.620391  0.335601\n",
       "2010-01-07   9192.843750  -808.157686 -0.325807\n",
       "2010-01-08   9160.593750  -980.432210 -0.350816\n",
       "2010-01-11   9173.443359 -1206.800472  0.140270"
      ]
     },
     "execution_count": 55,
     "metadata": {},
     "output_type": "execute_result"
    }
   ],
   "source": [
    "## Adding Returns to the dataframe\n",
    "df['returns']=df.Market_value.pct_change(1)*100\n",
    "df=df.iloc[1:]\n",
    "df.head()"
   ]
  },
  {
   "cell_type": "code",
   "execution_count": 56,
   "id": "78c0e778",
   "metadata": {},
   "outputs": [
    {
     "data": {
      "text/plain": [
       "(np.float64(-18.80836817762138),\n",
       " np.float64(2.0225345071007116e-30),\n",
       " 10,\n",
       " 4033,\n",
       " {'1%': np.float64(-3.4319724812908037),\n",
       "  '5%': np.float64(-2.862256923456619),\n",
       "  '10%': np.float64(-2.5671516257138216)},\n",
       " np.float64(14297.720920268723))"
      ]
     },
     "execution_count": 56,
     "metadata": {},
     "output_type": "execute_result"
    }
   ],
   "source": [
    "## Running Dicky Fuller test for Returns\n",
    "sts.adfuller(df.returns)"
   ]
  },
  {
   "cell_type": "markdown",
   "id": "fd611507",
   "metadata": {},
   "source": [
    "## Ploting PACF and ACF for Returns"
   ]
  },
  {
   "cell_type": "code",
   "execution_count": 57,
   "id": "aa9c3eaf",
   "metadata": {},
   "outputs": [
    {
     "data": {
      "text/plain": [
       "(-0.1, 0.1)"
      ]
     },
     "execution_count": 57,
     "metadata": {},
     "output_type": "execute_result"
    },
    {
     "data": {
      "image/png": "[encoded data removed]",
      "text/plain": [
       "<Figure size 640x480 with 1 Axes>"
      ]
     },
     "metadata": {},
     "output_type": "display_data"
    }
   ],
   "source": [
    "sgt.plot_acf(df.returns,lags=40,zero=False)\n",
    "plt.title(\"ACF of Bank Nifty Returns\",size=24)\n",
    "plt.ylim(-0.1,0.1)"
   ]
  },
  {
   "cell_type": "code",
   "execution_count": 58,
   "id": "8618b57a",
   "metadata": {},
   "outputs": [
    {
     "data": {
      "text/plain": [
       "(-0.1, 0.1)"
      ]
     },
     "execution_count": 58,
     "metadata": {},
     "output_type": "execute_result"
    },
    {
     "data": {
      "image/png": "[encoded data removed]",
      "text/plain": [
       "<Figure size 640x480 with 1 Axes>"
      ]
     },
     "metadata": {},
     "output_type": "display_data"
    }
   ],
   "source": [
    "sgt.plot_pacf(df.returns,lags=40,zero=False)\n",
    "plt.title(\"PACF of Bank Nifty Returns\",size=24)\n",
    "plt.ylim(-0.1,0.1)"
   ]
  },
  {
   "cell_type": "markdown",
   "id": "1dee79d3",
   "metadata": {},
   "source": [
    "## MA Models for Returns"
   ]
  },
  {
   "cell_type": "code",
   "execution_count": 60,
   "id": "618d0106",
   "metadata": {},
   "outputs": [
    {
     "data": {
      "text/html": [
       "<table class=\"simpletable\">\n",
       "<caption>SARIMAX Results</caption>\n",
       "<tr>\n",
       "  <th>Dep. Variable:</th>        <td>returns</td>     <th>  No. Observations:  </th>   <td>4044</td>   \n",
       "</tr>\n",
       "<tr>\n",
       "  <th>Model:</th>            <td>ARIMA(0, 0, 1)</td>  <th>  Log Likelihood     </th> <td>-7214.698</td>\n",
       "</tr>\n",
       "<tr>\n",
       "  <th>Date:</th>            <td>Sun, 07 Sep 2025</td> <th>  AIC                </th> <td>14435.395</td>\n",
       "</tr>\n",
       "<tr>\n",
       "  <th>Time:</th>                <td>15:08:54</td>     <th>  BIC                </th> <td>14454.310</td>\n",
       "</tr>\n",
       "<tr>\n",
       "  <th>Sample:</th>             <td>01-05-2010</td>    <th>  HQIC               </th> <td>14442.096</td>\n",
       "</tr>\n",
       "<tr>\n",
       "  <th></th>                   <td>- 07-04-2025</td>   <th>                     </th>     <td> </td>    \n",
       "</tr>\n",
       "<tr>\n",
       "  <th>Covariance Type:</th>        <td>opg</td>       <th>                     </th>     <td> </td>    \n",
       "</tr>\n",
       "</table>\n",
       "<table class=\"simpletable\">\n",
       "<tr>\n",
       "     <td></td>       <th>coef</th>     <th>std err</th>      <th>z</th>      <th>P>|z|</th>  <th>[0.025</th>    <th>0.975]</th>  \n",
       "</tr>\n",
       "<tr>\n",
       "  <th>const</th>  <td>    0.0558</td> <td>    0.024</td> <td>    2.354</td> <td> 0.019</td> <td>    0.009</td> <td>    0.102</td>\n",
       "</tr>\n",
       "<tr>\n",
       "  <th>ma.L1</th>  <td>    0.0437</td> <td>    0.011</td> <td>    3.915</td> <td> 0.000</td> <td>    0.022</td> <td>    0.066</td>\n",
       "</tr>\n",
       "<tr>\n",
       "  <th>sigma2</th> <td>    2.0755</td> <td>    0.015</td> <td>  140.605</td> <td> 0.000</td> <td>    2.047</td> <td>    2.104</td>\n",
       "</tr>\n",
       "</table>\n",
       "<table class=\"simpletable\">\n",
       "<tr>\n",
       "  <th>Ljung-Box (L1) (Q):</th>     <td>0.00</td> <th>  Jarque-Bera (JB):  </th> <td>52646.63</td>\n",
       "</tr>\n",
       "<tr>\n",
       "  <th>Prob(Q):</th>                <td>0.98</td> <th>  Prob(JB):          </th>   <td>0.00</td>  \n",
       "</tr>\n",
       "<tr>\n",
       "  <th>Heteroskedasticity (H):</th> <td>0.69</td> <th>  Skew:              </th>   <td>0.24</td>  \n",
       "</tr>\n",
       "<tr>\n",
       "  <th>Prob(H) (two-sided):</th>    <td>0.00</td> <th>  Kurtosis:          </th>   <td>20.67</td> \n",
       "</tr>\n",
       "</table><br/><br/>Warnings:<br/>[1] Covariance matrix calculated using the outer product of gradients (complex-step)."
      ],
      "text/latex": [
       "\\begin{center}\n",
       "\\begin{tabular}{lclc}\n",
       "\\toprule\n",
       "\\textbf{Dep. Variable:}          &     returns      & \\textbf{  No. Observations:  } &    4044     \\\\\n",
       "\\textbf{Model:}                  &  ARIMA(0, 0, 1)  & \\textbf{  Log Likelihood     } & -7214.698   \\\\\n",
       "\\textbf{Date:}                   & Sun, 07 Sep 2025 & \\textbf{  AIC                } & 14435.395   \\\\\n",
       "\\textbf{Time:}                   &     15:08:54     & \\textbf{  BIC                } & 14454.310   \\\\\n",
       "\\textbf{Sample:}                 &    01-05-2010    & \\textbf{  HQIC               } & 14442.096   \\\\\n",
       "\\textbf{}                        &   - 07-04-2025   & \\textbf{                     } &             \\\\\n",
       "\\textbf{Covariance Type:}        &       opg        & \\textbf{                     } &             \\\\\n",
       "\\bottomrule\n",
       "\\end{tabular}\n",
       "\\begin{tabular}{lcccccc}\n",
       "                & \\textbf{coef} & \\textbf{std err} & \\textbf{z} & \\textbf{P$> |$z$|$} & \\textbf{[0.025} & \\textbf{0.975]}  \\\\\n",
       "\\midrule\n",
       "\\textbf{const}  &       0.0558  &        0.024     &     2.354  &         0.019        &        0.009    &        0.102     \\\\\n",
       "\\textbf{ma.L1}  &       0.0437  &        0.011     &     3.915  &         0.000        &        0.022    &        0.066     \\\\\n",
       "\\textbf{sigma2} &       2.0755  &        0.015     &   140.605  &         0.000        &        2.047    &        2.104     \\\\\n",
       "\\bottomrule\n",
       "\\end{tabular}\n",
       "\\begin{tabular}{lclc}\n",
       "\\textbf{Ljung-Box (L1) (Q):}     & 0.00 & \\textbf{  Jarque-Bera (JB):  } & 52646.63  \\\\\n",
       "\\textbf{Prob(Q):}                & 0.98 & \\textbf{  Prob(JB):          } &   0.00    \\\\\n",
       "\\textbf{Heteroskedasticity (H):} & 0.69 & \\textbf{  Skew:              } &   0.24    \\\\\n",
       "\\textbf{Prob(H) (two-sided):}    & 0.00 & \\textbf{  Kurtosis:          } &  20.67    \\\\\n",
       "\\bottomrule\n",
       "\\end{tabular}\n",
       "%\\caption{SARIMAX Results}\n",
       "\\end{center}\n",
       "\n",
       "Warnings: \\newline\n",
       " [1] Covariance matrix calculated using the outer product of gradients (complex-step)."
      ],
      "text/plain": [
       "<class 'statsmodels.iolib.summary.Summary'>\n",
       "\"\"\"\n",
       "                               SARIMAX Results                                \n",
       "==============================================================================\n",
       "Dep. Variable:                returns   No. Observations:                 4044\n",
       "Model:                 ARIMA(0, 0, 1)   Log Likelihood               -7214.698\n",
       "Date:                Sun, 07 Sep 2025   AIC                          14435.395\n",
       "Time:                        15:08:54   BIC                          14454.310\n",
       "Sample:                    01-05-2010   HQIC                         14442.096\n",
       "                         - 07-04-2025                                         \n",
       "Covariance Type:                  opg                                         \n",
       "==============================================================================\n",
       "                 coef    std err          z      P>|z|      [0.025      0.975]\n",
       "------------------------------------------------------------------------------\n",
       "const          0.0558      0.024      2.354      0.019       0.009       0.102\n",
       "ma.L1          0.0437      0.011      3.915      0.000       0.022       0.066\n",
       "sigma2         2.0755      0.015    140.605      0.000       2.047       2.104\n",
       "===================================================================================\n",
       "Ljung-Box (L1) (Q):                   0.00   Jarque-Bera (JB):             52646.63\n",
       "Prob(Q):                              0.98   Prob(JB):                         0.00\n",
       "Heteroskedasticity (H):               0.69   Skew:                             0.24\n",
       "Prob(H) (two-sided):                  0.00   Kurtosis:                        20.67\n",
       "===================================================================================\n",
       "\n",
       "Warnings:\n",
       "[1] Covariance matrix calculated using the outer product of gradients (complex-step).\n",
       "\"\"\""
      ]
     },
     "execution_count": 60,
     "metadata": {},
     "output_type": "execute_result"
    }
   ],
   "source": [
    "model_ret_MA=ARIMA(df.returns, order=(0,0,1))\n",
    "results_ret_MA = model_ret_MA.fit()\n",
    "results_ret_MA.summary()"
   ]
  },
  {
   "cell_type": "code",
   "execution_count": 61,
   "id": "ed389f70",
   "metadata": {},
   "outputs": [
    {
     "data": {
      "text/html": [
       "<table class=\"simpletable\">\n",
       "<caption>SARIMAX Results</caption>\n",
       "<tr>\n",
       "  <th>Dep. Variable:</th>        <td>returns</td>     <th>  No. Observations:  </th>   <td>4044</td>   \n",
       "</tr>\n",
       "<tr>\n",
       "  <th>Model:</th>            <td>ARIMA(0, 0, 2)</td>  <th>  Log Likelihood     </th> <td>-7214.578</td>\n",
       "</tr>\n",
       "<tr>\n",
       "  <th>Date:</th>            <td>Sun, 07 Sep 2025</td> <th>  AIC                </th> <td>14437.156</td>\n",
       "</tr>\n",
       "<tr>\n",
       "  <th>Time:</th>                <td>15:09:09</td>     <th>  BIC                </th> <td>14462.376</td>\n",
       "</tr>\n",
       "<tr>\n",
       "  <th>Sample:</th>             <td>01-05-2010</td>    <th>  HQIC               </th> <td>14446.091</td>\n",
       "</tr>\n",
       "<tr>\n",
       "  <th></th>                   <td>- 07-04-2025</td>   <th>                     </th>     <td> </td>    \n",
       "</tr>\n",
       "<tr>\n",
       "  <th>Covariance Type:</th>        <td>opg</td>       <th>                     </th>     <td> </td>    \n",
       "</tr>\n",
       "</table>\n",
       "<table class=\"simpletable\">\n",
       "<tr>\n",
       "     <td></td>       <th>coef</th>     <th>std err</th>      <th>z</th>      <th>P>|z|</th>  <th>[0.025</th>    <th>0.975]</th>  \n",
       "</tr>\n",
       "<tr>\n",
       "  <th>const</th>  <td>    0.0558</td> <td>    0.024</td> <td>    2.340</td> <td> 0.019</td> <td>    0.009</td> <td>    0.102</td>\n",
       "</tr>\n",
       "<tr>\n",
       "  <th>ma.L1</th>  <td>    0.0432</td> <td>    0.011</td> <td>    3.788</td> <td> 0.000</td> <td>    0.021</td> <td>    0.066</td>\n",
       "</tr>\n",
       "<tr>\n",
       "  <th>ma.L2</th>  <td>   -0.0076</td> <td>    0.009</td> <td>   -0.857</td> <td> 0.392</td> <td>   -0.025</td> <td>    0.010</td>\n",
       "</tr>\n",
       "<tr>\n",
       "  <th>sigma2</th> <td>    2.0754</td> <td>    0.015</td> <td>  140.618</td> <td> 0.000</td> <td>    2.046</td> <td>    2.104</td>\n",
       "</tr>\n",
       "</table>\n",
       "<table class=\"simpletable\">\n",
       "<tr>\n",
       "  <th>Ljung-Box (L1) (Q):</th>     <td>0.00</td> <th>  Jarque-Bera (JB):  </th> <td>52636.30</td>\n",
       "</tr>\n",
       "<tr>\n",
       "  <th>Prob(Q):</th>                <td>1.00</td> <th>  Prob(JB):          </th>   <td>0.00</td>  \n",
       "</tr>\n",
       "<tr>\n",
       "  <th>Heteroskedasticity (H):</th> <td>0.69</td> <th>  Skew:              </th>   <td>0.23</td>  \n",
       "</tr>\n",
       "<tr>\n",
       "  <th>Prob(H) (two-sided):</th>    <td>0.00</td> <th>  Kurtosis:          </th>   <td>20.67</td> \n",
       "</tr>\n",
       "</table><br/><br/>Warnings:<br/>[1] Covariance matrix calculated using the outer product of gradients (complex-step)."
      ],
      "text/latex": [
       "\\begin{center}\n",
       "\\begin{tabular}{lclc}\n",
       "\\toprule\n",
       "\\textbf{Dep. Variable:}          &     returns      & \\textbf{  No. Observations:  } &    4044     \\\\\n",
       "\\textbf{Model:}                  &  ARIMA(0, 0, 2)  & \\textbf{  Log Likelihood     } & -7214.578   \\\\\n",
       "\\textbf{Date:}                   & Sun, 07 Sep 2025 & \\textbf{  AIC                } & 14437.156   \\\\\n",
       "\\textbf{Time:}                   &     15:09:09     & \\textbf{  BIC                } & 14462.376   \\\\\n",
       "\\textbf{Sample:}                 &    01-05-2010    & \\textbf{  HQIC               } & 14446.091   \\\\\n",
       "\\textbf{}                        &   - 07-04-2025   & \\textbf{                     } &             \\\\\n",
       "\\textbf{Covariance Type:}        &       opg        & \\textbf{                     } &             \\\\\n",
       "\\bottomrule\n",
       "\\end{tabular}\n",
       "\\begin{tabular}{lcccccc}\n",
       "                & \\textbf{coef} & \\textbf{std err} & \\textbf{z} & \\textbf{P$> |$z$|$} & \\textbf{[0.025} & \\textbf{0.975]}  \\\\\n",
       "\\midrule\n",
       "\\textbf{const}  &       0.0558  &        0.024     &     2.340  &         0.019        &        0.009    &        0.102     \\\\\n",
       "\\textbf{ma.L1}  &       0.0432  &        0.011     &     3.788  &         0.000        &        0.021    &        0.066     \\\\\n",
       "\\textbf{ma.L2}  &      -0.0076  &        0.009     &    -0.857  &         0.392        &       -0.025    &        0.010     \\\\\n",
       "\\textbf{sigma2} &       2.0754  &        0.015     &   140.618  &         0.000        &        2.046    &        2.104     \\\\\n",
       "\\bottomrule\n",
       "\\end{tabular}\n",
       "\\begin{tabular}{lclc}\n",
       "\\textbf{Ljung-Box (L1) (Q):}     & 0.00 & \\textbf{  Jarque-Bera (JB):  } & 52636.30  \\\\\n",
       "\\textbf{Prob(Q):}                & 1.00 & \\textbf{  Prob(JB):          } &   0.00    \\\\\n",
       "\\textbf{Heteroskedasticity (H):} & 0.69 & \\textbf{  Skew:              } &   0.23    \\\\\n",
       "\\textbf{Prob(H) (two-sided):}    & 0.00 & \\textbf{  Kurtosis:          } &  20.67    \\\\\n",
       "\\bottomrule\n",
       "\\end{tabular}\n",
       "%\\caption{SARIMAX Results}\n",
       "\\end{center}\n",
       "\n",
       "Warnings: \\newline\n",
       " [1] Covariance matrix calculated using the outer product of gradients (complex-step)."
      ],
      "text/plain": [
       "<class 'statsmodels.iolib.summary.Summary'>\n",
       "\"\"\"\n",
       "                               SARIMAX Results                                \n",
       "==============================================================================\n",
       "Dep. Variable:                returns   No. Observations:                 4044\n",
       "Model:                 ARIMA(0, 0, 2)   Log Likelihood               -7214.578\n",
       "Date:                Sun, 07 Sep 2025   AIC                          14437.156\n",
       "Time:                        15:09:09   BIC                          14462.376\n",
       "Sample:                    01-05-2010   HQIC                         14446.091\n",
       "                         - 07-04-2025                                         \n",
       "Covariance Type:                  opg                                         \n",
       "==============================================================================\n",
       "                 coef    std err          z      P>|z|      [0.025      0.975]\n",
       "------------------------------------------------------------------------------\n",
       "const          0.0558      0.024      2.340      0.019       0.009       0.102\n",
       "ma.L1          0.0432      0.011      3.788      0.000       0.021       0.066\n",
       "ma.L2         -0.0076      0.009     -0.857      0.392      -0.025       0.010\n",
       "sigma2         2.0754      0.015    140.618      0.000       2.046       2.104\n",
       "===================================================================================\n",
       "Ljung-Box (L1) (Q):                   0.00   Jarque-Bera (JB):             52636.30\n",
       "Prob(Q):                              1.00   Prob(JB):                         0.00\n",
       "Heteroskedasticity (H):               0.69   Skew:                             0.23\n",
       "Prob(H) (two-sided):                  0.00   Kurtosis:                        20.67\n",
       "===================================================================================\n",
       "\n",
       "Warnings:\n",
       "[1] Covariance matrix calculated using the outer product of gradients (complex-step).\n",
       "\"\"\""
      ]
     },
     "execution_count": 61,
     "metadata": {},
     "output_type": "execute_result"
    }
   ],
   "source": [
    "model_ret_MA2=ARIMA(df.returns, order=(0,0,2))\n",
    "results_ret_MA2 = model_ret_MA2.fit()\n",
    "results_ret_MA2.summary()"
   ]
  },
  {
   "cell_type": "code",
   "execution_count": 62,
   "id": "78565ed5",
   "metadata": {},
   "outputs": [
    {
     "data": {
      "text/html": [
       "<table class=\"simpletable\">\n",
       "<caption>SARIMAX Results</caption>\n",
       "<tr>\n",
       "  <th>Dep. Variable:</th>        <td>returns</td>     <th>  No. Observations:  </th>   <td>4044</td>   \n",
       "</tr>\n",
       "<tr>\n",
       "  <th>Model:</th>            <td>ARIMA(0, 0, 3)</td>  <th>  Log Likelihood     </th> <td>-7214.508</td>\n",
       "</tr>\n",
       "<tr>\n",
       "  <th>Date:</th>            <td>Sun, 07 Sep 2025</td> <th>  AIC                </th> <td>14439.017</td>\n",
       "</tr>\n",
       "<tr>\n",
       "  <th>Time:</th>                <td>15:09:30</td>     <th>  BIC                </th> <td>14470.541</td>\n",
       "</tr>\n",
       "<tr>\n",
       "  <th>Sample:</th>             <td>01-05-2010</td>    <th>  HQIC               </th> <td>14450.185</td>\n",
       "</tr>\n",
       "<tr>\n",
       "  <th></th>                   <td>- 07-04-2025</td>   <th>                     </th>     <td> </td>    \n",
       "</tr>\n",
       "<tr>\n",
       "  <th>Covariance Type:</th>        <td>opg</td>       <th>                     </th>     <td> </td>    \n",
       "</tr>\n",
       "</table>\n",
       "<table class=\"simpletable\">\n",
       "<tr>\n",
       "     <td></td>       <th>coef</th>     <th>std err</th>      <th>z</th>      <th>P>|z|</th>  <th>[0.025</th>    <th>0.975]</th>  \n",
       "</tr>\n",
       "<tr>\n",
       "  <th>const</th>  <td>    0.0558</td> <td>    0.024</td> <td>    2.319</td> <td> 0.020</td> <td>    0.009</td> <td>    0.103</td>\n",
       "</tr>\n",
       "<tr>\n",
       "  <th>ma.L1</th>  <td>    0.0435</td> <td>    0.012</td> <td>    3.779</td> <td> 0.000</td> <td>    0.021</td> <td>    0.066</td>\n",
       "</tr>\n",
       "<tr>\n",
       "  <th>ma.L2</th>  <td>   -0.0074</td> <td>    0.009</td> <td>   -0.836</td> <td> 0.403</td> <td>   -0.025</td> <td>    0.010</td>\n",
       "</tr>\n",
       "<tr>\n",
       "  <th>ma.L3</th>  <td>   -0.0063</td> <td>    0.010</td> <td>   -0.651</td> <td> 0.515</td> <td>   -0.025</td> <td>    0.013</td>\n",
       "</tr>\n",
       "<tr>\n",
       "  <th>sigma2</th> <td>    2.0753</td> <td>    0.015</td> <td>  138.031</td> <td> 0.000</td> <td>    2.046</td> <td>    2.105</td>\n",
       "</tr>\n",
       "</table>\n",
       "<table class=\"simpletable\">\n",
       "<tr>\n",
       "  <th>Ljung-Box (L1) (Q):</th>     <td>0.00</td> <th>  Jarque-Bera (JB):  </th> <td>52858.65</td>\n",
       "</tr>\n",
       "<tr>\n",
       "  <th>Prob(Q):</th>                <td>1.00</td> <th>  Prob(JB):          </th>   <td>0.00</td>  \n",
       "</tr>\n",
       "<tr>\n",
       "  <th>Heteroskedasticity (H):</th> <td>0.69</td> <th>  Skew:              </th>   <td>0.23</td>  \n",
       "</tr>\n",
       "<tr>\n",
       "  <th>Prob(H) (two-sided):</th>    <td>0.00</td> <th>  Kurtosis:          </th>   <td>20.71</td> \n",
       "</tr>\n",
       "</table><br/><br/>Warnings:<br/>[1] Covariance matrix calculated using the outer product of gradients (complex-step)."
      ],
      "text/latex": [
       "\\begin{center}\n",
       "\\begin{tabular}{lclc}\n",
       "\\toprule\n",
       "\\textbf{Dep. Variable:}          &     returns      & \\textbf{  No. Observations:  } &    4044     \\\\\n",
       "\\textbf{Model:}                  &  ARIMA(0, 0, 3)  & \\textbf{  Log Likelihood     } & -7214.508   \\\\\n",
       "\\textbf{Date:}                   & Sun, 07 Sep 2025 & \\textbf{  AIC                } & 14439.017   \\\\\n",
       "\\textbf{Time:}                   &     15:09:30     & \\textbf{  BIC                } & 14470.541   \\\\\n",
       "\\textbf{Sample:}                 &    01-05-2010    & \\textbf{  HQIC               } & 14450.185   \\\\\n",
       "\\textbf{}                        &   - 07-04-2025   & \\textbf{                     } &             \\\\\n",
       "\\textbf{Covariance Type:}        &       opg        & \\textbf{                     } &             \\\\\n",
       "\\bottomrule\n",
       "\\end{tabular}\n",
       "\\begin{tabular}{lcccccc}\n",
       "                & \\textbf{coef} & \\textbf{std err} & \\textbf{z} & \\textbf{P$> |$z$|$} & \\textbf{[0.025} & \\textbf{0.975]}  \\\\\n",
       "\\midrule\n",
       "\\textbf{const}  &       0.0558  &        0.024     &     2.319  &         0.020        &        0.009    &        0.103     \\\\\n",
       "\\textbf{ma.L1}  &       0.0435  &        0.012     &     3.779  &         0.000        &        0.021    &        0.066     \\\\\n",
       "\\textbf{ma.L2}  &      -0.0074  &        0.009     &    -0.836  &         0.403        &       -0.025    &        0.010     \\\\\n",
       "\\textbf{ma.L3}  &      -0.0063  &        0.010     &    -0.651  &         0.515        &       -0.025    &        0.013     \\\\\n",
       "\\textbf{sigma2} &       2.0753  &        0.015     &   138.031  &         0.000        &        2.046    &        2.105     \\\\\n",
       "\\bottomrule\n",
       "\\end{tabular}\n",
       "\\begin{tabular}{lclc}\n",
       "\\textbf{Ljung-Box (L1) (Q):}     & 0.00 & \\textbf{  Jarque-Bera (JB):  } & 52858.65  \\\\\n",
       "\\textbf{Prob(Q):}                & 1.00 & \\textbf{  Prob(JB):          } &   0.00    \\\\\n",
       "\\textbf{Heteroskedasticity (H):} & 0.69 & \\textbf{  Skew:              } &   0.23    \\\\\n",
       "\\textbf{Prob(H) (two-sided):}    & 0.00 & \\textbf{  Kurtosis:          } &  20.71    \\\\\n",
       "\\bottomrule\n",
       "\\end{tabular}\n",
       "%\\caption{SARIMAX Results}\n",
       "\\end{center}\n",
       "\n",
       "Warnings: \\newline\n",
       " [1] Covariance matrix calculated using the outer product of gradients (complex-step)."
      ],
      "text/plain": [
       "<class 'statsmodels.iolib.summary.Summary'>\n",
       "\"\"\"\n",
       "                               SARIMAX Results                                \n",
       "==============================================================================\n",
       "Dep. Variable:                returns   No. Observations:                 4044\n",
       "Model:                 ARIMA(0, 0, 3)   Log Likelihood               -7214.508\n",
       "Date:                Sun, 07 Sep 2025   AIC                          14439.017\n",
       "Time:                        15:09:30   BIC                          14470.541\n",
       "Sample:                    01-05-2010   HQIC                         14450.185\n",
       "                         - 07-04-2025                                         \n",
       "Covariance Type:                  opg                                         \n",
       "==============================================================================\n",
       "                 coef    std err          z      P>|z|      [0.025      0.975]\n",
       "------------------------------------------------------------------------------\n",
       "const          0.0558      0.024      2.319      0.020       0.009       0.103\n",
       "ma.L1          0.0435      0.012      3.779      0.000       0.021       0.066\n",
       "ma.L2         -0.0074      0.009     -0.836      0.403      -0.025       0.010\n",
       "ma.L3         -0.0063      0.010     -0.651      0.515      -0.025       0.013\n",
       "sigma2         2.0753      0.015    138.031      0.000       2.046       2.105\n",
       "===================================================================================\n",
       "Ljung-Box (L1) (Q):                   0.00   Jarque-Bera (JB):             52858.65\n",
       "Prob(Q):                              1.00   Prob(JB):                         0.00\n",
       "Heteroskedasticity (H):               0.69   Skew:                             0.23\n",
       "Prob(H) (two-sided):                  0.00   Kurtosis:                        20.71\n",
       "===================================================================================\n",
       "\n",
       "Warnings:\n",
       "[1] Covariance matrix calculated using the outer product of gradients (complex-step).\n",
       "\"\"\""
      ]
     },
     "execution_count": 62,
     "metadata": {},
     "output_type": "execute_result"
    }
   ],
   "source": [
    "model_ret_MA3=ARIMA(df.returns, order=(0,0,3))\n",
    "results_ret_MA3 = model_ret_MA3.fit()\n",
    "results_ret_MA3.summary()"
   ]
  },
  {
   "cell_type": "markdown",
   "id": "92892b14",
   "metadata": {},
   "source": [
    "We stopped here only because p>z value is way more than our significance value so we will use MA1 model I  didnt stopped on MA2 model because I wanted to see can next model will be better than the previous one"
   ]
  },
  {
   "cell_type": "markdown",
   "id": "0b685a5f",
   "metadata": {},
   "source": [
    "## Performing LLR Test on Returns Value"
   ]
  },
  {
   "cell_type": "code",
   "execution_count": 63,
   "id": "dea3ea2d",
   "metadata": {},
   "outputs": [
    {
     "data": {
      "text/plain": [
       "np.float64(0.625)"
      ]
     },
     "execution_count": 63,
     "metadata": {},
     "output_type": "execute_result"
    }
   ],
   "source": [
    "LLR_test(model_ret_MA,model_ret_MA2)"
   ]
  },
  {
   "cell_type": "code",
   "execution_count": 64,
   "id": "569f4d3c",
   "metadata": {},
   "outputs": [
    {
     "data": {
      "text/plain": [
       "np.float64(0.708)"
      ]
     },
     "execution_count": 64,
     "metadata": {},
     "output_type": "execute_result"
    }
   ],
   "source": [
    "LLR_test(model_ret_MA2,model_ret_MA3)"
   ]
  },
  {
   "cell_type": "markdown",
   "id": "555c7c85",
   "metadata": {},
   "source": [
    "As this both values are more than our significance value of 5% so we will use MA1 model"
   ]
  },
  {
   "cell_type": "markdown",
   "id": "e78b5f69",
   "metadata": {},
   "source": [
    "## Normalising the values"
   ]
  },
  {
   "cell_type": "code",
   "execution_count": 65,
   "id": "98662d59",
   "metadata": {},
   "outputs": [],
   "source": [
    "## Setting some benchmarks\n",
    "benchmark=df.Market_value.iloc[0]\n",
    "df['norm']=df.Market_value/benchmark*100"
   ]
  },
  {
   "cell_type": "code",
   "execution_count": 66,
   "id": "aac1bd77",
   "metadata": {},
   "outputs": [
    {
     "data": {
      "text/html": [
       "<div>\n",
       "<style scoped>\n",
       "    .dataframe tbody tr th:only-of-type {\n",
       "        vertical-align: middle;\n",
       "    }\n",
       "\n",
       "    .dataframe tbody tr th {\n",
       "        vertical-align: top;\n",
       "    }\n",
       "\n",
       "    .dataframe thead th {\n",
       "        text-align: right;\n",
       "    }\n",
       "</style>\n",
       "<table border=\"1\" class=\"dataframe\">\n",
       "  <thead>\n",
       "    <tr style=\"text-align: right;\">\n",
       "      <th></th>\n",
       "      <th>Market_value</th>\n",
       "      <th>res_price</th>\n",
       "      <th>returns</th>\n",
       "      <th>norm</th>\n",
       "    </tr>\n",
       "    <tr>\n",
       "      <th>Date</th>\n",
       "      <th></th>\n",
       "      <th></th>\n",
       "      <th></th>\n",
       "      <th></th>\n",
       "    </tr>\n",
       "  </thead>\n",
       "  <tbody>\n",
       "    <tr>\n",
       "      <th>2010-01-05</th>\n",
       "      <td>9192.043945</td>\n",
       "      <td>-1384.039722</td>\n",
       "      <td>0.875743</td>\n",
       "      <td>100.000000</td>\n",
       "    </tr>\n",
       "    <tr>\n",
       "      <th>2010-01-06</th>\n",
       "      <td>9222.892578</td>\n",
       "      <td>-2711.620391</td>\n",
       "      <td>0.335601</td>\n",
       "      <td>100.335601</td>\n",
       "    </tr>\n",
       "    <tr>\n",
       "      <th>2010-01-07</th>\n",
       "      <td>9192.843750</td>\n",
       "      <td>-808.157686</td>\n",
       "      <td>-0.325807</td>\n",
       "      <td>100.008701</td>\n",
       "    </tr>\n",
       "    <tr>\n",
       "      <th>2010-01-08</th>\n",
       "      <td>9160.593750</td>\n",
       "      <td>-980.432210</td>\n",
       "      <td>-0.350816</td>\n",
       "      <td>99.657854</td>\n",
       "    </tr>\n",
       "    <tr>\n",
       "      <th>2010-01-11</th>\n",
       "      <td>9173.443359</td>\n",
       "      <td>-1206.800472</td>\n",
       "      <td>0.140270</td>\n",
       "      <td>99.797645</td>\n",
       "    </tr>\n",
       "  </tbody>\n",
       "</table>\n",
       "</div>"
      ],
      "text/plain": [
       "            Market_value    res_price   returns        norm\n",
       "Date                                                       \n",
       "2010-01-05   9192.043945 -1384.039722  0.875743  100.000000\n",
       "2010-01-06   9222.892578 -2711.620391  0.335601  100.335601\n",
       "2010-01-07   9192.843750  -808.157686 -0.325807  100.008701\n",
       "2010-01-08   9160.593750  -980.432210 -0.350816   99.657854\n",
       "2010-01-11   9173.443359 -1206.800472  0.140270   99.797645"
      ]
     },
     "execution_count": 66,
     "metadata": {},
     "output_type": "execute_result"
    }
   ],
   "source": [
    "df.head()"
   ]
  },
  {
   "cell_type": "code",
   "execution_count": 67,
   "id": "b16b594a",
   "metadata": {},
   "outputs": [
    {
     "data": {
      "text/plain": [
       "(np.float64(0.4248716742377633),\n",
       " np.float64(0.9824016001639017),\n",
       " 6,\n",
       " 4037,\n",
       " {'1%': np.float64(-3.4319708726559632),\n",
       "  '5%': np.float64(-2.8622562128450464),\n",
       "  '10%': np.float64(-2.5671512474148432)},\n",
       " np.float64(21929.60527369529))"
      ]
     },
     "execution_count": 67,
     "metadata": {},
     "output_type": "execute_result"
    }
   ],
   "source": [
    "## Dickey Fuller Test for normalisation\n",
    "sts.adfuller(df.norm)"
   ]
  },
  {
   "cell_type": "code",
   "execution_count": 68,
   "id": "2e01642e",
   "metadata": {},
   "outputs": [
    {
     "data": {
      "text/plain": [
       "(np.float64(-18.808368177621382),\n",
       " np.float64(2.0225345071007116e-30),\n",
       " 10,\n",
       " 4033,\n",
       " {'1%': np.float64(-3.4319724812908037),\n",
       "  '5%': np.float64(-2.862256923456619),\n",
       "  '10%': np.float64(-2.5671516257138216)},\n",
       " np.float64(52314.2553272455))"
      ]
     },
     "execution_count": 68,
     "metadata": {},
     "output_type": "execute_result"
    }
   ],
   "source": [
    "## Getting normalised Returns\n",
    "Bench_ret=df.returns.iloc[0]\n",
    "df['norm_ret']=df.returns/Bench_ret*100\n",
    "sts.adfuller(df.norm_ret)"
   ]
  },
  {
   "cell_type": "code",
   "execution_count": 69,
   "id": "1af7425f",
   "metadata": {},
   "outputs": [
    {
     "data": {
      "text/html": [
       "<div>\n",
       "<style scoped>\n",
       "    .dataframe tbody tr th:only-of-type {\n",
       "        vertical-align: middle;\n",
       "    }\n",
       "\n",
       "    .dataframe tbody tr th {\n",
       "        vertical-align: top;\n",
       "    }\n",
       "\n",
       "    .dataframe thead th {\n",
       "        text-align: right;\n",
       "    }\n",
       "</style>\n",
       "<table border=\"1\" class=\"dataframe\">\n",
       "  <thead>\n",
       "    <tr style=\"text-align: right;\">\n",
       "      <th></th>\n",
       "      <th>Market_value</th>\n",
       "      <th>res_price</th>\n",
       "      <th>returns</th>\n",
       "      <th>norm</th>\n",
       "      <th>norm_ret</th>\n",
       "    </tr>\n",
       "    <tr>\n",
       "      <th>Date</th>\n",
       "      <th></th>\n",
       "      <th></th>\n",
       "      <th></th>\n",
       "      <th></th>\n",
       "      <th></th>\n",
       "    </tr>\n",
       "  </thead>\n",
       "  <tbody>\n",
       "    <tr>\n",
       "      <th>2010-01-05</th>\n",
       "      <td>9192.043945</td>\n",
       "      <td>-1384.039722</td>\n",
       "      <td>0.875743</td>\n",
       "      <td>100.000000</td>\n",
       "      <td>100.000000</td>\n",
       "    </tr>\n",
       "    <tr>\n",
       "      <th>2010-01-06</th>\n",
       "      <td>9222.892578</td>\n",
       "      <td>-2711.620391</td>\n",
       "      <td>0.335601</td>\n",
       "      <td>100.335601</td>\n",
       "      <td>38.321928</td>\n",
       "    </tr>\n",
       "    <tr>\n",
       "      <th>2010-01-07</th>\n",
       "      <td>9192.843750</td>\n",
       "      <td>-808.157686</td>\n",
       "      <td>-0.325807</td>\n",
       "      <td>100.008701</td>\n",
       "      <td>-37.203509</td>\n",
       "    </tr>\n",
       "    <tr>\n",
       "      <th>2010-01-08</th>\n",
       "      <td>9160.593750</td>\n",
       "      <td>-980.432210</td>\n",
       "      <td>-0.350816</td>\n",
       "      <td>99.657854</td>\n",
       "      <td>-40.059300</td>\n",
       "    </tr>\n",
       "    <tr>\n",
       "      <th>2010-01-11</th>\n",
       "      <td>9173.443359</td>\n",
       "      <td>-1206.800472</td>\n",
       "      <td>0.140270</td>\n",
       "      <td>99.797645</td>\n",
       "      <td>16.017319</td>\n",
       "    </tr>\n",
       "  </tbody>\n",
       "</table>\n",
       "</div>"
      ],
      "text/plain": [
       "            Market_value    res_price   returns        norm    norm_ret\n",
       "Date                                                                   \n",
       "2010-01-05   9192.043945 -1384.039722  0.875743  100.000000  100.000000\n",
       "2010-01-06   9222.892578 -2711.620391  0.335601  100.335601   38.321928\n",
       "2010-01-07   9192.843750  -808.157686 -0.325807  100.008701  -37.203509\n",
       "2010-01-08   9160.593750  -980.432210 -0.350816   99.657854  -40.059300\n",
       "2010-01-11   9173.443359 -1206.800472  0.140270   99.797645   16.017319"
      ]
     },
     "execution_count": 69,
     "metadata": {},
     "output_type": "execute_result"
    }
   ],
   "source": [
    "df.head()"
   ]
  },
  {
   "cell_type": "markdown",
   "id": "68fa8d40",
   "metadata": {},
   "source": [
    "## Normalised Returns"
   ]
  },
  {
   "cell_type": "code",
   "execution_count": 70,
   "id": "5c3cf94e",
   "metadata": {},
   "outputs": [
    {
     "data": {
      "text/html": [
       "<table class=\"simpletable\">\n",
       "<caption>SARIMAX Results</caption>\n",
       "<tr>\n",
       "  <th>Dep. Variable:</th>       <td>norm_ret</td>     <th>  No. Observations:  </th>    <td>4044</td>   \n",
       "</tr>\n",
       "<tr>\n",
       "  <th>Model:</th>            <td>ARIMA(0, 0, 1)</td>  <th>  Log Likelihood     </th> <td>-26374.577</td>\n",
       "</tr>\n",
       "<tr>\n",
       "  <th>Date:</th>            <td>Sun, 07 Sep 2025</td> <th>  AIC                </th>  <td>52755.154</td>\n",
       "</tr>\n",
       "<tr>\n",
       "  <th>Time:</th>                <td>15:10:47</td>     <th>  BIC                </th>  <td>52774.069</td>\n",
       "</tr>\n",
       "<tr>\n",
       "  <th>Sample:</th>             <td>01-05-2010</td>    <th>  HQIC               </th>  <td>52761.855</td>\n",
       "</tr>\n",
       "<tr>\n",
       "  <th></th>                   <td>- 07-04-2025</td>   <th>                     </th>      <td> </td>    \n",
       "</tr>\n",
       "<tr>\n",
       "  <th>Covariance Type:</th>        <td>opg</td>       <th>                     </th>      <td> </td>    \n",
       "</tr>\n",
       "</table>\n",
       "<table class=\"simpletable\">\n",
       "<tr>\n",
       "     <td></td>       <th>coef</th>     <th>std err</th>      <th>z</th>      <th>P>|z|</th>  <th>[0.025</th>    <th>0.975]</th>  \n",
       "</tr>\n",
       "<tr>\n",
       "  <th>const</th>  <td>    6.3660</td> <td>    2.707</td> <td>    2.352</td> <td> 0.019</td> <td>    1.061</td> <td>   11.671</td>\n",
       "</tr>\n",
       "<tr>\n",
       "  <th>ma.L1</th>  <td>    0.0437</td> <td>    0.011</td> <td>    3.911</td> <td> 0.000</td> <td>    0.022</td> <td>    0.066</td>\n",
       "</tr>\n",
       "<tr>\n",
       "  <th>sigma2</th> <td> 2.709e+04</td> <td>  192.813</td> <td>  140.482</td> <td> 0.000</td> <td> 2.67e+04</td> <td> 2.75e+04</td>\n",
       "</tr>\n",
       "</table>\n",
       "<table class=\"simpletable\">\n",
       "<tr>\n",
       "  <th>Ljung-Box (L1) (Q):</th>     <td>0.00</td> <th>  Jarque-Bera (JB):  </th> <td>52646.63</td>\n",
       "</tr>\n",
       "<tr>\n",
       "  <th>Prob(Q):</th>                <td>0.98</td> <th>  Prob(JB):          </th>   <td>0.00</td>  \n",
       "</tr>\n",
       "<tr>\n",
       "  <th>Heteroskedasticity (H):</th> <td>0.69</td> <th>  Skew:              </th>   <td>0.24</td>  \n",
       "</tr>\n",
       "<tr>\n",
       "  <th>Prob(H) (two-sided):</th>    <td>0.00</td> <th>  Kurtosis:          </th>   <td>20.67</td> \n",
       "</tr>\n",
       "</table><br/><br/>Warnings:<br/>[1] Covariance matrix calculated using the outer product of gradients (complex-step)."
      ],
      "text/latex": [
       "\\begin{center}\n",
       "\\begin{tabular}{lclc}\n",
       "\\toprule\n",
       "\\textbf{Dep. Variable:}          &    norm\\_ret     & \\textbf{  No. Observations:  } &    4044     \\\\\n",
       "\\textbf{Model:}                  &  ARIMA(0, 0, 1)  & \\textbf{  Log Likelihood     } & -26374.577  \\\\\n",
       "\\textbf{Date:}                   & Sun, 07 Sep 2025 & \\textbf{  AIC                } & 52755.154   \\\\\n",
       "\\textbf{Time:}                   &     15:10:47     & \\textbf{  BIC                } & 52774.069   \\\\\n",
       "\\textbf{Sample:}                 &    01-05-2010    & \\textbf{  HQIC               } & 52761.855   \\\\\n",
       "\\textbf{}                        &   - 07-04-2025   & \\textbf{                     } &             \\\\\n",
       "\\textbf{Covariance Type:}        &       opg        & \\textbf{                     } &             \\\\\n",
       "\\bottomrule\n",
       "\\end{tabular}\n",
       "\\begin{tabular}{lcccccc}\n",
       "                & \\textbf{coef} & \\textbf{std err} & \\textbf{z} & \\textbf{P$> |$z$|$} & \\textbf{[0.025} & \\textbf{0.975]}  \\\\\n",
       "\\midrule\n",
       "\\textbf{const}  &       6.3660  &        2.707     &     2.352  &         0.019        &        1.061    &       11.671     \\\\\n",
       "\\textbf{ma.L1}  &       0.0437  &        0.011     &     3.911  &         0.000        &        0.022    &        0.066     \\\\\n",
       "\\textbf{sigma2} &    2.709e+04  &      192.813     &   140.482  &         0.000        &     2.67e+04    &     2.75e+04     \\\\\n",
       "\\bottomrule\n",
       "\\end{tabular}\n",
       "\\begin{tabular}{lclc}\n",
       "\\textbf{Ljung-Box (L1) (Q):}     & 0.00 & \\textbf{  Jarque-Bera (JB):  } & 52646.63  \\\\\n",
       "\\textbf{Prob(Q):}                & 0.98 & \\textbf{  Prob(JB):          } &   0.00    \\\\\n",
       "\\textbf{Heteroskedasticity (H):} & 0.69 & \\textbf{  Skew:              } &   0.24    \\\\\n",
       "\\textbf{Prob(H) (two-sided):}    & 0.00 & \\textbf{  Kurtosis:          } &  20.67    \\\\\n",
       "\\bottomrule\n",
       "\\end{tabular}\n",
       "%\\caption{SARIMAX Results}\n",
       "\\end{center}\n",
       "\n",
       "Warnings: \\newline\n",
       " [1] Covariance matrix calculated using the outer product of gradients (complex-step)."
      ],
      "text/plain": [
       "<class 'statsmodels.iolib.summary.Summary'>\n",
       "\"\"\"\n",
       "                               SARIMAX Results                                \n",
       "==============================================================================\n",
       "Dep. Variable:               norm_ret   No. Observations:                 4044\n",
       "Model:                 ARIMA(0, 0, 1)   Log Likelihood              -26374.577\n",
       "Date:                Sun, 07 Sep 2025   AIC                          52755.154\n",
       "Time:                        15:10:47   BIC                          52774.069\n",
       "Sample:                    01-05-2010   HQIC                         52761.855\n",
       "                         - 07-04-2025                                         \n",
       "Covariance Type:                  opg                                         \n",
       "==============================================================================\n",
       "                 coef    std err          z      P>|z|      [0.025      0.975]\n",
       "------------------------------------------------------------------------------\n",
       "const          6.3660      2.707      2.352      0.019       1.061      11.671\n",
       "ma.L1          0.0437      0.011      3.911      0.000       0.022       0.066\n",
       "sigma2      2.709e+04    192.813    140.482      0.000    2.67e+04    2.75e+04\n",
       "===================================================================================\n",
       "Ljung-Box (L1) (Q):                   0.00   Jarque-Bera (JB):             52646.63\n",
       "Prob(Q):                              0.98   Prob(JB):                         0.00\n",
       "Heteroskedasticity (H):               0.69   Skew:                             0.24\n",
       "Prob(H) (two-sided):                  0.00   Kurtosis:                        20.67\n",
       "===================================================================================\n",
       "\n",
       "Warnings:\n",
       "[1] Covariance matrix calculated using the outer product of gradients (complex-step).\n",
       "\"\"\""
      ]
     },
     "execution_count": 70,
     "metadata": {},
     "output_type": "execute_result"
    }
   ],
   "source": [
    "model_norm_ret_ma=ARIMA(df.norm_ret, order=(0,0,1))\n",
    "results_norm_ret_ma = model_norm_ret_ma.fit()\n",
    "results_norm_ret_ma.summary()"
   ]
  },
  {
   "cell_type": "code",
   "execution_count": 71,
   "id": "875e5809",
   "metadata": {},
   "outputs": [
    {
     "data": {
      "text/html": [
       "<table class=\"simpletable\">\n",
       "<caption>SARIMAX Results</caption>\n",
       "<tr>\n",
       "  <th>Dep. Variable:</th>       <td>norm_ret</td>     <th>  No. Observations:  </th>    <td>4044</td>   \n",
       "</tr>\n",
       "<tr>\n",
       "  <th>Model:</th>            <td>ARIMA(0, 0, 2)</td>  <th>  Log Likelihood     </th> <td>-26374.458</td>\n",
       "</tr>\n",
       "<tr>\n",
       "  <th>Date:</th>            <td>Sun, 07 Sep 2025</td> <th>  AIC                </th>  <td>52756.917</td>\n",
       "</tr>\n",
       "<tr>\n",
       "  <th>Time:</th>                <td>15:11:01</td>     <th>  BIC                </th>  <td>52782.137</td>\n",
       "</tr>\n",
       "<tr>\n",
       "  <th>Sample:</th>             <td>01-05-2010</td>    <th>  HQIC               </th>  <td>52765.852</td>\n",
       "</tr>\n",
       "<tr>\n",
       "  <th></th>                   <td>- 07-04-2025</td>   <th>                     </th>      <td> </td>    \n",
       "</tr>\n",
       "<tr>\n",
       "  <th>Covariance Type:</th>        <td>opg</td>       <th>                     </th>      <td> </td>    \n",
       "</tr>\n",
       "</table>\n",
       "<table class=\"simpletable\">\n",
       "<tr>\n",
       "     <td></td>       <th>coef</th>     <th>std err</th>      <th>z</th>      <th>P>|z|</th>  <th>[0.025</th>    <th>0.975]</th>  \n",
       "</tr>\n",
       "<tr>\n",
       "  <th>const</th>  <td>    6.3660</td> <td>    2.724</td> <td>    2.337</td> <td> 0.019</td> <td>    1.027</td> <td>   11.705</td>\n",
       "</tr>\n",
       "<tr>\n",
       "  <th>ma.L1</th>  <td>    0.0432</td> <td>    0.011</td> <td>    3.783</td> <td> 0.000</td> <td>    0.021</td> <td>    0.066</td>\n",
       "</tr>\n",
       "<tr>\n",
       "  <th>ma.L2</th>  <td>   -0.0076</td> <td>    0.009</td> <td>   -0.856</td> <td> 0.392</td> <td>   -0.025</td> <td>    0.010</td>\n",
       "</tr>\n",
       "<tr>\n",
       "  <th>sigma2</th> <td>  2.71e+04</td> <td>  192.960</td> <td>  140.431</td> <td> 0.000</td> <td> 2.67e+04</td> <td> 2.75e+04</td>\n",
       "</tr>\n",
       "</table>\n",
       "<table class=\"simpletable\">\n",
       "<tr>\n",
       "  <th>Ljung-Box (L1) (Q):</th>     <td>0.00</td> <th>  Jarque-Bera (JB):  </th> <td>52636.29</td>\n",
       "</tr>\n",
       "<tr>\n",
       "  <th>Prob(Q):</th>                <td>1.00</td> <th>  Prob(JB):          </th>   <td>0.00</td>  \n",
       "</tr>\n",
       "<tr>\n",
       "  <th>Heteroskedasticity (H):</th> <td>0.69</td> <th>  Skew:              </th>   <td>0.23</td>  \n",
       "</tr>\n",
       "<tr>\n",
       "  <th>Prob(H) (two-sided):</th>    <td>0.00</td> <th>  Kurtosis:          </th>   <td>20.67</td> \n",
       "</tr>\n",
       "</table><br/><br/>Warnings:<br/>[1] Covariance matrix calculated using the outer product of gradients (complex-step)."
      ],
      "text/latex": [
       "\\begin{center}\n",
       "\\begin{tabular}{lclc}\n",
       "\\toprule\n",
       "\\textbf{Dep. Variable:}          &    norm\\_ret     & \\textbf{  No. Observations:  } &    4044     \\\\\n",
       "\\textbf{Model:}                  &  ARIMA(0, 0, 2)  & \\textbf{  Log Likelihood     } & -26374.458  \\\\\n",
       "\\textbf{Date:}                   & Sun, 07 Sep 2025 & \\textbf{  AIC                } & 52756.917   \\\\\n",
       "\\textbf{Time:}                   &     15:11:01     & \\textbf{  BIC                } & 52782.137   \\\\\n",
       "\\textbf{Sample:}                 &    01-05-2010    & \\textbf{  HQIC               } & 52765.852   \\\\\n",
       "\\textbf{}                        &   - 07-04-2025   & \\textbf{                     } &             \\\\\n",
       "\\textbf{Covariance Type:}        &       opg        & \\textbf{                     } &             \\\\\n",
       "\\bottomrule\n",
       "\\end{tabular}\n",
       "\\begin{tabular}{lcccccc}\n",
       "                & \\textbf{coef} & \\textbf{std err} & \\textbf{z} & \\textbf{P$> |$z$|$} & \\textbf{[0.025} & \\textbf{0.975]}  \\\\\n",
       "\\midrule\n",
       "\\textbf{const}  &       6.3660  &        2.724     &     2.337  &         0.019        &        1.027    &       11.705     \\\\\n",
       "\\textbf{ma.L1}  &       0.0432  &        0.011     &     3.783  &         0.000        &        0.021    &        0.066     \\\\\n",
       "\\textbf{ma.L2}  &      -0.0076  &        0.009     &    -0.856  &         0.392        &       -0.025    &        0.010     \\\\\n",
       "\\textbf{sigma2} &     2.71e+04  &      192.960     &   140.431  &         0.000        &     2.67e+04    &     2.75e+04     \\\\\n",
       "\\bottomrule\n",
       "\\end{tabular}\n",
       "\\begin{tabular}{lclc}\n",
       "\\textbf{Ljung-Box (L1) (Q):}     & 0.00 & \\textbf{  Jarque-Bera (JB):  } & 52636.29  \\\\\n",
       "\\textbf{Prob(Q):}                & 1.00 & \\textbf{  Prob(JB):          } &   0.00    \\\\\n",
       "\\textbf{Heteroskedasticity (H):} & 0.69 & \\textbf{  Skew:              } &   0.23    \\\\\n",
       "\\textbf{Prob(H) (two-sided):}    & 0.00 & \\textbf{  Kurtosis:          } &  20.67    \\\\\n",
       "\\bottomrule\n",
       "\\end{tabular}\n",
       "%\\caption{SARIMAX Results}\n",
       "\\end{center}\n",
       "\n",
       "Warnings: \\newline\n",
       " [1] Covariance matrix calculated using the outer product of gradients (complex-step)."
      ],
      "text/plain": [
       "<class 'statsmodels.iolib.summary.Summary'>\n",
       "\"\"\"\n",
       "                               SARIMAX Results                                \n",
       "==============================================================================\n",
       "Dep. Variable:               norm_ret   No. Observations:                 4044\n",
       "Model:                 ARIMA(0, 0, 2)   Log Likelihood              -26374.458\n",
       "Date:                Sun, 07 Sep 2025   AIC                          52756.917\n",
       "Time:                        15:11:01   BIC                          52782.137\n",
       "Sample:                    01-05-2010   HQIC                         52765.852\n",
       "                         - 07-04-2025                                         \n",
       "Covariance Type:                  opg                                         \n",
       "==============================================================================\n",
       "                 coef    std err          z      P>|z|      [0.025      0.975]\n",
       "------------------------------------------------------------------------------\n",
       "const          6.3660      2.724      2.337      0.019       1.027      11.705\n",
       "ma.L1          0.0432      0.011      3.783      0.000       0.021       0.066\n",
       "ma.L2         -0.0076      0.009     -0.856      0.392      -0.025       0.010\n",
       "sigma2       2.71e+04    192.960    140.431      0.000    2.67e+04    2.75e+04\n",
       "===================================================================================\n",
       "Ljung-Box (L1) (Q):                   0.00   Jarque-Bera (JB):             52636.29\n",
       "Prob(Q):                              1.00   Prob(JB):                         0.00\n",
       "Heteroskedasticity (H):               0.69   Skew:                             0.23\n",
       "Prob(H) (two-sided):                  0.00   Kurtosis:                        20.67\n",
       "===================================================================================\n",
       "\n",
       "Warnings:\n",
       "[1] Covariance matrix calculated using the outer product of gradients (complex-step).\n",
       "\"\"\""
      ]
     },
     "execution_count": 71,
     "metadata": {},
     "output_type": "execute_result"
    }
   ],
   "source": [
    "model_norm_ret_ma2=ARIMA(df.norm_ret, order=(0,0,2))\n",
    "results_norm_ret_ma2 = model_norm_ret_ma2.fit()\n",
    "results_norm_ret_ma2.summary()"
   ]
  },
  {
   "cell_type": "code",
   "execution_count": 72,
   "id": "aeb40c08",
   "metadata": {},
   "outputs": [
    {
     "data": {
      "text/html": [
       "<table class=\"simpletable\">\n",
       "<caption>SARIMAX Results</caption>\n",
       "<tr>\n",
       "  <th>Dep. Variable:</th>       <td>norm_ret</td>     <th>  No. Observations:  </th>    <td>4044</td>   \n",
       "</tr>\n",
       "<tr>\n",
       "  <th>Model:</th>            <td>ARIMA(0, 0, 3)</td>  <th>  Log Likelihood     </th> <td>-26374.389</td>\n",
       "</tr>\n",
       "<tr>\n",
       "  <th>Date:</th>            <td>Sun, 07 Sep 2025</td> <th>  AIC                </th>  <td>52758.779</td>\n",
       "</tr>\n",
       "<tr>\n",
       "  <th>Time:</th>                <td>15:11:14</td>     <th>  BIC                </th>  <td>52790.304</td>\n",
       "</tr>\n",
       "<tr>\n",
       "  <th>Sample:</th>             <td>01-05-2010</td>    <th>  HQIC               </th>  <td>52769.947</td>\n",
       "</tr>\n",
       "<tr>\n",
       "  <th></th>                   <td>- 07-04-2025</td>   <th>                     </th>      <td> </td>    \n",
       "</tr>\n",
       "<tr>\n",
       "  <th>Covariance Type:</th>        <td>opg</td>       <th>                     </th>      <td> </td>    \n",
       "</tr>\n",
       "</table>\n",
       "<table class=\"simpletable\">\n",
       "<tr>\n",
       "     <td></td>       <th>coef</th>     <th>std err</th>      <th>z</th>      <th>P>|z|</th>  <th>[0.025</th>    <th>0.975]</th>  \n",
       "</tr>\n",
       "<tr>\n",
       "  <th>const</th>  <td>    6.3660</td> <td>    2.750</td> <td>    2.315</td> <td> 0.021</td> <td>    0.976</td> <td>   11.756</td>\n",
       "</tr>\n",
       "<tr>\n",
       "  <th>ma.L1</th>  <td>    0.0435</td> <td>    0.012</td> <td>    3.773</td> <td> 0.000</td> <td>    0.021</td> <td>    0.066</td>\n",
       "</tr>\n",
       "<tr>\n",
       "  <th>ma.L2</th>  <td>   -0.0074</td> <td>    0.009</td> <td>   -0.835</td> <td> 0.404</td> <td>   -0.025</td> <td>    0.010</td>\n",
       "</tr>\n",
       "<tr>\n",
       "  <th>ma.L3</th>  <td>   -0.0063</td> <td>    0.010</td> <td>   -0.650</td> <td> 0.516</td> <td>   -0.025</td> <td>    0.013</td>\n",
       "</tr>\n",
       "<tr>\n",
       "  <th>sigma2</th> <td>  2.71e+04</td> <td>  196.670</td> <td>  137.812</td> <td> 0.000</td> <td> 2.67e+04</td> <td> 2.75e+04</td>\n",
       "</tr>\n",
       "</table>\n",
       "<table class=\"simpletable\">\n",
       "<tr>\n",
       "  <th>Ljung-Box (L1) (Q):</th>     <td>0.00</td> <th>  Jarque-Bera (JB):  </th> <td>52858.86</td>\n",
       "</tr>\n",
       "<tr>\n",
       "  <th>Prob(Q):</th>                <td>1.00</td> <th>  Prob(JB):          </th>   <td>0.00</td>  \n",
       "</tr>\n",
       "<tr>\n",
       "  <th>Heteroskedasticity (H):</th> <td>0.69</td> <th>  Skew:              </th>   <td>0.23</td>  \n",
       "</tr>\n",
       "<tr>\n",
       "  <th>Prob(H) (two-sided):</th>    <td>0.00</td> <th>  Kurtosis:          </th>   <td>20.71</td> \n",
       "</tr>\n",
       "</table><br/><br/>Warnings:<br/>[1] Covariance matrix calculated using the outer product of gradients (complex-step)."
      ],
      "text/latex": [
       "\\begin{center}\n",
       "\\begin{tabular}{lclc}\n",
       "\\toprule\n",
       "\\textbf{Dep. Variable:}          &    norm\\_ret     & \\textbf{  No. Observations:  } &    4044     \\\\\n",
       "\\textbf{Model:}                  &  ARIMA(0, 0, 3)  & \\textbf{  Log Likelihood     } & -26374.389  \\\\\n",
       "\\textbf{Date:}                   & Sun, 07 Sep 2025 & \\textbf{  AIC                } & 52758.779   \\\\\n",
       "\\textbf{Time:}                   &     15:11:14     & \\textbf{  BIC                } & 52790.304   \\\\\n",
       "\\textbf{Sample:}                 &    01-05-2010    & \\textbf{  HQIC               } & 52769.947   \\\\\n",
       "\\textbf{}                        &   - 07-04-2025   & \\textbf{                     } &             \\\\\n",
       "\\textbf{Covariance Type:}        &       opg        & \\textbf{                     } &             \\\\\n",
       "\\bottomrule\n",
       "\\end{tabular}\n",
       "\\begin{tabular}{lcccccc}\n",
       "                & \\textbf{coef} & \\textbf{std err} & \\textbf{z} & \\textbf{P$> |$z$|$} & \\textbf{[0.025} & \\textbf{0.975]}  \\\\\n",
       "\\midrule\n",
       "\\textbf{const}  &       6.3660  &        2.750     &     2.315  &         0.021        &        0.976    &       11.756     \\\\\n",
       "\\textbf{ma.L1}  &       0.0435  &        0.012     &     3.773  &         0.000        &        0.021    &        0.066     \\\\\n",
       "\\textbf{ma.L2}  &      -0.0074  &        0.009     &    -0.835  &         0.404        &       -0.025    &        0.010     \\\\\n",
       "\\textbf{ma.L3}  &      -0.0063  &        0.010     &    -0.650  &         0.516        &       -0.025    &        0.013     \\\\\n",
       "\\textbf{sigma2} &     2.71e+04  &      196.670     &   137.812  &         0.000        &     2.67e+04    &     2.75e+04     \\\\\n",
       "\\bottomrule\n",
       "\\end{tabular}\n",
       "\\begin{tabular}{lclc}\n",
       "\\textbf{Ljung-Box (L1) (Q):}     & 0.00 & \\textbf{  Jarque-Bera (JB):  } & 52858.86  \\\\\n",
       "\\textbf{Prob(Q):}                & 1.00 & \\textbf{  Prob(JB):          } &   0.00    \\\\\n",
       "\\textbf{Heteroskedasticity (H):} & 0.69 & \\textbf{  Skew:              } &   0.23    \\\\\n",
       "\\textbf{Prob(H) (two-sided):}    & 0.00 & \\textbf{  Kurtosis:          } &  20.71    \\\\\n",
       "\\bottomrule\n",
       "\\end{tabular}\n",
       "%\\caption{SARIMAX Results}\n",
       "\\end{center}\n",
       "\n",
       "Warnings: \\newline\n",
       " [1] Covariance matrix calculated using the outer product of gradients (complex-step)."
      ],
      "text/plain": [
       "<class 'statsmodels.iolib.summary.Summary'>\n",
       "\"\"\"\n",
       "                               SARIMAX Results                                \n",
       "==============================================================================\n",
       "Dep. Variable:               norm_ret   No. Observations:                 4044\n",
       "Model:                 ARIMA(0, 0, 3)   Log Likelihood              -26374.389\n",
       "Date:                Sun, 07 Sep 2025   AIC                          52758.779\n",
       "Time:                        15:11:14   BIC                          52790.304\n",
       "Sample:                    01-05-2010   HQIC                         52769.947\n",
       "                         - 07-04-2025                                         \n",
       "Covariance Type:                  opg                                         \n",
       "==============================================================================\n",
       "                 coef    std err          z      P>|z|      [0.025      0.975]\n",
       "------------------------------------------------------------------------------\n",
       "const          6.3660      2.750      2.315      0.021       0.976      11.756\n",
       "ma.L1          0.0435      0.012      3.773      0.000       0.021       0.066\n",
       "ma.L2         -0.0074      0.009     -0.835      0.404      -0.025       0.010\n",
       "ma.L3         -0.0063      0.010     -0.650      0.516      -0.025       0.013\n",
       "sigma2       2.71e+04    196.670    137.812      0.000    2.67e+04    2.75e+04\n",
       "===================================================================================\n",
       "Ljung-Box (L1) (Q):                   0.00   Jarque-Bera (JB):             52858.86\n",
       "Prob(Q):                              1.00   Prob(JB):                         0.00\n",
       "Heteroskedasticity (H):               0.69   Skew:                             0.23\n",
       "Prob(H) (two-sided):                  0.00   Kurtosis:                        20.71\n",
       "===================================================================================\n",
       "\n",
       "Warnings:\n",
       "[1] Covariance matrix calculated using the outer product of gradients (complex-step).\n",
       "\"\"\""
      ]
     },
     "execution_count": 72,
     "metadata": {},
     "output_type": "execute_result"
    }
   ],
   "source": [
    "model_norm_ret_ma3=ARIMA(df.norm_ret, order=(0,0,3))\n",
    "results_norm_ret_ma3 = model_norm_ret_ma3.fit()\n",
    "results_norm_ret_ma3.summary()"
   ]
  },
  {
   "cell_type": "markdown",
   "id": "f0bd06db",
   "metadata": {},
   "source": [
    "The Same Reasons as for Returns"
   ]
  },
  {
   "cell_type": "markdown",
   "id": "dccf0fd5",
   "metadata": {},
   "source": [
    "## Analysing The Residuals"
   ]
  },
  {
   "cell_type": "code",
   "execution_count": 73,
   "id": "e4750494",
   "metadata": {},
   "outputs": [],
   "source": [
    "## Adding the column of residual returns \n",
    "df['res_ret']=results_ret_MA.resid"
   ]
  },
  {
   "cell_type": "code",
   "execution_count": 74,
   "id": "75da1a8d",
   "metadata": {},
   "outputs": [
    {
     "data": {
      "text/plain": [
       "np.float64(-1.3006479443338518e-06)"
      ]
     },
     "execution_count": 74,
     "metadata": {},
     "output_type": "execute_result"
    }
   ],
   "source": [
    "## Calculating mean of residual returns \n",
    "df.res_ret.mean()"
   ]
  },
  {
   "cell_type": "code",
   "execution_count": 75,
   "id": "936b5e5a",
   "metadata": {},
   "outputs": [
    {
     "data": {
      "text/plain": [
       "2.076055347393105"
      ]
     },
     "execution_count": 75,
     "metadata": {},
     "output_type": "execute_result"
    }
   ],
   "source": [
    "## Calculating mean of residual variance\n",
    "df.res_ret.var()"
   ]
  },
  {
   "cell_type": "code",
   "execution_count": 76,
   "id": "58c49074",
   "metadata": {},
   "outputs": [
    {
     "data": {
      "text/plain": [
       "(np.float64(-18.85312688021123),\n",
       " 0.0,\n",
       " 10,\n",
       " 4033,\n",
       " {'1%': np.float64(-3.4319724812908037),\n",
       "  '5%': np.float64(-2.862256923456619),\n",
       "  '10%': np.float64(-2.5671516257138216)},\n",
       " np.float64(14297.677437136244))"
      ]
     },
     "execution_count": 76,
     "metadata": {},
     "output_type": "execute_result"
    }
   ],
   "source": [
    "## Dicky Fuller Test of Residual Returns\n",
    "sts.adfuller(df.res_ret)"
   ]
  },
  {
   "cell_type": "code",
   "execution_count": 77,
   "id": "eb36cfdf",
   "metadata": {},
   "outputs": [
    {
     "data": {
      "text/plain": [
       "Text(0.5, 1.0, 'ACF of Residuals FOR Returns')"
      ]
     },
     "execution_count": 77,
     "metadata": {},
     "output_type": "execute_result"
    },
    {
     "data": {
      "image/png": "[encoded data removed]",
      "text/plain": [
       "<Figure size 640x480 with 1 Axes>"
      ]
     },
     "metadata": {},
     "output_type": "display_data"
    }
   ],
   "source": [
    "## Ploting ACF of Residual Returns\n",
    "sgt.plot_acf(df.res_ret,lags=40,zero=False)\n",
    "plt.ylim(-0.08,0.08)\n",
    "plt.title(\"ACF of Residuals FOR Returns\",size=24)"
   ]
  },
  {
   "cell_type": "code",
   "execution_count": 78,
   "id": "32940240",
   "metadata": {},
   "outputs": [
    {
     "data": {
      "text/plain": [
       "Text(0.5, 1.0, 'Residual of Returns')"
      ]
     },
     "execution_count": 78,
     "metadata": {},
     "output_type": "execute_result"
    },
    {
     "data": {
      "image/png": "[encoded data removed]",
      "text/plain": [
       "<Figure size 2000x500 with 1 Axes>"
      ]
     },
     "metadata": {},
     "output_type": "display_data"
    }
   ],
   "source": [
    "## Ploting Residual Returns\n",
    "df.res_ret[1:].plot(figsize=(20,5))\n",
    "plt.title(\"Residual of Returns\",size=24)"
   ]
  },
  {
   "cell_type": "code",
   "execution_count": null,
   "id": "9c14b85f",
   "metadata": {},
   "outputs": [],
   "source": []
  }
 ],
 "metadata": {
  "kernelspec": {
   "display_name": "base",
   "language": "python",
   "name": "python3"
  },
  "language_info": {
   "codemirror_mode": {
    "name": "ipython",
    "version": 3
   },
   "file_extension": ".py",
   "mimetype": "text/x-python",
   "name": "python",
   "nbconvert_exporter": "python",
   "pygments_lexer": "ipython3",
   "version": "3.13.5"
  }
 },
 "nbformat": 4,
 "nbformat_minor": 5
}
