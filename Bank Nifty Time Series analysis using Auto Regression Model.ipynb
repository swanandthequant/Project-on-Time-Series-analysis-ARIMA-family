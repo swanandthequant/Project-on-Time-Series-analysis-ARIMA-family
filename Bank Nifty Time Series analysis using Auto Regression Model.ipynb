{
 "cells": [
  {
   "cell_type": "code",
   "execution_count": 2,
   "id": "8adc0779",
   "metadata": {},
   "outputs": [],
   "source": [
    "import pandas as pd\n",
    "import numpy as np\n",
    "import matplotlib.pyplot as plt\n",
    "import statsmodels.tsa.stattools as sts\n",
    "import statsmodels.graphics.tsaplots as sgt\n",
    "from statsmodels.tsa.seasonal import seasonal_decompose\n",
    "from statsmodels.tsa.arima.model import ARIMA\n",
    "from scipy.stats.distributions import chi2\n",
    "import seaborn as sns\n",
    "import yfinance as yf\n",
    "sns.set()"
   ]
  },
  {
   "cell_type": "code",
   "execution_count": 3,
   "id": "8b72fcb1",
   "metadata": {},
   "outputs": [
    {
     "name": "stderr",
     "output_type": "stream",
     "text": [
      "C:\\Users\\swana\\AppData\\Local\\Temp\\ipykernel_3900\\690378777.py:4: FutureWarning: YF.download() has changed argument auto_adjust default to True\n",
      "  data[ticker]=yf.download(ticker,start='2010-01-01',end='2025-7-7')['Close']\n",
      "[*********************100%***********************]  1 of 1 completed\n",
      "C:\\Users\\swana\\AppData\\Local\\Temp\\ipykernel_3900\\690378777.py:4: FutureWarning: YF.download() has changed argument auto_adjust default to True\n",
      "  data[ticker]=yf.download(ticker,start='2010-01-01',end='2025-7-7')['Close']\n",
      "[*********************100%***********************]  1 of 1 completed\n"
     ]
    }
   ],
   "source": [
    "tickers=['^NSEBANK','^NSEI']\n",
    "data = pd.DataFrame()\n",
    "for ticker in tickers:\n",
    "    data[ticker]=yf.download(ticker,start='2010-01-01',end='2025-7-7')['Close']"
   ]
  },
  {
   "cell_type": "code",
   "execution_count": 4,
   "id": "3369edf9",
   "metadata": {},
   "outputs": [
    {
     "name": "stdout",
     "output_type": "stream",
     "text": [
      "<class 'pandas.core.frame.DataFrame'>\n",
      "DatetimeIndex: 3532 entries, 2010-01-04 to 2025-07-04\n",
      "Data columns (total 2 columns):\n",
      " #   Column    Non-Null Count  Dtype  \n",
      "---  ------    --------------  -----  \n",
      " 0   ^NSEBANK  3532 non-null   float64\n",
      " 1   ^NSEI     3530 non-null   float64\n",
      "dtypes: float64(2)\n",
      "memory usage: 82.8 KB\n"
     ]
    }
   ],
   "source": [
    "data.info()"
   ]
  },
  {
   "cell_type": "code",
   "execution_count": 5,
   "id": "a898e292",
   "metadata": {},
   "outputs": [
    {
     "data": {
      "text/html": [
       "<div>\n",
       "<style scoped>\n",
       "    .dataframe tbody tr th:only-of-type {\n",
       "        vertical-align: middle;\n",
       "    }\n",
       "\n",
       "    .dataframe tbody tr th {\n",
       "        vertical-align: top;\n",
       "    }\n",
       "\n",
       "    .dataframe thead th {\n",
       "        text-align: right;\n",
       "    }\n",
       "</style>\n",
       "<table border=\"1\" class=\"dataframe\">\n",
       "  <thead>\n",
       "    <tr style=\"text-align: right;\">\n",
       "      <th></th>\n",
       "      <th>^NSEBANK</th>\n",
       "      <th>^NSEI</th>\n",
       "    </tr>\n",
       "    <tr>\n",
       "      <th>Date</th>\n",
       "      <th></th>\n",
       "      <th></th>\n",
       "    </tr>\n",
       "  </thead>\n",
       "  <tbody>\n",
       "    <tr>\n",
       "      <th>2010-01-04</th>\n",
       "      <td>9112.244141</td>\n",
       "      <td>5232.200195</td>\n",
       "    </tr>\n",
       "    <tr>\n",
       "      <th>2010-01-05</th>\n",
       "      <td>9192.043945</td>\n",
       "      <td>5277.899902</td>\n",
       "    </tr>\n",
       "    <tr>\n",
       "      <th>2010-01-06</th>\n",
       "      <td>9222.892578</td>\n",
       "      <td>5281.799805</td>\n",
       "    </tr>\n",
       "    <tr>\n",
       "      <th>2010-01-07</th>\n",
       "      <td>9192.843750</td>\n",
       "      <td>5263.100098</td>\n",
       "    </tr>\n",
       "    <tr>\n",
       "      <th>2010-01-08</th>\n",
       "      <td>9160.593750</td>\n",
       "      <td>5244.750000</td>\n",
       "    </tr>\n",
       "  </tbody>\n",
       "</table>\n",
       "</div>"
      ],
      "text/plain": [
       "               ^NSEBANK        ^NSEI\n",
       "Date                                \n",
       "2010-01-04  9112.244141  5232.200195\n",
       "2010-01-05  9192.043945  5277.899902\n",
       "2010-01-06  9222.892578  5281.799805\n",
       "2010-01-07  9192.843750  5263.100098\n",
       "2010-01-08  9160.593750  5244.750000"
      ]
     },
     "execution_count": 5,
     "metadata": {},
     "output_type": "execute_result"
    }
   ],
   "source": [
    "data.head()"
   ]
  },
  {
   "cell_type": "code",
   "execution_count": 6,
   "id": "fd768c35",
   "metadata": {},
   "outputs": [
    {
     "data": {
      "text/plain": [
       "^NSEBANK    0\n",
       "^NSEI       2\n",
       "dtype: int64"
      ]
     },
     "execution_count": 6,
     "metadata": {},
     "output_type": "execute_result"
    }
   ],
   "source": [
    "data.isna().sum()"
   ]
  },
  {
   "cell_type": "code",
   "execution_count": 7,
   "id": "e4500d4e",
   "metadata": {},
   "outputs": [],
   "source": [
    "## Dropping Null Values\n",
    "data.dropna(inplace=True)"
   ]
  },
  {
   "cell_type": "code",
   "execution_count": 8,
   "id": "d9a68194",
   "metadata": {},
   "outputs": [
    {
     "data": {
      "text/plain": [
       "^NSEBANK    0\n",
       "^NSEI       0\n",
       "dtype: int64"
      ]
     },
     "execution_count": 8,
     "metadata": {},
     "output_type": "execute_result"
    }
   ],
   "source": [
    "data.isna().sum()"
   ]
  },
  {
   "cell_type": "code",
   "execution_count": 9,
   "id": "937ff9e5",
   "metadata": {},
   "outputs": [],
   "source": [
    "df=data.copy()"
   ]
  },
  {
   "cell_type": "code",
   "execution_count": 10,
   "id": "f116acbb",
   "metadata": {},
   "outputs": [
    {
     "data": {
      "text/html": [
       "<div>\n",
       "<style scoped>\n",
       "    .dataframe tbody tr th:only-of-type {\n",
       "        vertical-align: middle;\n",
       "    }\n",
       "\n",
       "    .dataframe tbody tr th {\n",
       "        vertical-align: top;\n",
       "    }\n",
       "\n",
       "    .dataframe thead th {\n",
       "        text-align: right;\n",
       "    }\n",
       "</style>\n",
       "<table border=\"1\" class=\"dataframe\">\n",
       "  <thead>\n",
       "    <tr style=\"text-align: right;\">\n",
       "      <th></th>\n",
       "      <th>^NSEBANK</th>\n",
       "      <th>^NSEI</th>\n",
       "    </tr>\n",
       "    <tr>\n",
       "      <th>Date</th>\n",
       "      <th></th>\n",
       "      <th></th>\n",
       "    </tr>\n",
       "  </thead>\n",
       "  <tbody>\n",
       "    <tr>\n",
       "      <th>2010-01-04</th>\n",
       "      <td>9112.244141</td>\n",
       "      <td>5232.200195</td>\n",
       "    </tr>\n",
       "    <tr>\n",
       "      <th>2010-01-05</th>\n",
       "      <td>9192.043945</td>\n",
       "      <td>5277.899902</td>\n",
       "    </tr>\n",
       "    <tr>\n",
       "      <th>2010-01-06</th>\n",
       "      <td>9222.892578</td>\n",
       "      <td>5281.799805</td>\n",
       "    </tr>\n",
       "    <tr>\n",
       "      <th>2010-01-07</th>\n",
       "      <td>9192.843750</td>\n",
       "      <td>5263.100098</td>\n",
       "    </tr>\n",
       "    <tr>\n",
       "      <th>2010-01-08</th>\n",
       "      <td>9160.593750</td>\n",
       "      <td>5244.750000</td>\n",
       "    </tr>\n",
       "  </tbody>\n",
       "</table>\n",
       "</div>"
      ],
      "text/plain": [
       "               ^NSEBANK        ^NSEI\n",
       "Date                                \n",
       "2010-01-04  9112.244141  5232.200195\n",
       "2010-01-05  9192.043945  5277.899902\n",
       "2010-01-06  9222.892578  5281.799805\n",
       "2010-01-07  9192.843750  5263.100098\n",
       "2010-01-08  9160.593750  5244.750000"
      ]
     },
     "execution_count": 10,
     "metadata": {},
     "output_type": "execute_result"
    }
   ],
   "source": [
    "df.head()"
   ]
  },
  {
   "cell_type": "code",
   "execution_count": 11,
   "id": "348a072f",
   "metadata": {},
   "outputs": [],
   "source": [
    "df=df.asfreq('B')"
   ]
  },
  {
   "cell_type": "code",
   "execution_count": 12,
   "id": "c4fa3685",
   "metadata": {},
   "outputs": [
    {
     "data": {
      "text/html": [
       "<div>\n",
       "<style scoped>\n",
       "    .dataframe tbody tr th:only-of-type {\n",
       "        vertical-align: middle;\n",
       "    }\n",
       "\n",
       "    .dataframe tbody tr th {\n",
       "        vertical-align: top;\n",
       "    }\n",
       "\n",
       "    .dataframe thead th {\n",
       "        text-align: right;\n",
       "    }\n",
       "</style>\n",
       "<table border=\"1\" class=\"dataframe\">\n",
       "  <thead>\n",
       "    <tr style=\"text-align: right;\">\n",
       "      <th></th>\n",
       "      <th>^NSEBANK</th>\n",
       "      <th>^NSEI</th>\n",
       "    </tr>\n",
       "    <tr>\n",
       "      <th>Date</th>\n",
       "      <th></th>\n",
       "      <th></th>\n",
       "    </tr>\n",
       "  </thead>\n",
       "  <tbody>\n",
       "    <tr>\n",
       "      <th>2010-01-04</th>\n",
       "      <td>9112.244141</td>\n",
       "      <td>5232.200195</td>\n",
       "    </tr>\n",
       "    <tr>\n",
       "      <th>2010-01-05</th>\n",
       "      <td>9192.043945</td>\n",
       "      <td>5277.899902</td>\n",
       "    </tr>\n",
       "    <tr>\n",
       "      <th>2010-01-06</th>\n",
       "      <td>9222.892578</td>\n",
       "      <td>5281.799805</td>\n",
       "    </tr>\n",
       "    <tr>\n",
       "      <th>2010-01-07</th>\n",
       "      <td>9192.843750</td>\n",
       "      <td>5263.100098</td>\n",
       "    </tr>\n",
       "    <tr>\n",
       "      <th>2010-01-08</th>\n",
       "      <td>9160.593750</td>\n",
       "      <td>5244.750000</td>\n",
       "    </tr>\n",
       "  </tbody>\n",
       "</table>\n",
       "</div>"
      ],
      "text/plain": [
       "               ^NSEBANK        ^NSEI\n",
       "Date                                \n",
       "2010-01-04  9112.244141  5232.200195\n",
       "2010-01-05  9192.043945  5277.899902\n",
       "2010-01-06  9222.892578  5281.799805\n",
       "2010-01-07  9192.843750  5263.100098\n",
       "2010-01-08  9160.593750  5244.750000"
      ]
     },
     "execution_count": 12,
     "metadata": {},
     "output_type": "execute_result"
    }
   ],
   "source": [
    "df.head()"
   ]
  },
  {
   "cell_type": "code",
   "execution_count": 13,
   "id": "aaf88af9",
   "metadata": {},
   "outputs": [
    {
     "data": {
      "text/plain": [
       "^NSEBANK    515\n",
       "^NSEI       515\n",
       "dtype: int64"
      ]
     },
     "execution_count": 13,
     "metadata": {},
     "output_type": "execute_result"
    }
   ],
   "source": [
    "df.isna().sum()"
   ]
  },
  {
   "cell_type": "code",
   "execution_count": 14,
   "id": "c681ea0f",
   "metadata": {},
   "outputs": [
    {
     "name": "stderr",
     "output_type": "stream",
     "text": [
      "C:\\Users\\swana\\AppData\\Local\\Temp\\ipykernel_3900\\4116506308.py:1: FutureWarning: DataFrame.fillna with 'method' is deprecated and will raise in a future version. Use obj.ffill() or obj.bfill() instead.\n",
      "  df.fillna(method='ffill',inplace=True)\n"
     ]
    }
   ],
   "source": [
    "df.fillna(method='ffill',inplace=True)"
   ]
  },
  {
   "cell_type": "code",
   "execution_count": 15,
   "id": "18cbb2a7",
   "metadata": {},
   "outputs": [
    {
     "data": {
      "text/plain": [
       "^NSEBANK    0\n",
       "^NSEI       0\n",
       "dtype: int64"
      ]
     },
     "execution_count": 15,
     "metadata": {},
     "output_type": "execute_result"
    }
   ],
   "source": [
    "df.isna().sum()"
   ]
  },
  {
   "cell_type": "code",
   "execution_count": 16,
   "id": "5cbbd797",
   "metadata": {},
   "outputs": [],
   "source": [
    "## Simplyfying the Datasets\n",
    "df['Market_value']=df['^NSEBANK']"
   ]
  },
  {
   "cell_type": "code",
   "execution_count": 17,
   "id": "dfefbc07",
   "metadata": {},
   "outputs": [
    {
     "data": {
      "text/html": [
       "<div>\n",
       "<style scoped>\n",
       "    .dataframe tbody tr th:only-of-type {\n",
       "        vertical-align: middle;\n",
       "    }\n",
       "\n",
       "    .dataframe tbody tr th {\n",
       "        vertical-align: top;\n",
       "    }\n",
       "\n",
       "    .dataframe thead th {\n",
       "        text-align: right;\n",
       "    }\n",
       "</style>\n",
       "<table border=\"1\" class=\"dataframe\">\n",
       "  <thead>\n",
       "    <tr style=\"text-align: right;\">\n",
       "      <th></th>\n",
       "      <th>^NSEBANK</th>\n",
       "      <th>^NSEI</th>\n",
       "      <th>Market_value</th>\n",
       "    </tr>\n",
       "    <tr>\n",
       "      <th>Date</th>\n",
       "      <th></th>\n",
       "      <th></th>\n",
       "      <th></th>\n",
       "    </tr>\n",
       "  </thead>\n",
       "  <tbody>\n",
       "    <tr>\n",
       "      <th>2010-01-04</th>\n",
       "      <td>9112.244141</td>\n",
       "      <td>5232.200195</td>\n",
       "      <td>9112.244141</td>\n",
       "    </tr>\n",
       "    <tr>\n",
       "      <th>2010-01-05</th>\n",
       "      <td>9192.043945</td>\n",
       "      <td>5277.899902</td>\n",
       "      <td>9192.043945</td>\n",
       "    </tr>\n",
       "    <tr>\n",
       "      <th>2010-01-06</th>\n",
       "      <td>9222.892578</td>\n",
       "      <td>5281.799805</td>\n",
       "      <td>9222.892578</td>\n",
       "    </tr>\n",
       "    <tr>\n",
       "      <th>2010-01-07</th>\n",
       "      <td>9192.843750</td>\n",
       "      <td>5263.100098</td>\n",
       "      <td>9192.843750</td>\n",
       "    </tr>\n",
       "    <tr>\n",
       "      <th>2010-01-08</th>\n",
       "      <td>9160.593750</td>\n",
       "      <td>5244.750000</td>\n",
       "      <td>9160.593750</td>\n",
       "    </tr>\n",
       "  </tbody>\n",
       "</table>\n",
       "</div>"
      ],
      "text/plain": [
       "               ^NSEBANK        ^NSEI  Market_value\n",
       "Date                                              \n",
       "2010-01-04  9112.244141  5232.200195   9112.244141\n",
       "2010-01-05  9192.043945  5277.899902   9192.043945\n",
       "2010-01-06  9222.892578  5281.799805   9222.892578\n",
       "2010-01-07  9192.843750  5263.100098   9192.843750\n",
       "2010-01-08  9160.593750  5244.750000   9160.593750"
      ]
     },
     "execution_count": 17,
     "metadata": {},
     "output_type": "execute_result"
    }
   ],
   "source": [
    "df.head()"
   ]
  },
  {
   "cell_type": "code",
   "execution_count": 18,
   "id": "402e07ab",
   "metadata": {},
   "outputs": [],
   "source": [
    "## Deleting Extra Columns \n",
    "del df['^NSEBANK'],df['^NSEI']"
   ]
  },
  {
   "cell_type": "code",
   "execution_count": 19,
   "id": "14fc719b",
   "metadata": {},
   "outputs": [
    {
     "data": {
      "text/html": [
       "<div>\n",
       "<style scoped>\n",
       "    .dataframe tbody tr th:only-of-type {\n",
       "        vertical-align: middle;\n",
       "    }\n",
       "\n",
       "    .dataframe tbody tr th {\n",
       "        vertical-align: top;\n",
       "    }\n",
       "\n",
       "    .dataframe thead th {\n",
       "        text-align: right;\n",
       "    }\n",
       "</style>\n",
       "<table border=\"1\" class=\"dataframe\">\n",
       "  <thead>\n",
       "    <tr style=\"text-align: right;\">\n",
       "      <th></th>\n",
       "      <th>Market_value</th>\n",
       "    </tr>\n",
       "    <tr>\n",
       "      <th>Date</th>\n",
       "      <th></th>\n",
       "    </tr>\n",
       "  </thead>\n",
       "  <tbody>\n",
       "    <tr>\n",
       "      <th>2010-01-04</th>\n",
       "      <td>9112.244141</td>\n",
       "    </tr>\n",
       "    <tr>\n",
       "      <th>2010-01-05</th>\n",
       "      <td>9192.043945</td>\n",
       "    </tr>\n",
       "    <tr>\n",
       "      <th>2010-01-06</th>\n",
       "      <td>9222.892578</td>\n",
       "    </tr>\n",
       "    <tr>\n",
       "      <th>2010-01-07</th>\n",
       "      <td>9192.843750</td>\n",
       "    </tr>\n",
       "    <tr>\n",
       "      <th>2010-01-08</th>\n",
       "      <td>9160.593750</td>\n",
       "    </tr>\n",
       "  </tbody>\n",
       "</table>\n",
       "</div>"
      ],
      "text/plain": [
       "            Market_value\n",
       "Date                    \n",
       "2010-01-04   9112.244141\n",
       "2010-01-05   9192.043945\n",
       "2010-01-06   9222.892578\n",
       "2010-01-07   9192.843750\n",
       "2010-01-08   9160.593750"
      ]
     },
     "execution_count": 19,
     "metadata": {},
     "output_type": "execute_result"
    }
   ],
   "source": [
    "df.head()"
   ]
  },
  {
   "cell_type": "code",
   "execution_count": 20,
   "id": "02700a1a",
   "metadata": {},
   "outputs": [
    {
     "data": {
      "text/html": [
       "<div>\n",
       "<style scoped>\n",
       "    .dataframe tbody tr th:only-of-type {\n",
       "        vertical-align: middle;\n",
       "    }\n",
       "\n",
       "    .dataframe tbody tr th {\n",
       "        vertical-align: top;\n",
       "    }\n",
       "\n",
       "    .dataframe thead th {\n",
       "        text-align: right;\n",
       "    }\n",
       "</style>\n",
       "<table border=\"1\" class=\"dataframe\">\n",
       "  <thead>\n",
       "    <tr style=\"text-align: right;\">\n",
       "      <th></th>\n",
       "      <th>Market_value</th>\n",
       "    </tr>\n",
       "  </thead>\n",
       "  <tbody>\n",
       "    <tr>\n",
       "      <th>count</th>\n",
       "      <td>4045.000000</td>\n",
       "    </tr>\n",
       "    <tr>\n",
       "      <th>mean</th>\n",
       "      <td>25076.327577</td>\n",
       "    </tr>\n",
       "    <tr>\n",
       "      <th>std</th>\n",
       "      <td>13321.497160</td>\n",
       "    </tr>\n",
       "    <tr>\n",
       "      <th>min</th>\n",
       "      <td>7798.458984</td>\n",
       "    </tr>\n",
       "    <tr>\n",
       "      <th>25%</th>\n",
       "      <td>12424.555664</td>\n",
       "    </tr>\n",
       "    <tr>\n",
       "      <th>50%</th>\n",
       "      <td>22264.642578</td>\n",
       "    </tr>\n",
       "    <tr>\n",
       "      <th>75%</th>\n",
       "      <td>35123.988281</td>\n",
       "    </tr>\n",
       "    <tr>\n",
       "      <th>max</th>\n",
       "      <td>57459.449219</td>\n",
       "    </tr>\n",
       "  </tbody>\n",
       "</table>\n",
       "</div>"
      ],
      "text/plain": [
       "       Market_value\n",
       "count   4045.000000\n",
       "mean   25076.327577\n",
       "std    13321.497160\n",
       "min     7798.458984\n",
       "25%    12424.555664\n",
       "50%    22264.642578\n",
       "75%    35123.988281\n",
       "max    57459.449219"
      ]
     },
     "execution_count": 20,
     "metadata": {},
     "output_type": "execute_result"
    }
   ],
   "source": [
    "df.describe()"
   ]
  },
  {
   "cell_type": "code",
   "execution_count": 21,
   "id": "86d5d0d0",
   "metadata": {},
   "outputs": [],
   "source": [
    "## Spliting the Date\n",
    "size=int(len(df)*0.8)\n",
    "train=df.iloc[:size]\n",
    "test=df.iloc[size:]"
   ]
  },
  {
   "cell_type": "code",
   "execution_count": 22,
   "id": "a7629190",
   "metadata": {},
   "outputs": [
    {
     "data": {
      "text/html": [
       "<div>\n",
       "<style scoped>\n",
       "    .dataframe tbody tr th:only-of-type {\n",
       "        vertical-align: middle;\n",
       "    }\n",
       "\n",
       "    .dataframe tbody tr th {\n",
       "        vertical-align: top;\n",
       "    }\n",
       "\n",
       "    .dataframe thead th {\n",
       "        text-align: right;\n",
       "    }\n",
       "</style>\n",
       "<table border=\"1\" class=\"dataframe\">\n",
       "  <thead>\n",
       "    <tr style=\"text-align: right;\">\n",
       "      <th></th>\n",
       "      <th>Market_value</th>\n",
       "    </tr>\n",
       "    <tr>\n",
       "      <th>Date</th>\n",
       "      <th></th>\n",
       "    </tr>\n",
       "  </thead>\n",
       "  <tbody>\n",
       "    <tr>\n",
       "      <th>2022-05-24</th>\n",
       "      <td>34289.750000</td>\n",
       "    </tr>\n",
       "    <tr>\n",
       "      <th>2022-05-25</th>\n",
       "      <td>34339.101562</td>\n",
       "    </tr>\n",
       "    <tr>\n",
       "      <th>2022-05-26</th>\n",
       "      <td>35094.492188</td>\n",
       "    </tr>\n",
       "    <tr>\n",
       "      <th>2022-05-27</th>\n",
       "      <td>35612.886719</td>\n",
       "    </tr>\n",
       "    <tr>\n",
       "      <th>2022-05-30</th>\n",
       "      <td>35826.531250</td>\n",
       "    </tr>\n",
       "  </tbody>\n",
       "</table>\n",
       "</div>"
      ],
      "text/plain": [
       "            Market_value\n",
       "Date                    \n",
       "2022-05-24  34289.750000\n",
       "2022-05-25  34339.101562\n",
       "2022-05-26  35094.492188\n",
       "2022-05-27  35612.886719\n",
       "2022-05-30  35826.531250"
      ]
     },
     "execution_count": 22,
     "metadata": {},
     "output_type": "execute_result"
    }
   ],
   "source": [
    "train.tail()"
   ]
  },
  {
   "cell_type": "code",
   "execution_count": 23,
   "id": "88044ffa",
   "metadata": {},
   "outputs": [
    {
     "data": {
      "text/html": [
       "<div>\n",
       "<style scoped>\n",
       "    .dataframe tbody tr th:only-of-type {\n",
       "        vertical-align: middle;\n",
       "    }\n",
       "\n",
       "    .dataframe tbody tr th {\n",
       "        vertical-align: top;\n",
       "    }\n",
       "\n",
       "    .dataframe thead th {\n",
       "        text-align: right;\n",
       "    }\n",
       "</style>\n",
       "<table border=\"1\" class=\"dataframe\">\n",
       "  <thead>\n",
       "    <tr style=\"text-align: right;\">\n",
       "      <th></th>\n",
       "      <th>Market_value</th>\n",
       "    </tr>\n",
       "    <tr>\n",
       "      <th>Date</th>\n",
       "      <th></th>\n",
       "    </tr>\n",
       "  </thead>\n",
       "  <tbody>\n",
       "    <tr>\n",
       "      <th>2022-05-31</th>\n",
       "      <td>35486.984375</td>\n",
       "    </tr>\n",
       "    <tr>\n",
       "      <th>2022-06-01</th>\n",
       "      <td>35620.386719</td>\n",
       "    </tr>\n",
       "    <tr>\n",
       "      <th>2022-06-02</th>\n",
       "      <td>35613.234375</td>\n",
       "    </tr>\n",
       "    <tr>\n",
       "      <th>2022-06-03</th>\n",
       "      <td>35274.640625</td>\n",
       "    </tr>\n",
       "    <tr>\n",
       "      <th>2022-06-06</th>\n",
       "      <td>35309.789062</td>\n",
       "    </tr>\n",
       "  </tbody>\n",
       "</table>\n",
       "</div>"
      ],
      "text/plain": [
       "            Market_value\n",
       "Date                    \n",
       "2022-05-31  35486.984375\n",
       "2022-06-01  35620.386719\n",
       "2022-06-02  35613.234375\n",
       "2022-06-03  35274.640625\n",
       "2022-06-06  35309.789062"
      ]
     },
     "execution_count": 23,
     "metadata": {},
     "output_type": "execute_result"
    }
   ],
   "source": [
    "test.head()"
   ]
  },
  {
   "cell_type": "markdown",
   "id": "3f5a3489",
   "metadata": {},
   "source": [
    "## ploting ACF anf PACF plots"
   ]
  },
  {
   "cell_type": "code",
   "execution_count": 24,
   "id": "a719a17c",
   "metadata": {},
   "outputs": [
    {
     "data": {
      "text/plain": [
       "Text(0.5, 1.0, 'ACF Bank Nifty')"
      ]
     },
     "execution_count": 24,
     "metadata": {},
     "output_type": "execute_result"
    },
    {
     "data": {
      "image/png": "[encoded data removed]",
      "text/plain": [
       "<Figure size 640x480 with 1 Axes>"
      ]
     },
     "metadata": {},
     "output_type": "display_data"
    }
   ],
   "source": [
    "## ACF\n",
    "sgt.plot_acf(df.Market_value,lags=40,zero=False)\n",
    "plt.ylim(-1.1,1.1)\n",
    "plt.title(\"ACF Bank Nifty\",size=24)"
   ]
  },
  {
   "cell_type": "code",
   "execution_count": 25,
   "id": "884fb464",
   "metadata": {},
   "outputs": [
    {
     "data": {
      "text/plain": [
       "Text(0.5, 1.0, 'PACF Bank Nifty')"
      ]
     },
     "execution_count": 25,
     "metadata": {},
     "output_type": "execute_result"
    },
    {
     "data": {
      "image/png": "[encoded data removed]",
      "text/plain": [
       "<Figure size 640x480 with 1 Axes>"
      ]
     },
     "metadata": {},
     "output_type": "display_data"
    }
   ],
   "source": [
    "## Pacf \n",
    "sgt.plot_pacf(df.Market_value,lags=40,zero=False,method=('ols'))\n",
    "plt.title(\"PACF Bank Nifty\",size=24)"
   ]
  },
  {
   "cell_type": "code",
   "execution_count": 26,
   "id": "be78a528",
   "metadata": {},
   "outputs": [],
   "source": [
    "## Defining LLR Test for Easy Comparison\n",
    "def LLR_test(mod_1, mod_2, DF = 1):\n",
    "    L1 = mod_1.fit().llf\n",
    "    L2 = mod_2.fit().llf\n",
    "    LR = (2*(L2-L1))    \n",
    "    p = chi2.sf(LR, DF).round(3)\n",
    "    return p"
   ]
  },
  {
   "cell_type": "markdown",
   "id": "e4727b86",
   "metadata": {},
   "source": [
    "## Creating Multiple AR models for many Lags and comparing them (for Prices)\n"
   ]
  },
  {
   "cell_type": "code",
   "execution_count": 27,
   "id": "f994672a",
   "metadata": {},
   "outputs": [
    {
     "name": "stderr",
     "output_type": "stream",
     "text": [
      "e:\\anaconda\\Lib\\site-packages\\statsmodels\\tsa\\statespace\\sarimax.py:966: UserWarning: Non-stationary starting autoregressive parameters found. Using zeros as starting parameters.\n",
      "  warn('Non-stationary starting autoregressive parameters'\n"
     ]
    },
    {
     "data": {
      "text/html": [
       "<table class=\"simpletable\">\n",
       "<caption>SARIMAX Results</caption>\n",
       "<tr>\n",
       "  <th>Dep. Variable:</th>     <td>Market_value</td>   <th>  No. Observations:  </th>    <td>4045</td>   \n",
       "</tr>\n",
       "<tr>\n",
       "  <th>Model:</th>            <td>ARIMA(1, 0, 0)</td>  <th>  Log Likelihood     </th> <td>-29346.741</td>\n",
       "</tr>\n",
       "<tr>\n",
       "  <th>Date:</th>            <td>Sun, 07 Sep 2025</td> <th>  AIC                </th>  <td>58699.482</td>\n",
       "</tr>\n",
       "<tr>\n",
       "  <th>Time:</th>                <td>14:24:45</td>     <th>  BIC                </th>  <td>58718.398</td>\n",
       "</tr>\n",
       "<tr>\n",
       "  <th>Sample:</th>             <td>01-04-2010</td>    <th>  HQIC               </th>  <td>58706.183</td>\n",
       "</tr>\n",
       "<tr>\n",
       "  <th></th>                   <td>- 07-04-2025</td>   <th>                     </th>      <td> </td>    \n",
       "</tr>\n",
       "<tr>\n",
       "  <th>Covariance Type:</th>        <td>opg</td>       <th>                     </th>      <td> </td>    \n",
       "</tr>\n",
       "</table>\n",
       "<table class=\"simpletable\">\n",
       "<tr>\n",
       "     <td></td>       <th>coef</th>     <th>std err</th>      <th>z</th>      <th>P>|z|</th>  <th>[0.025</th>    <th>0.975]</th>  \n",
       "</tr>\n",
       "<tr>\n",
       "  <th>const</th>  <td> 2.508e+04</td> <td>    1.137</td> <td> 2.21e+04</td> <td> 0.000</td> <td> 2.51e+04</td> <td> 2.51e+04</td>\n",
       "</tr>\n",
       "<tr>\n",
       "  <th>ar.L1</th>  <td>    0.9998</td> <td>    0.000</td> <td> 2762.270</td> <td> 0.000</td> <td>    0.999</td> <td>    1.000</td>\n",
       "</tr>\n",
       "<tr>\n",
       "  <th>sigma2</th> <td> 1.173e+05</td> <td>  924.670</td> <td>  126.833</td> <td> 0.000</td> <td> 1.15e+05</td> <td> 1.19e+05</td>\n",
       "</tr>\n",
       "</table>\n",
       "<table class=\"simpletable\">\n",
       "<tr>\n",
       "  <th>Ljung-Box (L1) (Q):</th>     <td>0.29</td> <th>  Jarque-Bera (JB):  </th> <td>35090.65</td>\n",
       "</tr>\n",
       "<tr>\n",
       "  <th>Prob(Q):</th>                <td>0.59</td> <th>  Prob(JB):          </th>   <td>0.00</td>  \n",
       "</tr>\n",
       "<tr>\n",
       "  <th>Heteroskedasticity (H):</th> <td>6.99</td> <th>  Skew:              </th>   <td>-0.56</td> \n",
       "</tr>\n",
       "<tr>\n",
       "  <th>Prob(H) (two-sided):</th>    <td>0.00</td> <th>  Kurtosis:          </th>   <td>17.39</td> \n",
       "</tr>\n",
       "</table><br/><br/>Warnings:<br/>[1] Covariance matrix calculated using the outer product of gradients (complex-step).<br/>[2] Covariance matrix is singular or near-singular, with condition number 8.56e+18. Standard errors may be unstable."
      ],
      "text/latex": [
       "\\begin{center}\n",
       "\\begin{tabular}{lclc}\n",
       "\\toprule\n",
       "\\textbf{Dep. Variable:}          &  Market\\_value   & \\textbf{  No. Observations:  } &    4045     \\\\\n",
       "\\textbf{Model:}                  &  ARIMA(1, 0, 0)  & \\textbf{  Log Likelihood     } & -29346.741  \\\\\n",
       "\\textbf{Date:}                   & Sun, 07 Sep 2025 & \\textbf{  AIC                } & 58699.482   \\\\\n",
       "\\textbf{Time:}                   &     14:24:45     & \\textbf{  BIC                } & 58718.398   \\\\\n",
       "\\textbf{Sample:}                 &    01-04-2010    & \\textbf{  HQIC               } & 58706.183   \\\\\n",
       "\\textbf{}                        &   - 07-04-2025   & \\textbf{                     } &             \\\\\n",
       "\\textbf{Covariance Type:}        &       opg        & \\textbf{                     } &             \\\\\n",
       "\\bottomrule\n",
       "\\end{tabular}\n",
       "\\begin{tabular}{lcccccc}\n",
       "                & \\textbf{coef} & \\textbf{std err} & \\textbf{z} & \\textbf{P$> |$z$|$} & \\textbf{[0.025} & \\textbf{0.975]}  \\\\\n",
       "\\midrule\n",
       "\\textbf{const}  &    2.508e+04  &        1.137     &  2.21e+04  &         0.000        &     2.51e+04    &     2.51e+04     \\\\\n",
       "\\textbf{ar.L1}  &       0.9998  &        0.000     &  2762.270  &         0.000        &        0.999    &        1.000     \\\\\n",
       "\\textbf{sigma2} &    1.173e+05  &      924.670     &   126.833  &         0.000        &     1.15e+05    &     1.19e+05     \\\\\n",
       "\\bottomrule\n",
       "\\end{tabular}\n",
       "\\begin{tabular}{lclc}\n",
       "\\textbf{Ljung-Box (L1) (Q):}     & 0.29 & \\textbf{  Jarque-Bera (JB):  } & 35090.65  \\\\\n",
       "\\textbf{Prob(Q):}                & 0.59 & \\textbf{  Prob(JB):          } &   0.00    \\\\\n",
       "\\textbf{Heteroskedasticity (H):} & 6.99 & \\textbf{  Skew:              } &  -0.56    \\\\\n",
       "\\textbf{Prob(H) (two-sided):}    & 0.00 & \\textbf{  Kurtosis:          } &  17.39    \\\\\n",
       "\\bottomrule\n",
       "\\end{tabular}\n",
       "%\\caption{SARIMAX Results}\n",
       "\\end{center}\n",
       "\n",
       "Warnings: \\newline\n",
       " [1] Covariance matrix calculated using the outer product of gradients (complex-step). \\newline\n",
       " [2] Covariance matrix is singular or near-singular, with condition number 8.56e+18. Standard errors may be unstable."
      ],
      "text/plain": [
       "<class 'statsmodels.iolib.summary.Summary'>\n",
       "\"\"\"\n",
       "                               SARIMAX Results                                \n",
       "==============================================================================\n",
       "Dep. Variable:           Market_value   No. Observations:                 4045\n",
       "Model:                 ARIMA(1, 0, 0)   Log Likelihood              -29346.741\n",
       "Date:                Sun, 07 Sep 2025   AIC                          58699.482\n",
       "Time:                        14:24:45   BIC                          58718.398\n",
       "Sample:                    01-04-2010   HQIC                         58706.183\n",
       "                         - 07-04-2025                                         \n",
       "Covariance Type:                  opg                                         \n",
       "==============================================================================\n",
       "                 coef    std err          z      P>|z|      [0.025      0.975]\n",
       "------------------------------------------------------------------------------\n",
       "const       2.508e+04      1.137   2.21e+04      0.000    2.51e+04    2.51e+04\n",
       "ar.L1          0.9998      0.000   2762.270      0.000       0.999       1.000\n",
       "sigma2      1.173e+05    924.670    126.833      0.000    1.15e+05    1.19e+05\n",
       "===================================================================================\n",
       "Ljung-Box (L1) (Q):                   0.29   Jarque-Bera (JB):             35090.65\n",
       "Prob(Q):                              0.59   Prob(JB):                         0.00\n",
       "Heteroskedasticity (H):               6.99   Skew:                            -0.56\n",
       "Prob(H) (two-sided):                  0.00   Kurtosis:                        17.39\n",
       "===================================================================================\n",
       "\n",
       "Warnings:\n",
       "[1] Covariance matrix calculated using the outer product of gradients (complex-step).\n",
       "[2] Covariance matrix is singular or near-singular, with condition number 8.56e+18. Standard errors may be unstable.\n",
       "\"\"\""
      ]
     },
     "execution_count": 27,
     "metadata": {},
     "output_type": "execute_result"
    }
   ],
   "source": [
    "model_ar1 = ARIMA(df.Market_value, order=(1,0,0))\n",
    "result_ar1=model_ar1.fit()\n",
    "result_ar1.summary()"
   ]
  },
  {
   "cell_type": "code",
   "execution_count": 28,
   "id": "e6937d4c",
   "metadata": {},
   "outputs": [
    {
     "name": "stderr",
     "output_type": "stream",
     "text": [
      "e:\\anaconda\\Lib\\site-packages\\statsmodels\\tsa\\statespace\\sarimax.py:966: UserWarning: Non-stationary starting autoregressive parameters found. Using zeros as starting parameters.\n",
      "  warn('Non-stationary starting autoregressive parameters'\n"
     ]
    },
    {
     "data": {
      "text/html": [
       "<table class=\"simpletable\">\n",
       "<caption>SARIMAX Results</caption>\n",
       "<tr>\n",
       "  <th>Dep. Variable:</th>     <td>Market_value</td>   <th>  No. Observations:  </th>    <td>4045</td>   \n",
       "</tr>\n",
       "<tr>\n",
       "  <th>Model:</th>            <td>ARIMA(2, 0, 0)</td>  <th>  Log Likelihood     </th> <td>-29346.499</td>\n",
       "</tr>\n",
       "<tr>\n",
       "  <th>Date:</th>            <td>Sun, 07 Sep 2025</td> <th>  AIC                </th>  <td>58700.997</td>\n",
       "</tr>\n",
       "<tr>\n",
       "  <th>Time:</th>                <td>14:24:46</td>     <th>  BIC                </th>  <td>58726.218</td>\n",
       "</tr>\n",
       "<tr>\n",
       "  <th>Sample:</th>             <td>01-04-2010</td>    <th>  HQIC               </th>  <td>58709.932</td>\n",
       "</tr>\n",
       "<tr>\n",
       "  <th></th>                   <td>- 07-04-2025</td>   <th>                     </th>      <td> </td>    \n",
       "</tr>\n",
       "<tr>\n",
       "  <th>Covariance Type:</th>        <td>opg</td>       <th>                     </th>      <td> </td>    \n",
       "</tr>\n",
       "</table>\n",
       "<table class=\"simpletable\">\n",
       "<tr>\n",
       "     <td></td>       <th>coef</th>     <th>std err</th>      <th>z</th>      <th>P>|z|</th>  <th>[0.025</th>    <th>0.975]</th>  \n",
       "</tr>\n",
       "<tr>\n",
       "  <th>const</th>  <td> 2.508e+04</td> <td>    0.519</td> <td> 4.84e+04</td> <td> 0.000</td> <td> 2.51e+04</td> <td> 2.51e+04</td>\n",
       "</tr>\n",
       "<tr>\n",
       "  <th>ar.L1</th>  <td>    1.0093</td> <td>    0.008</td> <td>  131.802</td> <td> 0.000</td> <td>    0.994</td> <td>    1.024</td>\n",
       "</tr>\n",
       "<tr>\n",
       "  <th>ar.L2</th>  <td>   -0.0094</td> <td>    0.008</td> <td>   -1.235</td> <td> 0.217</td> <td>   -0.024</td> <td>    0.006</td>\n",
       "</tr>\n",
       "<tr>\n",
       "  <th>sigma2</th> <td>  1.17e+05</td> <td>  976.446</td> <td>  119.795</td> <td> 0.000</td> <td> 1.15e+05</td> <td> 1.19e+05</td>\n",
       "</tr>\n",
       "</table>\n",
       "<table class=\"simpletable\">\n",
       "<tr>\n",
       "  <th>Ljung-Box (L1) (Q):</th>     <td>0.00</td> <th>  Jarque-Bera (JB):  </th> <td>35680.81</td>\n",
       "</tr>\n",
       "<tr>\n",
       "  <th>Prob(Q):</th>                <td>0.94</td> <th>  Prob(JB):          </th>   <td>0.00</td>  \n",
       "</tr>\n",
       "<tr>\n",
       "  <th>Heteroskedasticity (H):</th> <td>7.00</td> <th>  Skew:              </th>   <td>-0.56</td> \n",
       "</tr>\n",
       "<tr>\n",
       "  <th>Prob(H) (two-sided):</th>    <td>0.00</td> <th>  Kurtosis:          </th>   <td>17.51</td> \n",
       "</tr>\n",
       "</table><br/><br/>Warnings:<br/>[1] Covariance matrix calculated using the outer product of gradients (complex-step).<br/>[2] Covariance matrix is singular or near-singular, with condition number 9.53e+18. Standard errors may be unstable."
      ],
      "text/latex": [
       "\\begin{center}\n",
       "\\begin{tabular}{lclc}\n",
       "\\toprule\n",
       "\\textbf{Dep. Variable:}          &  Market\\_value   & \\textbf{  No. Observations:  } &    4045     \\\\\n",
       "\\textbf{Model:}                  &  ARIMA(2, 0, 0)  & \\textbf{  Log Likelihood     } & -29346.499  \\\\\n",
       "\\textbf{Date:}                   & Sun, 07 Sep 2025 & \\textbf{  AIC                } & 58700.997   \\\\\n",
       "\\textbf{Time:}                   &     14:24:46     & \\textbf{  BIC                } & 58726.218   \\\\\n",
       "\\textbf{Sample:}                 &    01-04-2010    & \\textbf{  HQIC               } & 58709.932   \\\\\n",
       "\\textbf{}                        &   - 07-04-2025   & \\textbf{                     } &             \\\\\n",
       "\\textbf{Covariance Type:}        &       opg        & \\textbf{                     } &             \\\\\n",
       "\\bottomrule\n",
       "\\end{tabular}\n",
       "\\begin{tabular}{lcccccc}\n",
       "                & \\textbf{coef} & \\textbf{std err} & \\textbf{z} & \\textbf{P$> |$z$|$} & \\textbf{[0.025} & \\textbf{0.975]}  \\\\\n",
       "\\midrule\n",
       "\\textbf{const}  &    2.508e+04  &        0.519     &  4.84e+04  &         0.000        &     2.51e+04    &     2.51e+04     \\\\\n",
       "\\textbf{ar.L1}  &       1.0093  &        0.008     &   131.802  &         0.000        &        0.994    &        1.024     \\\\\n",
       "\\textbf{ar.L2}  &      -0.0094  &        0.008     &    -1.235  &         0.217        &       -0.024    &        0.006     \\\\\n",
       "\\textbf{sigma2} &     1.17e+05  &      976.446     &   119.795  &         0.000        &     1.15e+05    &     1.19e+05     \\\\\n",
       "\\bottomrule\n",
       "\\end{tabular}\n",
       "\\begin{tabular}{lclc}\n",
       "\\textbf{Ljung-Box (L1) (Q):}     & 0.00 & \\textbf{  Jarque-Bera (JB):  } & 35680.81  \\\\\n",
       "\\textbf{Prob(Q):}                & 0.94 & \\textbf{  Prob(JB):          } &   0.00    \\\\\n",
       "\\textbf{Heteroskedasticity (H):} & 7.00 & \\textbf{  Skew:              } &  -0.56    \\\\\n",
       "\\textbf{Prob(H) (two-sided):}    & 0.00 & \\textbf{  Kurtosis:          } &  17.51    \\\\\n",
       "\\bottomrule\n",
       "\\end{tabular}\n",
       "%\\caption{SARIMAX Results}\n",
       "\\end{center}\n",
       "\n",
       "Warnings: \\newline\n",
       " [1] Covariance matrix calculated using the outer product of gradients (complex-step). \\newline\n",
       " [2] Covariance matrix is singular or near-singular, with condition number 9.53e+18. Standard errors may be unstable."
      ],
      "text/plain": [
       "<class 'statsmodels.iolib.summary.Summary'>\n",
       "\"\"\"\n",
       "                               SARIMAX Results                                \n",
       "==============================================================================\n",
       "Dep. Variable:           Market_value   No. Observations:                 4045\n",
       "Model:                 ARIMA(2, 0, 0)   Log Likelihood              -29346.499\n",
       "Date:                Sun, 07 Sep 2025   AIC                          58700.997\n",
       "Time:                        14:24:46   BIC                          58726.218\n",
       "Sample:                    01-04-2010   HQIC                         58709.932\n",
       "                         - 07-04-2025                                         \n",
       "Covariance Type:                  opg                                         \n",
       "==============================================================================\n",
       "                 coef    std err          z      P>|z|      [0.025      0.975]\n",
       "------------------------------------------------------------------------------\n",
       "const       2.508e+04      0.519   4.84e+04      0.000    2.51e+04    2.51e+04\n",
       "ar.L1          1.0093      0.008    131.802      0.000       0.994       1.024\n",
       "ar.L2         -0.0094      0.008     -1.235      0.217      -0.024       0.006\n",
       "sigma2       1.17e+05    976.446    119.795      0.000    1.15e+05    1.19e+05\n",
       "===================================================================================\n",
       "Ljung-Box (L1) (Q):                   0.00   Jarque-Bera (JB):             35680.81\n",
       "Prob(Q):                              0.94   Prob(JB):                         0.00\n",
       "Heteroskedasticity (H):               7.00   Skew:                            -0.56\n",
       "Prob(H) (two-sided):                  0.00   Kurtosis:                        17.51\n",
       "===================================================================================\n",
       "\n",
       "Warnings:\n",
       "[1] Covariance matrix calculated using the outer product of gradients (complex-step).\n",
       "[2] Covariance matrix is singular or near-singular, with condition number 9.53e+18. Standard errors may be unstable.\n",
       "\"\"\""
      ]
     },
     "execution_count": 28,
     "metadata": {},
     "output_type": "execute_result"
    }
   ],
   "source": [
    "model_ar2 = ARIMA(df.Market_value, order=(2,0,0))\n",
    "result_ar2=model_ar2.fit()\n",
    "result_ar2.summary()"
   ]
  },
  {
   "cell_type": "code",
   "execution_count": 29,
   "id": "99260b23",
   "metadata": {},
   "outputs": [
    {
     "name": "stderr",
     "output_type": "stream",
     "text": [
      "e:\\anaconda\\Lib\\site-packages\\statsmodels\\tsa\\statespace\\sarimax.py:966: UserWarning: Non-stationary starting autoregressive parameters found. Using zeros as starting parameters.\n",
      "  warn('Non-stationary starting autoregressive parameters'\n"
     ]
    },
    {
     "data": {
      "text/html": [
       "<table class=\"simpletable\">\n",
       "<caption>SARIMAX Results</caption>\n",
       "<tr>\n",
       "  <th>Dep. Variable:</th>     <td>Market_value</td>   <th>  No. Observations:  </th>    <td>4045</td>   \n",
       "</tr>\n",
       "<tr>\n",
       "  <th>Model:</th>            <td>ARIMA(3, 0, 0)</td>  <th>  Log Likelihood     </th> <td>-29346.175</td>\n",
       "</tr>\n",
       "<tr>\n",
       "  <th>Date:</th>            <td>Sun, 07 Sep 2025</td> <th>  AIC                </th>  <td>58702.350</td>\n",
       "</tr>\n",
       "<tr>\n",
       "  <th>Time:</th>                <td>14:24:49</td>     <th>  BIC                </th>  <td>58733.876</td>\n",
       "</tr>\n",
       "<tr>\n",
       "  <th>Sample:</th>             <td>01-04-2010</td>    <th>  HQIC               </th>  <td>58713.519</td>\n",
       "</tr>\n",
       "<tr>\n",
       "  <th></th>                   <td>- 07-04-2025</td>   <th>                     </th>      <td> </td>    \n",
       "</tr>\n",
       "<tr>\n",
       "  <th>Covariance Type:</th>        <td>opg</td>       <th>                     </th>      <td> </td>    \n",
       "</tr>\n",
       "</table>\n",
       "<table class=\"simpletable\">\n",
       "<tr>\n",
       "     <td></td>       <th>coef</th>     <th>std err</th>      <th>z</th>      <th>P>|z|</th>  <th>[0.025</th>    <th>0.975]</th>  \n",
       "</tr>\n",
       "<tr>\n",
       "  <th>const</th>  <td> 2.508e+04</td> <td>    0.506</td> <td> 4.95e+04</td> <td> 0.000</td> <td> 2.51e+04</td> <td> 2.51e+04</td>\n",
       "</tr>\n",
       "<tr>\n",
       "  <th>ar.L1</th>  <td>    1.0092</td> <td>    0.008</td> <td>  129.954</td> <td> 0.000</td> <td>    0.994</td> <td>    1.024</td>\n",
       "</tr>\n",
       "<tr>\n",
       "  <th>ar.L2</th>  <td>    0.0021</td> <td>    0.011</td> <td>    0.189</td> <td> 0.850</td> <td>   -0.020</td> <td>    0.024</td>\n",
       "</tr>\n",
       "<tr>\n",
       "  <th>ar.L3</th>  <td>   -0.0114</td> <td>    0.009</td> <td>   -1.227</td> <td> 0.220</td> <td>   -0.030</td> <td>    0.007</td>\n",
       "</tr>\n",
       "<tr>\n",
       "  <th>sigma2</th> <td>  1.17e+05</td> <td>  974.710</td> <td>  120.033</td> <td> 0.000</td> <td> 1.15e+05</td> <td> 1.19e+05</td>\n",
       "</tr>\n",
       "</table>\n",
       "<table class=\"simpletable\">\n",
       "<tr>\n",
       "  <th>Ljung-Box (L1) (Q):</th>     <td>0.00</td> <th>  Jarque-Bera (JB):  </th> <td>35635.43</td>\n",
       "</tr>\n",
       "<tr>\n",
       "  <th>Prob(Q):</th>                <td>0.95</td> <th>  Prob(JB):          </th>   <td>0.00</td>  \n",
       "</tr>\n",
       "<tr>\n",
       "  <th>Heteroskedasticity (H):</th> <td>7.00</td> <th>  Skew:              </th>   <td>-0.56</td> \n",
       "</tr>\n",
       "<tr>\n",
       "  <th>Prob(H) (two-sided):</th>    <td>0.00</td> <th>  Kurtosis:          </th>   <td>17.50</td> \n",
       "</tr>\n",
       "</table><br/><br/>Warnings:<br/>[1] Covariance matrix calculated using the outer product of gradients (complex-step).<br/>[2] Covariance matrix is singular or near-singular, with condition number 3.73e+18. Standard errors may be unstable."
      ],
      "text/latex": [
       "\\begin{center}\n",
       "\\begin{tabular}{lclc}\n",
       "\\toprule\n",
       "\\textbf{Dep. Variable:}          &  Market\\_value   & \\textbf{  No. Observations:  } &    4045     \\\\\n",
       "\\textbf{Model:}                  &  ARIMA(3, 0, 0)  & \\textbf{  Log Likelihood     } & -29346.175  \\\\\n",
       "\\textbf{Date:}                   & Sun, 07 Sep 2025 & \\textbf{  AIC                } & 58702.350   \\\\\n",
       "\\textbf{Time:}                   &     14:24:49     & \\textbf{  BIC                } & 58733.876   \\\\\n",
       "\\textbf{Sample:}                 &    01-04-2010    & \\textbf{  HQIC               } & 58713.519   \\\\\n",
       "\\textbf{}                        &   - 07-04-2025   & \\textbf{                     } &             \\\\\n",
       "\\textbf{Covariance Type:}        &       opg        & \\textbf{                     } &             \\\\\n",
       "\\bottomrule\n",
       "\\end{tabular}\n",
       "\\begin{tabular}{lcccccc}\n",
       "                & \\textbf{coef} & \\textbf{std err} & \\textbf{z} & \\textbf{P$> |$z$|$} & \\textbf{[0.025} & \\textbf{0.975]}  \\\\\n",
       "\\midrule\n",
       "\\textbf{const}  &    2.508e+04  &        0.506     &  4.95e+04  &         0.000        &     2.51e+04    &     2.51e+04     \\\\\n",
       "\\textbf{ar.L1}  &       1.0092  &        0.008     &   129.954  &         0.000        &        0.994    &        1.024     \\\\\n",
       "\\textbf{ar.L2}  &       0.0021  &        0.011     &     0.189  &         0.850        &       -0.020    &        0.024     \\\\\n",
       "\\textbf{ar.L3}  &      -0.0114  &        0.009     &    -1.227  &         0.220        &       -0.030    &        0.007     \\\\\n",
       "\\textbf{sigma2} &     1.17e+05  &      974.710     &   120.033  &         0.000        &     1.15e+05    &     1.19e+05     \\\\\n",
       "\\bottomrule\n",
       "\\end{tabular}\n",
       "\\begin{tabular}{lclc}\n",
       "\\textbf{Ljung-Box (L1) (Q):}     & 0.00 & \\textbf{  Jarque-Bera (JB):  } & 35635.43  \\\\\n",
       "\\textbf{Prob(Q):}                & 0.95 & \\textbf{  Prob(JB):          } &   0.00    \\\\\n",
       "\\textbf{Heteroskedasticity (H):} & 7.00 & \\textbf{  Skew:              } &  -0.56    \\\\\n",
       "\\textbf{Prob(H) (two-sided):}    & 0.00 & \\textbf{  Kurtosis:          } &  17.50    \\\\\n",
       "\\bottomrule\n",
       "\\end{tabular}\n",
       "%\\caption{SARIMAX Results}\n",
       "\\end{center}\n",
       "\n",
       "Warnings: \\newline\n",
       " [1] Covariance matrix calculated using the outer product of gradients (complex-step). \\newline\n",
       " [2] Covariance matrix is singular or near-singular, with condition number 3.73e+18. Standard errors may be unstable."
      ],
      "text/plain": [
       "<class 'statsmodels.iolib.summary.Summary'>\n",
       "\"\"\"\n",
       "                               SARIMAX Results                                \n",
       "==============================================================================\n",
       "Dep. Variable:           Market_value   No. Observations:                 4045\n",
       "Model:                 ARIMA(3, 0, 0)   Log Likelihood              -29346.175\n",
       "Date:                Sun, 07 Sep 2025   AIC                          58702.350\n",
       "Time:                        14:24:49   BIC                          58733.876\n",
       "Sample:                    01-04-2010   HQIC                         58713.519\n",
       "                         - 07-04-2025                                         \n",
       "Covariance Type:                  opg                                         \n",
       "==============================================================================\n",
       "                 coef    std err          z      P>|z|      [0.025      0.975]\n",
       "------------------------------------------------------------------------------\n",
       "const       2.508e+04      0.506   4.95e+04      0.000    2.51e+04    2.51e+04\n",
       "ar.L1          1.0092      0.008    129.954      0.000       0.994       1.024\n",
       "ar.L2          0.0021      0.011      0.189      0.850      -0.020       0.024\n",
       "ar.L3         -0.0114      0.009     -1.227      0.220      -0.030       0.007\n",
       "sigma2       1.17e+05    974.710    120.033      0.000    1.15e+05    1.19e+05\n",
       "===================================================================================\n",
       "Ljung-Box (L1) (Q):                   0.00   Jarque-Bera (JB):             35635.43\n",
       "Prob(Q):                              0.95   Prob(JB):                         0.00\n",
       "Heteroskedasticity (H):               7.00   Skew:                            -0.56\n",
       "Prob(H) (two-sided):                  0.00   Kurtosis:                        17.50\n",
       "===================================================================================\n",
       "\n",
       "Warnings:\n",
       "[1] Covariance matrix calculated using the outer product of gradients (complex-step).\n",
       "[2] Covariance matrix is singular or near-singular, with condition number 3.73e+18. Standard errors may be unstable.\n",
       "\"\"\""
      ]
     },
     "execution_count": 29,
     "metadata": {},
     "output_type": "execute_result"
    }
   ],
   "source": [
    "model_ar3 = ARIMA(df.Market_value, order=(3,0,0))\n",
    "result_ar3=model_ar3.fit()\n",
    "result_ar3.summary()"
   ]
  },
  {
   "cell_type": "markdown",
   "id": "256d6f01",
   "metadata": {},
   "source": [
    "We stopped here only because p>z value is way more than our significance value so we will use ar1 model I  didnt stopped on ar2 model because I wanted to see can next model will be better than the previous one"
   ]
  },
  {
   "cell_type": "markdown",
   "id": "ecefc488",
   "metadata": {},
   "source": [
    "## Performing LLR Test on All three model"
   ]
  },
  {
   "cell_type": "code",
   "execution_count": 30,
   "id": "35a59b0b",
   "metadata": {},
   "outputs": [
    {
     "name": "stderr",
     "output_type": "stream",
     "text": [
      "e:\\anaconda\\Lib\\site-packages\\statsmodels\\tsa\\statespace\\sarimax.py:966: UserWarning: Non-stationary starting autoregressive parameters found. Using zeros as starting parameters.\n",
      "  warn('Non-stationary starting autoregressive parameters'\n",
      "e:\\anaconda\\Lib\\site-packages\\statsmodels\\tsa\\statespace\\sarimax.py:966: UserWarning: Non-stationary starting autoregressive parameters found. Using zeros as starting parameters.\n",
      "  warn('Non-stationary starting autoregressive parameters'\n"
     ]
    },
    {
     "data": {
      "text/plain": [
       "np.float64(0.486)"
      ]
     },
     "execution_count": 30,
     "metadata": {},
     "output_type": "execute_result"
    }
   ],
   "source": [
    "LLR_test(model_ar1,model_ar2)"
   ]
  },
  {
   "cell_type": "code",
   "execution_count": 31,
   "id": "3d6fdd80",
   "metadata": {},
   "outputs": [
    {
     "name": "stderr",
     "output_type": "stream",
     "text": [
      "e:\\anaconda\\Lib\\site-packages\\statsmodels\\tsa\\statespace\\sarimax.py:966: UserWarning: Non-stationary starting autoregressive parameters found. Using zeros as starting parameters.\n",
      "  warn('Non-stationary starting autoregressive parameters'\n",
      "e:\\anaconda\\Lib\\site-packages\\statsmodels\\tsa\\statespace\\sarimax.py:966: UserWarning: Non-stationary starting autoregressive parameters found. Using zeros as starting parameters.\n",
      "  warn('Non-stationary starting autoregressive parameters'\n"
     ]
    },
    {
     "data": {
      "text/plain": [
       "np.float64(0.421)"
      ]
     },
     "execution_count": 31,
     "metadata": {},
     "output_type": "execute_result"
    }
   ],
   "source": [
    "LLR_test(model_ar2,model_ar3)"
   ]
  },
  {
   "cell_type": "markdown",
   "id": "8dc53e28",
   "metadata": {},
   "source": [
    "As this both values are more than our significance value of 5% so we will use ar1 model"
   ]
  },
  {
   "cell_type": "markdown",
   "id": "4a2461cd",
   "metadata": {},
   "source": [
    "## Analysing the residuals"
   ]
  },
  {
   "cell_type": "code",
   "execution_count": 32,
   "id": "3acb6564",
   "metadata": {},
   "outputs": [],
   "source": [
    "df['res_price']=result_ar1.resid"
   ]
  },
  {
   "cell_type": "code",
   "execution_count": 33,
   "id": "46ce37b5",
   "metadata": {},
   "outputs": [
    {
     "data": {
      "text/plain": [
       "np.float64(7.898344382239234)"
      ]
     },
     "execution_count": 33,
     "metadata": {},
     "output_type": "execute_result"
    }
   ],
   "source": [
    "## Residual Mean\n",
    "df.res_price.mean()"
   ]
  },
  {
   "cell_type": "code",
   "execution_count": 34,
   "id": "d5d285f2",
   "metadata": {},
   "outputs": [
    {
     "data": {
      "text/plain": [
       "180006.9917221044"
      ]
     },
     "execution_count": 34,
     "metadata": {},
     "output_type": "execute_result"
    }
   ],
   "source": [
    "## Residual Variance\n",
    "df.res_price.var()"
   ]
  },
  {
   "cell_type": "code",
   "execution_count": 35,
   "id": "d6661d66",
   "metadata": {},
   "outputs": [
    {
     "data": {
      "text/plain": [
       "(np.float64(-25.856300904513553),\n",
       " 0.0,\n",
       " 5,\n",
       " 4039,\n",
       " {'1%': np.float64(-3.4319700695341306),\n",
       "  '5%': np.float64(-2.862255858067265),\n",
       "  '10%': np.float64(-2.567151058546466)},\n",
       " np.float64(58217.953936039354))"
      ]
     },
     "execution_count": 35,
     "metadata": {},
     "output_type": "execute_result"
    }
   ],
   "source": [
    "## Dicky Fuller Test\n",
    "sts.adfuller(df.res_price)"
   ]
  },
  {
   "cell_type": "code",
   "execution_count": 37,
   "id": "9ee4bd00",
   "metadata": {},
   "outputs": [
    {
     "data": {
      "text/plain": [
       "Text(0.5, 1.0, 'ACF of Residuals FOR Price')"
      ]
     },
     "execution_count": 37,
     "metadata": {},
     "output_type": "execute_result"
    },
    {
     "data": {
      "image/png": "[encoded data removed]",
      "text/plain": [
       "<Figure size 640x480 with 1 Axes>"
      ]
     },
     "metadata": {},
     "output_type": "display_data"
    }
   ],
   "source": [
    "## Ploting ACF for Residuals\n",
    "sgt.plot_acf(df.res_price,lags=40,zero=False)\n",
    "plt.ylim(-0.08,0.08)\n",
    "plt.title(\"ACF of Residuals FOR Price\",size=24)"
   ]
  },
  {
   "cell_type": "code",
   "execution_count": 39,
   "id": "17baf987",
   "metadata": {},
   "outputs": [
    {
     "data": {
      "text/plain": [
       "Text(0.5, 1.0, 'PACF of Residuals FOR Price')"
      ]
     },
     "execution_count": 39,
     "metadata": {},
     "output_type": "execute_result"
    },
    {
     "data": {
      "image/png": "[encoded data removed]",
      "text/plain": [
       "<Figure size 640x480 with 1 Axes>"
      ]
     },
     "metadata": {},
     "output_type": "display_data"
    }
   ],
   "source": [
    "## Ploting PACF for Residuals\n",
    "sgt.plot_pacf(df.res_price,lags=40,zero=False)\n",
    "plt.ylim(-0.08,0.08)\n",
    "plt.title(\"PACF of Residuals FOR Price\",size=24)"
   ]
  },
  {
   "cell_type": "markdown",
   "id": "7fb3de4c",
   "metadata": {},
   "source": [
    "## Now calculating The same Things for returns"
   ]
  },
  {
   "cell_type": "code",
   "execution_count": 42,
   "id": "3ad53e42",
   "metadata": {},
   "outputs": [
    {
     "name": "stderr",
     "output_type": "stream",
     "text": [
      "C:\\Users\\swana\\AppData\\Local\\Temp\\ipykernel_3900\\4159919054.py:2: SettingWithCopyWarning: \n",
      "A value is trying to be set on a copy of a slice from a DataFrame.\n",
      "Try using .loc[row_indexer,col_indexer] = value instead\n",
      "\n",
      "See the caveats in the documentation: https://pandas.pydata.org/pandas-docs/stable/user_guide/indexing.html#returning-a-view-versus-a-copy\n",
      "  df['returns']=df.Market_value.pct_change(1)*100\n"
     ]
    },
    {
     "data": {
      "text/html": [
       "<div>\n",
       "<style scoped>\n",
       "    .dataframe tbody tr th:only-of-type {\n",
       "        vertical-align: middle;\n",
       "    }\n",
       "\n",
       "    .dataframe tbody tr th {\n",
       "        vertical-align: top;\n",
       "    }\n",
       "\n",
       "    .dataframe thead th {\n",
       "        text-align: right;\n",
       "    }\n",
       "</style>\n",
       "<table border=\"1\" class=\"dataframe\">\n",
       "  <thead>\n",
       "    <tr style=\"text-align: right;\">\n",
       "      <th></th>\n",
       "      <th>Market_value</th>\n",
       "      <th>res_price</th>\n",
       "      <th>returns</th>\n",
       "    </tr>\n",
       "    <tr>\n",
       "      <th>Date</th>\n",
       "      <th></th>\n",
       "      <th></th>\n",
       "      <th></th>\n",
       "    </tr>\n",
       "  </thead>\n",
       "  <tbody>\n",
       "    <tr>\n",
       "      <th>2010-01-06</th>\n",
       "      <td>9222.892578</td>\n",
       "      <td>27.508321</td>\n",
       "      <td>0.335601</td>\n",
       "    </tr>\n",
       "    <tr>\n",
       "      <th>2010-01-07</th>\n",
       "      <td>9192.843750</td>\n",
       "      <td>-33.382652</td>\n",
       "      <td>-0.325807</td>\n",
       "    </tr>\n",
       "    <tr>\n",
       "      <th>2010-01-08</th>\n",
       "      <td>9160.593750</td>\n",
       "      <td>-35.590143</td>\n",
       "      <td>-0.350816</td>\n",
       "    </tr>\n",
       "    <tr>\n",
       "      <th>2010-01-11</th>\n",
       "      <td>9173.443359</td>\n",
       "      <td>9.502684</td>\n",
       "      <td>0.140270</td>\n",
       "    </tr>\n",
       "    <tr>\n",
       "      <th>2010-01-12</th>\n",
       "      <td>8984.995117</td>\n",
       "      <td>-191.792465</td>\n",
       "      <td>-2.054280</td>\n",
       "    </tr>\n",
       "  </tbody>\n",
       "</table>\n",
       "</div>"
      ],
      "text/plain": [
       "            Market_value   res_price   returns\n",
       "Date                                          \n",
       "2010-01-06   9222.892578   27.508321  0.335601\n",
       "2010-01-07   9192.843750  -33.382652 -0.325807\n",
       "2010-01-08   9160.593750  -35.590143 -0.350816\n",
       "2010-01-11   9173.443359    9.502684  0.140270\n",
       "2010-01-12   8984.995117 -191.792465 -2.054280"
      ]
     },
     "execution_count": 42,
     "metadata": {},
     "output_type": "execute_result"
    }
   ],
   "source": [
    "## Adding Returns to the dataframe\n",
    "df['returns']=df.Market_value.pct_change(1)*100\n",
    "df=df.iloc[1:]\n",
    "df.head()"
   ]
  },
  {
   "cell_type": "code",
   "execution_count": 43,
   "id": "78c0e778",
   "metadata": {},
   "outputs": [
    {
     "data": {
      "text/plain": [
       "(np.float64(-18.80624308728291),\n",
       " np.float64(2.0226197635110018e-30),\n",
       " 10,\n",
       " 4032,\n",
       " {'1%': np.float64(-3.4319728839485406),\n",
       "  '5%': np.float64(-2.8622571013298965),\n",
       "  '10%': np.float64(-2.5671517204059)},\n",
       " np.float64(14295.150885383808))"
      ]
     },
     "execution_count": 43,
     "metadata": {},
     "output_type": "execute_result"
    }
   ],
   "source": [
    "## Running Dicky Fuller test for Returns\n",
    "sts.adfuller(df.returns)"
   ]
  },
  {
   "cell_type": "markdown",
   "id": "fd611507",
   "metadata": {},
   "source": [
    "## Ploting PACF and ACF for Returns"
   ]
  },
  {
   "cell_type": "code",
   "execution_count": 44,
   "id": "aa9c3eaf",
   "metadata": {},
   "outputs": [
    {
     "data": {
      "text/plain": [
       "(-0.1, 0.1)"
      ]
     },
     "execution_count": 44,
     "metadata": {},
     "output_type": "execute_result"
    },
    {
     "data": {
      "image/png": "[encoded data removed]",
      "text/plain": [
       "<Figure size 640x480 with 1 Axes>"
      ]
     },
     "metadata": {},
     "output_type": "display_data"
    }
   ],
   "source": [
    "sgt.plot_acf(df.returns,lags=40,zero=False)\n",
    "plt.title(\"ACF of Bank Nifty Returns\",size=24)\n",
    "plt.ylim(-0.1,0.1)"
   ]
  },
  {
   "cell_type": "code",
   "execution_count": 45,
   "id": "8618b57a",
   "metadata": {},
   "outputs": [
    {
     "data": {
      "text/plain": [
       "(-0.1, 0.1)"
      ]
     },
     "execution_count": 45,
     "metadata": {},
     "output_type": "execute_result"
    },
    {
     "data": {
      "image/png": "[encoded data removed]",
      "text/plain": [
       "<Figure size 640x480 with 1 Axes>"
      ]
     },
     "metadata": {},
     "output_type": "display_data"
    }
   ],
   "source": [
    "sgt.plot_pacf(df.returns,lags=40,zero=False)\n",
    "plt.title(\"PACF of Bank Nifty Returns\",size=24)\n",
    "plt.ylim(-0.1,0.1)"
   ]
  },
  {
   "cell_type": "markdown",
   "id": "1dee79d3",
   "metadata": {},
   "source": [
    "## AR Models for Returns"
   ]
  },
  {
   "cell_type": "code",
   "execution_count": 46,
   "id": "618d0106",
   "metadata": {},
   "outputs": [
    {
     "data": {
      "text/html": [
       "<table class=\"simpletable\">\n",
       "<caption>SARIMAX Results</caption>\n",
       "<tr>\n",
       "  <th>Dep. Variable:</th>        <td>returns</td>     <th>  No. Observations:  </th>   <td>4043</td>   \n",
       "</tr>\n",
       "<tr>\n",
       "  <th>Model:</th>            <td>ARIMA(1, 0, 0)</td>  <th>  Log Likelihood     </th> <td>-7213.324</td>\n",
       "</tr>\n",
       "<tr>\n",
       "  <th>Date:</th>            <td>Sun, 07 Sep 2025</td> <th>  AIC                </th> <td>14432.649</td>\n",
       "</tr>\n",
       "<tr>\n",
       "  <th>Time:</th>                <td>14:32:15</td>     <th>  BIC                </th> <td>14451.563</td>\n",
       "</tr>\n",
       "<tr>\n",
       "  <th>Sample:</th>             <td>01-06-2010</td>    <th>  HQIC               </th> <td>14439.350</td>\n",
       "</tr>\n",
       "<tr>\n",
       "  <th></th>                   <td>- 07-04-2025</td>   <th>                     </th>     <td> </td>    \n",
       "</tr>\n",
       "<tr>\n",
       "  <th>Covariance Type:</th>        <td>opg</td>       <th>                     </th>     <td> </td>    \n",
       "</tr>\n",
       "</table>\n",
       "<table class=\"simpletable\">\n",
       "<tr>\n",
       "     <td></td>       <th>coef</th>     <th>std err</th>      <th>z</th>      <th>P>|z|</th>  <th>[0.025</th>    <th>0.975]</th>  \n",
       "</tr>\n",
       "<tr>\n",
       "  <th>const</th>  <td>    0.0555</td> <td>    0.024</td> <td>    2.343</td> <td> 0.019</td> <td>    0.009</td> <td>    0.102</td>\n",
       "</tr>\n",
       "<tr>\n",
       "  <th>ar.L1</th>  <td>    0.0429</td> <td>    0.011</td> <td>    3.775</td> <td> 0.000</td> <td>    0.021</td> <td>    0.065</td>\n",
       "</tr>\n",
       "<tr>\n",
       "  <th>sigma2</th> <td>    2.0759</td> <td>    0.015</td> <td>  140.566</td> <td> 0.000</td> <td>    2.047</td> <td>    2.105</td>\n",
       "</tr>\n",
       "</table>\n",
       "<table class=\"simpletable\">\n",
       "<tr>\n",
       "  <th>Ljung-Box (L1) (Q):</th>     <td>0.00</td> <th>  Jarque-Bera (JB):  </th> <td>52613.53</td>\n",
       "</tr>\n",
       "<tr>\n",
       "  <th>Prob(Q):</th>                <td>0.98</td> <th>  Prob(JB):          </th>   <td>0.00</td>  \n",
       "</tr>\n",
       "<tr>\n",
       "  <th>Heteroskedasticity (H):</th> <td>0.69</td> <th>  Skew:              </th>   <td>0.24</td>  \n",
       "</tr>\n",
       "<tr>\n",
       "  <th>Prob(H) (two-sided):</th>    <td>0.00</td> <th>  Kurtosis:          </th>   <td>20.67</td> \n",
       "</tr>\n",
       "</table><br/><br/>Warnings:<br/>[1] Covariance matrix calculated using the outer product of gradients (complex-step)."
      ],
      "text/latex": [
       "\\begin{center}\n",
       "\\begin{tabular}{lclc}\n",
       "\\toprule\n",
       "\\textbf{Dep. Variable:}          &     returns      & \\textbf{  No. Observations:  } &    4043     \\\\\n",
       "\\textbf{Model:}                  &  ARIMA(1, 0, 0)  & \\textbf{  Log Likelihood     } & -7213.324   \\\\\n",
       "\\textbf{Date:}                   & Sun, 07 Sep 2025 & \\textbf{  AIC                } & 14432.649   \\\\\n",
       "\\textbf{Time:}                   &     14:32:15     & \\textbf{  BIC                } & 14451.563   \\\\\n",
       "\\textbf{Sample:}                 &    01-06-2010    & \\textbf{  HQIC               } & 14439.350   \\\\\n",
       "\\textbf{}                        &   - 07-04-2025   & \\textbf{                     } &             \\\\\n",
       "\\textbf{Covariance Type:}        &       opg        & \\textbf{                     } &             \\\\\n",
       "\\bottomrule\n",
       "\\end{tabular}\n",
       "\\begin{tabular}{lcccccc}\n",
       "                & \\textbf{coef} & \\textbf{std err} & \\textbf{z} & \\textbf{P$> |$z$|$} & \\textbf{[0.025} & \\textbf{0.975]}  \\\\\n",
       "\\midrule\n",
       "\\textbf{const}  &       0.0555  &        0.024     &     2.343  &         0.019        &        0.009    &        0.102     \\\\\n",
       "\\textbf{ar.L1}  &       0.0429  &        0.011     &     3.775  &         0.000        &        0.021    &        0.065     \\\\\n",
       "\\textbf{sigma2} &       2.0759  &        0.015     &   140.566  &         0.000        &        2.047    &        2.105     \\\\\n",
       "\\bottomrule\n",
       "\\end{tabular}\n",
       "\\begin{tabular}{lclc}\n",
       "\\textbf{Ljung-Box (L1) (Q):}     & 0.00 & \\textbf{  Jarque-Bera (JB):  } & 52613.53  \\\\\n",
       "\\textbf{Prob(Q):}                & 0.98 & \\textbf{  Prob(JB):          } &   0.00    \\\\\n",
       "\\textbf{Heteroskedasticity (H):} & 0.69 & \\textbf{  Skew:              } &   0.24    \\\\\n",
       "\\textbf{Prob(H) (two-sided):}    & 0.00 & \\textbf{  Kurtosis:          } &  20.67    \\\\\n",
       "\\bottomrule\n",
       "\\end{tabular}\n",
       "%\\caption{SARIMAX Results}\n",
       "\\end{center}\n",
       "\n",
       "Warnings: \\newline\n",
       " [1] Covariance matrix calculated using the outer product of gradients (complex-step)."
      ],
      "text/plain": [
       "<class 'statsmodels.iolib.summary.Summary'>\n",
       "\"\"\"\n",
       "                               SARIMAX Results                                \n",
       "==============================================================================\n",
       "Dep. Variable:                returns   No. Observations:                 4043\n",
       "Model:                 ARIMA(1, 0, 0)   Log Likelihood               -7213.324\n",
       "Date:                Sun, 07 Sep 2025   AIC                          14432.649\n",
       "Time:                        14:32:15   BIC                          14451.563\n",
       "Sample:                    01-06-2010   HQIC                         14439.350\n",
       "                         - 07-04-2025                                         \n",
       "Covariance Type:                  opg                                         \n",
       "==============================================================================\n",
       "                 coef    std err          z      P>|z|      [0.025      0.975]\n",
       "------------------------------------------------------------------------------\n",
       "const          0.0555      0.024      2.343      0.019       0.009       0.102\n",
       "ar.L1          0.0429      0.011      3.775      0.000       0.021       0.065\n",
       "sigma2         2.0759      0.015    140.566      0.000       2.047       2.105\n",
       "===================================================================================\n",
       "Ljung-Box (L1) (Q):                   0.00   Jarque-Bera (JB):             52613.53\n",
       "Prob(Q):                              0.98   Prob(JB):                         0.00\n",
       "Heteroskedasticity (H):               0.69   Skew:                             0.24\n",
       "Prob(H) (two-sided):                  0.00   Kurtosis:                        20.67\n",
       "===================================================================================\n",
       "\n",
       "Warnings:\n",
       "[1] Covariance matrix calculated using the outer product of gradients (complex-step).\n",
       "\"\"\""
      ]
     },
     "execution_count": 46,
     "metadata": {},
     "output_type": "execute_result"
    }
   ],
   "source": [
    "model_ret_ar1=ARIMA(df.returns, order=(1,0,0))\n",
    "results_ret_ar1 = model_ret_ar1.fit()\n",
    "results_ret_ar1.summary()"
   ]
  },
  {
   "cell_type": "code",
   "execution_count": 48,
   "id": "ed389f70",
   "metadata": {},
   "outputs": [
    {
     "data": {
      "text/html": [
       "<table class=\"simpletable\">\n",
       "<caption>SARIMAX Results</caption>\n",
       "<tr>\n",
       "  <th>Dep. Variable:</th>        <td>returns</td>     <th>  No. Observations:  </th>   <td>4043</td>   \n",
       "</tr>\n",
       "<tr>\n",
       "  <th>Model:</th>            <td>ARIMA(2, 0, 0)</td>  <th>  Log Likelihood     </th> <td>-7213.119</td>\n",
       "</tr>\n",
       "<tr>\n",
       "  <th>Date:</th>            <td>Sun, 07 Sep 2025</td> <th>  AIC                </th> <td>14434.237</td>\n",
       "</tr>\n",
       "<tr>\n",
       "  <th>Time:</th>                <td>14:33:00</td>     <th>  BIC                </th> <td>14459.456</td>\n",
       "</tr>\n",
       "<tr>\n",
       "  <th>Sample:</th>             <td>01-06-2010</td>    <th>  HQIC               </th> <td>14443.172</td>\n",
       "</tr>\n",
       "<tr>\n",
       "  <th></th>                   <td>- 07-04-2025</td>   <th>                     </th>     <td> </td>    \n",
       "</tr>\n",
       "<tr>\n",
       "  <th>Covariance Type:</th>        <td>opg</td>       <th>                     </th>     <td> </td>    \n",
       "</tr>\n",
       "</table>\n",
       "<table class=\"simpletable\">\n",
       "<tr>\n",
       "     <td></td>       <th>coef</th>     <th>std err</th>      <th>z</th>      <th>P>|z|</th>  <th>[0.025</th>    <th>0.975]</th>  \n",
       "</tr>\n",
       "<tr>\n",
       "  <th>const</th>  <td>    0.0555</td> <td>    0.024</td> <td>    2.330</td> <td> 0.020</td> <td>    0.009</td> <td>    0.102</td>\n",
       "</tr>\n",
       "<tr>\n",
       "  <th>ar.L1</th>  <td>    0.0433</td> <td>    0.011</td> <td>    3.797</td> <td> 0.000</td> <td>    0.021</td> <td>    0.066</td>\n",
       "</tr>\n",
       "<tr>\n",
       "  <th>ar.L2</th>  <td>   -0.0101</td> <td>    0.009</td> <td>   -1.152</td> <td> 0.249</td> <td>   -0.027</td> <td>    0.007</td>\n",
       "</tr>\n",
       "<tr>\n",
       "  <th>sigma2</th> <td>    2.0757</td> <td>    0.015</td> <td>  140.580</td> <td> 0.000</td> <td>    2.047</td> <td>    2.105</td>\n",
       "</tr>\n",
       "</table>\n",
       "<table class=\"simpletable\">\n",
       "<tr>\n",
       "  <th>Ljung-Box (L1) (Q):</th>     <td>0.00</td> <th>  Jarque-Bera (JB):  </th> <td>52639.14</td>\n",
       "</tr>\n",
       "<tr>\n",
       "  <th>Prob(Q):</th>                <td>1.00</td> <th>  Prob(JB):          </th>   <td>0.00</td>  \n",
       "</tr>\n",
       "<tr>\n",
       "  <th>Heteroskedasticity (H):</th> <td>0.69</td> <th>  Skew:              </th>   <td>0.23</td>  \n",
       "</tr>\n",
       "<tr>\n",
       "  <th>Prob(H) (two-sided):</th>    <td>0.00</td> <th>  Kurtosis:          </th>   <td>20.67</td> \n",
       "</tr>\n",
       "</table><br/><br/>Warnings:<br/>[1] Covariance matrix calculated using the outer product of gradients (complex-step)."
      ],
      "text/latex": [
       "\\begin{center}\n",
       "\\begin{tabular}{lclc}\n",
       "\\toprule\n",
       "\\textbf{Dep. Variable:}          &     returns      & \\textbf{  No. Observations:  } &    4043     \\\\\n",
       "\\textbf{Model:}                  &  ARIMA(2, 0, 0)  & \\textbf{  Log Likelihood     } & -7213.119   \\\\\n",
       "\\textbf{Date:}                   & Sun, 07 Sep 2025 & \\textbf{  AIC                } & 14434.237   \\\\\n",
       "\\textbf{Time:}                   &     14:33:00     & \\textbf{  BIC                } & 14459.456   \\\\\n",
       "\\textbf{Sample:}                 &    01-06-2010    & \\textbf{  HQIC               } & 14443.172   \\\\\n",
       "\\textbf{}                        &   - 07-04-2025   & \\textbf{                     } &             \\\\\n",
       "\\textbf{Covariance Type:}        &       opg        & \\textbf{                     } &             \\\\\n",
       "\\bottomrule\n",
       "\\end{tabular}\n",
       "\\begin{tabular}{lcccccc}\n",
       "                & \\textbf{coef} & \\textbf{std err} & \\textbf{z} & \\textbf{P$> |$z$|$} & \\textbf{[0.025} & \\textbf{0.975]}  \\\\\n",
       "\\midrule\n",
       "\\textbf{const}  &       0.0555  &        0.024     &     2.330  &         0.020        &        0.009    &        0.102     \\\\\n",
       "\\textbf{ar.L1}  &       0.0433  &        0.011     &     3.797  &         0.000        &        0.021    &        0.066     \\\\\n",
       "\\textbf{ar.L2}  &      -0.0101  &        0.009     &    -1.152  &         0.249        &       -0.027    &        0.007     \\\\\n",
       "\\textbf{sigma2} &       2.0757  &        0.015     &   140.580  &         0.000        &        2.047    &        2.105     \\\\\n",
       "\\bottomrule\n",
       "\\end{tabular}\n",
       "\\begin{tabular}{lclc}\n",
       "\\textbf{Ljung-Box (L1) (Q):}     & 0.00 & \\textbf{  Jarque-Bera (JB):  } & 52639.14  \\\\\n",
       "\\textbf{Prob(Q):}                & 1.00 & \\textbf{  Prob(JB):          } &   0.00    \\\\\n",
       "\\textbf{Heteroskedasticity (H):} & 0.69 & \\textbf{  Skew:              } &   0.23    \\\\\n",
       "\\textbf{Prob(H) (two-sided):}    & 0.00 & \\textbf{  Kurtosis:          } &  20.67    \\\\\n",
       "\\bottomrule\n",
       "\\end{tabular}\n",
       "%\\caption{SARIMAX Results}\n",
       "\\end{center}\n",
       "\n",
       "Warnings: \\newline\n",
       " [1] Covariance matrix calculated using the outer product of gradients (complex-step)."
      ],
      "text/plain": [
       "<class 'statsmodels.iolib.summary.Summary'>\n",
       "\"\"\"\n",
       "                               SARIMAX Results                                \n",
       "==============================================================================\n",
       "Dep. Variable:                returns   No. Observations:                 4043\n",
       "Model:                 ARIMA(2, 0, 0)   Log Likelihood               -7213.119\n",
       "Date:                Sun, 07 Sep 2025   AIC                          14434.237\n",
       "Time:                        14:33:00   BIC                          14459.456\n",
       "Sample:                    01-06-2010   HQIC                         14443.172\n",
       "                         - 07-04-2025                                         \n",
       "Covariance Type:                  opg                                         \n",
       "==============================================================================\n",
       "                 coef    std err          z      P>|z|      [0.025      0.975]\n",
       "------------------------------------------------------------------------------\n",
       "const          0.0555      0.024      2.330      0.020       0.009       0.102\n",
       "ar.L1          0.0433      0.011      3.797      0.000       0.021       0.066\n",
       "ar.L2         -0.0101      0.009     -1.152      0.249      -0.027       0.007\n",
       "sigma2         2.0757      0.015    140.580      0.000       2.047       2.105\n",
       "===================================================================================\n",
       "Ljung-Box (L1) (Q):                   0.00   Jarque-Bera (JB):             52639.14\n",
       "Prob(Q):                              1.00   Prob(JB):                         0.00\n",
       "Heteroskedasticity (H):               0.69   Skew:                             0.23\n",
       "Prob(H) (two-sided):                  0.00   Kurtosis:                        20.67\n",
       "===================================================================================\n",
       "\n",
       "Warnings:\n",
       "[1] Covariance matrix calculated using the outer product of gradients (complex-step).\n",
       "\"\"\""
      ]
     },
     "execution_count": 48,
     "metadata": {},
     "output_type": "execute_result"
    }
   ],
   "source": [
    "model_ret_ar2=ARIMA(df.returns, order=(2,0,0))\n",
    "results_ret_ar2 = model_ret_ar2.fit()\n",
    "results_ret_ar2.summary()"
   ]
  },
  {
   "cell_type": "code",
   "execution_count": 49,
   "id": "78565ed5",
   "metadata": {},
   "outputs": [
    {
     "data": {
      "text/html": [
       "<table class=\"simpletable\">\n",
       "<caption>SARIMAX Results</caption>\n",
       "<tr>\n",
       "  <th>Dep. Variable:</th>        <td>returns</td>     <th>  No. Observations:  </th>   <td>4043</td>   \n",
       "</tr>\n",
       "<tr>\n",
       "  <th>Model:</th>            <td>ARIMA(3, 0, 0)</td>  <th>  Log Likelihood     </th> <td>-7213.091</td>\n",
       "</tr>\n",
       "<tr>\n",
       "  <th>Date:</th>            <td>Sun, 07 Sep 2025</td> <th>  AIC                </th> <td>14436.181</td>\n",
       "</tr>\n",
       "<tr>\n",
       "  <th>Time:</th>                <td>14:33:13</td>     <th>  BIC                </th> <td>14467.705</td>\n",
       "</tr>\n",
       "<tr>\n",
       "  <th>Sample:</th>             <td>01-06-2010</td>    <th>  HQIC               </th> <td>14447.350</td>\n",
       "</tr>\n",
       "<tr>\n",
       "  <th></th>                   <td>- 07-04-2025</td>   <th>                     </th>     <td> </td>    \n",
       "</tr>\n",
       "<tr>\n",
       "  <th>Covariance Type:</th>        <td>opg</td>       <th>                     </th>     <td> </td>    \n",
       "</tr>\n",
       "</table>\n",
       "<table class=\"simpletable\">\n",
       "<tr>\n",
       "     <td></td>       <th>coef</th>     <th>std err</th>      <th>z</th>      <th>P>|z|</th>  <th>[0.025</th>    <th>0.975]</th>  \n",
       "</tr>\n",
       "<tr>\n",
       "  <th>const</th>  <td>    0.0555</td> <td>    0.024</td> <td>    2.307</td> <td> 0.021</td> <td>    0.008</td> <td>    0.103</td>\n",
       "</tr>\n",
       "<tr>\n",
       "  <th>ar.L1</th>  <td>    0.0433</td> <td>    0.012</td> <td>    3.759</td> <td> 0.000</td> <td>    0.021</td> <td>    0.066</td>\n",
       "</tr>\n",
       "<tr>\n",
       "  <th>ar.L2</th>  <td>   -0.0099</td> <td>    0.009</td> <td>   -1.133</td> <td> 0.257</td> <td>   -0.027</td> <td>    0.007</td>\n",
       "</tr>\n",
       "<tr>\n",
       "  <th>ar.L3</th>  <td>   -0.0037</td> <td>    0.010</td> <td>   -0.385</td> <td> 0.700</td> <td>   -0.023</td> <td>    0.015</td>\n",
       "</tr>\n",
       "<tr>\n",
       "  <th>sigma2</th> <td>    2.0757</td> <td>    0.015</td> <td>  137.821</td> <td> 0.000</td> <td>    2.046</td> <td>    2.105</td>\n",
       "</tr>\n",
       "</table>\n",
       "<table class=\"simpletable\">\n",
       "<tr>\n",
       "  <th>Ljung-Box (L1) (Q):</th>     <td>0.00</td> <th>  Jarque-Bera (JB):  </th> <td>52770.04</td>\n",
       "</tr>\n",
       "<tr>\n",
       "  <th>Prob(Q):</th>                <td>1.00</td> <th>  Prob(JB):          </th>   <td>0.00</td>  \n",
       "</tr>\n",
       "<tr>\n",
       "  <th>Heteroskedasticity (H):</th> <td>0.69</td> <th>  Skew:              </th>   <td>0.23</td>  \n",
       "</tr>\n",
       "<tr>\n",
       "  <th>Prob(H) (two-sided):</th>    <td>0.00</td> <th>  Kurtosis:          </th>   <td>20.69</td> \n",
       "</tr>\n",
       "</table><br/><br/>Warnings:<br/>[1] Covariance matrix calculated using the outer product of gradients (complex-step)."
      ],
      "text/latex": [
       "\\begin{center}\n",
       "\\begin{tabular}{lclc}\n",
       "\\toprule\n",
       "\\textbf{Dep. Variable:}          &     returns      & \\textbf{  No. Observations:  } &    4043     \\\\\n",
       "\\textbf{Model:}                  &  ARIMA(3, 0, 0)  & \\textbf{  Log Likelihood     } & -7213.091   \\\\\n",
       "\\textbf{Date:}                   & Sun, 07 Sep 2025 & \\textbf{  AIC                } & 14436.181   \\\\\n",
       "\\textbf{Time:}                   &     14:33:13     & \\textbf{  BIC                } & 14467.705   \\\\\n",
       "\\textbf{Sample:}                 &    01-06-2010    & \\textbf{  HQIC               } & 14447.350   \\\\\n",
       "\\textbf{}                        &   - 07-04-2025   & \\textbf{                     } &             \\\\\n",
       "\\textbf{Covariance Type:}        &       opg        & \\textbf{                     } &             \\\\\n",
       "\\bottomrule\n",
       "\\end{tabular}\n",
       "\\begin{tabular}{lcccccc}\n",
       "                & \\textbf{coef} & \\textbf{std err} & \\textbf{z} & \\textbf{P$> |$z$|$} & \\textbf{[0.025} & \\textbf{0.975]}  \\\\\n",
       "\\midrule\n",
       "\\textbf{const}  &       0.0555  &        0.024     &     2.307  &         0.021        &        0.008    &        0.103     \\\\\n",
       "\\textbf{ar.L1}  &       0.0433  &        0.012     &     3.759  &         0.000        &        0.021    &        0.066     \\\\\n",
       "\\textbf{ar.L2}  &      -0.0099  &        0.009     &    -1.133  &         0.257        &       -0.027    &        0.007     \\\\\n",
       "\\textbf{ar.L3}  &      -0.0037  &        0.010     &    -0.385  &         0.700        &       -0.023    &        0.015     \\\\\n",
       "\\textbf{sigma2} &       2.0757  &        0.015     &   137.821  &         0.000        &        2.046    &        2.105     \\\\\n",
       "\\bottomrule\n",
       "\\end{tabular}\n",
       "\\begin{tabular}{lclc}\n",
       "\\textbf{Ljung-Box (L1) (Q):}     & 0.00 & \\textbf{  Jarque-Bera (JB):  } & 52770.04  \\\\\n",
       "\\textbf{Prob(Q):}                & 1.00 & \\textbf{  Prob(JB):          } &   0.00    \\\\\n",
       "\\textbf{Heteroskedasticity (H):} & 0.69 & \\textbf{  Skew:              } &   0.23    \\\\\n",
       "\\textbf{Prob(H) (two-sided):}    & 0.00 & \\textbf{  Kurtosis:          } &  20.69    \\\\\n",
       "\\bottomrule\n",
       "\\end{tabular}\n",
       "%\\caption{SARIMAX Results}\n",
       "\\end{center}\n",
       "\n",
       "Warnings: \\newline\n",
       " [1] Covariance matrix calculated using the outer product of gradients (complex-step)."
      ],
      "text/plain": [
       "<class 'statsmodels.iolib.summary.Summary'>\n",
       "\"\"\"\n",
       "                               SARIMAX Results                                \n",
       "==============================================================================\n",
       "Dep. Variable:                returns   No. Observations:                 4043\n",
       "Model:                 ARIMA(3, 0, 0)   Log Likelihood               -7213.091\n",
       "Date:                Sun, 07 Sep 2025   AIC                          14436.181\n",
       "Time:                        14:33:13   BIC                          14467.705\n",
       "Sample:                    01-06-2010   HQIC                         14447.350\n",
       "                         - 07-04-2025                                         \n",
       "Covariance Type:                  opg                                         \n",
       "==============================================================================\n",
       "                 coef    std err          z      P>|z|      [0.025      0.975]\n",
       "------------------------------------------------------------------------------\n",
       "const          0.0555      0.024      2.307      0.021       0.008       0.103\n",
       "ar.L1          0.0433      0.012      3.759      0.000       0.021       0.066\n",
       "ar.L2         -0.0099      0.009     -1.133      0.257      -0.027       0.007\n",
       "ar.L3         -0.0037      0.010     -0.385      0.700      -0.023       0.015\n",
       "sigma2         2.0757      0.015    137.821      0.000       2.046       2.105\n",
       "===================================================================================\n",
       "Ljung-Box (L1) (Q):                   0.00   Jarque-Bera (JB):             52770.04\n",
       "Prob(Q):                              1.00   Prob(JB):                         0.00\n",
       "Heteroskedasticity (H):               0.69   Skew:                             0.23\n",
       "Prob(H) (two-sided):                  0.00   Kurtosis:                        20.69\n",
       "===================================================================================\n",
       "\n",
       "Warnings:\n",
       "[1] Covariance matrix calculated using the outer product of gradients (complex-step).\n",
       "\"\"\""
      ]
     },
     "execution_count": 49,
     "metadata": {},
     "output_type": "execute_result"
    }
   ],
   "source": [
    "model_ret_ar3=ARIMA(df.returns, order=(3,0,0))\n",
    "results_ret_ar3 = model_ret_ar3.fit()\n",
    "results_ret_ar3.summary()"
   ]
  },
  {
   "cell_type": "markdown",
   "id": "92892b14",
   "metadata": {},
   "source": [
    "We stopped here only because p>z value is way more than our significance value so we will use ar1 model I  didnt stopped on ar2 model because I wanted to see can next model will be better than the previous one"
   ]
  },
  {
   "cell_type": "markdown",
   "id": "0b685a5f",
   "metadata": {},
   "source": [
    "## Performing LLR Test on Returns Value"
   ]
  },
  {
   "cell_type": "code",
   "execution_count": 50,
   "id": "dea3ea2d",
   "metadata": {},
   "outputs": [
    {
     "data": {
      "text/plain": [
       "np.float64(0.521)"
      ]
     },
     "execution_count": 50,
     "metadata": {},
     "output_type": "execute_result"
    }
   ],
   "source": [
    "LLR_test(model_ret_ar1,model_ret_ar2)"
   ]
  },
  {
   "cell_type": "code",
   "execution_count": 51,
   "id": "569f4d3c",
   "metadata": {},
   "outputs": [
    {
     "data": {
      "text/plain": [
       "np.float64(0.813)"
      ]
     },
     "execution_count": 51,
     "metadata": {},
     "output_type": "execute_result"
    }
   ],
   "source": [
    "LLR_test(model_ret_ar2,model_ret_ar3)"
   ]
  },
  {
   "cell_type": "markdown",
   "id": "555c7c85",
   "metadata": {},
   "source": [
    "As this both values are more than our significance value of 5% so we will use ar1 model"
   ]
  },
  {
   "cell_type": "markdown",
   "id": "e78b5f69",
   "metadata": {},
   "source": [
    "## Normalising the values"
   ]
  },
  {
   "cell_type": "code",
   "execution_count": 53,
   "id": "98662d59",
   "metadata": {},
   "outputs": [],
   "source": [
    "## Setting some benchmarks\n",
    "benchmark=df.Market_value.iloc[0]\n",
    "df['norm']=df.Market_value/benchmark*100"
   ]
  },
  {
   "cell_type": "code",
   "execution_count": 54,
   "id": "aac1bd77",
   "metadata": {},
   "outputs": [
    {
     "data": {
      "text/html": [
       "<div>\n",
       "<style scoped>\n",
       "    .dataframe tbody tr th:only-of-type {\n",
       "        vertical-align: middle;\n",
       "    }\n",
       "\n",
       "    .dataframe tbody tr th {\n",
       "        vertical-align: top;\n",
       "    }\n",
       "\n",
       "    .dataframe thead th {\n",
       "        text-align: right;\n",
       "    }\n",
       "</style>\n",
       "<table border=\"1\" class=\"dataframe\">\n",
       "  <thead>\n",
       "    <tr style=\"text-align: right;\">\n",
       "      <th></th>\n",
       "      <th>Market_value</th>\n",
       "      <th>res_price</th>\n",
       "      <th>returns</th>\n",
       "      <th>norm</th>\n",
       "    </tr>\n",
       "    <tr>\n",
       "      <th>Date</th>\n",
       "      <th></th>\n",
       "      <th></th>\n",
       "      <th></th>\n",
       "      <th></th>\n",
       "    </tr>\n",
       "  </thead>\n",
       "  <tbody>\n",
       "    <tr>\n",
       "      <th>2010-01-06</th>\n",
       "      <td>9222.892578</td>\n",
       "      <td>27.508321</td>\n",
       "      <td>0.335601</td>\n",
       "      <td>100.000000</td>\n",
       "    </tr>\n",
       "    <tr>\n",
       "      <th>2010-01-07</th>\n",
       "      <td>9192.843750</td>\n",
       "      <td>-33.382652</td>\n",
       "      <td>-0.325807</td>\n",
       "      <td>99.674193</td>\n",
       "    </tr>\n",
       "    <tr>\n",
       "      <th>2010-01-08</th>\n",
       "      <td>9160.593750</td>\n",
       "      <td>-35.590143</td>\n",
       "      <td>-0.350816</td>\n",
       "      <td>99.324520</td>\n",
       "    </tr>\n",
       "    <tr>\n",
       "      <th>2010-01-11</th>\n",
       "      <td>9173.443359</td>\n",
       "      <td>9.502684</td>\n",
       "      <td>0.140270</td>\n",
       "      <td>99.463843</td>\n",
       "    </tr>\n",
       "    <tr>\n",
       "      <th>2010-01-12</th>\n",
       "      <td>8984.995117</td>\n",
       "      <td>-191.792465</td>\n",
       "      <td>-2.054280</td>\n",
       "      <td>97.420576</td>\n",
       "    </tr>\n",
       "  </tbody>\n",
       "</table>\n",
       "</div>"
      ],
      "text/plain": [
       "            Market_value   res_price   returns        norm\n",
       "Date                                                      \n",
       "2010-01-06   9222.892578   27.508321  0.335601  100.000000\n",
       "2010-01-07   9192.843750  -33.382652 -0.325807   99.674193\n",
       "2010-01-08   9160.593750  -35.590143 -0.350816   99.324520\n",
       "2010-01-11   9173.443359    9.502684  0.140270   99.463843\n",
       "2010-01-12   8984.995117 -191.792465 -2.054280   97.420576"
      ]
     },
     "execution_count": 54,
     "metadata": {},
     "output_type": "execute_result"
    }
   ],
   "source": [
    "df.head()"
   ]
  },
  {
   "cell_type": "code",
   "execution_count": 55,
   "id": "b16b594a",
   "metadata": {},
   "outputs": [
    {
     "data": {
      "text/plain": [
       "(np.float64(0.423881277994908),\n",
       " np.float64(0.9823663797786978),\n",
       " 6,\n",
       " 4036,\n",
       " {'1%': np.float64(-3.431971274515554),\n",
       "  '5%': np.float64(-2.86225639036584),\n",
       "  '10%': np.float64(-2.5671513419192578)},\n",
       " np.float64(21898.266259775555))"
      ]
     },
     "execution_count": 55,
     "metadata": {},
     "output_type": "execute_result"
    }
   ],
   "source": [
    "## Dickey Fuller Test for normalisation\n",
    "sts.adfuller(df.norm)"
   ]
  },
  {
   "cell_type": "code",
   "execution_count": 57,
   "id": "2e01642e",
   "metadata": {},
   "outputs": [
    {
     "data": {
      "text/plain": [
       "(np.float64(-18.806243087282937),\n",
       " np.float64(2.0226197635110018e-30),\n",
       " 10,\n",
       " 4032,\n",
       " {'1%': np.float64(-3.4319728839485406),\n",
       "  '5%': np.float64(-2.8622571013298965),\n",
       "  '10%': np.float64(-2.5671517204059)},\n",
       " np.float64(59996.4942569282))"
      ]
     },
     "execution_count": 57,
     "metadata": {},
     "output_type": "execute_result"
    }
   ],
   "source": [
    "## Getting normalised Returns\n",
    "Bench_ret=df.returns.iloc[0]\n",
    "df['norm_ret']=df.returns/Bench_ret*100\n",
    "sts.adfuller(df.norm_ret)"
   ]
  },
  {
   "cell_type": "code",
   "execution_count": 58,
   "id": "1af7425f",
   "metadata": {},
   "outputs": [
    {
     "data": {
      "text/html": [
       "<div>\n",
       "<style scoped>\n",
       "    .dataframe tbody tr th:only-of-type {\n",
       "        vertical-align: middle;\n",
       "    }\n",
       "\n",
       "    .dataframe tbody tr th {\n",
       "        vertical-align: top;\n",
       "    }\n",
       "\n",
       "    .dataframe thead th {\n",
       "        text-align: right;\n",
       "    }\n",
       "</style>\n",
       "<table border=\"1\" class=\"dataframe\">\n",
       "  <thead>\n",
       "    <tr style=\"text-align: right;\">\n",
       "      <th></th>\n",
       "      <th>Market_value</th>\n",
       "      <th>res_price</th>\n",
       "      <th>returns</th>\n",
       "      <th>norm</th>\n",
       "      <th>norm_ret</th>\n",
       "    </tr>\n",
       "    <tr>\n",
       "      <th>Date</th>\n",
       "      <th></th>\n",
       "      <th></th>\n",
       "      <th></th>\n",
       "      <th></th>\n",
       "      <th></th>\n",
       "    </tr>\n",
       "  </thead>\n",
       "  <tbody>\n",
       "    <tr>\n",
       "      <th>2010-01-06</th>\n",
       "      <td>9222.892578</td>\n",
       "      <td>27.508321</td>\n",
       "      <td>0.335601</td>\n",
       "      <td>100.000000</td>\n",
       "      <td>100.000000</td>\n",
       "    </tr>\n",
       "    <tr>\n",
       "      <th>2010-01-07</th>\n",
       "      <td>9192.843750</td>\n",
       "      <td>-33.382652</td>\n",
       "      <td>-0.325807</td>\n",
       "      <td>99.674193</td>\n",
       "      <td>-97.081518</td>\n",
       "    </tr>\n",
       "    <tr>\n",
       "      <th>2010-01-08</th>\n",
       "      <td>9160.593750</td>\n",
       "      <td>-35.590143</td>\n",
       "      <td>-0.350816</td>\n",
       "      <td>99.324520</td>\n",
       "      <td>-104.533625</td>\n",
       "    </tr>\n",
       "    <tr>\n",
       "      <th>2010-01-11</th>\n",
       "      <td>9173.443359</td>\n",
       "      <td>9.502684</td>\n",
       "      <td>0.140270</td>\n",
       "      <td>99.463843</td>\n",
       "      <td>41.796746</td>\n",
       "    </tr>\n",
       "    <tr>\n",
       "      <th>2010-01-12</th>\n",
       "      <td>8984.995117</td>\n",
       "      <td>-191.792465</td>\n",
       "      <td>-2.054280</td>\n",
       "      <td>97.420576</td>\n",
       "      <td>-612.119025</td>\n",
       "    </tr>\n",
       "  </tbody>\n",
       "</table>\n",
       "</div>"
      ],
      "text/plain": [
       "            Market_value   res_price   returns        norm    norm_ret\n",
       "Date                                                                  \n",
       "2010-01-06   9222.892578   27.508321  0.335601  100.000000  100.000000\n",
       "2010-01-07   9192.843750  -33.382652 -0.325807   99.674193  -97.081518\n",
       "2010-01-08   9160.593750  -35.590143 -0.350816   99.324520 -104.533625\n",
       "2010-01-11   9173.443359    9.502684  0.140270   99.463843   41.796746\n",
       "2010-01-12   8984.995117 -191.792465 -2.054280   97.420576 -612.119025"
      ]
     },
     "execution_count": 58,
     "metadata": {},
     "output_type": "execute_result"
    }
   ],
   "source": [
    "df.head()"
   ]
  },
  {
   "cell_type": "markdown",
   "id": "68fa8d40",
   "metadata": {},
   "source": [
    "## Normalised Returns"
   ]
  },
  {
   "cell_type": "code",
   "execution_count": 59,
   "id": "5c3cf94e",
   "metadata": {},
   "outputs": [
    {
     "data": {
      "text/html": [
       "<table class=\"simpletable\">\n",
       "<caption>SARIMAX Results</caption>\n",
       "<tr>\n",
       "  <th>Dep. Variable:</th>       <td>norm_ret</td>     <th>  No. Observations:  </th>    <td>4043</td>   \n",
       "</tr>\n",
       "<tr>\n",
       "  <th>Model:</th>            <td>ARIMA(1, 0, 0)</td>  <th>  Log Likelihood     </th> <td>-30246.300</td>\n",
       "</tr>\n",
       "<tr>\n",
       "  <th>Date:</th>            <td>Sun, 07 Sep 2025</td> <th>  AIC                </th>  <td>60498.600</td>\n",
       "</tr>\n",
       "<tr>\n",
       "  <th>Time:</th>                <td>14:39:23</td>     <th>  BIC                </th>  <td>60517.514</td>\n",
       "</tr>\n",
       "<tr>\n",
       "  <th>Sample:</th>             <td>01-06-2010</td>    <th>  HQIC               </th>  <td>60505.301</td>\n",
       "</tr>\n",
       "<tr>\n",
       "  <th></th>                   <td>- 07-04-2025</td>   <th>                     </th>      <td> </td>    \n",
       "</tr>\n",
       "<tr>\n",
       "  <th>Covariance Type:</th>        <td>opg</td>       <th>                     </th>      <td> </td>    \n",
       "</tr>\n",
       "</table>\n",
       "<table class=\"simpletable\">\n",
       "<tr>\n",
       "     <td></td>       <th>coef</th>     <th>std err</th>      <th>z</th>      <th>P>|z|</th>  <th>[0.025</th>    <th>0.975]</th>  \n",
       "</tr>\n",
       "<tr>\n",
       "  <th>const</th>  <td>   16.5515</td> <td>    7.067</td> <td>    2.342</td> <td> 0.019</td> <td>    2.701</td> <td>   30.402</td>\n",
       "</tr>\n",
       "<tr>\n",
       "  <th>ar.L1</th>  <td>    0.0429</td> <td>    0.011</td> <td>    3.775</td> <td> 0.000</td> <td>    0.021</td> <td>    0.065</td>\n",
       "</tr>\n",
       "<tr>\n",
       "  <th>sigma2</th> <td> 1.844e+05</td> <td> 1311.903</td> <td>  140.531</td> <td> 0.000</td> <td> 1.82e+05</td> <td> 1.87e+05</td>\n",
       "</tr>\n",
       "</table>\n",
       "<table class=\"simpletable\">\n",
       "<tr>\n",
       "  <th>Ljung-Box (L1) (Q):</th>     <td>0.00</td> <th>  Jarque-Bera (JB):  </th> <td>52613.57</td>\n",
       "</tr>\n",
       "<tr>\n",
       "  <th>Prob(Q):</th>                <td>0.98</td> <th>  Prob(JB):          </th>   <td>0.00</td>  \n",
       "</tr>\n",
       "<tr>\n",
       "  <th>Heteroskedasticity (H):</th> <td>0.69</td> <th>  Skew:              </th>   <td>0.24</td>  \n",
       "</tr>\n",
       "<tr>\n",
       "  <th>Prob(H) (two-sided):</th>    <td>0.00</td> <th>  Kurtosis:          </th>   <td>20.67</td> \n",
       "</tr>\n",
       "</table><br/><br/>Warnings:<br/>[1] Covariance matrix calculated using the outer product of gradients (complex-step)."
      ],
      "text/latex": [
       "\\begin{center}\n",
       "\\begin{tabular}{lclc}\n",
       "\\toprule\n",
       "\\textbf{Dep. Variable:}          &    norm\\_ret     & \\textbf{  No. Observations:  } &    4043     \\\\\n",
       "\\textbf{Model:}                  &  ARIMA(1, 0, 0)  & \\textbf{  Log Likelihood     } & -30246.300  \\\\\n",
       "\\textbf{Date:}                   & Sun, 07 Sep 2025 & \\textbf{  AIC                } & 60498.600   \\\\\n",
       "\\textbf{Time:}                   &     14:39:23     & \\textbf{  BIC                } & 60517.514   \\\\\n",
       "\\textbf{Sample:}                 &    01-06-2010    & \\textbf{  HQIC               } & 60505.301   \\\\\n",
       "\\textbf{}                        &   - 07-04-2025   & \\textbf{                     } &             \\\\\n",
       "\\textbf{Covariance Type:}        &       opg        & \\textbf{                     } &             \\\\\n",
       "\\bottomrule\n",
       "\\end{tabular}\n",
       "\\begin{tabular}{lcccccc}\n",
       "                & \\textbf{coef} & \\textbf{std err} & \\textbf{z} & \\textbf{P$> |$z$|$} & \\textbf{[0.025} & \\textbf{0.975]}  \\\\\n",
       "\\midrule\n",
       "\\textbf{const}  &      16.5515  &        7.067     &     2.342  &         0.019        &        2.701    &       30.402     \\\\\n",
       "\\textbf{ar.L1}  &       0.0429  &        0.011     &     3.775  &         0.000        &        0.021    &        0.065     \\\\\n",
       "\\textbf{sigma2} &    1.844e+05  &     1311.903     &   140.531  &         0.000        &     1.82e+05    &     1.87e+05     \\\\\n",
       "\\bottomrule\n",
       "\\end{tabular}\n",
       "\\begin{tabular}{lclc}\n",
       "\\textbf{Ljung-Box (L1) (Q):}     & 0.00 & \\textbf{  Jarque-Bera (JB):  } & 52613.57  \\\\\n",
       "\\textbf{Prob(Q):}                & 0.98 & \\textbf{  Prob(JB):          } &   0.00    \\\\\n",
       "\\textbf{Heteroskedasticity (H):} & 0.69 & \\textbf{  Skew:              } &   0.24    \\\\\n",
       "\\textbf{Prob(H) (two-sided):}    & 0.00 & \\textbf{  Kurtosis:          } &  20.67    \\\\\n",
       "\\bottomrule\n",
       "\\end{tabular}\n",
       "%\\caption{SARIMAX Results}\n",
       "\\end{center}\n",
       "\n",
       "Warnings: \\newline\n",
       " [1] Covariance matrix calculated using the outer product of gradients (complex-step)."
      ],
      "text/plain": [
       "<class 'statsmodels.iolib.summary.Summary'>\n",
       "\"\"\"\n",
       "                               SARIMAX Results                                \n",
       "==============================================================================\n",
       "Dep. Variable:               norm_ret   No. Observations:                 4043\n",
       "Model:                 ARIMA(1, 0, 0)   Log Likelihood              -30246.300\n",
       "Date:                Sun, 07 Sep 2025   AIC                          60498.600\n",
       "Time:                        14:39:23   BIC                          60517.514\n",
       "Sample:                    01-06-2010   HQIC                         60505.301\n",
       "                         - 07-04-2025                                         \n",
       "Covariance Type:                  opg                                         \n",
       "==============================================================================\n",
       "                 coef    std err          z      P>|z|      [0.025      0.975]\n",
       "------------------------------------------------------------------------------\n",
       "const         16.5515      7.067      2.342      0.019       2.701      30.402\n",
       "ar.L1          0.0429      0.011      3.775      0.000       0.021       0.065\n",
       "sigma2      1.844e+05   1311.903    140.531      0.000    1.82e+05    1.87e+05\n",
       "===================================================================================\n",
       "Ljung-Box (L1) (Q):                   0.00   Jarque-Bera (JB):             52613.57\n",
       "Prob(Q):                              0.98   Prob(JB):                         0.00\n",
       "Heteroskedasticity (H):               0.69   Skew:                             0.24\n",
       "Prob(H) (two-sided):                  0.00   Kurtosis:                        20.67\n",
       "===================================================================================\n",
       "\n",
       "Warnings:\n",
       "[1] Covariance matrix calculated using the outer product of gradients (complex-step).\n",
       "\"\"\""
      ]
     },
     "execution_count": 59,
     "metadata": {},
     "output_type": "execute_result"
    }
   ],
   "source": [
    "model_norm_ret_ar=ARIMA(df.norm_ret, order=(1,0,0))\n",
    "results_norm_ret_ar = model_norm_ret_ar.fit()\n",
    "results_norm_ret_ar.summary()"
   ]
  },
  {
   "cell_type": "code",
   "execution_count": 60,
   "id": "875e5809",
   "metadata": {},
   "outputs": [
    {
     "data": {
      "text/html": [
       "<table class=\"simpletable\">\n",
       "<caption>SARIMAX Results</caption>\n",
       "<tr>\n",
       "  <th>Dep. Variable:</th>       <td>norm_ret</td>     <th>  No. Observations:  </th>    <td>4043</td>   \n",
       "</tr>\n",
       "<tr>\n",
       "  <th>Model:</th>            <td>ARIMA(2, 0, 0)</td>  <th>  Log Likelihood     </th> <td>-30246.094</td>\n",
       "</tr>\n",
       "<tr>\n",
       "  <th>Date:</th>            <td>Sun, 07 Sep 2025</td> <th>  AIC                </th>  <td>60500.189</td>\n",
       "</tr>\n",
       "<tr>\n",
       "  <th>Time:</th>                <td>14:39:38</td>     <th>  BIC                </th>  <td>60525.408</td>\n",
       "</tr>\n",
       "<tr>\n",
       "  <th>Sample:</th>             <td>01-06-2010</td>    <th>  HQIC               </th>  <td>60509.124</td>\n",
       "</tr>\n",
       "<tr>\n",
       "  <th></th>                   <td>- 07-04-2025</td>   <th>                     </th>      <td> </td>    \n",
       "</tr>\n",
       "<tr>\n",
       "  <th>Covariance Type:</th>        <td>opg</td>       <th>                     </th>      <td> </td>    \n",
       "</tr>\n",
       "</table>\n",
       "<table class=\"simpletable\">\n",
       "<tr>\n",
       "     <td></td>       <th>coef</th>     <th>std err</th>      <th>z</th>      <th>P>|z|</th>  <th>[0.025</th>    <th>0.975]</th>  \n",
       "</tr>\n",
       "<tr>\n",
       "  <th>const</th>  <td>   16.5515</td> <td>    7.107</td> <td>    2.329</td> <td> 0.020</td> <td>    2.621</td> <td>   30.482</td>\n",
       "</tr>\n",
       "<tr>\n",
       "  <th>ar.L1</th>  <td>    0.0433</td> <td>    0.011</td> <td>    3.794</td> <td> 0.000</td> <td>    0.021</td> <td>    0.066</td>\n",
       "</tr>\n",
       "<tr>\n",
       "  <th>ar.L2</th>  <td>   -0.0101</td> <td>    0.009</td> <td>   -1.151</td> <td> 0.250</td> <td>   -0.027</td> <td>    0.007</td>\n",
       "</tr>\n",
       "<tr>\n",
       "  <th>sigma2</th> <td> 1.844e+05</td> <td> 1312.240</td> <td>  140.513</td> <td> 0.000</td> <td> 1.82e+05</td> <td> 1.87e+05</td>\n",
       "</tr>\n",
       "</table>\n",
       "<table class=\"simpletable\">\n",
       "<tr>\n",
       "  <th>Ljung-Box (L1) (Q):</th>     <td>0.00</td> <th>  Jarque-Bera (JB):  </th> <td>52639.08</td>\n",
       "</tr>\n",
       "<tr>\n",
       "  <th>Prob(Q):</th>                <td>1.00</td> <th>  Prob(JB):          </th>   <td>0.00</td>  \n",
       "</tr>\n",
       "<tr>\n",
       "  <th>Heteroskedasticity (H):</th> <td>0.69</td> <th>  Skew:              </th>   <td>0.23</td>  \n",
       "</tr>\n",
       "<tr>\n",
       "  <th>Prob(H) (two-sided):</th>    <td>0.00</td> <th>  Kurtosis:          </th>   <td>20.67</td> \n",
       "</tr>\n",
       "</table><br/><br/>Warnings:<br/>[1] Covariance matrix calculated using the outer product of gradients (complex-step)."
      ],
      "text/latex": [
       "\\begin{center}\n",
       "\\begin{tabular}{lclc}\n",
       "\\toprule\n",
       "\\textbf{Dep. Variable:}          &    norm\\_ret     & \\textbf{  No. Observations:  } &    4043     \\\\\n",
       "\\textbf{Model:}                  &  ARIMA(2, 0, 0)  & \\textbf{  Log Likelihood     } & -30246.094  \\\\\n",
       "\\textbf{Date:}                   & Sun, 07 Sep 2025 & \\textbf{  AIC                } & 60500.189   \\\\\n",
       "\\textbf{Time:}                   &     14:39:38     & \\textbf{  BIC                } & 60525.408   \\\\\n",
       "\\textbf{Sample:}                 &    01-06-2010    & \\textbf{  HQIC               } & 60509.124   \\\\\n",
       "\\textbf{}                        &   - 07-04-2025   & \\textbf{                     } &             \\\\\n",
       "\\textbf{Covariance Type:}        &       opg        & \\textbf{                     } &             \\\\\n",
       "\\bottomrule\n",
       "\\end{tabular}\n",
       "\\begin{tabular}{lcccccc}\n",
       "                & \\textbf{coef} & \\textbf{std err} & \\textbf{z} & \\textbf{P$> |$z$|$} & \\textbf{[0.025} & \\textbf{0.975]}  \\\\\n",
       "\\midrule\n",
       "\\textbf{const}  &      16.5515  &        7.107     &     2.329  &         0.020        &        2.621    &       30.482     \\\\\n",
       "\\textbf{ar.L1}  &       0.0433  &        0.011     &     3.794  &         0.000        &        0.021    &        0.066     \\\\\n",
       "\\textbf{ar.L2}  &      -0.0101  &        0.009     &    -1.151  &         0.250        &       -0.027    &        0.007     \\\\\n",
       "\\textbf{sigma2} &    1.844e+05  &     1312.240     &   140.513  &         0.000        &     1.82e+05    &     1.87e+05     \\\\\n",
       "\\bottomrule\n",
       "\\end{tabular}\n",
       "\\begin{tabular}{lclc}\n",
       "\\textbf{Ljung-Box (L1) (Q):}     & 0.00 & \\textbf{  Jarque-Bera (JB):  } & 52639.08  \\\\\n",
       "\\textbf{Prob(Q):}                & 1.00 & \\textbf{  Prob(JB):          } &   0.00    \\\\\n",
       "\\textbf{Heteroskedasticity (H):} & 0.69 & \\textbf{  Skew:              } &   0.23    \\\\\n",
       "\\textbf{Prob(H) (two-sided):}    & 0.00 & \\textbf{  Kurtosis:          } &  20.67    \\\\\n",
       "\\bottomrule\n",
       "\\end{tabular}\n",
       "%\\caption{SARIMAX Results}\n",
       "\\end{center}\n",
       "\n",
       "Warnings: \\newline\n",
       " [1] Covariance matrix calculated using the outer product of gradients (complex-step)."
      ],
      "text/plain": [
       "<class 'statsmodels.iolib.summary.Summary'>\n",
       "\"\"\"\n",
       "                               SARIMAX Results                                \n",
       "==============================================================================\n",
       "Dep. Variable:               norm_ret   No. Observations:                 4043\n",
       "Model:                 ARIMA(2, 0, 0)   Log Likelihood              -30246.094\n",
       "Date:                Sun, 07 Sep 2025   AIC                          60500.189\n",
       "Time:                        14:39:38   BIC                          60525.408\n",
       "Sample:                    01-06-2010   HQIC                         60509.124\n",
       "                         - 07-04-2025                                         \n",
       "Covariance Type:                  opg                                         \n",
       "==============================================================================\n",
       "                 coef    std err          z      P>|z|      [0.025      0.975]\n",
       "------------------------------------------------------------------------------\n",
       "const         16.5515      7.107      2.329      0.020       2.621      30.482\n",
       "ar.L1          0.0433      0.011      3.794      0.000       0.021       0.066\n",
       "ar.L2         -0.0101      0.009     -1.151      0.250      -0.027       0.007\n",
       "sigma2      1.844e+05   1312.240    140.513      0.000    1.82e+05    1.87e+05\n",
       "===================================================================================\n",
       "Ljung-Box (L1) (Q):                   0.00   Jarque-Bera (JB):             52639.08\n",
       "Prob(Q):                              1.00   Prob(JB):                         0.00\n",
       "Heteroskedasticity (H):               0.69   Skew:                             0.23\n",
       "Prob(H) (two-sided):                  0.00   Kurtosis:                        20.67\n",
       "===================================================================================\n",
       "\n",
       "Warnings:\n",
       "[1] Covariance matrix calculated using the outer product of gradients (complex-step).\n",
       "\"\"\""
      ]
     },
     "execution_count": 60,
     "metadata": {},
     "output_type": "execute_result"
    }
   ],
   "source": [
    "model_norm_ret_ar2=ARIMA(df.norm_ret, order=(2,0,0))\n",
    "results_norm_ret_ar2 = model_norm_ret_ar2.fit()\n",
    "results_norm_ret_ar2.summary()"
   ]
  },
  {
   "cell_type": "code",
   "execution_count": 61,
   "id": "aeb40c08",
   "metadata": {},
   "outputs": [
    {
     "data": {
      "text/html": [
       "<table class=\"simpletable\">\n",
       "<caption>SARIMAX Results</caption>\n",
       "<tr>\n",
       "  <th>Dep. Variable:</th>       <td>norm_ret</td>     <th>  No. Observations:  </th>    <td>4043</td>   \n",
       "</tr>\n",
       "<tr>\n",
       "  <th>Model:</th>            <td>ARIMA(3, 0, 0)</td>  <th>  Log Likelihood     </th> <td>-30246.067</td>\n",
       "</tr>\n",
       "<tr>\n",
       "  <th>Date:</th>            <td>Sun, 07 Sep 2025</td> <th>  AIC                </th>  <td>60502.134</td>\n",
       "</tr>\n",
       "<tr>\n",
       "  <th>Time:</th>                <td>14:39:52</td>     <th>  BIC                </th>  <td>60533.657</td>\n",
       "</tr>\n",
       "<tr>\n",
       "  <th>Sample:</th>             <td>01-06-2010</td>    <th>  HQIC               </th>  <td>60513.302</td>\n",
       "</tr>\n",
       "<tr>\n",
       "  <th></th>                   <td>- 07-04-2025</td>   <th>                     </th>      <td> </td>    \n",
       "</tr>\n",
       "<tr>\n",
       "  <th>Covariance Type:</th>        <td>opg</td>       <th>                     </th>      <td> </td>    \n",
       "</tr>\n",
       "</table>\n",
       "<table class=\"simpletable\">\n",
       "<tr>\n",
       "     <td></td>       <th>coef</th>     <th>std err</th>      <th>z</th>      <th>P>|z|</th>  <th>[0.025</th>    <th>0.975]</th>  \n",
       "</tr>\n",
       "<tr>\n",
       "  <th>const</th>  <td>   16.5515</td> <td>    7.181</td> <td>    2.305</td> <td> 0.021</td> <td>    2.477</td> <td>   30.626</td>\n",
       "</tr>\n",
       "<tr>\n",
       "  <th>ar.L1</th>  <td>    0.0433</td> <td>    0.012</td> <td>    3.756</td> <td> 0.000</td> <td>    0.021</td> <td>    0.066</td>\n",
       "</tr>\n",
       "<tr>\n",
       "  <th>ar.L2</th>  <td>   -0.0099</td> <td>    0.009</td> <td>   -1.132</td> <td> 0.258</td> <td>   -0.027</td> <td>    0.007</td>\n",
       "</tr>\n",
       "<tr>\n",
       "  <th>ar.L3</th>  <td>   -0.0037</td> <td>    0.010</td> <td>   -0.385</td> <td> 0.700</td> <td>   -0.023</td> <td>    0.015</td>\n",
       "</tr>\n",
       "<tr>\n",
       "  <th>sigma2</th> <td> 1.844e+05</td> <td> 1339.102</td> <td>  137.724</td> <td> 0.000</td> <td> 1.82e+05</td> <td> 1.87e+05</td>\n",
       "</tr>\n",
       "</table>\n",
       "<table class=\"simpletable\">\n",
       "<tr>\n",
       "  <th>Ljung-Box (L1) (Q):</th>     <td>0.00</td> <th>  Jarque-Bera (JB):  </th> <td>52770.30</td>\n",
       "</tr>\n",
       "<tr>\n",
       "  <th>Prob(Q):</th>                <td>1.00</td> <th>  Prob(JB):          </th>   <td>0.00</td>  \n",
       "</tr>\n",
       "<tr>\n",
       "  <th>Heteroskedasticity (H):</th> <td>0.69</td> <th>  Skew:              </th>   <td>0.23</td>  \n",
       "</tr>\n",
       "<tr>\n",
       "  <th>Prob(H) (two-sided):</th>    <td>0.00</td> <th>  Kurtosis:          </th>   <td>20.69</td> \n",
       "</tr>\n",
       "</table><br/><br/>Warnings:<br/>[1] Covariance matrix calculated using the outer product of gradients (complex-step)."
      ],
      "text/latex": [
       "\\begin{center}\n",
       "\\begin{tabular}{lclc}\n",
       "\\toprule\n",
       "\\textbf{Dep. Variable:}          &    norm\\_ret     & \\textbf{  No. Observations:  } &    4043     \\\\\n",
       "\\textbf{Model:}                  &  ARIMA(3, 0, 0)  & \\textbf{  Log Likelihood     } & -30246.067  \\\\\n",
       "\\textbf{Date:}                   & Sun, 07 Sep 2025 & \\textbf{  AIC                } & 60502.134   \\\\\n",
       "\\textbf{Time:}                   &     14:39:52     & \\textbf{  BIC                } & 60533.657   \\\\\n",
       "\\textbf{Sample:}                 &    01-06-2010    & \\textbf{  HQIC               } & 60513.302   \\\\\n",
       "\\textbf{}                        &   - 07-04-2025   & \\textbf{                     } &             \\\\\n",
       "\\textbf{Covariance Type:}        &       opg        & \\textbf{                     } &             \\\\\n",
       "\\bottomrule\n",
       "\\end{tabular}\n",
       "\\begin{tabular}{lcccccc}\n",
       "                & \\textbf{coef} & \\textbf{std err} & \\textbf{z} & \\textbf{P$> |$z$|$} & \\textbf{[0.025} & \\textbf{0.975]}  \\\\\n",
       "\\midrule\n",
       "\\textbf{const}  &      16.5515  &        7.181     &     2.305  &         0.021        &        2.477    &       30.626     \\\\\n",
       "\\textbf{ar.L1}  &       0.0433  &        0.012     &     3.756  &         0.000        &        0.021    &        0.066     \\\\\n",
       "\\textbf{ar.L2}  &      -0.0099  &        0.009     &    -1.132  &         0.258        &       -0.027    &        0.007     \\\\\n",
       "\\textbf{ar.L3}  &      -0.0037  &        0.010     &    -0.385  &         0.700        &       -0.023    &        0.015     \\\\\n",
       "\\textbf{sigma2} &    1.844e+05  &     1339.102     &   137.724  &         0.000        &     1.82e+05    &     1.87e+05     \\\\\n",
       "\\bottomrule\n",
       "\\end{tabular}\n",
       "\\begin{tabular}{lclc}\n",
       "\\textbf{Ljung-Box (L1) (Q):}     & 0.00 & \\textbf{  Jarque-Bera (JB):  } & 52770.30  \\\\\n",
       "\\textbf{Prob(Q):}                & 1.00 & \\textbf{  Prob(JB):          } &   0.00    \\\\\n",
       "\\textbf{Heteroskedasticity (H):} & 0.69 & \\textbf{  Skew:              } &   0.23    \\\\\n",
       "\\textbf{Prob(H) (two-sided):}    & 0.00 & \\textbf{  Kurtosis:          } &  20.69    \\\\\n",
       "\\bottomrule\n",
       "\\end{tabular}\n",
       "%\\caption{SARIMAX Results}\n",
       "\\end{center}\n",
       "\n",
       "Warnings: \\newline\n",
       " [1] Covariance matrix calculated using the outer product of gradients (complex-step)."
      ],
      "text/plain": [
       "<class 'statsmodels.iolib.summary.Summary'>\n",
       "\"\"\"\n",
       "                               SARIMAX Results                                \n",
       "==============================================================================\n",
       "Dep. Variable:               norm_ret   No. Observations:                 4043\n",
       "Model:                 ARIMA(3, 0, 0)   Log Likelihood              -30246.067\n",
       "Date:                Sun, 07 Sep 2025   AIC                          60502.134\n",
       "Time:                        14:39:52   BIC                          60533.657\n",
       "Sample:                    01-06-2010   HQIC                         60513.302\n",
       "                         - 07-04-2025                                         \n",
       "Covariance Type:                  opg                                         \n",
       "==============================================================================\n",
       "                 coef    std err          z      P>|z|      [0.025      0.975]\n",
       "------------------------------------------------------------------------------\n",
       "const         16.5515      7.181      2.305      0.021       2.477      30.626\n",
       "ar.L1          0.0433      0.012      3.756      0.000       0.021       0.066\n",
       "ar.L2         -0.0099      0.009     -1.132      0.258      -0.027       0.007\n",
       "ar.L3         -0.0037      0.010     -0.385      0.700      -0.023       0.015\n",
       "sigma2      1.844e+05   1339.102    137.724      0.000    1.82e+05    1.87e+05\n",
       "===================================================================================\n",
       "Ljung-Box (L1) (Q):                   0.00   Jarque-Bera (JB):             52770.30\n",
       "Prob(Q):                              1.00   Prob(JB):                         0.00\n",
       "Heteroskedasticity (H):               0.69   Skew:                             0.23\n",
       "Prob(H) (two-sided):                  0.00   Kurtosis:                        20.69\n",
       "===================================================================================\n",
       "\n",
       "Warnings:\n",
       "[1] Covariance matrix calculated using the outer product of gradients (complex-step).\n",
       "\"\"\""
      ]
     },
     "execution_count": 61,
     "metadata": {},
     "output_type": "execute_result"
    }
   ],
   "source": [
    "model_norm_ret_ar3=ARIMA(df.norm_ret, order=(3,0,0))\n",
    "results_norm_ret_ar3 = model_norm_ret_ar3.fit()\n",
    "results_norm_ret_ar3.summary()"
   ]
  },
  {
   "cell_type": "markdown",
   "id": "f0bd06db",
   "metadata": {},
   "source": [
    "The Same Reasons "
   ]
  },
  {
   "cell_type": "markdown",
   "id": "dccf0fd5",
   "metadata": {},
   "source": [
    "## Analysing The Residuals"
   ]
  },
  {
   "cell_type": "code",
   "execution_count": null,
   "id": "e4750494",
   "metadata": {},
   "outputs": [],
   "source": [
    "## Adding the column of residual returns \n",
    "df['res_ret']=results_ret_ar1.resid"
   ]
  },
  {
   "cell_type": "code",
   "execution_count": 64,
   "id": "75da1a8d",
   "metadata": {},
   "outputs": [
    {
     "data": {
      "text/plain": [
       "np.float64(2.425053663426528e-06)"
      ]
     },
     "execution_count": 64,
     "metadata": {},
     "output_type": "execute_result"
    }
   ],
   "source": [
    "## Calculating mean of residual returns \n",
    "df.res_ret.mean()"
   ]
  },
  {
   "cell_type": "code",
   "execution_count": 65,
   "id": "936b5e5a",
   "metadata": {},
   "outputs": [
    {
     "data": {
      "text/plain": [
       "2.0764771419049666"
      ]
     },
     "execution_count": 65,
     "metadata": {},
     "output_type": "execute_result"
    }
   ],
   "source": [
    "## Calculating mean of residual variance\n",
    "df.res_ret.var()"
   ]
  },
  {
   "cell_type": "code",
   "execution_count": 66,
   "id": "58c49074",
   "metadata": {},
   "outputs": [
    {
     "data": {
      "text/plain": [
       "(np.float64(-18.855525025049378),\n",
       " 0.0,\n",
       " 10,\n",
       " 4032,\n",
       " {'1%': np.float64(-3.4319728839485406),\n",
       "  '5%': np.float64(-2.8622571013298965),\n",
       "  '10%': np.float64(-2.5671517204059)},\n",
       " np.float64(14295.113736475208))"
      ]
     },
     "execution_count": 66,
     "metadata": {},
     "output_type": "execute_result"
    }
   ],
   "source": [
    "## Dicky Fuller Test of Residual Returns\n",
    "sts.adfuller(df.res_ret)"
   ]
  },
  {
   "cell_type": "code",
   "execution_count": 69,
   "id": "eb36cfdf",
   "metadata": {},
   "outputs": [
    {
     "data": {
      "text/plain": [
       "Text(0.5, 1.0, 'ACF of Residuals FOR Returns')"
      ]
     },
     "execution_count": 69,
     "metadata": {},
     "output_type": "execute_result"
    },
    {
     "data": {
      "image/png": "[encoded data removed]",
      "text/plain": [
       "<Figure size 640x480 with 1 Axes>"
      ]
     },
     "metadata": {},
     "output_type": "display_data"
    }
   ],
   "source": [
    "## Ploting ACF of Residual Returns\n",
    "sgt.plot_acf(df.res_ret,lags=40,zero=False)\n",
    "plt.ylim(-0.08,0.08)\n",
    "plt.title(\"ACF of Residuals FOR Returns\",size=24)"
   ]
  },
  {
   "cell_type": "code",
   "execution_count": 71,
   "id": "32940240",
   "metadata": {},
   "outputs": [
    {
     "data": {
      "text/plain": [
       "Text(0.5, 1.0, 'Residual of Returns')"
      ]
     },
     "execution_count": 71,
     "metadata": {},
     "output_type": "execute_result"
    },
    {
     "data": {
      "image/png": "[encoded data removed]",
      "text/plain": [
       "<Figure size 2000x500 with 1 Axes>"
      ]
     },
     "metadata": {},
     "output_type": "display_data"
    }
   ],
   "source": [
    "## Ploting Residual Returns\n",
    "df.res_ret[1:].plot(figsize=(20,5))\n",
    "plt.title(\"Residual of Returns\",size=24)"
   ]
  },
  {
   "cell_type": "code",
   "execution_count": null,
   "id": "9c14b85f",
   "metadata": {},
   "outputs": [],
   "source": []
  }
 ],
 "metadata": {
  "kernelspec": {
   "display_name": "base",
   "language": "python",
   "name": "python3"
  },
  "language_info": {
   "codemirror_mode": {
    "name": "ipython",
    "version": 3
   },
   "file_extension": ".py",
   "mimetype": "text/x-python",
   "name": "python",
   "nbconvert_exporter": "python",
   "pygments_lexer": "ipython3",
   "version": "3.13.5"
  }
 },
 "nbformat": 4,
 "nbformat_minor": 5
}
